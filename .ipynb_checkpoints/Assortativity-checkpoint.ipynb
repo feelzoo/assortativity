{
 "cells": [
  {
   "cell_type": "markdown",
   "metadata": {},
   "source": [
    "# Social Network Analysis - Assortativity"
   ]
  },
  {
   "cell_type": "code",
   "execution_count": 315,
   "metadata": {},
   "outputs": [],
   "source": [
    "import numpy as np\n",
    "import pandas as pd\n",
    "from matplotlib import pyplot as plt\n",
    "import seaborn as sns\n",
    "from scipy import stats\n",
    "import igraph as ig\n",
    "import networkx as nx\n",
    "from scipy.stats import ttest_ind\n",
    "from mlxtend.evaluate import permutation_test\n",
    "import seaborn as sns"
   ]
  },
  {
   "cell_type": "markdown",
   "metadata": {},
   "source": [
    "## 1. Descriptive Gender Analysis"
   ]
  },
  {
   "cell_type": "code",
   "execution_count": 316,
   "metadata": {},
   "outputs": [],
   "source": [
    "#Load data into dataframe\n",
    "nodes = pd.read_csv(r'/Users/PJMoon/Data_Science_Projects/SNA/Assortativity/Nodes with attributes.csv')\n",
    "link = pd.read_csv(r'/Users/PJMoon/Data_Science_Projects/SNA/Assortativity/Links - Intragroup.csv')\n",
    "nodes_all = pd.read_csv(r'/Users/PJMoon/Data_Science_Projects/SNA/Assortativity/Nodes with attributes.csv')\n",
    "#Select columns of interst from node data \n",
    "nodes = nodes[['ID','Gender']]\n",
    "\n",
    "#Out-degree statistics by Gender and Label\n",
    "link_source = link.rename(columns = {'Source': \"ID\"})\n",
    "out_degree = pd.merge(link_source,nodes,how='left',on = 'ID')\n",
    "by_label_out_degree = out_degree.groupby(['Gender','Label']).ID.count().reset_index()\n",
    "\n",
    "#In-degree statistics by Gender and Label\n",
    "link_source2 = link.rename(columns = {\"Target\":\"ID\"})\n",
    "in_degree = pd.merge(link_source2,nodes,how='left',on = 'ID')\n",
    "by_label_in_degree = in_degree.groupby(['Gender','Label']).ID.count().reset_index()\n",
    "\n",
    "#Gender to gender in and out degree statistics \n",
    "in_degree.rename(columns = {'Gender': 'Gender_in','ID': 'Target2','Source':'Source2','Label':'Label2'},inplace=True)\n",
    "out_degree.rename(columns = {'Gender': 'Gender_out','ID': 'Source'},inplace=True)\n",
    "combined = pd.concat([out_degree,in_degree],axis=1)\n",
    "combined = combined[['Source','Target','Label','Gender_out','Gender_in']]\n",
    "gender_to_gender = combined.groupby(['Gender_out','Gender_in']).Source.count().reset_index()"
   ]
  },
  {
   "cell_type": "code",
   "execution_count": 317,
   "metadata": {
    "scrolled": true
   },
   "outputs": [
    {
     "data": {
      "text/html": [
       "<div>\n",
       "<style scoped>\n",
       "    .dataframe tbody tr th:only-of-type {\n",
       "        vertical-align: middle;\n",
       "    }\n",
       "\n",
       "    .dataframe tbody tr th {\n",
       "        vertical-align: top;\n",
       "    }\n",
       "\n",
       "    .dataframe thead th {\n",
       "        text-align: right;\n",
       "    }\n",
       "</style>\n",
       "<table border=\"1\" class=\"dataframe\">\n",
       "  <thead>\n",
       "    <tr style=\"text-align: right;\">\n",
       "      <th></th>\n",
       "      <th>Gender</th>\n",
       "      <th>Label</th>\n",
       "      <th>ID</th>\n",
       "    </tr>\n",
       "  </thead>\n",
       "  <tbody>\n",
       "    <tr>\n",
       "      <th>0</th>\n",
       "      <td>Female</td>\n",
       "      <td>Access</td>\n",
       "      <td>96</td>\n",
       "    </tr>\n",
       "    <tr>\n",
       "      <th>1</th>\n",
       "      <td>Female</td>\n",
       "      <td>Career Development</td>\n",
       "      <td>165</td>\n",
       "    </tr>\n",
       "    <tr>\n",
       "      <th>2</th>\n",
       "      <td>Female</td>\n",
       "      <td>Decision Making</td>\n",
       "      <td>230</td>\n",
       "    </tr>\n",
       "    <tr>\n",
       "      <th>3</th>\n",
       "      <td>Female</td>\n",
       "      <td>Energy</td>\n",
       "      <td>321</td>\n",
       "    </tr>\n",
       "    <tr>\n",
       "      <th>4</th>\n",
       "      <td>Female</td>\n",
       "      <td>Innovation</td>\n",
       "      <td>220</td>\n",
       "    </tr>\n",
       "    <tr>\n",
       "      <th>5</th>\n",
       "      <td>Female</td>\n",
       "      <td>Personal Support</td>\n",
       "      <td>234</td>\n",
       "    </tr>\n",
       "    <tr>\n",
       "      <th>6</th>\n",
       "      <td>Female</td>\n",
       "      <td>Problem Solving</td>\n",
       "      <td>298</td>\n",
       "    </tr>\n",
       "    <tr>\n",
       "      <th>7</th>\n",
       "      <td>Female</td>\n",
       "      <td>Strategy</td>\n",
       "      <td>196</td>\n",
       "    </tr>\n",
       "    <tr>\n",
       "      <th>8</th>\n",
       "      <td>Female</td>\n",
       "      <td>Trust</td>\n",
       "      <td>274</td>\n",
       "    </tr>\n",
       "    <tr>\n",
       "      <th>9</th>\n",
       "      <td>Male</td>\n",
       "      <td>Access</td>\n",
       "      <td>133</td>\n",
       "    </tr>\n",
       "    <tr>\n",
       "      <th>10</th>\n",
       "      <td>Male</td>\n",
       "      <td>Career Development</td>\n",
       "      <td>236</td>\n",
       "    </tr>\n",
       "    <tr>\n",
       "      <th>11</th>\n",
       "      <td>Male</td>\n",
       "      <td>Decision Making</td>\n",
       "      <td>379</td>\n",
       "    </tr>\n",
       "    <tr>\n",
       "      <th>12</th>\n",
       "      <td>Male</td>\n",
       "      <td>Energy</td>\n",
       "      <td>445</td>\n",
       "    </tr>\n",
       "    <tr>\n",
       "      <th>13</th>\n",
       "      <td>Male</td>\n",
       "      <td>Innovation</td>\n",
       "      <td>376</td>\n",
       "    </tr>\n",
       "    <tr>\n",
       "      <th>14</th>\n",
       "      <td>Male</td>\n",
       "      <td>Personal Support</td>\n",
       "      <td>260</td>\n",
       "    </tr>\n",
       "    <tr>\n",
       "      <th>15</th>\n",
       "      <td>Male</td>\n",
       "      <td>Problem Solving</td>\n",
       "      <td>451</td>\n",
       "    </tr>\n",
       "    <tr>\n",
       "      <th>16</th>\n",
       "      <td>Male</td>\n",
       "      <td>Strategy</td>\n",
       "      <td>349</td>\n",
       "    </tr>\n",
       "    <tr>\n",
       "      <th>17</th>\n",
       "      <td>Male</td>\n",
       "      <td>Trust</td>\n",
       "      <td>430</td>\n",
       "    </tr>\n",
       "  </tbody>\n",
       "</table>\n",
       "</div>"
      ],
      "text/plain": [
       "    Gender               Label   ID\n",
       "0   Female              Access   96\n",
       "1   Female  Career Development  165\n",
       "2   Female     Decision Making  230\n",
       "3   Female              Energy  321\n",
       "4   Female          Innovation  220\n",
       "5   Female    Personal Support  234\n",
       "6   Female     Problem Solving  298\n",
       "7   Female            Strategy  196\n",
       "8   Female               Trust  274\n",
       "9     Male              Access  133\n",
       "10    Male  Career Development  236\n",
       "11    Male     Decision Making  379\n",
       "12    Male              Energy  445\n",
       "13    Male          Innovation  376\n",
       "14    Male    Personal Support  260\n",
       "15    Male     Problem Solving  451\n",
       "16    Male            Strategy  349\n",
       "17    Male               Trust  430"
      ]
     },
     "execution_count": 317,
     "metadata": {},
     "output_type": "execute_result"
    }
   ],
   "source": [
    "#print a number of out-degree by gender and label\n",
    "by_label_out_degree"
   ]
  },
  {
   "cell_type": "code",
   "execution_count": 318,
   "metadata": {},
   "outputs": [
    {
     "data": {
      "text/html": [
       "<div>\n",
       "<style scoped>\n",
       "    .dataframe tbody tr th:only-of-type {\n",
       "        vertical-align: middle;\n",
       "    }\n",
       "\n",
       "    .dataframe tbody tr th {\n",
       "        vertical-align: top;\n",
       "    }\n",
       "\n",
       "    .dataframe thead th {\n",
       "        text-align: right;\n",
       "    }\n",
       "</style>\n",
       "<table border=\"1\" class=\"dataframe\">\n",
       "  <thead>\n",
       "    <tr style=\"text-align: right;\">\n",
       "      <th></th>\n",
       "      <th>ID</th>\n",
       "      <th>Gender</th>\n",
       "    </tr>\n",
       "  </thead>\n",
       "  <tbody>\n",
       "    <tr>\n",
       "      <th>0</th>\n",
       "      <td>428634</td>\n",
       "      <td>Female</td>\n",
       "    </tr>\n",
       "    <tr>\n",
       "      <th>1</th>\n",
       "      <td>428764</td>\n",
       "      <td>Female</td>\n",
       "    </tr>\n",
       "    <tr>\n",
       "      <th>2</th>\n",
       "      <td>428881</td>\n",
       "      <td>Female</td>\n",
       "    </tr>\n",
       "    <tr>\n",
       "      <th>3</th>\n",
       "      <td>428738</td>\n",
       "      <td>Female</td>\n",
       "    </tr>\n",
       "    <tr>\n",
       "      <th>4</th>\n",
       "      <td>428803</td>\n",
       "      <td>Female</td>\n",
       "    </tr>\n",
       "    <tr>\n",
       "      <th>...</th>\n",
       "      <td>...</td>\n",
       "      <td>...</td>\n",
       "    </tr>\n",
       "    <tr>\n",
       "      <th>607</th>\n",
       "      <td>428244</td>\n",
       "      <td>Female</td>\n",
       "    </tr>\n",
       "    <tr>\n",
       "      <th>608</th>\n",
       "      <td>428192</td>\n",
       "      <td>Male</td>\n",
       "    </tr>\n",
       "    <tr>\n",
       "      <th>609</th>\n",
       "      <td>428231</td>\n",
       "      <td>Male</td>\n",
       "    </tr>\n",
       "    <tr>\n",
       "      <th>610</th>\n",
       "      <td>442219</td>\n",
       "      <td>Male</td>\n",
       "    </tr>\n",
       "    <tr>\n",
       "      <th>611</th>\n",
       "      <td>428933</td>\n",
       "      <td>Male</td>\n",
       "    </tr>\n",
       "  </tbody>\n",
       "</table>\n",
       "<p>612 rows × 2 columns</p>\n",
       "</div>"
      ],
      "text/plain": [
       "         ID  Gender\n",
       "0    428634  Female\n",
       "1    428764  Female\n",
       "2    428881  Female\n",
       "3    428738  Female\n",
       "4    428803  Female\n",
       "..      ...     ...\n",
       "607  428244  Female\n",
       "608  428192    Male\n",
       "609  428231    Male\n",
       "610  442219    Male\n",
       "611  428933    Male\n",
       "\n",
       "[612 rows x 2 columns]"
      ]
     },
     "execution_count": 318,
     "metadata": {},
     "output_type": "execute_result"
    }
   ],
   "source": [
    "nodes"
   ]
  },
  {
   "cell_type": "code",
   "execution_count": 319,
   "metadata": {},
   "outputs": [
    {
     "data": {
      "text/html": [
       "<div>\n",
       "<style scoped>\n",
       "    .dataframe tbody tr th:only-of-type {\n",
       "        vertical-align: middle;\n",
       "    }\n",
       "\n",
       "    .dataframe tbody tr th {\n",
       "        vertical-align: top;\n",
       "    }\n",
       "\n",
       "    .dataframe thead th {\n",
       "        text-align: right;\n",
       "    }\n",
       "</style>\n",
       "<table border=\"1\" class=\"dataframe\">\n",
       "  <thead>\n",
       "    <tr style=\"text-align: right;\">\n",
       "      <th></th>\n",
       "      <th>Gender</th>\n",
       "      <th>Label</th>\n",
       "      <th>ID</th>\n",
       "    </tr>\n",
       "  </thead>\n",
       "  <tbody>\n",
       "  </tbody>\n",
       "</table>\n",
       "</div>"
      ],
      "text/plain": [
       "Empty DataFrame\n",
       "Columns: [Gender, Label, ID]\n",
       "Index: []"
      ]
     },
     "execution_count": 319,
     "metadata": {},
     "output_type": "execute_result"
    }
   ],
   "source": [
    "by_label_out_degree[by_label_out_degree['ID'] == 610]"
   ]
  },
  {
   "cell_type": "code",
   "execution_count": 320,
   "metadata": {
    "scrolled": true
   },
   "outputs": [
    {
     "data": {
      "text/html": [
       "<div>\n",
       "<style scoped>\n",
       "    .dataframe tbody tr th:only-of-type {\n",
       "        vertical-align: middle;\n",
       "    }\n",
       "\n",
       "    .dataframe tbody tr th {\n",
       "        vertical-align: top;\n",
       "    }\n",
       "\n",
       "    .dataframe thead th {\n",
       "        text-align: right;\n",
       "    }\n",
       "</style>\n",
       "<table border=\"1\" class=\"dataframe\">\n",
       "  <thead>\n",
       "    <tr style=\"text-align: right;\">\n",
       "      <th></th>\n",
       "      <th>Gender</th>\n",
       "      <th>Label</th>\n",
       "      <th>ID</th>\n",
       "    </tr>\n",
       "  </thead>\n",
       "  <tbody>\n",
       "    <tr>\n",
       "      <th>0</th>\n",
       "      <td>Female</td>\n",
       "      <td>Access</td>\n",
       "      <td>62</td>\n",
       "    </tr>\n",
       "    <tr>\n",
       "      <th>1</th>\n",
       "      <td>Female</td>\n",
       "      <td>Career Development</td>\n",
       "      <td>135</td>\n",
       "    </tr>\n",
       "    <tr>\n",
       "      <th>2</th>\n",
       "      <td>Female</td>\n",
       "      <td>Decision Making</td>\n",
       "      <td>199</td>\n",
       "    </tr>\n",
       "    <tr>\n",
       "      <th>3</th>\n",
       "      <td>Female</td>\n",
       "      <td>Energy</td>\n",
       "      <td>308</td>\n",
       "    </tr>\n",
       "    <tr>\n",
       "      <th>4</th>\n",
       "      <td>Female</td>\n",
       "      <td>Innovation</td>\n",
       "      <td>198</td>\n",
       "    </tr>\n",
       "    <tr>\n",
       "      <th>5</th>\n",
       "      <td>Female</td>\n",
       "      <td>Personal Support</td>\n",
       "      <td>213</td>\n",
       "    </tr>\n",
       "    <tr>\n",
       "      <th>6</th>\n",
       "      <td>Female</td>\n",
       "      <td>Problem Solving</td>\n",
       "      <td>247</td>\n",
       "    </tr>\n",
       "    <tr>\n",
       "      <th>7</th>\n",
       "      <td>Female</td>\n",
       "      <td>Strategy</td>\n",
       "      <td>117</td>\n",
       "    </tr>\n",
       "    <tr>\n",
       "      <th>8</th>\n",
       "      <td>Female</td>\n",
       "      <td>Trust</td>\n",
       "      <td>237</td>\n",
       "    </tr>\n",
       "    <tr>\n",
       "      <th>9</th>\n",
       "      <td>Male</td>\n",
       "      <td>Access</td>\n",
       "      <td>167</td>\n",
       "    </tr>\n",
       "    <tr>\n",
       "      <th>10</th>\n",
       "      <td>Male</td>\n",
       "      <td>Career Development</td>\n",
       "      <td>266</td>\n",
       "    </tr>\n",
       "    <tr>\n",
       "      <th>11</th>\n",
       "      <td>Male</td>\n",
       "      <td>Decision Making</td>\n",
       "      <td>410</td>\n",
       "    </tr>\n",
       "    <tr>\n",
       "      <th>12</th>\n",
       "      <td>Male</td>\n",
       "      <td>Energy</td>\n",
       "      <td>458</td>\n",
       "    </tr>\n",
       "    <tr>\n",
       "      <th>13</th>\n",
       "      <td>Male</td>\n",
       "      <td>Innovation</td>\n",
       "      <td>398</td>\n",
       "    </tr>\n",
       "    <tr>\n",
       "      <th>14</th>\n",
       "      <td>Male</td>\n",
       "      <td>Personal Support</td>\n",
       "      <td>281</td>\n",
       "    </tr>\n",
       "    <tr>\n",
       "      <th>15</th>\n",
       "      <td>Male</td>\n",
       "      <td>Problem Solving</td>\n",
       "      <td>502</td>\n",
       "    </tr>\n",
       "    <tr>\n",
       "      <th>16</th>\n",
       "      <td>Male</td>\n",
       "      <td>Strategy</td>\n",
       "      <td>428</td>\n",
       "    </tr>\n",
       "    <tr>\n",
       "      <th>17</th>\n",
       "      <td>Male</td>\n",
       "      <td>Trust</td>\n",
       "      <td>467</td>\n",
       "    </tr>\n",
       "  </tbody>\n",
       "</table>\n",
       "</div>"
      ],
      "text/plain": [
       "    Gender               Label   ID\n",
       "0   Female              Access   62\n",
       "1   Female  Career Development  135\n",
       "2   Female     Decision Making  199\n",
       "3   Female              Energy  308\n",
       "4   Female          Innovation  198\n",
       "5   Female    Personal Support  213\n",
       "6   Female     Problem Solving  247\n",
       "7   Female            Strategy  117\n",
       "8   Female               Trust  237\n",
       "9     Male              Access  167\n",
       "10    Male  Career Development  266\n",
       "11    Male     Decision Making  410\n",
       "12    Male              Energy  458\n",
       "13    Male          Innovation  398\n",
       "14    Male    Personal Support  281\n",
       "15    Male     Problem Solving  502\n",
       "16    Male            Strategy  428\n",
       "17    Male               Trust  467"
      ]
     },
     "execution_count": 320,
     "metadata": {},
     "output_type": "execute_result"
    }
   ],
   "source": [
    "#print a number of in-degree by gender and label\n",
    "by_label_in_degree"
   ]
  },
  {
   "cell_type": "code",
   "execution_count": 321,
   "metadata": {},
   "outputs": [
    {
     "data": {
      "text/html": [
       "<div>\n",
       "<style scoped>\n",
       "    .dataframe tbody tr th:only-of-type {\n",
       "        vertical-align: middle;\n",
       "    }\n",
       "\n",
       "    .dataframe tbody tr th {\n",
       "        vertical-align: top;\n",
       "    }\n",
       "\n",
       "    .dataframe thead th {\n",
       "        text-align: right;\n",
       "    }\n",
       "</style>\n",
       "<table border=\"1\" class=\"dataframe\">\n",
       "  <thead>\n",
       "    <tr style=\"text-align: right;\">\n",
       "      <th></th>\n",
       "      <th>Gender_out</th>\n",
       "      <th>Gender_in</th>\n",
       "      <th>Source</th>\n",
       "    </tr>\n",
       "  </thead>\n",
       "  <tbody>\n",
       "    <tr>\n",
       "      <th>0</th>\n",
       "      <td>Female</td>\n",
       "      <td>Female</td>\n",
       "      <td>1010</td>\n",
       "    </tr>\n",
       "    <tr>\n",
       "      <th>1</th>\n",
       "      <td>Female</td>\n",
       "      <td>Male</td>\n",
       "      <td>1024</td>\n",
       "    </tr>\n",
       "    <tr>\n",
       "      <th>2</th>\n",
       "      <td>Male</td>\n",
       "      <td>Female</td>\n",
       "      <td>706</td>\n",
       "    </tr>\n",
       "    <tr>\n",
       "      <th>3</th>\n",
       "      <td>Male</td>\n",
       "      <td>Male</td>\n",
       "      <td>2353</td>\n",
       "    </tr>\n",
       "  </tbody>\n",
       "</table>\n",
       "</div>"
      ],
      "text/plain": [
       "  Gender_out Gender_in  Source\n",
       "0     Female    Female    1010\n",
       "1     Female      Male    1024\n",
       "2       Male    Female     706\n",
       "3       Male      Male    2353"
      ]
     },
     "execution_count": 321,
     "metadata": {},
     "output_type": "execute_result"
    }
   ],
   "source": [
    "#print a number of degrees between genders\n",
    "gender_to_gender"
   ]
  },
  {
   "cell_type": "code",
   "execution_count": 322,
   "metadata": {},
   "outputs": [
    {
     "name": "stdout",
     "output_type": "stream",
     "text": [
      "Energy   Gender_out Gender_in  Source\n",
      "0     Female    Female     190\n",
      "1     Female      Male     131\n",
      "2       Male    Female     118\n",
      "3       Male      Male     327\n",
      "Trust   Gender_out Gender_in  Source\n",
      "0     Female    Female     137\n",
      "1     Female      Male     137\n",
      "2       Male    Female     100\n",
      "3       Male      Male     330\n",
      "Career Development   Gender_out Gender_in  Source\n",
      "0     Female    Female      81\n",
      "1     Female      Male      84\n",
      "2       Male    Female      54\n",
      "3       Male      Male     182\n",
      "Personal Support   Gender_out Gender_in  Source\n",
      "0     Female    Female     154\n",
      "1     Female      Male      80\n",
      "2       Male    Female      59\n",
      "3       Male      Male     201\n",
      "Decision Making   Gender_out Gender_in  Source\n",
      "0     Female    Female     114\n",
      "1     Female      Male     116\n",
      "2       Male    Female      85\n",
      "3       Male      Male     294\n",
      "Access   Gender_out Gender_in  Source\n",
      "0     Female    Female      34\n",
      "1     Female      Male      62\n",
      "2       Male    Female      28\n",
      "3       Male      Male     105\n",
      "Innovation   Gender_out Gender_in  Source\n",
      "0     Female    Female     105\n",
      "1     Female      Male     115\n",
      "2       Male    Female      93\n",
      "3       Male      Male     283\n",
      "Problem Solving   Gender_out Gender_in  Source\n",
      "0     Female    Female     142\n",
      "1     Female      Male     156\n",
      "2       Male    Female     105\n",
      "3       Male      Male     346\n",
      "Strategy   Gender_out Gender_in  Source\n",
      "0     Female    Female      53\n",
      "1     Female      Male     143\n",
      "2       Male    Female      64\n",
      "3       Male      Male     285\n"
     ]
    }
   ],
   "source": [
    "#Gender to gender statistics by label\n",
    "label = combined['Label'].unique()\n",
    "for i in range(0,len(label)):\n",
    "    sector = combined[combined['Label'] == label[i]]\n",
    "    a = sector.groupby(['Gender_out','Gender_in']).Source.count().reset_index()\n",
    "    b= print('{0}'.format(label[i]),a)"
   ]
  },
  {
   "cell_type": "markdown",
   "metadata": {},
   "source": [
    "## 2. Gender Assortativity "
   ]
  },
  {
   "cell_type": "code",
   "execution_count": 753,
   "metadata": {},
   "outputs": [
    {
     "name": "stdout",
     "output_type": "stream",
     "text": [
      "The assortativity of the network is 0.26986616946343467\n"
     ]
    }
   ],
   "source": [
    "#Link data preprocessing\n",
    "a = [i for i in range(0,612)]\n",
    "nodes['ID2']= a\n",
    "nodes2 = nodes.rename(columns = {'ID':'Target','ID2':'ID_Target'})\n",
    "link2 = link[['Source','Target']]\n",
    "link2 = link2.rename(columns = {'Source' : 'ID'})\n",
    "link3 = pd.merge(link2,nodes,how='left')\n",
    "link4 = pd.merge(link3,nodes2,how='left',on='Target')\n",
    "link_final = link4[['ID2','ID_Target']]\n",
    "link_final = link_final.rename(columns = {'ID2':'Source','ID_Target':'Target'})\n",
    "link_final['link'] = list(zip(link_final['Source'],link_final['Target']))\n",
    "link_final = link_final['link']\n",
    "\n",
    "#Node data preprocessing\n",
    "nodes_network = nodes[['ID','Gender']]\n",
    "nodes_network['Gender2'] = nodes_network['Gender'].map({'Male':1, 'Female':2})\n",
    "\n",
    "#Creating a network and compute the assortativity\n",
    "nodes_network['ID'] = [i for i in range(0,612)]\n",
    "g = ig.Graph()\n",
    "g.add_vertices([i for i in range(0,612)])\n",
    "g.add_edges(link_final)\n",
    "g.vs['Gender'] = nodes_network['Gender2']\n",
    "print('The assortativity of the network is {0}'.format(g.assortativity_nominal('Gender',directed=True)))"
   ]
  },
  {
   "cell_type": "code",
   "execution_count": 754,
   "metadata": {},
   "outputs": [
    {
     "data": {
      "text/plain": [
       "0.04431813418505621"
      ]
     },
     "execution_count": 754,
     "metadata": {},
     "output_type": "execute_result"
    }
   ],
   "source": [
    "g.assortativity_degree(directed=True)"
   ]
  },
  {
   "cell_type": "markdown",
   "metadata": {},
   "source": [
    "## 3. Gender Assortativity By Label"
   ]
  },
  {
   "cell_type": "code",
   "execution_count": 325,
   "metadata": {},
   "outputs": [],
   "source": [
    "#Link data preprocessing\n",
    "link_label = link[['Source','Target','Label']]\n",
    "link_label = link_label.rename(columns = {'Source' : 'ID'})\n",
    "link_label2=pd.merge(link_label,nodes,how='left')\n",
    "link_label3 = pd.merge(link_label2,nodes2,how='left', on='Target')\n",
    "link_label_final = link_label3[['ID2','ID_Target','Label']]\n",
    "link_label_final = link_label_final.rename(columns = {'ID2': 'Source','ID_Target':'Target'})\n",
    "link_label_final['link'] = list(zip(link_label_final['Source'],link_label_final['Target']))\n",
    "link_label_final2 = link_label_final[['link','Label']]\n",
    "\n",
    "#create link data with label\n",
    "labels = link_label_final2['Label'].unique()\n",
    "link_data_by_label = []\n",
    "for label in labels:\n",
    "    new_label = link_label_final2[link_label_final2['Label'] == label]\n",
    "    link_data_by_label.append(new_label)\n",
    "    \n",
    "    \n",
    "#create a network and compute the assortativity by label    \n",
    "node_final = [i for i in range(0,612)]\n",
    "assortativity=[]\n",
    "for datum in link_data_by_label:\n",
    "    g = ig.Graph()\n",
    "    g.add_vertices(node_final)\n",
    "    g.add_edges(datum['link'])\n",
    "    g.vs['Gender'] = nodes_network['Gender2']\n",
    "    temp = g.assortativity_nominal('Gender',directed = True)\n",
    "    assortativity.append(temp)\n",
    "    \n",
    "assortativity_label = {key: value for key, value in zip(labels,assortativity)}"
   ]
  },
  {
   "cell_type": "code",
   "execution_count": 326,
   "metadata": {
    "scrolled": true
   },
   "outputs": [
    {
     "data": {
      "text/plain": [
       "{'Energy': 0.32838603700436797,\n",
       " 'Trust': 0.27198947568214993,\n",
       " 'Career Development': 0.2650996015936256,\n",
       " 'Personal Support': 0.4321064231868238,\n",
       " 'Decision Making': 0.276715679757505,\n",
       " 'Access': 0.1303797468354431,\n",
       " 'Innovation': 0.23365849436840877,\n",
       " 'Problem Solving': 0.24722893422027978,\n",
       " 'Strategy': 0.0722488805555895}"
      ]
     },
     "execution_count": 326,
     "metadata": {},
     "output_type": "execute_result"
    }
   ],
   "source": [
    "#print assortativity by label\n",
    "assortativity_label"
   ]
  },
  {
   "cell_type": "markdown",
   "metadata": {},
   "source": [
    "## Number of out-degree by Gender (m=255, f= 163)"
   ]
  },
  {
   "cell_type": "code",
   "execution_count": 327,
   "metadata": {},
   "outputs": [],
   "source": [
    "out_label = link_label_final[['Source','Label']]\n",
    "out_label = out_label.rename(columns = {'Source':'ID'})\n",
    "out_label_gender = pd.merge(out_label,nodes_network,how = 'left',on = 'ID')\n",
    "out_label_male = out_label_gender[out_label_gender['Gender'] == 'Male']\n",
    "out_label_female = out_label_gender[out_label_gender['Gender'] == 'Female']\n",
    "number_degree_male = out_label_male.groupby(['ID']).Gender.count().reset_index()\n",
    "number_degree_male = number_degree_male.rename(columns = {'Gender': 'Number of out-degree'})\n",
    "number_degree_female = out_label_female.groupby(['ID']).Gender.count().reset_index()\n",
    "number_degree_female = number_degree_female.rename(columns = {'Gender':'Number of out-degree'})\n",
    "number_degree_male2 = number_degree_male['Number of out-degree']\n",
    "number_degree_female2 = number_degree_female['Number of out-degree']"
   ]
  },
  {
   "cell_type": "code",
   "execution_count": 628,
   "metadata": {},
   "outputs": [
    {
     "data": {
      "text/html": [
       "<div>\n",
       "<style scoped>\n",
       "    .dataframe tbody tr th:only-of-type {\n",
       "        vertical-align: middle;\n",
       "    }\n",
       "\n",
       "    .dataframe tbody tr th {\n",
       "        vertical-align: top;\n",
       "    }\n",
       "\n",
       "    .dataframe thead th {\n",
       "        text-align: right;\n",
       "    }\n",
       "</style>\n",
       "<table border=\"1\" class=\"dataframe\">\n",
       "  <thead>\n",
       "    <tr style=\"text-align: right;\">\n",
       "      <th></th>\n",
       "      <th>Source</th>\n",
       "      <th>Target</th>\n",
       "      <th>Label</th>\n",
       "      <th>link</th>\n",
       "    </tr>\n",
       "  </thead>\n",
       "  <tbody>\n",
       "    <tr>\n",
       "      <th>0</th>\n",
       "      <td>150</td>\n",
       "      <td>8</td>\n",
       "      <td>Energy</td>\n",
       "      <td>(150, 8)</td>\n",
       "    </tr>\n",
       "    <tr>\n",
       "      <th>1</th>\n",
       "      <td>188</td>\n",
       "      <td>524</td>\n",
       "      <td>Trust</td>\n",
       "      <td>(188, 524)</td>\n",
       "    </tr>\n",
       "    <tr>\n",
       "      <th>2</th>\n",
       "      <td>188</td>\n",
       "      <td>524</td>\n",
       "      <td>Career Development</td>\n",
       "      <td>(188, 524)</td>\n",
       "    </tr>\n",
       "    <tr>\n",
       "      <th>3</th>\n",
       "      <td>188</td>\n",
       "      <td>524</td>\n",
       "      <td>Personal Support</td>\n",
       "      <td>(188, 524)</td>\n",
       "    </tr>\n",
       "    <tr>\n",
       "      <th>4</th>\n",
       "      <td>188</td>\n",
       "      <td>524</td>\n",
       "      <td>Decision Making</td>\n",
       "      <td>(188, 524)</td>\n",
       "    </tr>\n",
       "    <tr>\n",
       "      <th>...</th>\n",
       "      <td>...</td>\n",
       "      <td>...</td>\n",
       "      <td>...</td>\n",
       "      <td>...</td>\n",
       "    </tr>\n",
       "    <tr>\n",
       "      <th>5088</th>\n",
       "      <td>494</td>\n",
       "      <td>600</td>\n",
       "      <td>Access</td>\n",
       "      <td>(494, 600)</td>\n",
       "    </tr>\n",
       "    <tr>\n",
       "      <th>5089</th>\n",
       "      <td>494</td>\n",
       "      <td>600</td>\n",
       "      <td>Personal Support</td>\n",
       "      <td>(494, 600)</td>\n",
       "    </tr>\n",
       "    <tr>\n",
       "      <th>5090</th>\n",
       "      <td>494</td>\n",
       "      <td>600</td>\n",
       "      <td>Decision Making</td>\n",
       "      <td>(494, 600)</td>\n",
       "    </tr>\n",
       "    <tr>\n",
       "      <th>5091</th>\n",
       "      <td>276</td>\n",
       "      <td>511</td>\n",
       "      <td>Trust</td>\n",
       "      <td>(276, 511)</td>\n",
       "    </tr>\n",
       "    <tr>\n",
       "      <th>5092</th>\n",
       "      <td>276</td>\n",
       "      <td>511</td>\n",
       "      <td>Energy</td>\n",
       "      <td>(276, 511)</td>\n",
       "    </tr>\n",
       "  </tbody>\n",
       "</table>\n",
       "<p>5093 rows × 4 columns</p>\n",
       "</div>"
      ],
      "text/plain": [
       "      Source  Target               Label        link\n",
       "0        150       8              Energy    (150, 8)\n",
       "1        188     524               Trust  (188, 524)\n",
       "2        188     524  Career Development  (188, 524)\n",
       "3        188     524    Personal Support  (188, 524)\n",
       "4        188     524     Decision Making  (188, 524)\n",
       "...      ...     ...                 ...         ...\n",
       "5088     494     600              Access  (494, 600)\n",
       "5089     494     600    Personal Support  (494, 600)\n",
       "5090     494     600     Decision Making  (494, 600)\n",
       "5091     276     511               Trust  (276, 511)\n",
       "5092     276     511              Energy  (276, 511)\n",
       "\n",
       "[5093 rows x 4 columns]"
      ]
     },
     "execution_count": 628,
     "metadata": {},
     "output_type": "execute_result"
    }
   ],
   "source": [
    "link_label_final"
   ]
  },
  {
   "cell_type": "code",
   "execution_count": 620,
   "metadata": {},
   "outputs": [
    {
     "data": {
      "text/html": [
       "<div>\n",
       "<style scoped>\n",
       "    .dataframe tbody tr th:only-of-type {\n",
       "        vertical-align: middle;\n",
       "    }\n",
       "\n",
       "    .dataframe tbody tr th {\n",
       "        vertical-align: top;\n",
       "    }\n",
       "\n",
       "    .dataframe thead th {\n",
       "        text-align: right;\n",
       "    }\n",
       "</style>\n",
       "<table border=\"1\" class=\"dataframe\">\n",
       "  <thead>\n",
       "    <tr style=\"text-align: right;\">\n",
       "      <th></th>\n",
       "      <th>Source</th>\n",
       "      <th>Target</th>\n",
       "      <th>Label</th>\n",
       "      <th>link</th>\n",
       "    </tr>\n",
       "  </thead>\n",
       "  <tbody>\n",
       "    <tr>\n",
       "      <th>0</th>\n",
       "      <td>150</td>\n",
       "      <td>8</td>\n",
       "      <td>Energy</td>\n",
       "      <td>(150, 8)</td>\n",
       "    </tr>\n",
       "    <tr>\n",
       "      <th>1</th>\n",
       "      <td>188</td>\n",
       "      <td>524</td>\n",
       "      <td>Trust</td>\n",
       "      <td>(188, 524)</td>\n",
       "    </tr>\n",
       "    <tr>\n",
       "      <th>2</th>\n",
       "      <td>188</td>\n",
       "      <td>524</td>\n",
       "      <td>Career Development</td>\n",
       "      <td>(188, 524)</td>\n",
       "    </tr>\n",
       "    <tr>\n",
       "      <th>3</th>\n",
       "      <td>188</td>\n",
       "      <td>524</td>\n",
       "      <td>Personal Support</td>\n",
       "      <td>(188, 524)</td>\n",
       "    </tr>\n",
       "    <tr>\n",
       "      <th>4</th>\n",
       "      <td>188</td>\n",
       "      <td>524</td>\n",
       "      <td>Decision Making</td>\n",
       "      <td>(188, 524)</td>\n",
       "    </tr>\n",
       "    <tr>\n",
       "      <th>...</th>\n",
       "      <td>...</td>\n",
       "      <td>...</td>\n",
       "      <td>...</td>\n",
       "      <td>...</td>\n",
       "    </tr>\n",
       "    <tr>\n",
       "      <th>5088</th>\n",
       "      <td>494</td>\n",
       "      <td>600</td>\n",
       "      <td>Access</td>\n",
       "      <td>(494, 600)</td>\n",
       "    </tr>\n",
       "    <tr>\n",
       "      <th>5089</th>\n",
       "      <td>494</td>\n",
       "      <td>600</td>\n",
       "      <td>Personal Support</td>\n",
       "      <td>(494, 600)</td>\n",
       "    </tr>\n",
       "    <tr>\n",
       "      <th>5090</th>\n",
       "      <td>494</td>\n",
       "      <td>600</td>\n",
       "      <td>Decision Making</td>\n",
       "      <td>(494, 600)</td>\n",
       "    </tr>\n",
       "    <tr>\n",
       "      <th>5091</th>\n",
       "      <td>276</td>\n",
       "      <td>511</td>\n",
       "      <td>Trust</td>\n",
       "      <td>(276, 511)</td>\n",
       "    </tr>\n",
       "    <tr>\n",
       "      <th>5092</th>\n",
       "      <td>276</td>\n",
       "      <td>511</td>\n",
       "      <td>Energy</td>\n",
       "      <td>(276, 511)</td>\n",
       "    </tr>\n",
       "  </tbody>\n",
       "</table>\n",
       "<p>5093 rows × 4 columns</p>\n",
       "</div>"
      ],
      "text/plain": [
       "      Source  Target               Label        link\n",
       "0        150       8              Energy    (150, 8)\n",
       "1        188     524               Trust  (188, 524)\n",
       "2        188     524  Career Development  (188, 524)\n",
       "3        188     524    Personal Support  (188, 524)\n",
       "4        188     524     Decision Making  (188, 524)\n",
       "...      ...     ...                 ...         ...\n",
       "5088     494     600              Access  (494, 600)\n",
       "5089     494     600    Personal Support  (494, 600)\n",
       "5090     494     600     Decision Making  (494, 600)\n",
       "5091     276     511               Trust  (276, 511)\n",
       "5092     276     511              Energy  (276, 511)\n",
       "\n",
       "[5093 rows x 4 columns]"
      ]
     },
     "execution_count": 620,
     "metadata": {},
     "output_type": "execute_result"
    }
   ],
   "source": [
    "link_label_final"
   ]
  },
  {
   "cell_type": "code",
   "execution_count": 534,
   "metadata": {},
   "outputs": [
    {
     "data": {
      "text/plain": [
       "0       7\n",
       "1       5\n",
       "2       8\n",
       "3       5\n",
       "4       4\n",
       "       ..\n",
       "250    12\n",
       "251    12\n",
       "252    10\n",
       "253    10\n",
       "254    22\n",
       "Name: Number of out-degree, Length: 255, dtype: int64"
      ]
     },
     "execution_count": 534,
     "metadata": {},
     "output_type": "execute_result"
    }
   ],
   "source": [
    "number_degree_male2"
   ]
  },
  {
   "cell_type": "code",
   "execution_count": 329,
   "metadata": {},
   "outputs": [],
   "source": [
    "nodes_network_male = nodes_network[nodes_network['Gender']=='Male']\n",
    "nodes_network_male2 = pd.merge(nodes_network_male,number_degree_male,how='left',on = 'ID')\n",
    "nodes_network_male2=nodes_network_male2.fillna(0)\n",
    "nodes_network_female = nodes_network[nodes_network['Gender']=='Female']\n",
    "nodes_network_female2 = pd.merge(nodes_network_female,number_degree_female,how='left',on = 'ID')\n",
    "nodes_network_female2=nodes_network_female2.fillna(0)\n",
    "nodes_network_male2 = nodes_network_male2['Number of out-degree']\n",
    "nodes_network_female2 = nodes_network_female2['Number of out-degree']"
   ]
  },
  {
   "cell_type": "code",
   "execution_count": 330,
   "metadata": {},
   "outputs": [
    {
     "name": "stdout",
     "output_type": "stream",
     "text": [
      "average number of out-degree for male: 7.783715012722646\n"
     ]
    }
   ],
   "source": [
    "print('average number of out-degree for male: {0}'.format(nodes_network_male2.mean()))"
   ]
  },
  {
   "cell_type": "code",
   "execution_count": 331,
   "metadata": {},
   "outputs": [
    {
     "name": "stdout",
     "output_type": "stream",
     "text": [
      "average number of out-degree for female:9.287671232876713\n"
     ]
    }
   ],
   "source": [
    "print('average number of out-degree for female:{0}'.format(nodes_network_female2.mean()))"
   ]
  },
  {
   "cell_type": "code",
   "execution_count": 332,
   "metadata": {},
   "outputs": [],
   "source": [
    "not_out = pd.merge(nodes_network,out_label,how='left',on='ID')"
   ]
  },
  {
   "cell_type": "code",
   "execution_count": 333,
   "metadata": {},
   "outputs": [
    {
     "data": {
      "text/html": [
       "<div>\n",
       "<style scoped>\n",
       "    .dataframe tbody tr th:only-of-type {\n",
       "        vertical-align: middle;\n",
       "    }\n",
       "\n",
       "    .dataframe tbody tr th {\n",
       "        vertical-align: top;\n",
       "    }\n",
       "\n",
       "    .dataframe thead th {\n",
       "        text-align: right;\n",
       "    }\n",
       "</style>\n",
       "<table border=\"1\" class=\"dataframe\">\n",
       "  <thead>\n",
       "    <tr style=\"text-align: right;\">\n",
       "      <th></th>\n",
       "      <th>ID</th>\n",
       "      <th>Gender</th>\n",
       "      <th>Gender2</th>\n",
       "      <th>Label</th>\n",
       "    </tr>\n",
       "  </thead>\n",
       "  <tbody>\n",
       "    <tr>\n",
       "      <th>0</th>\n",
       "      <td>0</td>\n",
       "      <td>Female</td>\n",
       "      <td>1</td>\n",
       "      <td>NaN</td>\n",
       "    </tr>\n",
       "    <tr>\n",
       "      <th>96</th>\n",
       "      <td>10</td>\n",
       "      <td>Female</td>\n",
       "      <td>1</td>\n",
       "      <td>NaN</td>\n",
       "    </tr>\n",
       "    <tr>\n",
       "      <th>170</th>\n",
       "      <td>16</td>\n",
       "      <td>Female</td>\n",
       "      <td>1</td>\n",
       "      <td>NaN</td>\n",
       "    </tr>\n",
       "    <tr>\n",
       "      <th>321</th>\n",
       "      <td>27</td>\n",
       "      <td>Female</td>\n",
       "      <td>1</td>\n",
       "      <td>NaN</td>\n",
       "    </tr>\n",
       "    <tr>\n",
       "      <th>367</th>\n",
       "      <td>33</td>\n",
       "      <td>Female</td>\n",
       "      <td>1</td>\n",
       "      <td>NaN</td>\n",
       "    </tr>\n",
       "    <tr>\n",
       "      <th>...</th>\n",
       "      <td>...</td>\n",
       "      <td>...</td>\n",
       "      <td>...</td>\n",
       "      <td>...</td>\n",
       "    </tr>\n",
       "    <tr>\n",
       "      <th>5050</th>\n",
       "      <td>588</td>\n",
       "      <td>Male</td>\n",
       "      <td>2</td>\n",
       "      <td>NaN</td>\n",
       "    </tr>\n",
       "    <tr>\n",
       "      <th>5060</th>\n",
       "      <td>590</td>\n",
       "      <td>Male</td>\n",
       "      <td>2</td>\n",
       "      <td>NaN</td>\n",
       "    </tr>\n",
       "    <tr>\n",
       "      <th>5137</th>\n",
       "      <td>598</td>\n",
       "      <td>Female</td>\n",
       "      <td>1</td>\n",
       "      <td>NaN</td>\n",
       "    </tr>\n",
       "    <tr>\n",
       "      <th>5156</th>\n",
       "      <td>600</td>\n",
       "      <td>Male</td>\n",
       "      <td>2</td>\n",
       "      <td>NaN</td>\n",
       "    </tr>\n",
       "    <tr>\n",
       "      <th>5232</th>\n",
       "      <td>607</td>\n",
       "      <td>Female</td>\n",
       "      <td>1</td>\n",
       "      <td>NaN</td>\n",
       "    </tr>\n",
       "  </tbody>\n",
       "</table>\n",
       "<p>194 rows × 4 columns</p>\n",
       "</div>"
      ],
      "text/plain": [
       "       ID  Gender  Gender2 Label\n",
       "0       0  Female        1   NaN\n",
       "96     10  Female        1   NaN\n",
       "170    16  Female        1   NaN\n",
       "321    27  Female        1   NaN\n",
       "367    33  Female        1   NaN\n",
       "...   ...     ...      ...   ...\n",
       "5050  588    Male        2   NaN\n",
       "5060  590    Male        2   NaN\n",
       "5137  598  Female        1   NaN\n",
       "5156  600    Male        2   NaN\n",
       "5232  607  Female        1   NaN\n",
       "\n",
       "[194 rows x 4 columns]"
      ]
     },
     "execution_count": 333,
     "metadata": {},
     "output_type": "execute_result"
    }
   ],
   "source": [
    "not_out[not_out['Label'].isna()]"
   ]
  },
  {
   "cell_type": "code",
   "execution_count": 334,
   "metadata": {},
   "outputs": [
    {
     "data": {
      "text/plain": [
       "Text(0.5, 1.0, 'Number of Out-degree by Gender')"
      ]
     },
     "execution_count": 334,
     "metadata": {},
     "output_type": "execute_result"
    },
    {
     "data": {
      "image/png": "[encoded data removed]",
      "text/plain": [
       "<Figure size 1080x720 with 1 Axes>"
      ]
     },
     "metadata": {
      "needs_background": "light"
     },
     "output_type": "display_data"
    }
   ],
   "source": [
    "f,ax = plt.subplots(figsize = (15,10))\n",
    "sns.histplot(number_degree_male2,element='step',color='#0e2f44')\n",
    "sns.histplot(number_degree_female2,element = 'step',color='#daa520')\n",
    "\n",
    "ax.set_title('Number of Out-degree by Gender',fontweight = 'bold',fontsize=30)"
   ]
  },
  {
   "cell_type": "code",
   "execution_count": 335,
   "metadata": {},
   "outputs": [
    {
     "data": {
      "text/plain": [
       "Text(0.5, 1.0, 'Number of Out-degree by Gender')"
      ]
     },
     "execution_count": 335,
     "metadata": {},
     "output_type": "execute_result"
    },
    {
     "data": {
      "image/png": "[encoded data removed]",
      "text/plain": [
       "<Figure size 1080x720 with 1 Axes>"
      ]
     },
     "metadata": {
      "needs_background": "light"
     },
     "output_type": "display_data"
    }
   ],
   "source": [
    "f,ax = plt.subplots(figsize = (15,10))\n",
    "sns.histplot(nodes_network_male2,element='step',color='#0e2f44')\n",
    "sns.histplot(nodes_network_female2,element = 'step',color='#daa520')\n",
    "\n",
    "ax.set_title('Number of Out-degree by Gender',fontweight = 'bold',fontsize=30)"
   ]
  },
  {
   "cell_type": "markdown",
   "metadata": {},
   "source": [
    "## Hypothesis test about the mean out-degree of male and female groups (m=255, f=163)"
   ]
  },
  {
   "cell_type": "code",
   "execution_count": 336,
   "metadata": {},
   "outputs": [],
   "source": [
    "number_degree_male2 = number_degree_male['Number of out-degree']\n",
    "number_degree_female2 = number_degree_female['Number of out-degree']\n",
    "tstat,pval_ttest_out = ttest_ind(number_degree_male2,number_degree_female2)\n",
    "p_val_permu_out = permutation_test(number_degree_male2,number_degree_female2,method='approximate',num_rounds = 10000,seed=0)"
   ]
  },
  {
   "cell_type": "code",
   "execution_count": 337,
   "metadata": {},
   "outputs": [
    {
     "data": {
      "text/plain": [
       "0.567235694665136"
      ]
     },
     "execution_count": 337,
     "metadata": {},
     "output_type": "execute_result"
    }
   ],
   "source": [
    "pval_ttest_out"
   ]
  },
  {
   "cell_type": "code",
   "execution_count": 338,
   "metadata": {},
   "outputs": [
    {
     "data": {
      "text/plain": [
       "0.5715428457154285"
      ]
     },
     "execution_count": 338,
     "metadata": {},
     "output_type": "execute_result"
    }
   ],
   "source": [
    "p_val_permu_out"
   ]
  },
  {
   "cell_type": "markdown",
   "metadata": {},
   "source": [
    "## Hypothesis test about the mean out-degree of male and female groups (m=393, f=219)"
   ]
  },
  {
   "cell_type": "code",
   "execution_count": 339,
   "metadata": {},
   "outputs": [],
   "source": [
    "tstat,pval_ttest_out2 = ttest_ind(nodes_network_male2,nodes_network_female2)\n",
    "p_val_permu_out2 = permutation_test(nodes_network_male2,nodes_network_female2,method='approximate',num_rounds = 10000,seed=0)"
   ]
  },
  {
   "cell_type": "code",
   "execution_count": 340,
   "metadata": {},
   "outputs": [
    {
     "data": {
      "text/plain": [
       "0.04646645411248457"
      ]
     },
     "execution_count": 340,
     "metadata": {},
     "output_type": "execute_result"
    }
   ],
   "source": [
    "pval_ttest_out2"
   ]
  },
  {
   "cell_type": "code",
   "execution_count": 341,
   "metadata": {},
   "outputs": [
    {
     "data": {
      "text/plain": [
       "0.0471952804719528"
      ]
     },
     "execution_count": 341,
     "metadata": {},
     "output_type": "execute_result"
    }
   ],
   "source": [
    "p_val_permu_out2"
   ]
  },
  {
   "cell_type": "markdown",
   "metadata": {},
   "source": [
    "## Number of in-degree by Gender"
   ]
  },
  {
   "cell_type": "code",
   "execution_count": 342,
   "metadata": {},
   "outputs": [],
   "source": [
    "in_label = link_label_final[['Target','Label']]\n",
    "in_label =in_label.rename(columns ={'Target':'ID'})\n",
    "in_label_gender = pd.merge(in_label,nodes_network,how='left',on='ID')\n",
    "in_label_male = in_label_gender[in_label_gender['Gender'] =='Male']\n",
    "in_label_female = in_label_gender[in_label_gender['Gender'] =='Female']\n",
    "number_in_male = in_label_male.groupby(['ID']).Gender.count().reset_index()\n",
    "number_in_female = in_label_female.groupby(['ID']).Gender.count().reset_index()\n",
    "number_in_male = number_in_male.rename(columns = {'Gender': 'Number of in-degree'})\n",
    "number_in_female = number_in_female.rename(columns = {'Gender': 'Number of in-degree'})\n",
    "nodes_network_male_in = nodes_network[nodes_network['Gender']=='Male']\n",
    "nodes_network_male2_in = pd.merge(nodes_network_male_in,number_in_male,how='left',on = 'ID')\n",
    "nodes_network_male3_in = nodes_network_male2_in.fillna(0)\n",
    "nodes_network_female_in = nodes_network[nodes_network['Gender']=='Female']\n",
    "nodes_network_female2_in = pd.merge(nodes_network_female_in,number_in_female,how='left',on = 'ID')\n",
    "nodes_network_female3_in=nodes_network_female2_in.fillna(0)\n",
    "nodes_network_male3_in = nodes_network_male3_in['Number of in-degree']\n",
    "nodes_network_female3_in = nodes_network_female3_in['Number of in-degree']"
   ]
  },
  {
   "cell_type": "code",
   "execution_count": 343,
   "metadata": {
    "scrolled": true
   },
   "outputs": [
    {
     "data": {
      "text/html": [
       "<div>\n",
       "<style scoped>\n",
       "    .dataframe tbody tr th:only-of-type {\n",
       "        vertical-align: middle;\n",
       "    }\n",
       "\n",
       "    .dataframe tbody tr th {\n",
       "        vertical-align: top;\n",
       "    }\n",
       "\n",
       "    .dataframe thead th {\n",
       "        text-align: right;\n",
       "    }\n",
       "</style>\n",
       "<table border=\"1\" class=\"dataframe\">\n",
       "  <thead>\n",
       "    <tr style=\"text-align: right;\">\n",
       "      <th></th>\n",
       "      <th>Source</th>\n",
       "      <th>Target</th>\n",
       "      <th>Label</th>\n",
       "      <th>link</th>\n",
       "    </tr>\n",
       "  </thead>\n",
       "  <tbody>\n",
       "    <tr>\n",
       "      <th>2696</th>\n",
       "      <td>168</td>\n",
       "      <td>610</td>\n",
       "      <td>Strategy</td>\n",
       "      <td>(168, 610)</td>\n",
       "    </tr>\n",
       "    <tr>\n",
       "      <th>2699</th>\n",
       "      <td>355</td>\n",
       "      <td>610</td>\n",
       "      <td>Strategy</td>\n",
       "      <td>(355, 610)</td>\n",
       "    </tr>\n",
       "    <tr>\n",
       "      <th>2700</th>\n",
       "      <td>381</td>\n",
       "      <td>610</td>\n",
       "      <td>Strategy</td>\n",
       "      <td>(381, 610)</td>\n",
       "    </tr>\n",
       "    <tr>\n",
       "      <th>2703</th>\n",
       "      <td>363</td>\n",
       "      <td>610</td>\n",
       "      <td>Strategy</td>\n",
       "      <td>(363, 610)</td>\n",
       "    </tr>\n",
       "    <tr>\n",
       "      <th>2705</th>\n",
       "      <td>592</td>\n",
       "      <td>610</td>\n",
       "      <td>Strategy</td>\n",
       "      <td>(592, 610)</td>\n",
       "    </tr>\n",
       "    <tr>\n",
       "      <th>...</th>\n",
       "      <td>...</td>\n",
       "      <td>...</td>\n",
       "      <td>...</td>\n",
       "      <td>...</td>\n",
       "    </tr>\n",
       "    <tr>\n",
       "      <th>3284</th>\n",
       "      <td>611</td>\n",
       "      <td>610</td>\n",
       "      <td>Career Development</td>\n",
       "      <td>(611, 610)</td>\n",
       "    </tr>\n",
       "    <tr>\n",
       "      <th>3285</th>\n",
       "      <td>611</td>\n",
       "      <td>610</td>\n",
       "      <td>Personal Support</td>\n",
       "      <td>(611, 610)</td>\n",
       "    </tr>\n",
       "    <tr>\n",
       "      <th>3286</th>\n",
       "      <td>611</td>\n",
       "      <td>610</td>\n",
       "      <td>Decision Making</td>\n",
       "      <td>(611, 610)</td>\n",
       "    </tr>\n",
       "    <tr>\n",
       "      <th>3287</th>\n",
       "      <td>611</td>\n",
       "      <td>610</td>\n",
       "      <td>Strategy</td>\n",
       "      <td>(611, 610)</td>\n",
       "    </tr>\n",
       "    <tr>\n",
       "      <th>3288</th>\n",
       "      <td>611</td>\n",
       "      <td>610</td>\n",
       "      <td>Energy</td>\n",
       "      <td>(611, 610)</td>\n",
       "    </tr>\n",
       "  </tbody>\n",
       "</table>\n",
       "<p>195 rows × 4 columns</p>\n",
       "</div>"
      ],
      "text/plain": [
       "      Source  Target               Label        link\n",
       "2696     168     610            Strategy  (168, 610)\n",
       "2699     355     610            Strategy  (355, 610)\n",
       "2700     381     610            Strategy  (381, 610)\n",
       "2703     363     610            Strategy  (363, 610)\n",
       "2705     592     610            Strategy  (592, 610)\n",
       "...      ...     ...                 ...         ...\n",
       "3284     611     610  Career Development  (611, 610)\n",
       "3285     611     610    Personal Support  (611, 610)\n",
       "3286     611     610     Decision Making  (611, 610)\n",
       "3287     611     610            Strategy  (611, 610)\n",
       "3288     611     610              Energy  (611, 610)\n",
       "\n",
       "[195 rows x 4 columns]"
      ]
     },
     "execution_count": 343,
     "metadata": {},
     "output_type": "execute_result"
    }
   ],
   "source": [
    "link_label_final[link_label_final['Target']==610]"
   ]
  },
  {
   "cell_type": "code",
   "execution_count": 344,
   "metadata": {},
   "outputs": [
    {
     "data": {
      "text/plain": [
       "8.592875318066158"
      ]
     },
     "execution_count": 344,
     "metadata": {},
     "output_type": "execute_result"
    }
   ],
   "source": [
    "nodes_network_male3_in.mean()"
   ]
  },
  {
   "cell_type": "code",
   "execution_count": 345,
   "metadata": {},
   "outputs": [
    {
     "data": {
      "text/plain": [
       "7.835616438356165"
      ]
     },
     "execution_count": 345,
     "metadata": {},
     "output_type": "execute_result"
    }
   ],
   "source": [
    "nodes_network_female3_in.mean()"
   ]
  },
  {
   "cell_type": "code",
   "execution_count": 346,
   "metadata": {},
   "outputs": [
    {
     "name": "stdout",
     "output_type": "stream",
     "text": [
      "average number of in-degree for male: 8.592875318066158\n"
     ]
    }
   ],
   "source": [
    "print('average number of in-degree for male: {0}'.format(nodes_network_male3_in.mean()))"
   ]
  },
  {
   "cell_type": "code",
   "execution_count": 347,
   "metadata": {
    "scrolled": false
   },
   "outputs": [
    {
     "name": "stdout",
     "output_type": "stream",
     "text": [
      "average number of in-degree for women: 7.835616438356165\n"
     ]
    }
   ],
   "source": [
    "print('average number of in-degree for women: {0}'.format(nodes_network_female3_in.mean()))"
   ]
  },
  {
   "cell_type": "markdown",
   "metadata": {},
   "source": [
    "## Hypothesis test about the mean In-degree centrality of two groups: male and female"
   ]
  },
  {
   "cell_type": "code",
   "execution_count": 348,
   "metadata": {},
   "outputs": [],
   "source": [
    "number_in_male2 = number_in_male['Number of in-degree']\n",
    "number_in_female2 = number_in_female['Number of in-degree']\n",
    "tstat,pval_ttest_in = ttest_ind(number_in_male2,number_in_female2)\n",
    "p_val_permu_in = permutation_test(number_in_male2,number_in_female2,method='approximate',num_rounds = 10000,seed=0)"
   ]
  },
  {
   "cell_type": "code",
   "execution_count": 734,
   "metadata": {},
   "outputs": [
    {
     "data": {
      "text/plain": [
       "0        6\n",
       "1       11\n",
       "2        4\n",
       "3       24\n",
       "4        1\n",
       "      ... \n",
       "278     65\n",
       "279     13\n",
       "280     53\n",
       "281     73\n",
       "282    195\n",
       "Name: Number of in-degree, Length: 283, dtype: int64"
      ]
     },
     "execution_count": 734,
     "metadata": {},
     "output_type": "execute_result"
    }
   ],
   "source": [
    "number_in_male2"
   ]
  },
  {
   "cell_type": "code",
   "execution_count": 349,
   "metadata": {},
   "outputs": [
    {
     "data": {
      "text/plain": [
       "0.3145999977500127"
      ]
     },
     "execution_count": 349,
     "metadata": {},
     "output_type": "execute_result"
    }
   ],
   "source": [
    "pval_ttest_in"
   ]
  },
  {
   "cell_type": "code",
   "execution_count": 350,
   "metadata": {},
   "outputs": [
    {
     "data": {
      "text/plain": [
       "0.3220677932206779"
      ]
     },
     "execution_count": 350,
     "metadata": {},
     "output_type": "execute_result"
    }
   ],
   "source": [
    "p_val_permu_in"
   ]
  },
  {
   "cell_type": "code",
   "execution_count": 351,
   "metadata": {},
   "outputs": [],
   "source": [
    "tstat,pval_ttest_in2 = ttest_ind(nodes_network_male3_in,nodes_network_female3_in)\n",
    "p_val_permu_in2 = permutation_test(nodes_network_male3_in,nodes_network_female3_in,method='approximate',num_rounds = 10000,seed=0)"
   ]
  },
  {
   "cell_type": "code",
   "execution_count": 352,
   "metadata": {},
   "outputs": [
    {
     "data": {
      "text/plain": [
       "0.5712703414065738"
      ]
     },
     "execution_count": 352,
     "metadata": {},
     "output_type": "execute_result"
    }
   ],
   "source": [
    "pval_ttest_in2"
   ]
  },
  {
   "cell_type": "code",
   "execution_count": 353,
   "metadata": {},
   "outputs": [
    {
     "data": {
      "text/plain": [
       "0.5823417658234177"
      ]
     },
     "execution_count": 353,
     "metadata": {},
     "output_type": "execute_result"
    }
   ],
   "source": [
    "p_val_permu_in2"
   ]
  },
  {
   "cell_type": "code",
   "execution_count": 354,
   "metadata": {},
   "outputs": [
    {
     "data": {
      "text/plain": [
       "Text(0.5, 1.0, 'Number of In-degree by Gender')"
      ]
     },
     "execution_count": 354,
     "metadata": {},
     "output_type": "execute_result"
    },
    {
     "data": {
      "image/png": "[encoded data removed]",
      "text/plain": [
       "<Figure size 1080x720 with 1 Axes>"
      ]
     },
     "metadata": {
      "needs_background": "light"
     },
     "output_type": "display_data"
    }
   ],
   "source": [
    "f,ax = plt.subplots(figsize = (15,10))\n",
    "sns.histplot(number_in_male2,element='step',color='#0e2f44')\n",
    "sns.histplot(number_in_female2,element = 'step',color='#daa520')\n",
    "\n",
    "ax.set_title('Number of In-degree by Gender',fontweight = 'bold',fontsize=30)"
   ]
  },
  {
   "cell_type": "code",
   "execution_count": 355,
   "metadata": {},
   "outputs": [
    {
     "data": {
      "text/plain": [
       "Text(0.5, 1.0, 'Number of In-degree by Gender')"
      ]
     },
     "execution_count": 355,
     "metadata": {},
     "output_type": "execute_result"
    },
    {
     "data": {
      "image/png": "[encoded data removed]",
      "text/plain": [
       "<Figure size 1080x720 with 1 Axes>"
      ]
     },
     "metadata": {
      "needs_background": "light"
     },
     "output_type": "display_data"
    }
   ],
   "source": [
    "f,ax = plt.subplots(figsize = (15,10))\n",
    "sns.histplot(nodes_network_male3_in,element='step',color='#0e2f44')\n",
    "sns.histplot(nodes_network_female3_in,element = 'step',color='#daa520')\n",
    "\n",
    "ax.set_title('Number of In-degree by Gender',fontweight = 'bold',fontsize=30)"
   ]
  },
  {
   "cell_type": "markdown",
   "metadata": {},
   "source": [
    "## Number of in-degree by Gender (without outliers)"
   ]
  },
  {
   "cell_type": "code",
   "execution_count": 755,
   "metadata": {},
   "outputs": [],
   "source": [
    "number_in_male_outlier = number_in_male[number_in_male['ID'] !=610]\n",
    "number_in_female_outlier = number_in_female[number_in_female['ID'] != 607]\n",
    "nodes_network_male_in = nodes_network[nodes_network['Gender']=='Male']\n",
    "nodes_network_male_in = nodes_network_male_in[nodes_network_male_in['ID']!=610]\n",
    "nodes_network_male2_in = pd.merge(nodes_network_male_in,number_in_male_outlier,how='left',on = 'ID')\n",
    "nodes_network_male3_in = nodes_network_male2_in.fillna(0)\n",
    "nodes_network_female_in = nodes_network[nodes_network['Gender']=='Female']\n",
    "nodes_network_female_in = nodes_network_female_in[nodes_network_female_in['ID'] != 607]\n",
    "nodes_network_female2_in = pd.merge(nodes_network_female_in,number_in_female_outlier,how='left',on = 'ID')\n",
    "nodes_network_female3_in=nodes_network_female2_in.fillna(0)\n",
    "nodes_network_male3_in_o = nodes_network_male3_in['Number of in-degree']\n",
    "nodes_network_female3_in_o = nodes_network_female3_in['Number of in-degree']\n"
   ]
  },
  {
   "cell_type": "code",
   "execution_count": 756,
   "metadata": {},
   "outputs": [
    {
     "data": {
      "text/plain": [
       "Text(0.5, 1.0, 'Number of In-degree by Gender')"
      ]
     },
     "execution_count": 756,
     "metadata": {},
     "output_type": "execute_result"
    },
    {
     "data": {
      "image/png": "[encoded data removed]",
      "text/plain": [
       "<Figure size 1080x720 with 1 Axes>"
      ]
     },
     "metadata": {
      "needs_background": "light"
     },
     "output_type": "display_data"
    }
   ],
   "source": [
    "f,ax = plt.subplots(figsize = (15,10))\n",
    "sns.histplot(nodes_network_male3_in_o,element='step',color='#0e2f44')\n",
    "sns.histplot(nodes_network_female3_in_o,element = 'step',color='#daa520')\n",
    "\n",
    "ax.set_title('Number of In-degree by Gender',fontweight = 'bold',fontsize=30)"
   ]
  },
  {
   "cell_type": "code",
   "execution_count": 757,
   "metadata": {},
   "outputs": [],
   "source": [
    "tstat,pval_ttest_in2 = ttest_ind(nodes_network_male3_in_o,nodes_network_female3_in_o)\n",
    "p_val_permu_in2 = permutation_test(nodes_network_male3_in_o,nodes_network_female3_in_o,method='approximate',num_rounds = 10000,seed=0)"
   ]
  },
  {
   "cell_type": "code",
   "execution_count": 758,
   "metadata": {},
   "outputs": [
    {
     "data": {
      "text/plain": [
       "0.5833244325643967"
      ]
     },
     "execution_count": 758,
     "metadata": {},
     "output_type": "execute_result"
    }
   ],
   "source": [
    "pval_ttest_in2"
   ]
  },
  {
   "cell_type": "code",
   "execution_count": 759,
   "metadata": {},
   "outputs": [
    {
     "data": {
      "text/plain": [
       "0.5807419258074192"
      ]
     },
     "execution_count": 759,
     "metadata": {},
     "output_type": "execute_result"
    }
   ],
   "source": [
    "p_val_permu_in2"
   ]
  },
  {
   "cell_type": "code",
   "execution_count": 760,
   "metadata": {},
   "outputs": [
    {
     "name": "stdout",
     "output_type": "stream",
     "text": [
      "average number of in-degrees for male without an outlier: 8.11734693877551\n"
     ]
    }
   ],
   "source": [
    "print('average number of in-degrees for male without an outlier: {0}'.format(nodes_network_male3_in_o.mean()))"
   ]
  },
  {
   "cell_type": "code",
   "execution_count": 761,
   "metadata": {},
   "outputs": [
    {
     "name": "stdout",
     "output_type": "stream",
     "text": [
      "average number of in-degrees for female without an outlier: 7.486238532110092\n"
     ]
    }
   ],
   "source": [
    "print('average number of in-degrees for female without an outlier: {0}'.format(nodes_network_female3_in_o.mean()))"
   ]
  },
  {
   "cell_type": "code",
   "execution_count": 762,
   "metadata": {},
   "outputs": [
    {
     "data": {
      "text/plain": [
       "0.7201017811704835"
      ]
     },
     "execution_count": 762,
     "metadata": {},
     "output_type": "execute_result"
    }
   ],
   "source": [
    "number_in_male.ID.count()/393"
   ]
  },
  {
   "cell_type": "code",
   "execution_count": 763,
   "metadata": {},
   "outputs": [
    {
     "data": {
      "text/plain": [
       "168"
      ]
     },
     "execution_count": 763,
     "metadata": {},
     "output_type": "execute_result"
    }
   ],
   "source": [
    "number_in_female.ID.count()"
   ]
  },
  {
   "cell_type": "code",
   "execution_count": 764,
   "metadata": {},
   "outputs": [
    {
     "data": {
      "text/plain": [
       "0.7671232876712328"
      ]
     },
     "execution_count": 764,
     "metadata": {},
     "output_type": "execute_result"
    }
   ],
   "source": [
    "number_in_female.ID.count()/219"
   ]
  },
  {
   "cell_type": "code",
   "execution_count": 765,
   "metadata": {},
   "outputs": [
    {
     "data": {
      "text/plain": [
       "255"
      ]
     },
     "execution_count": 765,
     "metadata": {},
     "output_type": "execute_result"
    }
   ],
   "source": [
    "number_degree_male.ID.count()"
   ]
  },
  {
   "cell_type": "code",
   "execution_count": 766,
   "metadata": {},
   "outputs": [
    {
     "data": {
      "text/plain": [
       "0.648854961832061"
      ]
     },
     "execution_count": 766,
     "metadata": {},
     "output_type": "execute_result"
    }
   ],
   "source": [
    "number_degree_male.ID.count()/393"
   ]
  },
  {
   "cell_type": "code",
   "execution_count": 767,
   "metadata": {},
   "outputs": [
    {
     "data": {
      "text/plain": [
       "163"
      ]
     },
     "execution_count": 767,
     "metadata": {},
     "output_type": "execute_result"
    }
   ],
   "source": [
    "number_degree_female.ID.count()"
   ]
  },
  {
   "cell_type": "code",
   "execution_count": 768,
   "metadata": {},
   "outputs": [
    {
     "data": {
      "text/plain": [
       "0.7442922374429224"
      ]
     },
     "execution_count": 768,
     "metadata": {},
     "output_type": "execute_result"
    }
   ],
   "source": [
    "number_degree_female.ID.count()/219"
   ]
  },
  {
   "cell_type": "markdown",
   "metadata": {},
   "source": [
    "## Number of Out-degrees by Gender and LabeL\n",
    "raw data: out_label_gender  -> out_label_male , out_label_female"
   ]
  },
  {
   "cell_type": "code",
   "execution_count": 581,
   "metadata": {},
   "outputs": [
    {
     "name": "stdout",
     "output_type": "stream",
     "text": [
      "p-values for mean difference in out-degree by label\n"
     ]
    },
    {
     "data": {
      "text/plain": [
       "[('Energy', 0.11018898110188981),\n",
       " ('Trust', 0.616938306169383),\n",
       " ('Career Development', 0.31786821317868214),\n",
       " ('Personal Support', 0.0034996500349965005),\n",
       " ('Decision Making', 0.9222077792220778),\n",
       " ('Access', 0.51994800519948),\n",
       " ('Innovation', 0.7030296970302969),\n",
       " ('Problem Solving', 0.7081291870812919),\n",
       " ('Strategy', 0.37066293370662934)]"
      ]
     },
     "execution_count": 581,
     "metadata": {},
     "output_type": "execute_result"
    }
   ],
   "source": [
    "#number of out-degrees by gender and label\n",
    "number_degree_male_label = out_label_male.groupby(['ID','Label']).Gender.count().reset_index()\n",
    "number_degree_female_label = out_label_female.groupby(['ID','Label']).Gender.count().reset_index()\n",
    "\n",
    "#group the above data by label \n",
    "out_data_label_male = []\n",
    "for label in labels:\n",
    "    new_label = number_degree_male_label[number_degree_male_label['Label'] == label]\n",
    "    out_data_label_male.append(new_label)\n",
    "    \n",
    "out_data_label_female = []\n",
    "for label in labels:\n",
    "    new_label = number_degree_female_label[number_degree_female_label['Label'] == label]\n",
    "    out_data_label_female.append(new_label)\n",
    "\n",
    "    \n",
    "#permutation test to see if there's significant difference in the average number of out-degrees by gender and label\n",
    "p_val_permu_out_label = []\n",
    "for i in range(9):\n",
    "    p_val_permu_out_label.append(permutation_test(out_data_label_male[i].Gender,out_data_label_female[i].Gender,method='approximate',num_rounds = 10000,seed=0))\n",
    "\n",
    "#create a list: (label,p-value)\n",
    "p_val_by_label = [(label,pval) for label, pval in list(zip(labels,p_val_permu_out_label))]\n",
    "\n",
    "print('p-values for mean difference in out-degree by label')\n",
    "p_val_by_label"
   ]
  },
  {
   "cell_type": "code",
   "execution_count": 797,
   "metadata": {},
   "outputs": [
    {
     "data": {
      "text/plain": [
       "[       ID   Label  Gender\n",
       " 2       1  Energy       3\n",
       " 11      2  Energy       2\n",
       " 19      3  Energy       1\n",
       " 25      4  Energy       7\n",
       " 31      5  Energy       1\n",
       " ...   ...     ...     ...\n",
       " 997   565  Energy       1\n",
       " 1006  566  Energy       4\n",
       " 1013  567  Energy       6\n",
       " 1030  599  Energy       2\n",
       " 1039  605  Energy       1\n",
       " \n",
       " [131 rows x 3 columns],\n",
       "        ID  Label  Gender\n",
       " 7       1  Trust       1\n",
       " 16      2  Trust       2\n",
       " 29      4  Trust       6\n",
       " 41      6  Trust       1\n",
       " 46      7  Trust       1\n",
       " ...   ...    ...     ...\n",
       " 1011  566  Trust       5\n",
       " 1018  567  Trust       3\n",
       " 1026  597  Trust       1\n",
       " 1035  599  Trust       3\n",
       " 1044  605  Trust       1\n",
       " \n",
       " [132 rows x 3 columns],\n",
       "        ID               Label  Gender\n",
       " 0       1  Career Development       1\n",
       " 9       2  Career Development       1\n",
       " 23      4  Career Development       2\n",
       " 35      6  Career Development       1\n",
       " 67     12  Career Development       1\n",
       " ...   ...                 ...     ...\n",
       " 995   565  Career Development       1\n",
       " 1004  566  Career Development       2\n",
       " 1012  567  Career Development       2\n",
       " 1028  599  Career Development       1\n",
       " 1037  605  Career Development       1\n",
       " \n",
       " [109 rows x 3 columns],\n",
       "        ID             Label  Gender\n",
       " 4       1  Personal Support       1\n",
       " 13      2  Personal Support       2\n",
       " 20      3  Personal Support       1\n",
       " 26      4  Personal Support       5\n",
       " 38      6  Personal Support       1\n",
       " ...   ...               ...     ...\n",
       " 999   565  Personal Support       1\n",
       " 1008  566  Personal Support       5\n",
       " 1015  567  Personal Support       2\n",
       " 1032  599  Personal Support       3\n",
       " 1041  605  Personal Support       1\n",
       " \n",
       " [116 rows x 3 columns],\n",
       "        ID            Label  Gender\n",
       " 1       1  Decision Making       1\n",
       " 10      2  Decision Making       1\n",
       " 18      3  Decision Making       1\n",
       " 24      4  Decision Making       3\n",
       " 30      5  Decision Making       1\n",
       " ...   ...              ...     ...\n",
       " 1005  566  Decision Making       7\n",
       " 1020  587  Decision Making       2\n",
       " 1024  597  Decision Making       1\n",
       " 1029  599  Decision Making       3\n",
       " 1038  605  Decision Making       1\n",
       " \n",
       " [134 rows x 3 columns],\n",
       "        ID   Label  Gender\n",
       " 8       2  Access       2\n",
       " 17      3  Access       1\n",
       " 22      4  Access       1\n",
       " 47      8  Access       1\n",
       " 59     11  Access       1\n",
       " 80     14  Access       1\n",
       " 89     15  Access       1\n",
       " 108    19  Access       2\n",
       " 133    23  Access       3\n",
       " 164    29  Access       2\n",
       " 197    38  Access       1\n",
       " 257    51  Access       1\n",
       " 339    74  Access       1\n",
       " 361    79  Access       3\n",
       " 370    80  Access       1\n",
       " 383    85  Access       3\n",
       " 391    86  Access       2\n",
       " 422    91  Access       2\n",
       " 447    95  Access       1\n",
       " 455    97  Access       3\n",
       " 492   104  Access       1\n",
       " 522   110  Access       9\n",
       " 559   117  Access       3\n",
       " 584   123  Access       1\n",
       " 621   134  Access       1\n",
       " 662   142  Access       4\n",
       " 692   150  Access       1\n",
       " 701   151  Access       1\n",
       " 746   160  Access       1\n",
       " 757   162  Access       1\n",
       " 772   164  Access       2\n",
       " 773   165  Access       1\n",
       " 799   169  Access       1\n",
       " 806   170  Access      12\n",
       " 835   174  Access       1\n",
       " 874   526  Access       1\n",
       " 892   535  Access       2\n",
       " 907   540  Access       1\n",
       " 934   544  Access       1\n",
       " 951   550  Access       4\n",
       " 963   554  Access       1\n",
       " 972   555  Access       2\n",
       " 985   563  Access       1\n",
       " 994   565  Access       2\n",
       " 1003  566  Access       1\n",
       " 1019  587  Access       1\n",
       " 1023  597  Access       1\n",
       " 1027  599  Access       2\n",
       " 1036  605  Access       3,\n",
       "        ID       Label  Gender\n",
       " 3       1  Innovation       2\n",
       " 12      2  Innovation       1\n",
       " 32      5  Innovation       1\n",
       " 43      7  Innovation       1\n",
       " 49      8  Innovation       2\n",
       " ...   ...         ...     ...\n",
       " 998   565  Innovation       1\n",
       " 1007  566  Innovation       4\n",
       " 1014  567  Innovation       2\n",
       " 1031  599  Innovation       1\n",
       " 1040  605  Innovation       1\n",
       " \n",
       " [109 rows x 3 columns],\n",
       "        ID            Label  Gender\n",
       " 5       1  Problem Solving       3\n",
       " 14      2  Problem Solving       2\n",
       " 27      4  Problem Solving       2\n",
       " 33      5  Problem Solving       1\n",
       " 39      6  Problem Solving       1\n",
       " ...   ...              ...     ...\n",
       " 1016  567  Problem Solving       2\n",
       " 1021  587  Problem Solving       1\n",
       " 1025  597  Problem Solving       1\n",
       " 1033  599  Problem Solving       1\n",
       " 1042  605  Problem Solving       1\n",
       " \n",
       " [139 rows x 3 columns],\n",
       "        ID     Label  Gender\n",
       " 6       1  Strategy       1\n",
       " 15      2  Strategy       1\n",
       " 21      3  Strategy       1\n",
       " 28      4  Strategy       1\n",
       " 34      5  Strategy       1\n",
       " ...   ...       ...     ...\n",
       " 1010  566  Strategy       3\n",
       " 1017  567  Strategy       1\n",
       " 1022  587  Strategy       1\n",
       " 1034  599  Strategy       2\n",
       " 1043  605  Strategy       1\n",
       " \n",
       " [126 rows x 3 columns]]"
      ]
     },
     "execution_count": 797,
     "metadata": {},
     "output_type": "execute_result"
    }
   ],
   "source": [
    "out_data_label_female"
   ]
  },
  {
   "cell_type": "code",
   "execution_count": 687,
   "metadata": {},
   "outputs": [
    {
     "data": {
      "text/html": [
       "<div>\n",
       "<style scoped>\n",
       "    .dataframe tbody tr th:only-of-type {\n",
       "        vertical-align: middle;\n",
       "    }\n",
       "\n",
       "    .dataframe tbody tr th {\n",
       "        vertical-align: top;\n",
       "    }\n",
       "\n",
       "    .dataframe thead th {\n",
       "        text-align: right;\n",
       "    }\n",
       "</style>\n",
       "<table border=\"1\" class=\"dataframe\">\n",
       "  <thead>\n",
       "    <tr style=\"text-align: right;\">\n",
       "      <th></th>\n",
       "      <th>ID</th>\n",
       "      <th>Label</th>\n",
       "      <th>Gender</th>\n",
       "    </tr>\n",
       "  </thead>\n",
       "  <tbody>\n",
       "    <tr>\n",
       "      <th>0</th>\n",
       "      <td>178</td>\n",
       "      <td>Access</td>\n",
       "      <td>2</td>\n",
       "    </tr>\n",
       "    <tr>\n",
       "      <th>1</th>\n",
       "      <td>178</td>\n",
       "      <td>Career Development</td>\n",
       "      <td>1</td>\n",
       "    </tr>\n",
       "    <tr>\n",
       "      <th>2</th>\n",
       "      <td>178</td>\n",
       "      <td>Decision Making</td>\n",
       "      <td>1</td>\n",
       "    </tr>\n",
       "    <tr>\n",
       "      <th>3</th>\n",
       "      <td>178</td>\n",
       "      <td>Energy</td>\n",
       "      <td>1</td>\n",
       "    </tr>\n",
       "    <tr>\n",
       "      <th>4</th>\n",
       "      <td>178</td>\n",
       "      <td>Innovation</td>\n",
       "      <td>1</td>\n",
       "    </tr>\n",
       "    <tr>\n",
       "      <th>...</th>\n",
       "      <td>...</td>\n",
       "      <td>...</td>\n",
       "      <td>...</td>\n",
       "    </tr>\n",
       "    <tr>\n",
       "      <th>1651</th>\n",
       "      <td>611</td>\n",
       "      <td>Innovation</td>\n",
       "      <td>5</td>\n",
       "    </tr>\n",
       "    <tr>\n",
       "      <th>1652</th>\n",
       "      <td>611</td>\n",
       "      <td>Personal Support</td>\n",
       "      <td>1</td>\n",
       "    </tr>\n",
       "    <tr>\n",
       "      <th>1653</th>\n",
       "      <td>611</td>\n",
       "      <td>Problem Solving</td>\n",
       "      <td>1</td>\n",
       "    </tr>\n",
       "    <tr>\n",
       "      <th>1654</th>\n",
       "      <td>611</td>\n",
       "      <td>Strategy</td>\n",
       "      <td>1</td>\n",
       "    </tr>\n",
       "    <tr>\n",
       "      <th>1655</th>\n",
       "      <td>611</td>\n",
       "      <td>Trust</td>\n",
       "      <td>5</td>\n",
       "    </tr>\n",
       "  </tbody>\n",
       "</table>\n",
       "<p>1656 rows × 3 columns</p>\n",
       "</div>"
      ],
      "text/plain": [
       "       ID               Label  Gender\n",
       "0     178              Access       2\n",
       "1     178  Career Development       1\n",
       "2     178     Decision Making       1\n",
       "3     178              Energy       1\n",
       "4     178          Innovation       1\n",
       "...   ...                 ...     ...\n",
       "1651  611          Innovation       5\n",
       "1652  611    Personal Support       1\n",
       "1653  611     Problem Solving       1\n",
       "1654  611            Strategy       1\n",
       "1655  611               Trust       5\n",
       "\n",
       "[1656 rows x 3 columns]"
      ]
     },
     "execution_count": 687,
     "metadata": {},
     "output_type": "execute_result"
    }
   ],
   "source": [
    "number_degree_male_label"
   ]
  },
  {
   "cell_type": "code",
   "execution_count": 626,
   "metadata": {},
   "outputs": [
    {
     "data": {
      "text/html": [
       "<div>\n",
       "<style scoped>\n",
       "    .dataframe tbody tr th:only-of-type {\n",
       "        vertical-align: middle;\n",
       "    }\n",
       "\n",
       "    .dataframe tbody tr th {\n",
       "        vertical-align: top;\n",
       "    }\n",
       "\n",
       "    .dataframe thead th {\n",
       "        text-align: right;\n",
       "    }\n",
       "</style>\n",
       "<table border=\"1\" class=\"dataframe\">\n",
       "  <thead>\n",
       "    <tr style=\"text-align: right;\">\n",
       "      <th></th>\n",
       "      <th>ID</th>\n",
       "      <th>Label</th>\n",
       "      <th>Gender</th>\n",
       "      <th>Gender2</th>\n",
       "    </tr>\n",
       "  </thead>\n",
       "  <tbody>\n",
       "    <tr>\n",
       "      <th>1</th>\n",
       "      <td>188</td>\n",
       "      <td>Trust</td>\n",
       "      <td>Male</td>\n",
       "      <td>2</td>\n",
       "    </tr>\n",
       "    <tr>\n",
       "      <th>2</th>\n",
       "      <td>188</td>\n",
       "      <td>Career Development</td>\n",
       "      <td>Male</td>\n",
       "      <td>2</td>\n",
       "    </tr>\n",
       "    <tr>\n",
       "      <th>3</th>\n",
       "      <td>188</td>\n",
       "      <td>Personal Support</td>\n",
       "      <td>Male</td>\n",
       "      <td>2</td>\n",
       "    </tr>\n",
       "    <tr>\n",
       "      <th>4</th>\n",
       "      <td>188</td>\n",
       "      <td>Decision Making</td>\n",
       "      <td>Male</td>\n",
       "      <td>2</td>\n",
       "    </tr>\n",
       "    <tr>\n",
       "      <th>5</th>\n",
       "      <td>188</td>\n",
       "      <td>Energy</td>\n",
       "      <td>Male</td>\n",
       "      <td>2</td>\n",
       "    </tr>\n",
       "    <tr>\n",
       "      <th>...</th>\n",
       "      <td>...</td>\n",
       "      <td>...</td>\n",
       "      <td>...</td>\n",
       "      <td>...</td>\n",
       "    </tr>\n",
       "    <tr>\n",
       "      <th>5088</th>\n",
       "      <td>494</td>\n",
       "      <td>Access</td>\n",
       "      <td>Male</td>\n",
       "      <td>2</td>\n",
       "    </tr>\n",
       "    <tr>\n",
       "      <th>5089</th>\n",
       "      <td>494</td>\n",
       "      <td>Personal Support</td>\n",
       "      <td>Male</td>\n",
       "      <td>2</td>\n",
       "    </tr>\n",
       "    <tr>\n",
       "      <th>5090</th>\n",
       "      <td>494</td>\n",
       "      <td>Decision Making</td>\n",
       "      <td>Male</td>\n",
       "      <td>2</td>\n",
       "    </tr>\n",
       "    <tr>\n",
       "      <th>5091</th>\n",
       "      <td>276</td>\n",
       "      <td>Trust</td>\n",
       "      <td>Male</td>\n",
       "      <td>2</td>\n",
       "    </tr>\n",
       "    <tr>\n",
       "      <th>5092</th>\n",
       "      <td>276</td>\n",
       "      <td>Energy</td>\n",
       "      <td>Male</td>\n",
       "      <td>2</td>\n",
       "    </tr>\n",
       "  </tbody>\n",
       "</table>\n",
       "<p>3059 rows × 4 columns</p>\n",
       "</div>"
      ],
      "text/plain": [
       "       ID               Label Gender  Gender2\n",
       "1     188               Trust   Male        2\n",
       "2     188  Career Development   Male        2\n",
       "3     188    Personal Support   Male        2\n",
       "4     188     Decision Making   Male        2\n",
       "5     188              Energy   Male        2\n",
       "...   ...                 ...    ...      ...\n",
       "5088  494              Access   Male        2\n",
       "5089  494    Personal Support   Male        2\n",
       "5090  494     Decision Making   Male        2\n",
       "5091  276               Trust   Male        2\n",
       "5092  276              Energy   Male        2\n",
       "\n",
       "[3059 rows x 4 columns]"
      ]
     },
     "execution_count": 626,
     "metadata": {},
     "output_type": "execute_result"
    }
   ],
   "source": [
    "out_label_male"
   ]
  },
  {
   "cell_type": "code",
   "execution_count": 585,
   "metadata": {},
   "outputs": [
    {
     "name": "stdout",
     "output_type": "stream",
     "text": [
      "average # of out-degrees for men and women by label \n"
     ]
    },
    {
     "data": {
      "text/plain": [
       "[('Energy', (2.109004739336493, 2.450381679389313)),\n",
       " ('Trust', (1.9907407407407407, 2.0757575757575757)),\n",
       " ('Career Development', (1.4047619047619047, 1.5137614678899083)),\n",
       " ('Personal Support', (1.6049382716049383, 2.0172413793103448)),\n",
       " ('Decision Making', (1.730593607305936, 1.7164179104477613)),\n",
       " ('Access', (1.75, 1.9591836734693877)),\n",
       " ('Innovation', (2.1123595505617976, 2.018348623853211)),\n",
       " ('Problem Solving', (2.0688073394495414, 2.143884892086331)),\n",
       " ('Strategy', (1.6778846153846154, 1.5555555555555556))]"
      ]
     },
     "execution_count": 585,
     "metadata": {},
     "output_type": "execute_result"
    }
   ],
   "source": [
    "#average number of out-degrees by gender and label\n",
    "mean_by_label_male = []\n",
    "mean_by_label_female = []\n",
    "for i in range(9):\n",
    "    mean_by_label_male.append(out_data_label_male[i].Gender.mean())\n",
    "    mean_by_label_female.append(out_data_label_female[i].Gender.mean())\n",
    "mean_by_label = list(zip(mean_by_label_male,mean_by_label_female))\n",
    "\n",
    "#create a list: [label,mean(men,women)]\n",
    "mean_by_label = [(label,mean) for label,mean in zip(labels,mean_by_label)]\n",
    "\n",
    "#print the list\n",
    "print('average # of out-degrees for men and women by label ')\n",
    "mean_by_label"
   ]
  },
  {
   "cell_type": "markdown",
   "metadata": {},
   "source": [
    "## Gender Assortativity by Division"
   ]
  },
  {
   "cell_type": "code",
   "execution_count": 586,
   "metadata": {},
   "outputs": [],
   "source": [
    "nodes_all2 = pd.read_csv(r'/Users/PJMoon/Data_Science_Projects/SNA/Assortativity/Nodes with attributes_V2.csv')"
   ]
  },
  {
   "cell_type": "code",
   "execution_count": 587,
   "metadata": {
    "scrolled": true
   },
   "outputs": [
    {
     "data": {
      "text/plain": [
       "Index(['ID', 'Full Name', 'Invited', 'Responded', 'Organization', 'Division',\n",
       "       'Function/Deparment', 'Title', 'Level', 'Location', 'Tenure', 'Manager',\n",
       "       'Team', 'Gender', 'Unnamed: 14', 'Unnamed: 15', 'Unnamed: 16',\n",
       "       'Unnamed: 17', 'Unnamed: 18', 'Unnamed: 19', 'Unnamed: 20',\n",
       "       'Unnamed: 21', 'Unnamed: 22', 'Unnamed: 23', 'Unnamed: 24',\n",
       "       'Unnamed: 25', 'Unnamed: 26', 'Unnamed: 27'],\n",
       "      dtype='object')"
      ]
     },
     "execution_count": 587,
     "metadata": {},
     "output_type": "execute_result"
    }
   ],
   "source": [
    "nodes_all2.columns"
   ]
  },
  {
   "cell_type": "code",
   "execution_count": 611,
   "metadata": {
    "scrolled": true
   },
   "outputs": [
    {
     "name": "stderr",
     "output_type": "stream",
     "text": [
      "<ipython-input-611-aceb3dc02e28>:5: SettingWithCopyWarning: \n",
      "A value is trying to be set on a copy of a slice from a DataFrame\n",
      "\n",
      "See the caveats in the documentation: https://pandas.pydata.org/pandas-docs/stable/user_guide/indexing.html#returning-a-view-versus-a-copy\n",
      "  nodes_div.dropna(subset=['ID','Gender','Division'],inplace = True)\n",
      "<ipython-input-611-aceb3dc02e28>:8: SettingWithCopyWarning: \n",
      "A value is trying to be set on a copy of a slice from a DataFrame.\n",
      "Try using .loc[row_indexer,col_indexer] = value instead\n",
      "\n",
      "See the caveats in the documentation: https://pandas.pydata.org/pandas-docs/stable/user_guide/indexing.html#returning-a-view-versus-a-copy\n",
      "  nodes_div['ID2']= a\n"
     ]
    }
   ],
   "source": [
    "#select columns of interst from node data \n",
    "nodes_div = nodes_all2[['ID','Gender','Division']]\n",
    "\n",
    "#drop rows with N/A\n",
    "nodes_div.dropna(subset=['ID','Gender','Division'],inplace = True)\n",
    "\n",
    "#add a ID2 column with a series:(0,612)\n",
    "nodes_div['ID2']= a\n",
    "nodes_div_temp = nodes_div\n",
    "\n",
    "#rearrange the order of columns\n",
    "nodes_div_temp = nodes_div_temp[['ID2','Gender','Division']]\n",
    "\n",
    "\n",
    "#encode the gender variable\n",
    "nodes_div_temp['Gender2'] = nodes_div_temp['Gender'].map({'Male':1,'Female':2})\n",
    "\n",
    "#create a division name list\n",
    "divisions = nodes_div.Division.unique()\n",
    "nodes_division = []\n",
    "for division in divisions:\n",
    "    nodes_division.append(nodes_div_temp[nodes_div_temp['Division'] == division])\n",
    "    \n",
    "\n",
    "#create a division size list\n",
    "division_size = []\n",
    "for i in range(len(divisions)):\n",
    "    division_size.append(len(nodes_division[i]))\n",
    "\n",
    "\n",
    "#combine division names and division size into a list\n",
    "division_size = [(divisions,size) for divisions,size in list(zip(divisions,division_size))]"
   ]
  },
  {
   "cell_type": "code",
   "execution_count": 612,
   "metadata": {},
   "outputs": [],
   "source": [
    "#Link data preprocessing\n",
    "nodes_div2 = nodes_div.rename(columns = {'ID':'Target','ID2':'ID_Target'})\n",
    "link_div = link[['Source','Target']]\n",
    "link_div = link_div.rename(columns = {'Source' : 'ID'})\n",
    "link_div2 = pd.merge(link_div,nodes_div,how='left')\n",
    "link_div3 = pd.merge(link_div2,nodes_div2,how='left',on='Target')\n",
    "link_div4 = link_div3[['ID2','ID_Target','Division_x']]\n",
    "link_final_div = link_div4.rename(columns = {'ID2':'Source','ID_Target':'Target','Division_x':'Division_source'})\n",
    "link_final_div['link'] = list(zip(link_final_div['Source'],link_final_div['Target']))\n",
    "link_final_div = link_final_div[['link','Division_source']]\n",
    "\n",
    "link_by_div = []\n",
    "for division in divisions:\n",
    "    link_by_div.append(link_final_div[link_final_div['Division_source'] == division])"
   ]
  },
  {
   "cell_type": "code",
   "execution_count": 613,
   "metadata": {},
   "outputs": [],
   "source": [
    "total_div = []\n",
    "male_female_div = []\n",
    "male_male_div = []\n",
    "female_male_div = []\n",
    "female_female_div = []\n",
    "for i in range(len(divisions)):\n",
    "    total_div.append(len(link_div3[link_div3['Division_x']==divisions[i]]))\n",
    "    male_female_div.append(len(link_div3[(link_div3['Division_x'] == divisions[i]) & (link_div3['Gender_x'] == 'Male') &(link_div3['Gender_y'] =='Female')]))\n",
    "    male_male_div.append(len(link_div3[(link_div3['Division_x'] == divisions[i]) & (link_div3['Gender_x'] == 'Male') &(link_div3['Gender_y'] =='Male')]))\n",
    "    female_female_div.append(len(link_div3[(link_div3['Division_x'] == divisions[i]) & (link_div3['Gender_x'] == 'Female') &(link_div3['Gender_y'] =='Female')]))\n",
    "    female_male_div.append(len(link_div3[(link_div3['Division_x'] == divisions[i]) & (link_div3['Gender_x'] == 'Female') &(link_div3['Gender_y'] =='Male')]))\n",
    "\n",
    "link_distribution_division = pd.DataFrame(list(zip(total_div,male_male_div,male_female_div,female_female_div,female_male_div)),columns = ['total links','male to male','male to female','female to female','female to male'],\n",
    "                                         index = [division for division in divisions ])\n",
    "    "
   ]
  },
  {
   "cell_type": "code",
   "execution_count": 614,
   "metadata": {},
   "outputs": [
    {
     "data": {
      "text/html": [
       "<div>\n",
       "<style scoped>\n",
       "    .dataframe tbody tr th:only-of-type {\n",
       "        vertical-align: middle;\n",
       "    }\n",
       "\n",
       "    .dataframe tbody tr th {\n",
       "        vertical-align: top;\n",
       "    }\n",
       "\n",
       "    .dataframe thead th {\n",
       "        text-align: right;\n",
       "    }\n",
       "</style>\n",
       "<table border=\"1\" class=\"dataframe\">\n",
       "  <thead>\n",
       "    <tr style=\"text-align: right;\">\n",
       "      <th></th>\n",
       "      <th>total links</th>\n",
       "      <th>male to male</th>\n",
       "      <th>male to female</th>\n",
       "      <th>female to female</th>\n",
       "      <th>female to male</th>\n",
       "    </tr>\n",
       "  </thead>\n",
       "  <tbody>\n",
       "    <tr>\n",
       "      <th>Andrew Corkum</th>\n",
       "      <td>327</td>\n",
       "      <td>109</td>\n",
       "      <td>49</td>\n",
       "      <td>117</td>\n",
       "      <td>52</td>\n",
       "    </tr>\n",
       "    <tr>\n",
       "      <th>Bob Bolger</th>\n",
       "      <td>826</td>\n",
       "      <td>242</td>\n",
       "      <td>61</td>\n",
       "      <td>255</td>\n",
       "      <td>268</td>\n",
       "    </tr>\n",
       "    <tr>\n",
       "      <th>Dennis Bassett</th>\n",
       "      <td>607</td>\n",
       "      <td>145</td>\n",
       "      <td>154</td>\n",
       "      <td>176</td>\n",
       "      <td>132</td>\n",
       "    </tr>\n",
       "    <tr>\n",
       "      <th>Glen Tinevez</th>\n",
       "      <td>205</td>\n",
       "      <td>88</td>\n",
       "      <td>21</td>\n",
       "      <td>26</td>\n",
       "      <td>70</td>\n",
       "    </tr>\n",
       "    <tr>\n",
       "      <th>John Meckles</th>\n",
       "      <td>509</td>\n",
       "      <td>232</td>\n",
       "      <td>82</td>\n",
       "      <td>78</td>\n",
       "      <td>117</td>\n",
       "    </tr>\n",
       "    <tr>\n",
       "      <th>Kristy Hanson</th>\n",
       "      <td>522</td>\n",
       "      <td>151</td>\n",
       "      <td>108</td>\n",
       "      <td>165</td>\n",
       "      <td>98</td>\n",
       "    </tr>\n",
       "    <tr>\n",
       "      <th>Patrick Rigby</th>\n",
       "      <td>1351</td>\n",
       "      <td>1129</td>\n",
       "      <td>75</td>\n",
       "      <td>25</td>\n",
       "      <td>122</td>\n",
       "    </tr>\n",
       "    <tr>\n",
       "      <th>Timothy Adams</th>\n",
       "      <td>637</td>\n",
       "      <td>180</td>\n",
       "      <td>135</td>\n",
       "      <td>167</td>\n",
       "      <td>155</td>\n",
       "    </tr>\n",
       "    <tr>\n",
       "      <th>Michael Iskra</th>\n",
       "      <td>109</td>\n",
       "      <td>77</td>\n",
       "      <td>21</td>\n",
       "      <td>1</td>\n",
       "      <td>10</td>\n",
       "    </tr>\n",
       "  </tbody>\n",
       "</table>\n",
       "</div>"
      ],
      "text/plain": [
       "                total links  male to male  male to female  female to female  \\\n",
       "Andrew Corkum           327           109              49               117   \n",
       "Bob Bolger              826           242              61               255   \n",
       "Dennis Bassett          607           145             154               176   \n",
       "Glen Tinevez            205            88              21                26   \n",
       "John Meckles            509           232              82                78   \n",
       "Kristy Hanson           522           151             108               165   \n",
       "Patrick Rigby          1351          1129              75                25   \n",
       "Timothy Adams           637           180             135               167   \n",
       "Michael Iskra           109            77              21                 1   \n",
       "\n",
       "                female to male  \n",
       "Andrew Corkum               52  \n",
       "Bob Bolger                 268  \n",
       "Dennis Bassett             132  \n",
       "Glen Tinevez                70  \n",
       "John Meckles               117  \n",
       "Kristy Hanson               98  \n",
       "Patrick Rigby              122  \n",
       "Timothy Adams              155  \n",
       "Michael Iskra               10  "
      ]
     },
     "execution_count": 614,
     "metadata": {},
     "output_type": "execute_result"
    }
   ],
   "source": [
    "link_distribution_division"
   ]
  },
  {
   "cell_type": "code",
   "execution_count": 603,
   "metadata": {},
   "outputs": [],
   "source": [
    "#Creating a network and compute the assortativity\n",
    "assort_by_div = []\n",
    "for i in range(len(divisions)):\n",
    "    g1 = ig.Graph()\n",
    "    g1.add_vertices([i for i in range(0,612)])\n",
    "    g1.add_edges(link_by_div[i]['link'])\n",
    "    g1.vs['Gender'] = nodes_network['Gender2']\n",
    "    assort_by_div.append(g1.assortativity_nominal('Gender',directed=True))\n",
    "\n",
    "assort_div = [(division,assortativity) for division,assortativity in zip(divisions,assort_by_div)]"
   ]
  },
  {
   "cell_type": "code",
   "execution_count": 604,
   "metadata": {},
   "outputs": [
    {
     "data": {
      "text/plain": [
       "[0.3818930426238713,\n",
       " 0.20319246100685065,\n",
       " 0.055196360153256706,\n",
       " 0.022812393598910505,\n",
       " 0.13928579015571557,\n",
       " 0.21015983076742273,\n",
       " 0.12218475061223537,\n",
       " 0.08910256410256412,\n",
       " -0.1069615069615072]"
      ]
     },
     "execution_count": 604,
     "metadata": {},
     "output_type": "execute_result"
    }
   ],
   "source": [
    "assort_by_div"
   ]
  },
  {
   "cell_type": "code",
   "execution_count": 606,
   "metadata": {
    "scrolled": true
   },
   "outputs": [
    {
     "data": {
      "text/plain": [
       "[('Andrew Corkum', 0.3818930426238713),\n",
       " ('Bob Bolger', 0.20319246100685065),\n",
       " ('Dennis Bassett', 0.055196360153256706),\n",
       " ('Glen Tinevez', 0.022812393598910505),\n",
       " ('John Meckles', 0.13928579015571557),\n",
       " ('Kristy Hanson', 0.21015983076742273),\n",
       " ('Patrick Rigby', 0.12218475061223537),\n",
       " ('Timothy Adams', 0.08910256410256412),\n",
       " ('Michael Iskra', -0.1069615069615072)]"
      ]
     },
     "execution_count": 606,
     "metadata": {},
     "output_type": "execute_result"
    }
   ],
   "source": [
    "assort_div"
   ]
  },
  {
   "cell_type": "code",
   "execution_count": 571,
   "metadata": {},
   "outputs": [],
   "source": [
    "link_distribution_division['Assortativity'] = assort_by_div"
   ]
  },
  {
   "cell_type": "code",
   "execution_count": 572,
   "metadata": {},
   "outputs": [
    {
     "data": {
      "text/html": [
       "<div>\n",
       "<style scoped>\n",
       "    .dataframe tbody tr th:only-of-type {\n",
       "        vertical-align: middle;\n",
       "    }\n",
       "\n",
       "    .dataframe tbody tr th {\n",
       "        vertical-align: top;\n",
       "    }\n",
       "\n",
       "    .dataframe thead th {\n",
       "        text-align: right;\n",
       "    }\n",
       "</style>\n",
       "<table border=\"1\" class=\"dataframe\">\n",
       "  <thead>\n",
       "    <tr style=\"text-align: right;\">\n",
       "      <th></th>\n",
       "      <th>total links</th>\n",
       "      <th>male to male</th>\n",
       "      <th>male to female</th>\n",
       "      <th>female to female</th>\n",
       "      <th>female to male</th>\n",
       "      <th>Assortativity</th>\n",
       "    </tr>\n",
       "  </thead>\n",
       "  <tbody>\n",
       "    <tr>\n",
       "      <th>Andrew Corkum</th>\n",
       "      <td>327</td>\n",
       "      <td>109</td>\n",
       "      <td>49</td>\n",
       "      <td>117</td>\n",
       "      <td>52</td>\n",
       "      <td>0.381893</td>\n",
       "    </tr>\n",
       "    <tr>\n",
       "      <th>Bob Bolger</th>\n",
       "      <td>826</td>\n",
       "      <td>242</td>\n",
       "      <td>61</td>\n",
       "      <td>255</td>\n",
       "      <td>268</td>\n",
       "      <td>0.203192</td>\n",
       "    </tr>\n",
       "    <tr>\n",
       "      <th>Dennis Bassett</th>\n",
       "      <td>607</td>\n",
       "      <td>145</td>\n",
       "      <td>154</td>\n",
       "      <td>176</td>\n",
       "      <td>132</td>\n",
       "      <td>0.055196</td>\n",
       "    </tr>\n",
       "    <tr>\n",
       "      <th>Glen Tinevez</th>\n",
       "      <td>205</td>\n",
       "      <td>88</td>\n",
       "      <td>21</td>\n",
       "      <td>26</td>\n",
       "      <td>70</td>\n",
       "      <td>0.022812</td>\n",
       "    </tr>\n",
       "    <tr>\n",
       "      <th>John Meckles</th>\n",
       "      <td>509</td>\n",
       "      <td>232</td>\n",
       "      <td>82</td>\n",
       "      <td>78</td>\n",
       "      <td>117</td>\n",
       "      <td>0.139286</td>\n",
       "    </tr>\n",
       "    <tr>\n",
       "      <th>Kristy Hanson</th>\n",
       "      <td>522</td>\n",
       "      <td>151</td>\n",
       "      <td>108</td>\n",
       "      <td>165</td>\n",
       "      <td>98</td>\n",
       "      <td>0.210160</td>\n",
       "    </tr>\n",
       "    <tr>\n",
       "      <th>Patrick Rigby</th>\n",
       "      <td>1351</td>\n",
       "      <td>1129</td>\n",
       "      <td>75</td>\n",
       "      <td>25</td>\n",
       "      <td>122</td>\n",
       "      <td>0.122185</td>\n",
       "    </tr>\n",
       "    <tr>\n",
       "      <th>Timothy Adams</th>\n",
       "      <td>637</td>\n",
       "      <td>180</td>\n",
       "      <td>135</td>\n",
       "      <td>167</td>\n",
       "      <td>155</td>\n",
       "      <td>0.089103</td>\n",
       "    </tr>\n",
       "    <tr>\n",
       "      <th>Michael Iskra</th>\n",
       "      <td>109</td>\n",
       "      <td>77</td>\n",
       "      <td>21</td>\n",
       "      <td>1</td>\n",
       "      <td>10</td>\n",
       "      <td>-0.106962</td>\n",
       "    </tr>\n",
       "  </tbody>\n",
       "</table>\n",
       "</div>"
      ],
      "text/plain": [
       "                total links  male to male  male to female  female to female  \\\n",
       "Andrew Corkum           327           109              49               117   \n",
       "Bob Bolger              826           242              61               255   \n",
       "Dennis Bassett          607           145             154               176   \n",
       "Glen Tinevez            205            88              21                26   \n",
       "John Meckles            509           232              82                78   \n",
       "Kristy Hanson           522           151             108               165   \n",
       "Patrick Rigby          1351          1129              75                25   \n",
       "Timothy Adams           637           180             135               167   \n",
       "Michael Iskra           109            77              21                 1   \n",
       "\n",
       "                female to male  Assortativity  \n",
       "Andrew Corkum               52       0.381893  \n",
       "Bob Bolger                 268       0.203192  \n",
       "Dennis Bassett             132       0.055196  \n",
       "Glen Tinevez                70       0.022812  \n",
       "John Meckles               117       0.139286  \n",
       "Kristy Hanson               98       0.210160  \n",
       "Patrick Rigby              122       0.122185  \n",
       "Timothy Adams              155       0.089103  \n",
       "Michael Iskra               10      -0.106962  "
      ]
     },
     "execution_count": 572,
     "metadata": {},
     "output_type": "execute_result"
    }
   ],
   "source": [
    "link_distribution_division"
   ]
  },
  {
   "cell_type": "markdown",
   "metadata": {},
   "source": [
    "## Difference in Average # of Out-degrees by Level"
   ]
  },
  {
   "cell_type": "code",
   "execution_count": 716,
   "metadata": {
    "scrolled": true
   },
   "outputs": [
    {
     "name": "stderr",
     "output_type": "stream",
     "text": [
      "<ipython-input-716-2d24e0916e5f>:5: SettingWithCopyWarning: \n",
      "A value is trying to be set on a copy of a slice from a DataFrame\n",
      "\n",
      "See the caveats in the documentation: https://pandas.pydata.org/pandas-docs/stable/user_guide/indexing.html#returning-a-view-versus-a-copy\n",
      "  nodes_level.dropna(subset=['ID','Gender','Level'],inplace = True)\n",
      "<ipython-input-716-2d24e0916e5f>:8: SettingWithCopyWarning: \n",
      "A value is trying to be set on a copy of a slice from a DataFrame.\n",
      "Try using .loc[row_indexer,col_indexer] = value instead\n",
      "\n",
      "See the caveats in the documentation: https://pandas.pydata.org/pandas-docs/stable/user_guide/indexing.html#returning-a-view-versus-a-copy\n",
      "  nodes_level['ID2']= a\n"
     ]
    }
   ],
   "source": [
    "#select columns of interst from node data \n",
    "nodes_level = nodes_all2[['ID','Gender','Level']]\n",
    "\n",
    "#drop rows with N/A\n",
    "nodes_level.dropna(subset=['ID','Gender','Level'],inplace = True)\n",
    "\n",
    "#add a ID2 column with a series:(0,612)\n",
    "nodes_level['ID2']= a\n",
    "nodes_level_temp = nodes_level\n",
    "\n",
    "\n",
    "#rearrange the order of columns\n",
    "nodes_level_temp = nodes_level_temp[['ID2','Gender','Level']]\n",
    "\n",
    "\n",
    "#encode the gender variable\n",
    "nodes_level_temp['Gender2'] = nodes_level_temp['Gender'].map({'Male':1,'Female':2})\n",
    "\n",
    "\n",
    "nodes_level_temp = nodes_level_temp.rename(columns={'ID2':'Source'})\n",
    "\n",
    "nodes_level2 = nodes_level.rename(columns = {'ID':'Target','ID2':'ID_Target'})\n",
    "\n"
   ]
  },
  {
   "cell_type": "code",
   "execution_count": 932,
   "metadata": {
    "scrolled": false
   },
   "outputs": [
    {
     "name": "stderr",
     "output_type": "stream",
     "text": [
      "/Users/PJMoon/opt/anaconda3/lib/python3.8/site-packages/numpy/core/fromnumeric.py:3372: RuntimeWarning: Mean of empty slice.\n",
      "  return _methods._mean(a, axis=axis, dtype=dtype,\n",
      "/Users/PJMoon/opt/anaconda3/lib/python3.8/site-packages/numpy/core/_methods.py:170: RuntimeWarning: invalid value encountered in double_scalars\n",
      "  ret = ret.dtype.type(ret / rcount)\n",
      "/Users/PJMoon/opt/anaconda3/lib/python3.8/site-packages/numpy/core/fromnumeric.py:3621: RuntimeWarning: Degrees of freedom <= 0 for slice\n",
      "  return _methods._var(a, axis=axis, dtype=dtype, out=out, ddof=ddof,\n",
      "/Users/PJMoon/opt/anaconda3/lib/python3.8/site-packages/numpy/core/_methods.py:226: RuntimeWarning: invalid value encountered in double_scalars\n",
      "  ret = ret.dtype.type(ret / rcount)\n"
     ]
    }
   ],
   "source": [
    "#Link data preprocessing\n",
    "link_level = link[['Source','Target']]\n",
    "link_level = link_level.rename(columns = {'Source' : 'ID'})\n",
    "link_level2 = pd.merge(link_level,nodes_level,how='left')\n",
    "link_level3 = pd.merge(link_level2,nodes_level2,how='left',on='Target')\n",
    "link_level4 = link_level3[['ID2','ID_Target','Level_x']]\n",
    "link_final_level = link_level4.rename(columns = {'ID2':'Source','ID_Target':'Target','Level_x':'Level_source'})\n",
    "link_final_by_level = link_final_level.groupby(['Source']).Level_source.count().reset_index().rename(columns ={'Level_source':'# of out-degrees'})\n",
    "link_final_by_level = pd.merge(link_final_by_level,nodes_level_temp,how='left')\n",
    "link_final_by_level2 = link_final_by_level[['Source','# of out-degrees','Level','Gender2']]\n",
    "\n",
    "level_data = []\n",
    "for i in range(1,6):\n",
    "    level_data.append(link_final_by_level2[link_final_by_level2['Level'] == i])\n",
    "\n",
    "level_male_data = []\n",
    "level_female_data = []\n",
    "for i in range(0,5):\n",
    "    level_male_data.append(level_data[i][level_data[i]['Gender2'] == 1])\n",
    "    level_female_data.append(level_data[i][level_data[i]['Gender2'] == 2])\n",
    "\n",
    "pval_by_level = []\n",
    "pval_by_level_t = []\n",
    "for i in range(0,5):\n",
    "     pval_by_level.append(permutation_test(level_male_data[i]['# of out-degrees'],level_female_data[i]['# of out-degrees'],method='approximate',num_rounds = 10000,seed=0))\n",
    "     pval_by_level_t.append(ttest_ind(level_male_data[i]['# of out-degrees'],level_female_data[i]['# of out-degrees']))\n",
    "    \n",
    "level = ['Level:{0}'.format(v) for v in list(range(1,6)) ]  \n",
    "level2 = ['Level {0}:[male,female]'.format(v) for v in list(range(1,6))]\n",
    "level3 = ['Level:{0}'.format(v) for v in list(range(1,6))]\n",
    "\n",
    "pval_by_level2 = [(level,pval) for level,pval in zip(level,pval_by_level)]\n",
    "pva_by_level_t2 = [(level,pval) for level,pval in zip(level,pval_by_level_t)]        \n",
    "        \n",
    "        "
   ]
  },
  {
   "cell_type": "code",
   "execution_count": 944,
   "metadata": {},
   "outputs": [
    {
     "data": {
      "text/plain": [
       "[('Level:1', 9.999000099990002e-05),\n",
       " ('Level:2', 0.7554244575542446),\n",
       " ('Level:3', 0.26847315268473154),\n",
       " ('Level:4', 0.29827017298270175),\n",
       " ('Level:5', 0.17048295170482952)]"
      ]
     },
     "execution_count": 944,
     "metadata": {},
     "output_type": "execute_result"
    }
   ],
   "source": [
    "pval_by_level2"
   ]
  },
  {
   "cell_type": "code",
   "execution_count": 933,
   "metadata": {},
   "outputs": [],
   "source": [
    "#find the number of data by gender and level\n",
    "male_n = []\n",
    "female_n = []\n",
    "for i in range(0,5):\n",
    "    male_n.append(len(level_male_data[i]))\n",
    "    female_n.append(len(level_female_data[i]))\n",
    "n_by_level = list(zip(male_n,female_n))  \n",
    "n_by_level2 = dict(zip(level2,n_by_level))"
   ]
  },
  {
   "cell_type": "code",
   "execution_count": 927,
   "metadata": {},
   "outputs": [
    {
     "data": {
      "text/plain": [
       "{'Level 1:[male,female]': (1, 0),\n",
       " 'Level 2:[male,female]': (7, 1),\n",
       " 'Level 3:[male,female]': (38, 19),\n",
       " 'Level 4:[male,female]': (97, 93),\n",
       " 'Level 5:[male,female]': (112, 50)}"
      ]
     },
     "execution_count": 927,
     "metadata": {},
     "output_type": "execute_result"
    }
   ],
   "source": [
    "n_by_level2"
   ]
  },
  {
   "cell_type": "code",
   "execution_count": 941,
   "metadata": {},
   "outputs": [],
   "source": [
    "#find the average number of out-degrees by gender and level\n",
    "male_mean_degree = []\n",
    "female_mean_degree = []\n",
    "for i in range(0,5):\n",
    "    male_mean_degree.append(level_male_data[i]['# of out-degrees'].mean())\n",
    "    female_mean_degree.append(level_female_data[i]['# of out-degrees'].mean())\n",
    "    \n",
    "mean_degree_level = list(zip(male_mean_degree,female_mean_degree))  \n",
    "mean_degree_level2 = dict(zip(level3,mean_degree_level))"
   ]
  },
  {
   "cell_type": "code",
   "execution_count": 943,
   "metadata": {},
   "outputs": [
    {
     "data": {
      "text/plain": [
       "{'Level:1': (10.0, nan),\n",
       " 'Level:2': (12.571428571428571, 11.0),\n",
       " 'Level:3': (12.289473684210526, 14.947368421052632),\n",
       " 'Level:4': (13.144329896907216, 11.817204301075268),\n",
       " 'Level:5': (10.883928571428571, 12.8)}"
      ]
     },
     "execution_count": 943,
     "metadata": {},
     "output_type": "execute_result"
    }
   ],
   "source": [
    "mean_degree_level2"
   ]
  },
  {
   "cell_type": "code",
   "execution_count": 880,
   "metadata": {
    "scrolled": true
   },
   "outputs": [
    {
     "data": {
      "text/plain": [
       "[('Level: 1', 9.999000099990002e-05),\n",
       " ('Level: 2', 0.7554244575542446),\n",
       " ('Level: 3', 0.26847315268473154),\n",
       " ('Level: 4', 0.29827017298270175),\n",
       " ('Level: 5', 0.17048295170482952)]"
      ]
     },
     "execution_count": 880,
     "metadata": {},
     "output_type": "execute_result"
    }
   ],
   "source": [
    "pval_by_level2"
   ]
  },
  {
   "cell_type": "markdown",
   "metadata": {},
   "source": [
    "## Difference in Average # of In-degrees by Level"
   ]
  },
  {
   "cell_type": "code",
   "execution_count": 950,
   "metadata": {},
   "outputs": [
    {
     "data": {
      "text/html": [
       "<div>\n",
       "<style scoped>\n",
       "    .dataframe tbody tr th:only-of-type {\n",
       "        vertical-align: middle;\n",
       "    }\n",
       "\n",
       "    .dataframe tbody tr th {\n",
       "        vertical-align: top;\n",
       "    }\n",
       "\n",
       "    .dataframe thead th {\n",
       "        text-align: right;\n",
       "    }\n",
       "</style>\n",
       "<table border=\"1\" class=\"dataframe\">\n",
       "  <thead>\n",
       "    <tr style=\"text-align: right;\">\n",
       "      <th></th>\n",
       "      <th>Source</th>\n",
       "      <th>ID</th>\n",
       "      <th>Gender</th>\n",
       "      <th>Level</th>\n",
       "      <th>ID2</th>\n",
       "    </tr>\n",
       "  </thead>\n",
       "  <tbody>\n",
       "    <tr>\n",
       "      <th>0</th>\n",
       "      <td>427685</td>\n",
       "      <td>428855</td>\n",
       "      <td>Female</td>\n",
       "      <td>3.0</td>\n",
       "      <td>8</td>\n",
       "    </tr>\n",
       "    <tr>\n",
       "      <th>1</th>\n",
       "      <td>428309</td>\n",
       "      <td>428686</td>\n",
       "      <td>Male</td>\n",
       "      <td>4.0</td>\n",
       "      <td>524</td>\n",
       "    </tr>\n",
       "    <tr>\n",
       "      <th>2</th>\n",
       "      <td>428309</td>\n",
       "      <td>428686</td>\n",
       "      <td>Male</td>\n",
       "      <td>4.0</td>\n",
       "      <td>524</td>\n",
       "    </tr>\n",
       "    <tr>\n",
       "      <th>3</th>\n",
       "      <td>428309</td>\n",
       "      <td>428686</td>\n",
       "      <td>Male</td>\n",
       "      <td>4.0</td>\n",
       "      <td>524</td>\n",
       "    </tr>\n",
       "    <tr>\n",
       "      <th>4</th>\n",
       "      <td>428309</td>\n",
       "      <td>428686</td>\n",
       "      <td>Male</td>\n",
       "      <td>4.0</td>\n",
       "      <td>524</td>\n",
       "    </tr>\n",
       "    <tr>\n",
       "      <th>...</th>\n",
       "      <td>...</td>\n",
       "      <td>...</td>\n",
       "      <td>...</td>\n",
       "      <td>...</td>\n",
       "      <td>...</td>\n",
       "    </tr>\n",
       "    <tr>\n",
       "      <th>5088</th>\n",
       "      <td>427919</td>\n",
       "      <td>428049</td>\n",
       "      <td>Male</td>\n",
       "      <td>3.0</td>\n",
       "      <td>600</td>\n",
       "    </tr>\n",
       "    <tr>\n",
       "      <th>5089</th>\n",
       "      <td>427919</td>\n",
       "      <td>428049</td>\n",
       "      <td>Male</td>\n",
       "      <td>3.0</td>\n",
       "      <td>600</td>\n",
       "    </tr>\n",
       "    <tr>\n",
       "      <th>5090</th>\n",
       "      <td>427919</td>\n",
       "      <td>428049</td>\n",
       "      <td>Male</td>\n",
       "      <td>3.0</td>\n",
       "      <td>600</td>\n",
       "    </tr>\n",
       "    <tr>\n",
       "      <th>5091</th>\n",
       "      <td>427932</td>\n",
       "      <td>427958</td>\n",
       "      <td>Male</td>\n",
       "      <td>3.0</td>\n",
       "      <td>511</td>\n",
       "    </tr>\n",
       "    <tr>\n",
       "      <th>5092</th>\n",
       "      <td>427932</td>\n",
       "      <td>427958</td>\n",
       "      <td>Male</td>\n",
       "      <td>3.0</td>\n",
       "      <td>511</td>\n",
       "    </tr>\n",
       "  </tbody>\n",
       "</table>\n",
       "<p>5093 rows × 5 columns</p>\n",
       "</div>"
      ],
      "text/plain": [
       "      Source      ID  Gender  Level  ID2\n",
       "0     427685  428855  Female    3.0    8\n",
       "1     428309  428686    Male    4.0  524\n",
       "2     428309  428686    Male    4.0  524\n",
       "3     428309  428686    Male    4.0  524\n",
       "4     428309  428686    Male    4.0  524\n",
       "...      ...     ...     ...    ...  ...\n",
       "5088  427919  428049    Male    3.0  600\n",
       "5089  427919  428049    Male    3.0  600\n",
       "5090  427919  428049    Male    3.0  600\n",
       "5091  427932  427958    Male    3.0  511\n",
       "5092  427932  427958    Male    3.0  511\n",
       "\n",
       "[5093 rows x 5 columns]"
      ]
     },
     "execution_count": 950,
     "metadata": {},
     "output_type": "execute_result"
    }
   ],
   "source": [
    "link_level_in2"
   ]
  },
  {
   "cell_type": "code",
   "execution_count": null,
   "metadata": {},
   "outputs": [],
   "source": [
    "link_"
   ]
  },
  {
   "cell_type": "code",
   "execution_count": 951,
   "metadata": {},
   "outputs": [],
   "source": [
    "#Link data preprocessing\n",
    "nodes_div2 = nodes_div.rename(columns = {'ID':'Target','ID2':'ID_Target'})\n",
    "link_div = link[['Source','Target']]\n",
    "link_div = link_div.rename(columns = {'Source' : 'ID'})\n",
    "link_div2 = pd.merge(link_div,nodes_div,how='left')\n",
    "link_div3 = pd.merge(link_div2,nodes_div2,how='left',on='Target')\n",
    "link_div4 = link_div3[['ID2','ID_Target','Division_x']]\n",
    "link_final_div = link_div4.rename(columns = {'ID2':'Source','ID_Target':'Target','Division_x':'Division_source'})\n",
    "link_final_div['link'] = list(zip(link_final_div['Source'],link_final_div['Target']))\n",
    "link_final_div = link_final_div[['link','Division_source']]\n",
    "\n",
    "link_by_div = []\n",
    "for division in divisions:\n",
    "    link_by_div.append(link_final_div[link_final_div['Division_source'] == division])"
   ]
  },
  {
   "cell_type": "code",
   "execution_count": null,
   "metadata": {},
   "outputs": [],
   "source": []
  }
 ],
 "metadata": {
  "kernelspec": {
   "display_name": "Python 3",
   "language": "python",
   "name": "python3"
  },
  "language_info": {
   "codemirror_mode": {
    "name": "ipython",
    "version": 3
   },
   "file_extension": ".py",
   "mimetype": "text/x-python",
   "name": "python",
   "nbconvert_exporter": "python",
   "pygments_lexer": "ipython3",
   "version": "3.8.5"
  }
 },
 "nbformat": 4,
 "nbformat_minor": 4
}
