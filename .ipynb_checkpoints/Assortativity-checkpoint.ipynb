{
 "cells": [
  {
   "cell_type": "code",
   "execution_count": 1,
   "metadata": {},
   "outputs": [],
   "source": [
    "import numpy as np\n",
    "import pandas as pd\n",
    "from matplotlib import pyplot as plt\n",
    "import seaborn as sns\n",
    "from scipy import stats"
   ]
  },
  {
   "cell_type": "code",
   "execution_count": 3,
   "metadata": {},
   "outputs": [],
   "source": [
    "nodes = pd.read_csv(r'/Users/PJMoon/Data_Science_Projects/SNA/Assortativity/Nodes with attributes.csv')"
   ]
  },
  {
   "cell_type": "code",
   "execution_count": 4,
   "metadata": {},
   "outputs": [],
   "source": [
    "link = pd.read_csv(r'/Users/PJMoon/Data_Science_Projects/SNA/Assortativity/Links - Intragroup.csv')"
   ]
  },
  {
   "cell_type": "code",
   "execution_count": 6,
   "metadata": {},
   "outputs": [
    {
     "data": {
      "text/plain": [
       "612"
      ]
     },
     "execution_count": 6,
     "metadata": {},
     "output_type": "execute_result"
    }
   ],
   "source": [
    "nodes['ID'].nunique()"
   ]
  },
  {
   "cell_type": "code",
   "execution_count": 7,
   "metadata": {},
   "outputs": [],
   "source": [
    "nodes = nodes[['ID','Gender']]"
   ]
  },
  {
   "cell_type": "code",
   "execution_count": 10,
   "metadata": {},
   "outputs": [],
   "source": [
    "link_source = link.rename(columns = {'Source': \"ID\"})"
   ]
  },
  {
   "cell_type": "code",
   "execution_count": 38,
   "metadata": {},
   "outputs": [],
   "source": [
    "out_degree = pd.merge(link_source,nodes,how='left',on = 'ID')"
   ]
  },
  {
   "cell_type": "code",
   "execution_count": 46,
   "metadata": {},
   "outputs": [],
   "source": [
    "by_label_out_degree = out_degree.groupby(['Gender','Label']).ID.count()"
   ]
  },
  {
   "cell_type": "code",
   "execution_count": 47,
   "metadata": {},
   "outputs": [
    {
     "data": {
      "text/plain": [
       "Gender  Label             \n",
       "Female  Access                 96\n",
       "        Career Development    165\n",
       "        Decision Making       230\n",
       "        Energy                321\n",
       "        Innovation            220\n",
       "        Personal Support      234\n",
       "        Problem Solving       298\n",
       "        Strategy              196\n",
       "        Trust                 274\n",
       "Male    Access                133\n",
       "        Career Development    236\n",
       "        Decision Making       379\n",
       "        Energy                445\n",
       "        Innovation            376\n",
       "        Personal Support      260\n",
       "        Problem Solving       451\n",
       "        Strategy              349\n",
       "        Trust                 430\n",
       "Name: ID, dtype: int64"
      ]
     },
     "execution_count": 47,
     "metadata": {},
     "output_type": "execute_result"
    }
   ],
   "source": [
    "by_label_out_degree"
   ]
  },
  {
   "cell_type": "code",
   "execution_count": 51,
   "metadata": {},
   "outputs": [],
   "source": [
    "link_source2 = link.rename(columns = {\"Target\":\"ID\"})"
   ]
  },
  {
   "cell_type": "code",
   "execution_count": 57,
   "metadata": {},
   "outputs": [],
   "source": [
    "in_degree = pd.merge(link_source2,nodes,how='left',on = 'ID')"
   ]
  },
  {
   "cell_type": "code",
   "execution_count": 61,
   "metadata": {},
   "outputs": [],
   "source": [
    "by_label_in_degree = in_degree.groupby(['Gender','Label']).ID.count()"
   ]
  },
  {
   "cell_type": "code",
   "execution_count": 62,
   "metadata": {},
   "outputs": [
    {
     "data": {
      "text/plain": [
       "Gender  Label             \n",
       "Female  Access                 62\n",
       "        Career Development    135\n",
       "        Decision Making       199\n",
       "        Energy                308\n",
       "        Innovation            198\n",
       "        Personal Support      213\n",
       "        Problem Solving       247\n",
       "        Strategy              117\n",
       "        Trust                 237\n",
       "Male    Access                167\n",
       "        Career Development    266\n",
       "        Decision Making       410\n",
       "        Energy                458\n",
       "        Innovation            398\n",
       "        Personal Support      281\n",
       "        Problem Solving       502\n",
       "        Strategy              428\n",
       "        Trust                 467\n",
       "Name: ID, dtype: int64"
      ]
     },
     "execution_count": 62,
     "metadata": {},
     "output_type": "execute_result"
    }
   ],
   "source": [
    "by_label_in_degree"
   ]
  },
  {
   "cell_type": "code",
   "execution_count": null,
   "metadata": {},
   "outputs": [],
   "source": []
  }
 ],
 "metadata": {
  "kernelspec": {
   "display_name": "Python 3",
   "language": "python",
   "name": "python3"
  },
  "language_info": {
   "codemirror_mode": {
    "name": "ipython",
    "version": 3
   },
   "file_extension": ".py",
   "mimetype": "text/x-python",
   "name": "python",
   "nbconvert_exporter": "python",
   "pygments_lexer": "ipython3",
   "version": "3.8.5"
  }
 },
 "nbformat": 4,
 "nbformat_minor": 4
}
