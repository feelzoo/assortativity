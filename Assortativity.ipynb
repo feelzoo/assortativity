{
 "cells": [
  {
   "cell_type": "markdown",
   "metadata": {},
   "source": [
    "# Social Network Analysis - Assortativity"
   ]
  },
  {
   "cell_type": "markdown",
   "metadata": {},
   "source": [
    "## 1. Project Goal"
   ]
  },
  {
   "cell_type": "markdown",
   "metadata": {},
   "source": [
    "In this project, a network dataset will be analyzed as to discover <b>gender</b>'s influence on how communications, information, and decisions flow through an organization. "
   ]
  },
  {
   "cell_type": "code",
   "execution_count": 1,
   "metadata": {},
   "outputs": [],
   "source": [
    "import numpy as np\n",
    "import pandas as pd\n",
    "from matplotlib import pyplot as plt\n",
    "import seaborn as sns\n",
    "from scipy import stats\n",
    "import igraph as ig\n",
    "import networkx as nx\n",
    "from scipy.stats import ttest_ind\n",
    "from mlxtend.evaluate import permutation_test\n",
    "import seaborn as sns"
   ]
  },
  {
   "cell_type": "markdown",
   "metadata": {},
   "source": [
    "## 1. Descriptive Gender Analysis"
   ]
  },
  {
   "cell_type": "code",
   "execution_count": 2,
   "metadata": {},
   "outputs": [],
   "source": [
    "#Load data into dataframe\n",
    "nodes = pd.read_csv(r'/Users/PJMoon/Data_Science_Projects/SNA/Assortativity/Nodes with attributes.csv')\n",
    "link = pd.read_csv(r'/Users/PJMoon/Data_Science_Projects/SNA/Assortativity/Links - Intragroup.csv')\n",
    "nodes_all = pd.read_csv(r'/Users/PJMoon/Data_Science_Projects/SNA/Assortativity/Nodes with attributes.csv')\n",
    "#Select columns of interst from node data \n",
    "nodes = nodes[['ID','Gender']]\n",
    "\n",
    "#Out-degree statistics by Gender and Label\n",
    "link_source = link.rename(columns = {'Source': \"ID\"})\n",
    "out_degree = pd.merge(link_source,nodes,how='left',on = 'ID')\n",
    "by_label_out_degree = out_degree.groupby(['Gender','Label']).ID.count().reset_index()\n",
    "\n",
    "#In-degree statistics by Gender and Label\n",
    "link_source2 = link.rename(columns = {\"Target\":\"ID\"})\n",
    "in_degree = pd.merge(link_source2,nodes,how='left',on = 'ID')\n",
    "by_label_in_degree = in_degree.groupby(['Gender','Label']).ID.count().reset_index()\n",
    "\n",
    "#Gender to gender in and out degree statistics \n",
    "in_degree.rename(columns = {'Gender': 'Gender_in','ID': 'Target2','Source':'Source2','Label':'Label2'},inplace=True)\n",
    "out_degree.rename(columns = {'Gender': 'Gender_out','ID': 'Source'},inplace=True)\n",
    "combined = pd.concat([out_degree,in_degree],axis=1)\n",
    "combined = combined[['Source','Target','Label','Gender_out','Gender_in']]\n",
    "gender_to_gender = combined.groupby(['Gender_out','Gender_in']).Source.count().reset_index()"
   ]
  },
  {
   "cell_type": "code",
   "execution_count": 124,
   "metadata": {},
   "outputs": [
    {
     "data": {
      "text/html": [
       "<div>\n",
       "<style scoped>\n",
       "    .dataframe tbody tr th:only-of-type {\n",
       "        vertical-align: middle;\n",
       "    }\n",
       "\n",
       "    .dataframe tbody tr th {\n",
       "        vertical-align: top;\n",
       "    }\n",
       "\n",
       "    .dataframe thead th {\n",
       "        text-align: right;\n",
       "    }\n",
       "</style>\n",
       "<table border=\"1\" class=\"dataframe\">\n",
       "  <thead>\n",
       "    <tr style=\"text-align: right;\">\n",
       "      <th></th>\n",
       "      <th>ID</th>\n",
       "      <th>Gender</th>\n",
       "      <th>ID2</th>\n",
       "    </tr>\n",
       "  </thead>\n",
       "  <tbody>\n",
       "    <tr>\n",
       "      <th>0</th>\n",
       "      <td>428634</td>\n",
       "      <td>Female</td>\n",
       "      <td>0</td>\n",
       "    </tr>\n",
       "    <tr>\n",
       "      <th>1</th>\n",
       "      <td>428764</td>\n",
       "      <td>Female</td>\n",
       "      <td>1</td>\n",
       "    </tr>\n",
       "    <tr>\n",
       "      <th>2</th>\n",
       "      <td>428881</td>\n",
       "      <td>Female</td>\n",
       "      <td>2</td>\n",
       "    </tr>\n",
       "    <tr>\n",
       "      <th>3</th>\n",
       "      <td>428738</td>\n",
       "      <td>Female</td>\n",
       "      <td>3</td>\n",
       "    </tr>\n",
       "    <tr>\n",
       "      <th>4</th>\n",
       "      <td>428803</td>\n",
       "      <td>Female</td>\n",
       "      <td>4</td>\n",
       "    </tr>\n",
       "    <tr>\n",
       "      <th>...</th>\n",
       "      <td>...</td>\n",
       "      <td>...</td>\n",
       "      <td>...</td>\n",
       "    </tr>\n",
       "    <tr>\n",
       "      <th>607</th>\n",
       "      <td>428244</td>\n",
       "      <td>Female</td>\n",
       "      <td>607</td>\n",
       "    </tr>\n",
       "    <tr>\n",
       "      <th>608</th>\n",
       "      <td>428192</td>\n",
       "      <td>Male</td>\n",
       "      <td>608</td>\n",
       "    </tr>\n",
       "    <tr>\n",
       "      <th>609</th>\n",
       "      <td>428231</td>\n",
       "      <td>Male</td>\n",
       "      <td>609</td>\n",
       "    </tr>\n",
       "    <tr>\n",
       "      <th>610</th>\n",
       "      <td>442219</td>\n",
       "      <td>Male</td>\n",
       "      <td>610</td>\n",
       "    </tr>\n",
       "    <tr>\n",
       "      <th>611</th>\n",
       "      <td>428933</td>\n",
       "      <td>Male</td>\n",
       "      <td>611</td>\n",
       "    </tr>\n",
       "  </tbody>\n",
       "</table>\n",
       "<p>612 rows × 3 columns</p>\n",
       "</div>"
      ],
      "text/plain": [
       "         ID  Gender  ID2\n",
       "0    428634  Female    0\n",
       "1    428764  Female    1\n",
       "2    428881  Female    2\n",
       "3    428738  Female    3\n",
       "4    428803  Female    4\n",
       "..      ...     ...  ...\n",
       "607  428244  Female  607\n",
       "608  428192    Male  608\n",
       "609  428231    Male  609\n",
       "610  442219    Male  610\n",
       "611  428933    Male  611\n",
       "\n",
       "[612 rows x 3 columns]"
      ]
     },
     "execution_count": 124,
     "metadata": {},
     "output_type": "execute_result"
    }
   ],
   "source": [
    "nodes"
   ]
  },
  {
   "cell_type": "code",
   "execution_count": 3,
   "metadata": {
    "scrolled": true
   },
   "outputs": [
    {
     "data": {
      "text/html": [
       "<div>\n",
       "<style scoped>\n",
       "    .dataframe tbody tr th:only-of-type {\n",
       "        vertical-align: middle;\n",
       "    }\n",
       "\n",
       "    .dataframe tbody tr th {\n",
       "        vertical-align: top;\n",
       "    }\n",
       "\n",
       "    .dataframe thead th {\n",
       "        text-align: right;\n",
       "    }\n",
       "</style>\n",
       "<table border=\"1\" class=\"dataframe\">\n",
       "  <thead>\n",
       "    <tr style=\"text-align: right;\">\n",
       "      <th></th>\n",
       "      <th>Gender</th>\n",
       "      <th>Label</th>\n",
       "      <th>ID</th>\n",
       "    </tr>\n",
       "  </thead>\n",
       "  <tbody>\n",
       "    <tr>\n",
       "      <th>0</th>\n",
       "      <td>Female</td>\n",
       "      <td>Access</td>\n",
       "      <td>96</td>\n",
       "    </tr>\n",
       "    <tr>\n",
       "      <th>1</th>\n",
       "      <td>Female</td>\n",
       "      <td>Career Development</td>\n",
       "      <td>165</td>\n",
       "    </tr>\n",
       "    <tr>\n",
       "      <th>2</th>\n",
       "      <td>Female</td>\n",
       "      <td>Decision Making</td>\n",
       "      <td>230</td>\n",
       "    </tr>\n",
       "    <tr>\n",
       "      <th>3</th>\n",
       "      <td>Female</td>\n",
       "      <td>Energy</td>\n",
       "      <td>321</td>\n",
       "    </tr>\n",
       "    <tr>\n",
       "      <th>4</th>\n",
       "      <td>Female</td>\n",
       "      <td>Innovation</td>\n",
       "      <td>220</td>\n",
       "    </tr>\n",
       "    <tr>\n",
       "      <th>5</th>\n",
       "      <td>Female</td>\n",
       "      <td>Personal Support</td>\n",
       "      <td>234</td>\n",
       "    </tr>\n",
       "    <tr>\n",
       "      <th>6</th>\n",
       "      <td>Female</td>\n",
       "      <td>Problem Solving</td>\n",
       "      <td>298</td>\n",
       "    </tr>\n",
       "    <tr>\n",
       "      <th>7</th>\n",
       "      <td>Female</td>\n",
       "      <td>Strategy</td>\n",
       "      <td>196</td>\n",
       "    </tr>\n",
       "    <tr>\n",
       "      <th>8</th>\n",
       "      <td>Female</td>\n",
       "      <td>Trust</td>\n",
       "      <td>274</td>\n",
       "    </tr>\n",
       "    <tr>\n",
       "      <th>9</th>\n",
       "      <td>Male</td>\n",
       "      <td>Access</td>\n",
       "      <td>133</td>\n",
       "    </tr>\n",
       "    <tr>\n",
       "      <th>10</th>\n",
       "      <td>Male</td>\n",
       "      <td>Career Development</td>\n",
       "      <td>236</td>\n",
       "    </tr>\n",
       "    <tr>\n",
       "      <th>11</th>\n",
       "      <td>Male</td>\n",
       "      <td>Decision Making</td>\n",
       "      <td>379</td>\n",
       "    </tr>\n",
       "    <tr>\n",
       "      <th>12</th>\n",
       "      <td>Male</td>\n",
       "      <td>Energy</td>\n",
       "      <td>445</td>\n",
       "    </tr>\n",
       "    <tr>\n",
       "      <th>13</th>\n",
       "      <td>Male</td>\n",
       "      <td>Innovation</td>\n",
       "      <td>376</td>\n",
       "    </tr>\n",
       "    <tr>\n",
       "      <th>14</th>\n",
       "      <td>Male</td>\n",
       "      <td>Personal Support</td>\n",
       "      <td>260</td>\n",
       "    </tr>\n",
       "    <tr>\n",
       "      <th>15</th>\n",
       "      <td>Male</td>\n",
       "      <td>Problem Solving</td>\n",
       "      <td>451</td>\n",
       "    </tr>\n",
       "    <tr>\n",
       "      <th>16</th>\n",
       "      <td>Male</td>\n",
       "      <td>Strategy</td>\n",
       "      <td>349</td>\n",
       "    </tr>\n",
       "    <tr>\n",
       "      <th>17</th>\n",
       "      <td>Male</td>\n",
       "      <td>Trust</td>\n",
       "      <td>430</td>\n",
       "    </tr>\n",
       "  </tbody>\n",
       "</table>\n",
       "</div>"
      ],
      "text/plain": [
       "    Gender               Label   ID\n",
       "0   Female              Access   96\n",
       "1   Female  Career Development  165\n",
       "2   Female     Decision Making  230\n",
       "3   Female              Energy  321\n",
       "4   Female          Innovation  220\n",
       "5   Female    Personal Support  234\n",
       "6   Female     Problem Solving  298\n",
       "7   Female            Strategy  196\n",
       "8   Female               Trust  274\n",
       "9     Male              Access  133\n",
       "10    Male  Career Development  236\n",
       "11    Male     Decision Making  379\n",
       "12    Male              Energy  445\n",
       "13    Male          Innovation  376\n",
       "14    Male    Personal Support  260\n",
       "15    Male     Problem Solving  451\n",
       "16    Male            Strategy  349\n",
       "17    Male               Trust  430"
      ]
     },
     "execution_count": 3,
     "metadata": {},
     "output_type": "execute_result"
    }
   ],
   "source": [
    "#print a number of out-degree by gender and label\n",
    "by_label_out_degree"
   ]
  },
  {
   "cell_type": "code",
   "execution_count": 4,
   "metadata": {
    "scrolled": true
   },
   "outputs": [
    {
     "data": {
      "text/html": [
       "<div>\n",
       "<style scoped>\n",
       "    .dataframe tbody tr th:only-of-type {\n",
       "        vertical-align: middle;\n",
       "    }\n",
       "\n",
       "    .dataframe tbody tr th {\n",
       "        vertical-align: top;\n",
       "    }\n",
       "\n",
       "    .dataframe thead th {\n",
       "        text-align: right;\n",
       "    }\n",
       "</style>\n",
       "<table border=\"1\" class=\"dataframe\">\n",
       "  <thead>\n",
       "    <tr style=\"text-align: right;\">\n",
       "      <th></th>\n",
       "      <th>Gender</th>\n",
       "      <th>Label</th>\n",
       "      <th>ID</th>\n",
       "    </tr>\n",
       "  </thead>\n",
       "  <tbody>\n",
       "    <tr>\n",
       "      <th>0</th>\n",
       "      <td>Female</td>\n",
       "      <td>Access</td>\n",
       "      <td>62</td>\n",
       "    </tr>\n",
       "    <tr>\n",
       "      <th>1</th>\n",
       "      <td>Female</td>\n",
       "      <td>Career Development</td>\n",
       "      <td>135</td>\n",
       "    </tr>\n",
       "    <tr>\n",
       "      <th>2</th>\n",
       "      <td>Female</td>\n",
       "      <td>Decision Making</td>\n",
       "      <td>199</td>\n",
       "    </tr>\n",
       "    <tr>\n",
       "      <th>3</th>\n",
       "      <td>Female</td>\n",
       "      <td>Energy</td>\n",
       "      <td>308</td>\n",
       "    </tr>\n",
       "    <tr>\n",
       "      <th>4</th>\n",
       "      <td>Female</td>\n",
       "      <td>Innovation</td>\n",
       "      <td>198</td>\n",
       "    </tr>\n",
       "    <tr>\n",
       "      <th>5</th>\n",
       "      <td>Female</td>\n",
       "      <td>Personal Support</td>\n",
       "      <td>213</td>\n",
       "    </tr>\n",
       "    <tr>\n",
       "      <th>6</th>\n",
       "      <td>Female</td>\n",
       "      <td>Problem Solving</td>\n",
       "      <td>247</td>\n",
       "    </tr>\n",
       "    <tr>\n",
       "      <th>7</th>\n",
       "      <td>Female</td>\n",
       "      <td>Strategy</td>\n",
       "      <td>117</td>\n",
       "    </tr>\n",
       "    <tr>\n",
       "      <th>8</th>\n",
       "      <td>Female</td>\n",
       "      <td>Trust</td>\n",
       "      <td>237</td>\n",
       "    </tr>\n",
       "    <tr>\n",
       "      <th>9</th>\n",
       "      <td>Male</td>\n",
       "      <td>Access</td>\n",
       "      <td>167</td>\n",
       "    </tr>\n",
       "    <tr>\n",
       "      <th>10</th>\n",
       "      <td>Male</td>\n",
       "      <td>Career Development</td>\n",
       "      <td>266</td>\n",
       "    </tr>\n",
       "    <tr>\n",
       "      <th>11</th>\n",
       "      <td>Male</td>\n",
       "      <td>Decision Making</td>\n",
       "      <td>410</td>\n",
       "    </tr>\n",
       "    <tr>\n",
       "      <th>12</th>\n",
       "      <td>Male</td>\n",
       "      <td>Energy</td>\n",
       "      <td>458</td>\n",
       "    </tr>\n",
       "    <tr>\n",
       "      <th>13</th>\n",
       "      <td>Male</td>\n",
       "      <td>Innovation</td>\n",
       "      <td>398</td>\n",
       "    </tr>\n",
       "    <tr>\n",
       "      <th>14</th>\n",
       "      <td>Male</td>\n",
       "      <td>Personal Support</td>\n",
       "      <td>281</td>\n",
       "    </tr>\n",
       "    <tr>\n",
       "      <th>15</th>\n",
       "      <td>Male</td>\n",
       "      <td>Problem Solving</td>\n",
       "      <td>502</td>\n",
       "    </tr>\n",
       "    <tr>\n",
       "      <th>16</th>\n",
       "      <td>Male</td>\n",
       "      <td>Strategy</td>\n",
       "      <td>428</td>\n",
       "    </tr>\n",
       "    <tr>\n",
       "      <th>17</th>\n",
       "      <td>Male</td>\n",
       "      <td>Trust</td>\n",
       "      <td>467</td>\n",
       "    </tr>\n",
       "  </tbody>\n",
       "</table>\n",
       "</div>"
      ],
      "text/plain": [
       "    Gender               Label   ID\n",
       "0   Female              Access   62\n",
       "1   Female  Career Development  135\n",
       "2   Female     Decision Making  199\n",
       "3   Female              Energy  308\n",
       "4   Female          Innovation  198\n",
       "5   Female    Personal Support  213\n",
       "6   Female     Problem Solving  247\n",
       "7   Female            Strategy  117\n",
       "8   Female               Trust  237\n",
       "9     Male              Access  167\n",
       "10    Male  Career Development  266\n",
       "11    Male     Decision Making  410\n",
       "12    Male              Energy  458\n",
       "13    Male          Innovation  398\n",
       "14    Male    Personal Support  281\n",
       "15    Male     Problem Solving  502\n",
       "16    Male            Strategy  428\n",
       "17    Male               Trust  467"
      ]
     },
     "execution_count": 4,
     "metadata": {},
     "output_type": "execute_result"
    }
   ],
   "source": [
    "#print a number of in-degree by gender and label\n",
    "by_label_in_degree"
   ]
  },
  {
   "cell_type": "code",
   "execution_count": 5,
   "metadata": {},
   "outputs": [
    {
     "data": {
      "text/html": [
       "<div>\n",
       "<style scoped>\n",
       "    .dataframe tbody tr th:only-of-type {\n",
       "        vertical-align: middle;\n",
       "    }\n",
       "\n",
       "    .dataframe tbody tr th {\n",
       "        vertical-align: top;\n",
       "    }\n",
       "\n",
       "    .dataframe thead th {\n",
       "        text-align: right;\n",
       "    }\n",
       "</style>\n",
       "<table border=\"1\" class=\"dataframe\">\n",
       "  <thead>\n",
       "    <tr style=\"text-align: right;\">\n",
       "      <th></th>\n",
       "      <th>Gender_out</th>\n",
       "      <th>Gender_in</th>\n",
       "      <th>Source</th>\n",
       "    </tr>\n",
       "  </thead>\n",
       "  <tbody>\n",
       "    <tr>\n",
       "      <th>0</th>\n",
       "      <td>Female</td>\n",
       "      <td>Female</td>\n",
       "      <td>1010</td>\n",
       "    </tr>\n",
       "    <tr>\n",
       "      <th>1</th>\n",
       "      <td>Female</td>\n",
       "      <td>Male</td>\n",
       "      <td>1024</td>\n",
       "    </tr>\n",
       "    <tr>\n",
       "      <th>2</th>\n",
       "      <td>Male</td>\n",
       "      <td>Female</td>\n",
       "      <td>706</td>\n",
       "    </tr>\n",
       "    <tr>\n",
       "      <th>3</th>\n",
       "      <td>Male</td>\n",
       "      <td>Male</td>\n",
       "      <td>2353</td>\n",
       "    </tr>\n",
       "  </tbody>\n",
       "</table>\n",
       "</div>"
      ],
      "text/plain": [
       "  Gender_out Gender_in  Source\n",
       "0     Female    Female    1010\n",
       "1     Female      Male    1024\n",
       "2       Male    Female     706\n",
       "3       Male      Male    2353"
      ]
     },
     "execution_count": 5,
     "metadata": {},
     "output_type": "execute_result"
    }
   ],
   "source": [
    "#print a number of degrees between genders\n",
    "gender_to_gender"
   ]
  },
  {
   "cell_type": "code",
   "execution_count": 6,
   "metadata": {},
   "outputs": [
    {
     "name": "stdout",
     "output_type": "stream",
     "text": [
      "Energy   Gender_out Gender_in  Source\n",
      "0     Female    Female     190\n",
      "1     Female      Male     131\n",
      "2       Male    Female     118\n",
      "3       Male      Male     327\n",
      "Trust   Gender_out Gender_in  Source\n",
      "0     Female    Female     137\n",
      "1     Female      Male     137\n",
      "2       Male    Female     100\n",
      "3       Male      Male     330\n",
      "Career Development   Gender_out Gender_in  Source\n",
      "0     Female    Female      81\n",
      "1     Female      Male      84\n",
      "2       Male    Female      54\n",
      "3       Male      Male     182\n",
      "Personal Support   Gender_out Gender_in  Source\n",
      "0     Female    Female     154\n",
      "1     Female      Male      80\n",
      "2       Male    Female      59\n",
      "3       Male      Male     201\n",
      "Decision Making   Gender_out Gender_in  Source\n",
      "0     Female    Female     114\n",
      "1     Female      Male     116\n",
      "2       Male    Female      85\n",
      "3       Male      Male     294\n",
      "Access   Gender_out Gender_in  Source\n",
      "0     Female    Female      34\n",
      "1     Female      Male      62\n",
      "2       Male    Female      28\n",
      "3       Male      Male     105\n",
      "Innovation   Gender_out Gender_in  Source\n",
      "0     Female    Female     105\n",
      "1     Female      Male     115\n",
      "2       Male    Female      93\n",
      "3       Male      Male     283\n",
      "Problem Solving   Gender_out Gender_in  Source\n",
      "0     Female    Female     142\n",
      "1     Female      Male     156\n",
      "2       Male    Female     105\n",
      "3       Male      Male     346\n",
      "Strategy   Gender_out Gender_in  Source\n",
      "0     Female    Female      53\n",
      "1     Female      Male     143\n",
      "2       Male    Female      64\n",
      "3       Male      Male     285\n"
     ]
    }
   ],
   "source": [
    "#Gender to gender statistics by label\n",
    "label = combined['Label'].unique()\n",
    "for i in range(0,len(label)):\n",
    "    sector = combined[combined['Label'] == label[i]]\n",
    "    a = sector.groupby(['Gender_out','Gender_in']).Source.count().reset_index()\n",
    "    b= print('{0}'.format(label[i]),a)"
   ]
  },
  {
   "cell_type": "markdown",
   "metadata": {},
   "source": [
    "## 2. Gender Assortativity \n",
    "\n",
    "The assortativity coeffiicent was used to quantify the extent to which gender plays a role in networking. The assortativity coeffiicent gauges the correlation between chracteristics of connected nodes in a network just as the Pearson correlation coefficient does: A value always falls bewteen -1 and 1. A postitive assortativity coefficient indicates that similar nodes tend to connect to each other. "
   ]
  },
  {
   "cell_type": "code",
   "execution_count": 7,
   "metadata": {},
   "outputs": [
    {
     "name": "stdout",
     "output_type": "stream",
     "text": [
      "The assortativity of the network is 0.26986616946343467\n"
     ]
    }
   ],
   "source": [
    "#Link data preprocessing\n",
    "a = [i for i in range(0,612)]\n",
    "nodes['ID2']= a\n",
    "nodes2 = nodes.rename(columns = {'ID':'Target','ID2':'ID_Target'})\n",
    "link2 = link[['Source','Target']]\n",
    "link2 = link2.rename(columns = {'Source' : 'ID'})\n",
    "link3 = pd.merge(link2,nodes,how='left')\n",
    "link4 = pd.merge(link3,nodes2,how='left',on='Target')\n",
    "link_final = link4[['ID2','ID_Target']]\n",
    "link_final = link_final.rename(columns = {'ID2':'Source','ID_Target':'Target'})\n",
    "link_final['link'] = list(zip(link_final['Source'],link_final['Target']))\n",
    "link_final = link_final['link']\n",
    "\n",
    "#Node data preprocessing\n",
    "nodes_network = nodes[['ID','Gender']]\n",
    "nodes_network['Gender2'] = nodes_network['Gender'].map({'Male':1, 'Female':2})\n",
    "\n",
    "#Creating a network and compute the assortativity\n",
    "nodes_network['ID'] = [i for i in range(0,612)]\n",
    "g = ig.Graph()\n",
    "g.add_vertices([i for i in range(0,612)])\n",
    "g.add_edges(link_final)\n",
    "g.vs['Gender'] = nodes_network['Gender2']\n",
    "print('The assortativity of the network is {0}'.format(g.assortativity_nominal('Gender',directed=True)))"
   ]
  },
  {
   "attachments": {},
   "cell_type": "markdown",
   "metadata": {},
   "source": [
    "<b>Conclusion:</b><br>\n",
    "   The assortativity coefficient of the network is 0.2698, which indicates that there are more edges between same genders compared to a random network. The strength of assortativity is 'weak'. "
   ]
  },
  {
   "cell_type": "markdown",
   "metadata": {},
   "source": [
    "## 3. Gender Assortativity By Label\n",
    "The assortativity coefficients were calculated based on 'label'. "
   ]
  },
  {
   "cell_type": "code",
   "execution_count": 8,
   "metadata": {},
   "outputs": [],
   "source": [
    "#Link data preprocessing\n",
    "link_label = link[['Source','Target','Label']]\n",
    "link_label = link_label.rename(columns = {'Source' : 'ID'})\n",
    "link_label2=pd.merge(link_label,nodes,how='left')\n",
    "link_label3 = pd.merge(link_label2,nodes2,how='left', on='Target')\n",
    "link_label_final = link_label3[['ID2','ID_Target','Label']]\n",
    "link_label_final = link_label_final.rename(columns = {'ID2': 'Source','ID_Target':'Target'})\n",
    "link_label_final['link'] = list(zip(link_label_final['Source'],link_label_final['Target']))\n",
    "link_label_final2 = link_label_final[['link','Label']]\n",
    "\n",
    "#create link data with label\n",
    "labels = link_label_final2['Label'].unique()\n",
    "link_data_by_label = []\n",
    "for label in labels:\n",
    "    new_label = link_label_final2[link_label_final2['Label'] == label]\n",
    "    link_data_by_label.append(new_label)\n",
    "    \n",
    "    \n",
    "#create a network and compute the assortativity by label    \n",
    "node_final = [i for i in range(0,612)]\n",
    "assortativity=[]\n",
    "for datum in link_data_by_label:\n",
    "    g = ig.Graph()\n",
    "    g.add_vertices(node_final)\n",
    "    g.add_edges(datum['link'])\n",
    "    g.vs['Gender'] = nodes_network['Gender2']\n",
    "    temp = g.assortativity_nominal('Gender',directed = True)\n",
    "    assortativity.append(temp)\n",
    "    \n",
    "assortativity_label = {key: value for key, value in zip(labels,assortativity)}"
   ]
  },
  {
   "cell_type": "code",
   "execution_count": 9,
   "metadata": {
    "scrolled": false
   },
   "outputs": [
    {
     "data": {
      "text/plain": [
       "{'Energy': 0.32838603700436797,\n",
       " 'Trust': 0.27198947568214993,\n",
       " 'Career Development': 0.2650996015936256,\n",
       " 'Personal Support': 0.4321064231868238,\n",
       " 'Decision Making': 0.276715679757505,\n",
       " 'Access': 0.1303797468354431,\n",
       " 'Innovation': 0.23365849436840877,\n",
       " 'Problem Solving': 0.24722893422027978,\n",
       " 'Strategy': 0.0722488805555895}"
      ]
     },
     "execution_count": 9,
     "metadata": {},
     "output_type": "execute_result"
    }
   ],
   "source": [
    "#print assortativity by label\n",
    "assortativity_label"
   ]
  },
  {
   "cell_type": "markdown",
   "metadata": {},
   "source": [
    "<b>Conclusion:</b><br>\n",
    "Assortativity is high for 'Personal Support', 'Energy'and 'Decision Making'. "
   ]
  },
  {
   "cell_type": "markdown",
   "metadata": {},
   "source": [
    "## 4. The difference in the number of out-degrees between men and women \n",
    "\n",
    "In this chapter, we examined the difference in the number of out-degrees between men and women from the sample and tested if the difference is statistically significance by running permutation tests. "
   ]
  },
  {
   "cell_type": "code",
   "execution_count": 11,
   "metadata": {},
   "outputs": [],
   "source": [
    "#preprocessing the data \n",
    "out_label = link_label_final[['Source','Label']]\n",
    "out_label = out_label.rename(columns = {'Source':'ID'})\n",
    "out_label_gender = pd.merge(out_label,nodes_network,how = 'left',on = 'ID')\n",
    "out_label_male = out_label_gender[out_label_gender['Gender'] == 'Male']\n",
    "out_label_female = out_label_gender[out_label_gender['Gender'] == 'Female']\n",
    "number_degree_male = out_label_male.groupby(['ID']).Gender.count().reset_index()\n",
    "number_degree_male = number_degree_male.rename(columns = {'Gender': 'Number of out-degree'})\n",
    "number_degree_female = out_label_female.groupby(['ID']).Gender.count().reset_index()\n",
    "number_degree_female = number_degree_female.rename(columns = {'Gender':'Number of out-degree'})\n",
    "number_degree_male2 = number_degree_male['Number of out-degree']\n",
    "number_degree_female2 = number_degree_female['Number of out-degree']"
   ]
  },
  {
   "cell_type": "code",
   "execution_count": 12,
   "metadata": {},
   "outputs": [],
   "source": [
    "#split the data into men and women in terms of # of out-degress \n",
    "nodes_network_male = nodes_network[nodes_network['Gender']=='Male']\n",
    "nodes_network_male21 = pd.merge(nodes_network_male,number_degree_male,how='left',on = 'ID')\n",
    "nodes_network_male2=nodes_network_male21.fillna(0)\n",
    "nodes_network_female = nodes_network[nodes_network['Gender']=='Female']\n",
    "nodes_network_female21 = pd.merge(nodes_network_female,number_degree_female,how='left',on = 'ID')\n",
    "nodes_network_female2=nodes_network_female21.fillna(0)\n",
    "nodes_network_male2 = nodes_network_male2['Number of out-degree']\n",
    "nodes_network_female2 = nodes_network_female2['Number of out-degree']"
   ]
  },
  {
   "cell_type": "code",
   "execution_count": 74,
   "metadata": {},
   "outputs": [
    {
     "data": {
      "text/plain": [
       "Text(0.5, 1.0, 'Number of Out-degree by Gender')"
      ]
     },
     "execution_count": 74,
     "metadata": {},
     "output_type": "execute_result"
    },
    {
     "data": {
      "image/png": "[encoded data removed]",
      "text/plain": [
       "<Figure size 1080x720 with 1 Axes>"
      ]
     },
     "metadata": {
      "needs_background": "light"
     },
     "output_type": "display_data"
    }
   ],
   "source": [
    "f,ax = plt.subplots(figsize = (15,10))\n",
    "sns.histplot(nodes_network_male2,element='step',color='#0e2f44')\n",
    "sns.histplot(nodes_network_female2,element = 'step',color='#daa520')\n",
    "\n",
    "ax.set_title('Number of Out-degree by Gender',fontweight = 'bold',fontsize=30)"
   ]
  },
  {
   "cell_type": "markdown",
   "metadata": {},
   "source": [
    "## Permutation test on the average out-degree between male and female groups "
   ]
  },
  {
   "cell_type": "code",
   "execution_count": 98,
   "metadata": {},
   "outputs": [],
   "source": [
    "tstat,pval_ttest_out2 = ttest_ind(nodes_network_male2,nodes_network_female2)\n",
    "p_val_permu_out2 = permutation_test(nodes_network_male2,nodes_network_female2,method='approximate',num_rounds = 10000,seed=0)"
   ]
  },
  {
   "cell_type": "code",
   "execution_count": 99,
   "metadata": {},
   "outputs": [
    {
     "data": {
      "text/plain": [
       "0.04646645411248457"
      ]
     },
     "execution_count": 99,
     "metadata": {},
     "output_type": "execute_result"
    }
   ],
   "source": [
    "pval_ttest_out2"
   ]
  },
  {
   "cell_type": "code",
   "execution_count": 100,
   "metadata": {},
   "outputs": [
    {
     "data": {
      "text/plain": [
       "0.0471952804719528"
      ]
     },
     "execution_count": 100,
     "metadata": {},
     "output_type": "execute_result"
    }
   ],
   "source": [
    "p_val_permu_out2"
   ]
  },
  {
   "cell_type": "markdown",
   "metadata": {},
   "source": [
    "<b>Conclusion:</b><br>\n",
    "A p-value of .047 indicates that we would see the observed sample result only 4.7% of the time under the assumption that there's no difference in the average out-degrees between men and women. Thus we reject the null hypothesis indicating that there's a statistically significant different in the number of out-degrees betweeen men and women based on 0.05 threshold. "
   ]
  },
  {
   "cell_type": "markdown",
   "metadata": {},
   "source": [
    "## 4. The difference in the number of in-degrees between men and women \n",
    "\n",
    "The difference in the number of in-degrees between men and women was calculated. "
   ]
  },
  {
   "cell_type": "code",
   "execution_count": 93,
   "metadata": {},
   "outputs": [],
   "source": [
    "in_label = link_label_final[['Target','Label']]\n",
    "in_label =in_label.rename(columns ={'Target':'ID'})\n",
    "in_label_gender = pd.merge(in_label,nodes_network,how='left',on='ID')\n",
    "in_label_male = in_label_gender[in_label_gender['Gender'] =='Male']\n",
    "in_label_female = in_label_gender[in_label_gender['Gender'] =='Female']\n",
    "number_in_male = in_label_male.groupby(['ID']).Gender.count().reset_index()\n",
    "number_in_female = in_label_female.groupby(['ID']).Gender.count().reset_index()\n",
    "number_in_male = number_in_male.rename(columns = {'Gender': 'Number of in-degree'})\n",
    "number_in_female = number_in_female.rename(columns = {'Gender': 'Number of in-degree'})\n",
    "nodes_network_male_in = nodes_network[nodes_network['Gender']=='Male']\n",
    "nodes_network_male2_in = pd.merge(nodes_network_male_in,number_in_male,how='left',on = 'ID')\n",
    "nodes_network_male3_in = nodes_network_male2_in.fillna(0)\n",
    "nodes_network_female_in = nodes_network[nodes_network['Gender']=='Female']\n",
    "nodes_network_female2_in = pd.merge(nodes_network_female_in,number_in_female,how='left',on = 'ID')\n",
    "nodes_network_female3_in=nodes_network_female2_in.fillna(0)\n",
    "nodes_network_male3_in = nodes_network_male3_in['Number of in-degree']\n",
    "nodes_network_female3_in = nodes_network_female3_in['Number of in-degree']"
   ]
  },
  {
   "cell_type": "code",
   "execution_count": 94,
   "metadata": {},
   "outputs": [
    {
     "data": {
      "text/plain": [
       "Text(0.5, 1.0, 'Number of In-degree by Gender')"
      ]
     },
     "execution_count": 94,
     "metadata": {},
     "output_type": "execute_result"
    },
    {
     "data": {
      "image/png": "[encoded data removed]",
      "text/plain": [
       "<Figure size 1080x720 with 1 Axes>"
      ]
     },
     "metadata": {
      "needs_background": "light"
     },
     "output_type": "display_data"
    }
   ],
   "source": [
    "f,ax = plt.subplots(figsize = (15,10))\n",
    "sns.histplot(nodes_network_male3_in,element='step',color='#0e2f44')\n",
    "sns.histplot(nodes_network_female3_in,element = 'step',color='#daa520')\n",
    "\n",
    "ax.set_title('Number of In-degree by Gender',fontweight = 'bold',fontsize=30)"
   ]
  },
  {
   "cell_type": "markdown",
   "metadata": {},
   "source": [
    "## Permutation test on the average In-degree between male and female group"
   ]
  },
  {
   "cell_type": "code",
   "execution_count": 88,
   "metadata": {},
   "outputs": [],
   "source": [
    "tstat,pval_ttest_in2 = ttest_ind(nodes_network_male3_in,nodes_network_female3_in)\n",
    "p_val_permu_in2 = permutation_test(nodes_network_male3_in,nodes_network_female3_in,method='approximate',num_rounds = 10000,seed=0)"
   ]
  },
  {
   "cell_type": "code",
   "execution_count": 89,
   "metadata": {},
   "outputs": [
    {
     "data": {
      "text/plain": [
       "0.5712703414065738"
      ]
     },
     "execution_count": 89,
     "metadata": {},
     "output_type": "execute_result"
    }
   ],
   "source": [
    "pval_ttest_in2"
   ]
  },
  {
   "cell_type": "code",
   "execution_count": 90,
   "metadata": {},
   "outputs": [
    {
     "data": {
      "text/plain": [
       "0.5823417658234177"
      ]
     },
     "execution_count": 90,
     "metadata": {},
     "output_type": "execute_result"
    }
   ],
   "source": [
    "p_val_permu_in2"
   ]
  },
  {
   "cell_type": "markdown",
   "metadata": {},
   "source": [
    "<b>Conclusion:</b><br>\n",
    "The p-value for the number of in-degrees is 0.58, which is greater than 0.05. We failed to reject the null hypothesis; in our smaple women have a higher connections, but this result is not statistically significant. "
   ]
  },
  {
   "cell_type": "markdown",
   "metadata": {},
   "source": [
    "## Number of in-degree by Gender (without outliers)\n",
    "\n",
    "We visually detected a couple of outliers from the histograms aboves. Since these outliers tend to be more seniors, they migth have been responsible for having more connections. Assuming that this interpretation is true, we thought that eliminating outliers might help reduce noise.  "
   ]
  },
  {
   "cell_type": "code",
   "execution_count": 101,
   "metadata": {},
   "outputs": [],
   "source": [
    "number_in_male_outlier = number_in_male[number_in_male['ID'] !=610]\n",
    "number_in_female_outlier = number_in_female[number_in_female['ID'] != 607]\n",
    "nodes_network_male_in = nodes_network[nodes_network['Gender']=='Male']\n",
    "nodes_network_male_in = nodes_network_male_in[nodes_network_male_in['ID']!=610]\n",
    "nodes_network_male2_in = pd.merge(nodes_network_male_in,number_in_male_outlier,how='left',on = 'ID')\n",
    "nodes_network_male3_in = nodes_network_male2_in.fillna(0)\n",
    "nodes_network_female_in = nodes_network[nodes_network['Gender']=='Female']\n",
    "nodes_network_female_in = nodes_network_female_in[nodes_network_female_in['ID'] != 607]\n",
    "nodes_network_female2_in = pd.merge(nodes_network_female_in,number_in_female_outlier,how='left',on = 'ID')\n",
    "nodes_network_female3_in=nodes_network_female2_in.fillna(0)\n",
    "nodes_network_male3_in_o = nodes_network_male3_in['Number of in-degree']\n",
    "nodes_network_female3_in_o = nodes_network_female3_in['Number of in-degree']\n"
   ]
  },
  {
   "cell_type": "code",
   "execution_count": 102,
   "metadata": {},
   "outputs": [
    {
     "data": {
      "text/plain": [
       "Text(0.5, 1.0, 'Number of In-degree by Gender')"
      ]
     },
     "execution_count": 102,
     "metadata": {},
     "output_type": "execute_result"
    },
    {
     "data": {
      "image/png": "[encoded data removed]",
      "text/plain": [
       "<Figure size 1080x720 with 1 Axes>"
      ]
     },
     "metadata": {
      "needs_background": "light"
     },
     "output_type": "display_data"
    }
   ],
   "source": [
    "f,ax = plt.subplots(figsize = (15,10))\n",
    "sns.histplot(nodes_network_male3_in_o,element='step',color='#0e2f44')\n",
    "sns.histplot(nodes_network_female3_in_o,element = 'step',color='#daa520')\n",
    "\n",
    "ax.set_title('Number of In-degree by Gender',fontweight = 'bold',fontsize=30)"
   ]
  },
  {
   "cell_type": "code",
   "execution_count": 103,
   "metadata": {},
   "outputs": [],
   "source": [
    "tstat,pval_ttest_in2 = ttest_ind(nodes_network_male3_in_o,nodes_network_female3_in_o)\n",
    "p_val_permu_in2 = permutation_test(nodes_network_male3_in_o,nodes_network_female3_in_o,method='approximate',num_rounds = 10000,seed=0)"
   ]
  },
  {
   "cell_type": "code",
   "execution_count": 104,
   "metadata": {},
   "outputs": [
    {
     "data": {
      "text/plain": [
       "0.5833244325643967"
      ]
     },
     "execution_count": 104,
     "metadata": {},
     "output_type": "execute_result"
    }
   ],
   "source": [
    "pval_ttest_in2"
   ]
  },
  {
   "cell_type": "code",
   "execution_count": 105,
   "metadata": {},
   "outputs": [
    {
     "data": {
      "text/plain": [
       "0.5807419258074192"
      ]
     },
     "execution_count": 105,
     "metadata": {},
     "output_type": "execute_result"
    }
   ],
   "source": [
    "p_val_permu_in2"
   ]
  },
  {
   "cell_type": "markdown",
   "metadata": {},
   "source": [
    "<b>Conclusion:</b><br>\n",
    "Even without top 3 outliers from both men and women groups, the p-value of .58 tells us that there's no statistical significant differences in the number of in-dgrees between them. "
   ]
  },
  {
   "cell_type": "code",
   "execution_count": 106,
   "metadata": {},
   "outputs": [
    {
     "name": "stdout",
     "output_type": "stream",
     "text": [
      "average number of in-degrees for male without an outlier: 8.11734693877551\n"
     ]
    }
   ],
   "source": [
    "print('average number of in-degrees for male without an outlier: {0}'.format(nodes_network_male3_in_o.mean()))"
   ]
  },
  {
   "cell_type": "code",
   "execution_count": 40,
   "metadata": {},
   "outputs": [
    {
     "name": "stdout",
     "output_type": "stream",
     "text": [
      "average number of in-degrees for female without an outlier: 7.486238532110092\n"
     ]
    }
   ],
   "source": [
    "print('average number of in-degrees for female without an outlier: {0}'.format(nodes_network_female3_in_o.mean()))"
   ]
  },
  {
   "cell_type": "markdown",
   "metadata": {},
   "source": [
    "## Number of Out-degrees by 'Gender' and 'LabeL'\n",
    "raw data: out_label_gender  -> out_label_male , out_label_female"
   ]
  },
  {
   "cell_type": "code",
   "execution_count": 107,
   "metadata": {
    "scrolled": true
   },
   "outputs": [
    {
     "name": "stdout",
     "output_type": "stream",
     "text": [
      "p-values for difference in averge out-degree by label\n"
     ]
    },
    {
     "data": {
      "text/plain": [
       "[('Energy', 0.11018898110188981),\n",
       " ('Trust', 0.616938306169383),\n",
       " ('Career Development', 0.31786821317868214),\n",
       " ('Personal Support', 0.0034996500349965005),\n",
       " ('Decision Making', 0.9222077792220778),\n",
       " ('Access', 0.51994800519948),\n",
       " ('Innovation', 0.7030296970302969),\n",
       " ('Problem Solving', 0.7081291870812919),\n",
       " ('Strategy', 0.37066293370662934)]"
      ]
     },
     "execution_count": 107,
     "metadata": {},
     "output_type": "execute_result"
    }
   ],
   "source": [
    "#number of out-degrees by gender and label\n",
    "number_degree_male_label = out_label_male.groupby(['ID','Label']).Gender.count().reset_index()\n",
    "number_degree_female_label = out_label_female.groupby(['ID','Label']).Gender.count().reset_index()\n",
    "\n",
    "#group the above data by label \n",
    "out_data_label_male = []\n",
    "for label in labels:\n",
    "    new_label = number_degree_male_label[number_degree_male_label['Label'] == label]\n",
    "    out_data_label_male.append(new_label)\n",
    "    \n",
    "out_data_label_female = []\n",
    "for label in labels:\n",
    "    new_label = number_degree_female_label[number_degree_female_label['Label'] == label]\n",
    "    out_data_label_female.append(new_label)\n",
    "\n",
    "    \n",
    "#permutation test to see if there's significant difference in the average number of out-degrees by gender and label\n",
    "p_val_permu_out_label = []\n",
    "for i in range(9):\n",
    "    p_val_permu_out_label.append(permutation_test(out_data_label_male[i].Gender,out_data_label_female[i].Gender,method='approximate',num_rounds = 10000,seed=0))\n",
    "\n",
    "#create a list: (label,p-value)\n",
    "p_val_by_label = [(label,pval) for label, pval in list(zip(labels,p_val_permu_out_label))]\n",
    "\n",
    "print('p-values for difference in averge out-degree by label')\n",
    "p_val_by_label"
   ]
  },
  {
   "cell_type": "markdown",
   "metadata": {},
   "source": [
    "\n",
    "For only personal support, there's a statistical significance in # of outdegree difference between men and women"
   ]
  },
  {
   "cell_type": "code",
   "execution_count": 108,
   "metadata": {
    "scrolled": false
   },
   "outputs": [
    {
     "name": "stdout",
     "output_type": "stream",
     "text": [
      "average # of out-degrees for men and women by label \n"
     ]
    },
    {
     "data": {
      "text/plain": [
       "[('Energy', (2.109004739336493, 2.450381679389313)),\n",
       " ('Trust', (1.9907407407407407, 2.0757575757575757)),\n",
       " ('Career Development', (1.4047619047619047, 1.5137614678899083)),\n",
       " ('Personal Support', (1.6049382716049383, 2.0172413793103448)),\n",
       " ('Decision Making', (1.730593607305936, 1.7164179104477613)),\n",
       " ('Access', (1.75, 1.9591836734693877)),\n",
       " ('Innovation', (2.1123595505617976, 2.018348623853211)),\n",
       " ('Problem Solving', (2.0688073394495414, 2.143884892086331)),\n",
       " ('Strategy', (1.6778846153846154, 1.5555555555555556))]"
      ]
     },
     "execution_count": 108,
     "metadata": {},
     "output_type": "execute_result"
    }
   ],
   "source": [
    "#average number of out-degrees by gender and label\n",
    "mean_by_label_male = []\n",
    "mean_by_label_female = []\n",
    "for i in range(9):\n",
    "    mean_by_label_male.append(out_data_label_male[i].Gender.mean())\n",
    "    mean_by_label_female.append(out_data_label_female[i].Gender.mean())\n",
    "mean_by_label = list(zip(mean_by_label_male,mean_by_label_female))\n",
    "\n",
    "#create a list: [label,mean(men,women)]\n",
    "mean_by_label = [(label,mean) for label,mean in zip(labels,mean_by_label)]\n",
    "\n",
    "#print the list\n",
    "print('average # of out-degrees for men and women by label ')\n",
    "mean_by_label"
   ]
  },
  {
   "cell_type": "markdown",
   "metadata": {},
   "source": [
    "As can be seen, other areas have simliar average connections betweeen men and women except 'Personal Support'"
   ]
  },
  {
   "cell_type": "markdown",
   "metadata": {},
   "source": [
    "## Gender Assortativity by Division"
   ]
  },
  {
   "cell_type": "code",
   "execution_count": 50,
   "metadata": {},
   "outputs": [],
   "source": [
    "nodes_all2 = pd.read_csv(r'/Users/PJMoon/Data_Science_Projects/SNA/Assortativity/Nodes with attributes_V2.csv')"
   ]
  },
  {
   "cell_type": "code",
   "execution_count": 51,
   "metadata": {
    "scrolled": true
   },
   "outputs": [
    {
     "data": {
      "text/plain": [
       "Index(['ID', 'Full Name', 'Invited', 'Responded', 'Organization', 'Division',\n",
       "       'Function/Deparment', 'Title', 'Level', 'Location', 'Tenure', 'Manager',\n",
       "       'Team', 'Gender', 'Unnamed: 14', 'Unnamed: 15', 'Unnamed: 16',\n",
       "       'Unnamed: 17', 'Unnamed: 18', 'Unnamed: 19', 'Unnamed: 20',\n",
       "       'Unnamed: 21', 'Unnamed: 22', 'Unnamed: 23', 'Unnamed: 24',\n",
       "       'Unnamed: 25', 'Unnamed: 26', 'Unnamed: 27'],\n",
       "      dtype='object')"
      ]
     },
     "execution_count": 51,
     "metadata": {},
     "output_type": "execute_result"
    }
   ],
   "source": [
    "nodes_all2.columns"
   ]
  },
  {
   "cell_type": "code",
   "execution_count": 52,
   "metadata": {
    "scrolled": true
   },
   "outputs": [
    {
     "name": "stderr",
     "output_type": "stream",
     "text": [
      "<ipython-input-52-aceb3dc02e28>:5: SettingWithCopyWarning: \n",
      "A value is trying to be set on a copy of a slice from a DataFrame\n",
      "\n",
      "See the caveats in the documentation: https://pandas.pydata.org/pandas-docs/stable/user_guide/indexing.html#returning-a-view-versus-a-copy\n",
      "  nodes_div.dropna(subset=['ID','Gender','Division'],inplace = True)\n",
      "<ipython-input-52-aceb3dc02e28>:8: SettingWithCopyWarning: \n",
      "A value is trying to be set on a copy of a slice from a DataFrame.\n",
      "Try using .loc[row_indexer,col_indexer] = value instead\n",
      "\n",
      "See the caveats in the documentation: https://pandas.pydata.org/pandas-docs/stable/user_guide/indexing.html#returning-a-view-versus-a-copy\n",
      "  nodes_div['ID2']= a\n"
     ]
    }
   ],
   "source": [
    "#select columns of interst from node data \n",
    "nodes_div = nodes_all2[['ID','Gender','Division']]\n",
    "\n",
    "#drop rows with N/A\n",
    "nodes_div.dropna(subset=['ID','Gender','Division'],inplace = True)\n",
    "\n",
    "#add a ID2 column with a series:(0,612)\n",
    "nodes_div['ID2']= a\n",
    "nodes_div_temp = nodes_div\n",
    "\n",
    "#rearrange the order of columns\n",
    "nodes_div_temp = nodes_div_temp[['ID2','Gender','Division']]\n",
    "\n",
    "\n",
    "#encode the gender variable\n",
    "nodes_div_temp['Gender2'] = nodes_div_temp['Gender'].map({'Male':1,'Female':2})\n",
    "\n",
    "#create a division name list\n",
    "divisions = nodes_div.Division.unique()\n",
    "nodes_division = []\n",
    "for division in divisions:\n",
    "    nodes_division.append(nodes_div_temp[nodes_div_temp['Division'] == division])\n",
    "    \n",
    "\n",
    "#create a division size list\n",
    "division_size = []\n",
    "for i in range(len(divisions)):\n",
    "    division_size.append(len(nodes_division[i]))\n",
    "\n",
    "\n",
    "#combine division names and division size into a list\n",
    "division_size = [(divisions,size) for divisions,size in list(zip(divisions,division_size))]"
   ]
  },
  {
   "cell_type": "code",
   "execution_count": 53,
   "metadata": {},
   "outputs": [],
   "source": [
    "#Link data preprocessing\n",
    "nodes_div2 = nodes_div.rename(columns = {'ID':'Target','ID2':'ID_Target'})\n",
    "link_div = link[['Source','Target']]\n",
    "link_div = link_div.rename(columns = {'Source' : 'ID'})\n",
    "link_div2 = pd.merge(link_div,nodes_div,how='left')\n",
    "link_div3 = pd.merge(link_div2,nodes_div2,how='left',on='Target')\n",
    "link_div4 = link_div3[['ID2','ID_Target','Division_x']]\n",
    "link_final_div = link_div4.rename(columns = {'ID2':'Source','ID_Target':'Target','Division_x':'Division_source'})\n",
    "link_final_div['link'] = list(zip(link_final_div['Source'],link_final_div['Target']))\n",
    "link_final_div = link_final_div[['link','Division_source']]\n",
    "\n",
    "link_by_div = []\n",
    "for division in divisions:\n",
    "    link_by_div.append(link_final_div[link_final_div['Division_source'] == division])"
   ]
  },
  {
   "cell_type": "code",
   "execution_count": 54,
   "metadata": {},
   "outputs": [],
   "source": [
    "total_div = []\n",
    "male_female_div = []\n",
    "male_male_div = []\n",
    "female_male_div = []\n",
    "female_female_div = []\n",
    "for i in range(len(divisions)):\n",
    "    total_div.append(len(link_div3[link_div3['Division_x']==divisions[i]]))\n",
    "    male_female_div.append(len(link_div3[(link_div3['Division_x'] == divisions[i]) & (link_div3['Gender_x'] == 'Male') &(link_div3['Gender_y'] =='Female')]))\n",
    "    male_male_div.append(len(link_div3[(link_div3['Division_x'] == divisions[i]) & (link_div3['Gender_x'] == 'Male') &(link_div3['Gender_y'] =='Male')]))\n",
    "    female_female_div.append(len(link_div3[(link_div3['Division_x'] == divisions[i]) & (link_div3['Gender_x'] == 'Female') &(link_div3['Gender_y'] =='Female')]))\n",
    "    female_male_div.append(len(link_div3[(link_div3['Division_x'] == divisions[i]) & (link_div3['Gender_x'] == 'Female') &(link_div3['Gender_y'] =='Male')]))\n",
    "\n",
    "link_distribution_division = pd.DataFrame(list(zip(total_div,male_male_div,male_female_div,female_female_div,female_male_div)),columns = ['total links','male to male','male to female','female to female','female to male'],\n",
    "                                         index = [division for division in divisions ])\n",
    "    "
   ]
  },
  {
   "cell_type": "code",
   "execution_count": 55,
   "metadata": {},
   "outputs": [],
   "source": [
    "#Creating a network and compute the assortativity\n",
    "assort_by_div = []\n",
    "for i in range(len(divisions)):\n",
    "    g1 = ig.Graph()\n",
    "    g1.add_vertices([i for i in range(0,612)])\n",
    "    g1.add_edges(link_by_div[i]['link'])\n",
    "    g1.vs['Gender'] = nodes_network['Gender2']\n",
    "    assort_by_div.append(g1.assortativity_nominal('Gender',directed=True))\n",
    "\n",
    "assort_div = [(division,assortativity) for division,assortativity in zip(divisions,assort_by_div)]"
   ]
  },
  {
   "cell_type": "code",
   "execution_count": 56,
   "metadata": {},
   "outputs": [
    {
     "data": {
      "text/plain": [
       "[0.3818930426238713,\n",
       " 0.20319246100685065,\n",
       " 0.055196360153256706,\n",
       " 0.022812393598910505,\n",
       " 0.13928579015571557,\n",
       " 0.21015983076742273,\n",
       " 0.12218475061223537,\n",
       " 0.08910256410256412,\n",
       " -0.1069615069615072]"
      ]
     },
     "execution_count": 56,
     "metadata": {},
     "output_type": "execute_result"
    }
   ],
   "source": [
    "assort_by_div"
   ]
  },
  {
   "cell_type": "code",
   "execution_count": 57,
   "metadata": {
    "scrolled": true
   },
   "outputs": [
    {
     "data": {
      "text/plain": [
       "[('Andrew Corkum', 0.3818930426238713),\n",
       " ('Bob Bolger', 0.20319246100685065),\n",
       " ('Dennis Bassett', 0.055196360153256706),\n",
       " ('Glen Tinevez', 0.022812393598910505),\n",
       " ('John Meckles', 0.13928579015571557),\n",
       " ('Kristy Hanson', 0.21015983076742273),\n",
       " ('Patrick Rigby', 0.12218475061223537),\n",
       " ('Timothy Adams', 0.08910256410256412),\n",
       " ('Michael Iskra', -0.1069615069615072)]"
      ]
     },
     "execution_count": 57,
     "metadata": {},
     "output_type": "execute_result"
    }
   ],
   "source": [
    "assort_div"
   ]
  },
  {
   "cell_type": "code",
   "execution_count": 109,
   "metadata": {},
   "outputs": [],
   "source": [
    "link_distribution_division['Assortativity'] = assort_by_div"
   ]
  },
  {
   "cell_type": "code",
   "execution_count": 110,
   "metadata": {},
   "outputs": [
    {
     "data": {
      "text/html": [
       "<div>\n",
       "<style scoped>\n",
       "    .dataframe tbody tr th:only-of-type {\n",
       "        vertical-align: middle;\n",
       "    }\n",
       "\n",
       "    .dataframe tbody tr th {\n",
       "        vertical-align: top;\n",
       "    }\n",
       "\n",
       "    .dataframe thead th {\n",
       "        text-align: right;\n",
       "    }\n",
       "</style>\n",
       "<table border=\"1\" class=\"dataframe\">\n",
       "  <thead>\n",
       "    <tr style=\"text-align: right;\">\n",
       "      <th></th>\n",
       "      <th>total links</th>\n",
       "      <th>male to male</th>\n",
       "      <th>male to female</th>\n",
       "      <th>female to female</th>\n",
       "      <th>female to male</th>\n",
       "      <th>Assortativity</th>\n",
       "    </tr>\n",
       "  </thead>\n",
       "  <tbody>\n",
       "    <tr>\n",
       "      <th>Andrew Corkum</th>\n",
       "      <td>327</td>\n",
       "      <td>109</td>\n",
       "      <td>49</td>\n",
       "      <td>117</td>\n",
       "      <td>52</td>\n",
       "      <td>0.381893</td>\n",
       "    </tr>\n",
       "    <tr>\n",
       "      <th>Bob Bolger</th>\n",
       "      <td>826</td>\n",
       "      <td>242</td>\n",
       "      <td>61</td>\n",
       "      <td>255</td>\n",
       "      <td>268</td>\n",
       "      <td>0.203192</td>\n",
       "    </tr>\n",
       "    <tr>\n",
       "      <th>Dennis Bassett</th>\n",
       "      <td>607</td>\n",
       "      <td>145</td>\n",
       "      <td>154</td>\n",
       "      <td>176</td>\n",
       "      <td>132</td>\n",
       "      <td>0.055196</td>\n",
       "    </tr>\n",
       "    <tr>\n",
       "      <th>Glen Tinevez</th>\n",
       "      <td>205</td>\n",
       "      <td>88</td>\n",
       "      <td>21</td>\n",
       "      <td>26</td>\n",
       "      <td>70</td>\n",
       "      <td>0.022812</td>\n",
       "    </tr>\n",
       "    <tr>\n",
       "      <th>John Meckles</th>\n",
       "      <td>509</td>\n",
       "      <td>232</td>\n",
       "      <td>82</td>\n",
       "      <td>78</td>\n",
       "      <td>117</td>\n",
       "      <td>0.139286</td>\n",
       "    </tr>\n",
       "    <tr>\n",
       "      <th>Kristy Hanson</th>\n",
       "      <td>522</td>\n",
       "      <td>151</td>\n",
       "      <td>108</td>\n",
       "      <td>165</td>\n",
       "      <td>98</td>\n",
       "      <td>0.210160</td>\n",
       "    </tr>\n",
       "    <tr>\n",
       "      <th>Patrick Rigby</th>\n",
       "      <td>1351</td>\n",
       "      <td>1129</td>\n",
       "      <td>75</td>\n",
       "      <td>25</td>\n",
       "      <td>122</td>\n",
       "      <td>0.122185</td>\n",
       "    </tr>\n",
       "    <tr>\n",
       "      <th>Timothy Adams</th>\n",
       "      <td>637</td>\n",
       "      <td>180</td>\n",
       "      <td>135</td>\n",
       "      <td>167</td>\n",
       "      <td>155</td>\n",
       "      <td>0.089103</td>\n",
       "    </tr>\n",
       "    <tr>\n",
       "      <th>Michael Iskra</th>\n",
       "      <td>109</td>\n",
       "      <td>77</td>\n",
       "      <td>21</td>\n",
       "      <td>1</td>\n",
       "      <td>10</td>\n",
       "      <td>-0.106962</td>\n",
       "    </tr>\n",
       "  </tbody>\n",
       "</table>\n",
       "</div>"
      ],
      "text/plain": [
       "                total links  male to male  male to female  female to female  \\\n",
       "Andrew Corkum           327           109              49               117   \n",
       "Bob Bolger              826           242              61               255   \n",
       "Dennis Bassett          607           145             154               176   \n",
       "Glen Tinevez            205            88              21                26   \n",
       "John Meckles            509           232              82                78   \n",
       "Kristy Hanson           522           151             108               165   \n",
       "Patrick Rigby          1351          1129              75                25   \n",
       "Timothy Adams           637           180             135               167   \n",
       "Michael Iskra           109            77              21                 1   \n",
       "\n",
       "                female to male  Assortativity  \n",
       "Andrew Corkum               52       0.381893  \n",
       "Bob Bolger                 268       0.203192  \n",
       "Dennis Bassett             132       0.055196  \n",
       "Glen Tinevez                70       0.022812  \n",
       "John Meckles               117       0.139286  \n",
       "Kristy Hanson               98       0.210160  \n",
       "Patrick Rigby              122       0.122185  \n",
       "Timothy Adams              155       0.089103  \n",
       "Michael Iskra               10      -0.106962  "
      ]
     },
     "execution_count": 110,
     "metadata": {},
     "output_type": "execute_result"
    }
   ],
   "source": [
    "link_distribution_division"
   ]
  },
  {
   "cell_type": "markdown",
   "metadata": {},
   "source": [
    "## Difference in Average # of out-degrees by Level"
   ]
  },
  {
   "cell_type": "code",
   "execution_count": 59,
   "metadata": {
    "scrolled": true
   },
   "outputs": [
    {
     "name": "stderr",
     "output_type": "stream",
     "text": [
      "<ipython-input-59-b6f260a1b386>:5: SettingWithCopyWarning: \n",
      "A value is trying to be set on a copy of a slice from a DataFrame\n",
      "\n",
      "See the caveats in the documentation: https://pandas.pydata.org/pandas-docs/stable/user_guide/indexing.html#returning-a-view-versus-a-copy\n",
      "  nodes_level.dropna(subset=['ID','Gender','Level'],inplace = True)\n",
      "<ipython-input-59-b6f260a1b386>:8: SettingWithCopyWarning: \n",
      "A value is trying to be set on a copy of a slice from a DataFrame.\n",
      "Try using .loc[row_indexer,col_indexer] = value instead\n",
      "\n",
      "See the caveats in the documentation: https://pandas.pydata.org/pandas-docs/stable/user_guide/indexing.html#returning-a-view-versus-a-copy\n",
      "  nodes_level['ID2']= a\n"
     ]
    }
   ],
   "source": [
    "#select columns of interst from node data \n",
    "nodes_level = nodes_all2[['ID','Gender','Level']]\n",
    "\n",
    "#drop rows with N/A\n",
    "nodes_level.dropna(subset=['ID','Gender','Level'],inplace = True)\n",
    "\n",
    "#add a ID2 column with a series:(0,612)\n",
    "nodes_level['ID2']= a\n",
    "nodes_level_temp = nodes_level\n",
    "\n",
    "\n",
    "#rearrange the order of columns\n",
    "nodes_level_temp = nodes_level_temp[['ID2','Gender','Level']]\n",
    "\n",
    "\n",
    "#encode the gender variable\n",
    "nodes_level_temp['Gender2'] = nodes_level_temp['Gender'].map({'Male':1,'Female':2})\n",
    "nodes_level_temp_male = nodes_level_temp[nodes_level_temp['Gender'] =='Male'].rename(columns = {'ID2':'ID'})\n",
    "nodes_level_temp_female = nodes_level_temp[nodes_level_temp['Gender'] =='Female'].rename(columns = {'ID2': 'ID'})\n",
    "\n",
    "\n",
    "nodes_level_temp = nodes_level_temp.rename(columns={'ID2':'Source'})\n",
    "nodes_level_temp2 = nodes_level_temp.rename(columns={'Source': 'Target'})\n",
    "\n",
    "nodes_level2 = nodes_level.rename(columns = {'ID':'Target','ID2':'ID_Target'})\n",
    "\n"
   ]
  },
  {
   "cell_type": "code",
   "execution_count": 60,
   "metadata": {},
   "outputs": [
    {
     "name": "stderr",
     "output_type": "stream",
     "text": [
      "/Users/PJMoon/opt/anaconda3/lib/python3.8/site-packages/numpy/core/fromnumeric.py:3372: RuntimeWarning: Mean of empty slice.\n",
      "  return _methods._mean(a, axis=axis, dtype=dtype,\n",
      "/Users/PJMoon/opt/anaconda3/lib/python3.8/site-packages/numpy/core/_methods.py:170: RuntimeWarning: invalid value encountered in double_scalars\n",
      "  ret = ret.dtype.type(ret / rcount)\n"
     ]
    }
   ],
   "source": [
    "#link data preprocessing - male\n",
    "link_level_male = pd.merge(nodes_network_male21,nodes_level_temp_male,how='left')\n",
    "link_level_male = link_level_male.fillna(0)\n",
    "\n",
    "#link data preprocessing - female\n",
    "link_level_female = pd.merge(nodes_network_female21,nodes_level_temp_female,how='left')\n",
    "link_level_female = link_level_female.fillna(0)\n",
    "\n",
    "\n",
    "#break gender data in different levels\n",
    "level_male_data = []\n",
    "for i in range(1,6):\n",
    "    level_male_data.append(link_level_male[link_level_male['Level'] == i])\n",
    "    \n",
    "level_female_data = []\n",
    "for i in range(1,6):\n",
    "    level_female_data.append(link_level_female[link_level_female['Level'] == i])\n",
    "    \n",
    "pval_by_level = []\n",
    "pval_by_level_t = []\n",
    "for i in range(0,5):\n",
    "     pval_by_level.append(permutation_test(level_male_data[i]['Number of out-degree'],level_female_data[i]['Number of out-degree'],method='approximate',num_rounds = 10000,seed=0))\n",
    "     pval_by_level_t.append(ttest_ind(level_male_data[i]['Number of out-degree'],level_female_data[i]['Number of out-degree']))\n",
    "    \n",
    "\n",
    "level = ['Level:{0}'.format(v) for v in list(range(1,6)) ]  \n",
    "level2 = ['Level {0}:[male,female]'.format(v) for v in list(range(1,6))]\n",
    "level3 = ['Level:{0}'.format(v) for v in list(range(1,6))]\n",
    "\n",
    "pval_by_level2 = [(level,pval) for level,pval in zip(level,pval_by_level)]\n",
    "pval_by_level_t2 = [(level,pval) for level,pval in zip(level,pval_by_level_t)]        \n",
    "        \n",
    "\n",
    "    "
   ]
  },
  {
   "cell_type": "code",
   "execution_count": 61,
   "metadata": {},
   "outputs": [
    {
     "data": {
      "text/plain": [
       "[('Level:1', 9.999000099990002e-05),\n",
       " ('Level:2', 0.22257774222577742),\n",
       " ('Level:3', 0.6102389761023898),\n",
       " ('Level:4', 0.31556844315568444),\n",
       " ('Level:5', 0.0036996300369963003)]"
      ]
     },
     "execution_count": 61,
     "metadata": {},
     "output_type": "execute_result"
    }
   ],
   "source": [
    "pval_by_level2"
   ]
  },
  {
   "cell_type": "code",
   "execution_count": 62,
   "metadata": {},
   "outputs": [
    {
     "data": {
      "text/plain": [
       "[('Level:1', Ttest_indResult(statistic=nan, pvalue=nan)),\n",
       " ('Level:2',\n",
       "  Ttest_indResult(statistic=1.7099855651178442, pvalue=0.13101252402855024)),\n",
       " ('Level:3',\n",
       "  Ttest_indResult(statistic=-0.520522419060359, pvalue=0.6045241112974844)),\n",
       " ('Level:4',\n",
       "  Ttest_indResult(statistic=0.9991654524217599, pvalue=0.31869237839015446)),\n",
       " ('Level:5',\n",
       "  Ttest_indResult(statistic=-3.036302401463178, pvalue=0.002615686787267152))]"
      ]
     },
     "execution_count": 62,
     "metadata": {},
     "output_type": "execute_result"
    }
   ],
   "source": [
    "pval_by_level_t2"
   ]
  },
  {
   "cell_type": "code",
   "execution_count": 63,
   "metadata": {},
   "outputs": [],
   "source": [
    "#find the number of data by gender and level\n",
    "male_n = []\n",
    "female_n = []\n",
    "for i in range(0,5):\n",
    "    male_n.append(len(level_male_data[i]))\n",
    "    female_n.append(len(level_female_data[i]))\n",
    "n_by_level = list(zip(male_n,female_n))  \n",
    "n_by_level = dict(zip(level2,n_by_level))"
   ]
  },
  {
   "cell_type": "code",
   "execution_count": 64,
   "metadata": {},
   "outputs": [
    {
     "data": {
      "text/plain": [
       "{'Level 1:[male,female]': (1, 0),\n",
       " 'Level 2:[male,female]': (7, 2),\n",
       " 'Level 3:[male,female]': (42, 23),\n",
       " 'Level 4:[male,female]': (126, 123),\n",
       " 'Level 5:[male,female]': (217, 71)}"
      ]
     },
     "execution_count": 64,
     "metadata": {},
     "output_type": "execute_result"
    }
   ],
   "source": [
    "n_by_level"
   ]
  },
  {
   "cell_type": "code",
   "execution_count": 65,
   "metadata": {},
   "outputs": [],
   "source": [
    "#find the average number of out-degrees by gender and level\n",
    "male_mean_degree = []\n",
    "female_mean_degree = []\n",
    "for i in range(0,5):\n",
    "    male_mean_degree.append(level_male_data[i]['Number of out-degree'].mean())\n",
    "    female_mean_degree.append(level_female_data[i]['Number of out-degree'].mean())\n",
    "    \n",
    "mean_degree_level = list(zip(male_mean_degree,female_mean_degree))  \n",
    "mean_degree_level = dict(zip(level3,mean_degree_level))"
   ]
  },
  {
   "cell_type": "code",
   "execution_count": 66,
   "metadata": {},
   "outputs": [
    {
     "data": {
      "text/plain": [
       "{'Level:1': (10.0, nan),\n",
       " 'Level:2': (12.571428571428571, 5.5),\n",
       " 'Level:3': (11.119047619047619, 12.347826086956522),\n",
       " 'Level:4': (10.119047619047619, 8.934959349593496),\n",
       " 'Level:5': (5.617511520737327, 9.014084507042254)}"
      ]
     },
     "execution_count": 66,
     "metadata": {},
     "output_type": "execute_result"
    }
   ],
   "source": [
    "mean_degree_level"
   ]
  },
  {
   "cell_type": "markdown",
   "metadata": {},
   "source": [
    "## Difference in Average # of In-degrees by Level"
   ]
  },
  {
   "cell_type": "code",
   "execution_count": 113,
   "metadata": {},
   "outputs": [
    {
     "data": {
      "text/html": [
       "<div>\n",
       "<style scoped>\n",
       "    .dataframe tbody tr th:only-of-type {\n",
       "        vertical-align: middle;\n",
       "    }\n",
       "\n",
       "    .dataframe tbody tr th {\n",
       "        vertical-align: top;\n",
       "    }\n",
       "\n",
       "    .dataframe thead th {\n",
       "        text-align: right;\n",
       "    }\n",
       "</style>\n",
       "<table border=\"1\" class=\"dataframe\">\n",
       "  <thead>\n",
       "    <tr style=\"text-align: right;\">\n",
       "      <th></th>\n",
       "      <th>ID</th>\n",
       "      <th>Gender</th>\n",
       "      <th>Gender2</th>\n",
       "      <th>Number of in-degree</th>\n",
       "      <th>Level</th>\n",
       "    </tr>\n",
       "  </thead>\n",
       "  <tbody>\n",
       "    <tr>\n",
       "      <th>0</th>\n",
       "      <td>177</td>\n",
       "      <td>Male</td>\n",
       "      <td>1</td>\n",
       "      <td>6.0</td>\n",
       "      <td>4.0</td>\n",
       "    </tr>\n",
       "    <tr>\n",
       "      <th>1</th>\n",
       "      <td>178</td>\n",
       "      <td>Male</td>\n",
       "      <td>1</td>\n",
       "      <td>0.0</td>\n",
       "      <td>4.0</td>\n",
       "    </tr>\n",
       "    <tr>\n",
       "      <th>2</th>\n",
       "      <td>179</td>\n",
       "      <td>Male</td>\n",
       "      <td>1</td>\n",
       "      <td>11.0</td>\n",
       "      <td>4.0</td>\n",
       "    </tr>\n",
       "    <tr>\n",
       "      <th>3</th>\n",
       "      <td>180</td>\n",
       "      <td>Male</td>\n",
       "      <td>1</td>\n",
       "      <td>0.0</td>\n",
       "      <td>4.0</td>\n",
       "    </tr>\n",
       "    <tr>\n",
       "      <th>4</th>\n",
       "      <td>181</td>\n",
       "      <td>Male</td>\n",
       "      <td>1</td>\n",
       "      <td>4.0</td>\n",
       "      <td>5.0</td>\n",
       "    </tr>\n",
       "    <tr>\n",
       "      <th>...</th>\n",
       "      <td>...</td>\n",
       "      <td>...</td>\n",
       "      <td>...</td>\n",
       "      <td>...</td>\n",
       "      <td>...</td>\n",
       "    </tr>\n",
       "    <tr>\n",
       "      <th>387</th>\n",
       "      <td>604</td>\n",
       "      <td>Male</td>\n",
       "      <td>1</td>\n",
       "      <td>65.0</td>\n",
       "      <td>2.0</td>\n",
       "    </tr>\n",
       "    <tr>\n",
       "      <th>388</th>\n",
       "      <td>606</td>\n",
       "      <td>Male</td>\n",
       "      <td>1</td>\n",
       "      <td>13.0</td>\n",
       "      <td>2.0</td>\n",
       "    </tr>\n",
       "    <tr>\n",
       "      <th>389</th>\n",
       "      <td>608</td>\n",
       "      <td>Male</td>\n",
       "      <td>1</td>\n",
       "      <td>53.0</td>\n",
       "      <td>2.0</td>\n",
       "    </tr>\n",
       "    <tr>\n",
       "      <th>390</th>\n",
       "      <td>609</td>\n",
       "      <td>Male</td>\n",
       "      <td>1</td>\n",
       "      <td>73.0</td>\n",
       "      <td>2.0</td>\n",
       "    </tr>\n",
       "    <tr>\n",
       "      <th>391</th>\n",
       "      <td>611</td>\n",
       "      <td>Male</td>\n",
       "      <td>1</td>\n",
       "      <td>0.0</td>\n",
       "      <td>2.0</td>\n",
       "    </tr>\n",
       "  </tbody>\n",
       "</table>\n",
       "<p>392 rows × 5 columns</p>\n",
       "</div>"
      ],
      "text/plain": [
       "      ID Gender  Gender2  Number of in-degree  Level\n",
       "0    177   Male        1                  6.0    4.0\n",
       "1    178   Male        1                  0.0    4.0\n",
       "2    179   Male        1                 11.0    4.0\n",
       "3    180   Male        1                  0.0    4.0\n",
       "4    181   Male        1                  4.0    5.0\n",
       "..   ...    ...      ...                  ...    ...\n",
       "387  604   Male        1                 65.0    2.0\n",
       "388  606   Male        1                 13.0    2.0\n",
       "389  608   Male        1                 53.0    2.0\n",
       "390  609   Male        1                 73.0    2.0\n",
       "391  611   Male        1                  0.0    2.0\n",
       "\n",
       "[392 rows x 5 columns]"
      ]
     },
     "execution_count": 113,
     "metadata": {},
     "output_type": "execute_result"
    }
   ],
   "source": [
    "link_level_male_i"
   ]
  },
  {
   "cell_type": "code",
   "execution_count": 118,
   "metadata": {},
   "outputs": [
    {
     "data": {
      "text/html": [
       "<div>\n",
       "<style scoped>\n",
       "    .dataframe tbody tr th:only-of-type {\n",
       "        vertical-align: middle;\n",
       "    }\n",
       "\n",
       "    .dataframe tbody tr th {\n",
       "        vertical-align: top;\n",
       "    }\n",
       "\n",
       "    .dataframe thead th {\n",
       "        text-align: right;\n",
       "    }\n",
       "</style>\n",
       "<table border=\"1\" class=\"dataframe\">\n",
       "  <thead>\n",
       "    <tr style=\"text-align: right;\">\n",
       "      <th></th>\n",
       "      <th>Source</th>\n",
       "      <th>Gender</th>\n",
       "      <th>Level</th>\n",
       "      <th>Gender2</th>\n",
       "    </tr>\n",
       "  </thead>\n",
       "  <tbody>\n",
       "    <tr>\n",
       "      <th>610</th>\n",
       "      <td>610</td>\n",
       "      <td>Male</td>\n",
       "      <td>1.0</td>\n",
       "      <td>1</td>\n",
       "    </tr>\n",
       "  </tbody>\n",
       "</table>\n",
       "</div>"
      ],
      "text/plain": [
       "     Source Gender  Level  Gender2\n",
       "610     610   Male    1.0        1"
      ]
     },
     "execution_count": 118,
     "metadata": {},
     "output_type": "execute_result"
    }
   ],
   "source": [
    "nodes_level_temp[nodes_level_temp['Level']==1]"
   ]
  },
  {
   "cell_type": "code",
   "execution_count": 122,
   "metadata": {},
   "outputs": [
    {
     "data": {
      "text/html": [
       "<div>\n",
       "<style scoped>\n",
       "    .dataframe tbody tr th:only-of-type {\n",
       "        vertical-align: middle;\n",
       "    }\n",
       "\n",
       "    .dataframe tbody tr th {\n",
       "        vertical-align: top;\n",
       "    }\n",
       "\n",
       "    .dataframe thead th {\n",
       "        text-align: right;\n",
       "    }\n",
       "</style>\n",
       "<table border=\"1\" class=\"dataframe\">\n",
       "  <thead>\n",
       "    <tr style=\"text-align: right;\">\n",
       "      <th></th>\n",
       "      <th>ID</th>\n",
       "      <th>Gender</th>\n",
       "      <th>Gender2</th>\n",
       "      <th>Number of in-degree</th>\n",
       "    </tr>\n",
       "  </thead>\n",
       "  <tbody>\n",
       "    <tr>\n",
       "      <th>0</th>\n",
       "      <td>177</td>\n",
       "      <td>Male</td>\n",
       "      <td>1</td>\n",
       "      <td>6.0</td>\n",
       "    </tr>\n",
       "    <tr>\n",
       "      <th>1</th>\n",
       "      <td>178</td>\n",
       "      <td>Male</td>\n",
       "      <td>1</td>\n",
       "      <td>NaN</td>\n",
       "    </tr>\n",
       "    <tr>\n",
       "      <th>2</th>\n",
       "      <td>179</td>\n",
       "      <td>Male</td>\n",
       "      <td>1</td>\n",
       "      <td>11.0</td>\n",
       "    </tr>\n",
       "    <tr>\n",
       "      <th>3</th>\n",
       "      <td>180</td>\n",
       "      <td>Male</td>\n",
       "      <td>1</td>\n",
       "      <td>NaN</td>\n",
       "    </tr>\n",
       "    <tr>\n",
       "      <th>4</th>\n",
       "      <td>181</td>\n",
       "      <td>Male</td>\n",
       "      <td>1</td>\n",
       "      <td>4.0</td>\n",
       "    </tr>\n",
       "    <tr>\n",
       "      <th>...</th>\n",
       "      <td>...</td>\n",
       "      <td>...</td>\n",
       "      <td>...</td>\n",
       "      <td>...</td>\n",
       "    </tr>\n",
       "    <tr>\n",
       "      <th>387</th>\n",
       "      <td>604</td>\n",
       "      <td>Male</td>\n",
       "      <td>1</td>\n",
       "      <td>65.0</td>\n",
       "    </tr>\n",
       "    <tr>\n",
       "      <th>388</th>\n",
       "      <td>606</td>\n",
       "      <td>Male</td>\n",
       "      <td>1</td>\n",
       "      <td>13.0</td>\n",
       "    </tr>\n",
       "    <tr>\n",
       "      <th>389</th>\n",
       "      <td>608</td>\n",
       "      <td>Male</td>\n",
       "      <td>1</td>\n",
       "      <td>53.0</td>\n",
       "    </tr>\n",
       "    <tr>\n",
       "      <th>390</th>\n",
       "      <td>609</td>\n",
       "      <td>Male</td>\n",
       "      <td>1</td>\n",
       "      <td>73.0</td>\n",
       "    </tr>\n",
       "    <tr>\n",
       "      <th>391</th>\n",
       "      <td>611</td>\n",
       "      <td>Male</td>\n",
       "      <td>1</td>\n",
       "      <td>NaN</td>\n",
       "    </tr>\n",
       "  </tbody>\n",
       "</table>\n",
       "<p>392 rows × 4 columns</p>\n",
       "</div>"
      ],
      "text/plain": [
       "      ID Gender  Gender2  Number of in-degree\n",
       "0    177   Male        1                  6.0\n",
       "1    178   Male        1                  NaN\n",
       "2    179   Male        1                 11.0\n",
       "3    180   Male        1                  NaN\n",
       "4    181   Male        1                  4.0\n",
       "..   ...    ...      ...                  ...\n",
       "387  604   Male        1                 65.0\n",
       "388  606   Male        1                 13.0\n",
       "389  608   Male        1                 53.0\n",
       "390  609   Male        1                 73.0\n",
       "391  611   Male        1                  NaN\n",
       "\n",
       "[392 rows x 4 columns]"
      ]
     },
     "execution_count": 122,
     "metadata": {},
     "output_type": "execute_result"
    }
   ],
   "source": [
    "nodes_network_male2_in"
   ]
  },
  {
   "cell_type": "code",
   "execution_count": 123,
   "metadata": {
    "scrolled": true
   },
   "outputs": [
    {
     "data": {
      "text/html": [
       "<div>\n",
       "<style scoped>\n",
       "    .dataframe tbody tr th:only-of-type {\n",
       "        vertical-align: middle;\n",
       "    }\n",
       "\n",
       "    .dataframe tbody tr th {\n",
       "        vertical-align: top;\n",
       "    }\n",
       "\n",
       "    .dataframe thead th {\n",
       "        text-align: right;\n",
       "    }\n",
       "</style>\n",
       "<table border=\"1\" class=\"dataframe\">\n",
       "  <thead>\n",
       "    <tr style=\"text-align: right;\">\n",
       "      <th></th>\n",
       "      <th>ID</th>\n",
       "      <th>Gender</th>\n",
       "      <th>Gender2</th>\n",
       "      <th>Number of in-degree</th>\n",
       "    </tr>\n",
       "  </thead>\n",
       "  <tbody>\n",
       "  </tbody>\n",
       "</table>\n",
       "</div>"
      ],
      "text/plain": [
       "Empty DataFrame\n",
       "Columns: [ID, Gender, Gender2, Number of in-degree]\n",
       "Index: []"
      ]
     },
     "execution_count": 123,
     "metadata": {},
     "output_type": "execute_result"
    }
   ],
   "source": [
    "nodes_network_male2_in[nodes_network_male2_in['ID'] == 610]"
   ]
  },
  {
   "cell_type": "code",
   "execution_count": 67,
   "metadata": {},
   "outputs": [
    {
     "name": "stderr",
     "output_type": "stream",
     "text": [
      "/Users/PJMoon/opt/anaconda3/lib/python3.8/site-packages/numpy/core/fromnumeric.py:3372: RuntimeWarning: Mean of empty slice.\n",
      "  return _methods._mean(a, axis=axis, dtype=dtype,\n",
      "/Users/PJMoon/opt/anaconda3/lib/python3.8/site-packages/numpy/core/_methods.py:170: RuntimeWarning: invalid value encountered in double_scalars\n",
      "  ret = ret.dtype.type(ret / rcount)\n",
      "/Users/PJMoon/opt/anaconda3/lib/python3.8/site-packages/numpy/core/fromnumeric.py:3621: RuntimeWarning: Degrees of freedom <= 0 for slice\n",
      "  return _methods._var(a, axis=axis, dtype=dtype, out=out, ddof=ddof,\n",
      "/Users/PJMoon/opt/anaconda3/lib/python3.8/site-packages/numpy/core/_methods.py:226: RuntimeWarning: invalid value encountered in double_scalars\n",
      "  ret = ret.dtype.type(ret / rcount)\n"
     ]
    }
   ],
   "source": [
    "#link data preprocessing - male\n",
    "link_level_male_in = pd.merge(nodes_network_male2_in,nodes_level_temp_male,how='left')\n",
    "link_level_male_in = link_level_male_in.fillna(0)\n",
    "\n",
    "#link data preprocessing - female\n",
    "link_level_female_in = pd.merge(nodes_network_female2_in,nodes_level_temp_female,how='left')\n",
    "link_level_female_in = link_level_female_in.fillna(0)\n",
    "\n",
    "\n",
    "#split gender data in five different levels\n",
    "level_male_data_in = []\n",
    "for i in range(1,6):\n",
    "    level_male_data_in.append(link_level_male_in[link_level_male_in['Level'] == i])\n",
    "    \n",
    "level_female_data_in = []\n",
    "for i in range(1,6):\n",
    "    level_female_data_in.append(link_level_female_in[link_level_female_in['Level'] == i])\n",
    "    \n",
    "pval_by_level_in = []\n",
    "pval_by_level_t_in = []\n",
    "for i in range(0,5):\n",
    "    pval_by_level_in.append(permutation_test(level_male_data_in[i]['Number of in-degree'],level_female_data_in[i]['Number of in-degree'],method='approximate',num_rounds = 10000,seed=0))\n",
    "    pval_by_level_t_in.append(ttest_ind(level_male_data_in[i]['Number of in-degree'],level_female_data_in[i]['Number of in-degree']))\n",
    "\n",
    "\n",
    "level = ['Level:{0}'.format(v) for v in list(range(1,6)) ]  \n",
    "level2 = ['Level {0}:[male,female]'.format(v) for v in list(range(1,6))]\n",
    "level3 = ['Level:{0}'.format(v) for v in list(range(1,6))]\n",
    "\n",
    "pval_by_level2_in = [(level,pval) for level,pval in zip(level,pval_by_level_in)]\n",
    "pval_by_level_t2_in = [(level,pval) for level,pval in zip(level,pval_by_level_t_in)]        \n",
    "        "
   ]
  },
  {
   "cell_type": "code",
   "execution_count": 68,
   "metadata": {},
   "outputs": [
    {
     "data": {
      "text/plain": [
       "[('Level:1', 9.999000099990002e-05),\n",
       " ('Level:2', 0.3788621137886211),\n",
       " ('Level:3', 0.3096690330966903),\n",
       " ('Level:4', 0.6422357764223577),\n",
       " ('Level:5', 0.772022797720228)]"
      ]
     },
     "execution_count": 68,
     "metadata": {},
     "output_type": "execute_result"
    }
   ],
   "source": [
    "pval_by_level2_in"
   ]
  },
  {
   "cell_type": "code",
   "execution_count": 69,
   "metadata": {},
   "outputs": [
    {
     "data": {
      "text/plain": [
       "[('Level:1', Ttest_indResult(statistic=nan, pvalue=nan)),\n",
       " ('Level:2', Ttest_indResult(statistic=nan, pvalue=nan)),\n",
       " ('Level:3',\n",
       "  Ttest_indResult(statistic=1.0394935269030987, pvalue=0.3025483504916912)),\n",
       " ('Level:4',\n",
       "  Ttest_indResult(statistic=0.4705939735999727, pvalue=0.638346003573503)),\n",
       " ('Level:5',\n",
       "  Ttest_indResult(statistic=-0.3033953865731379, pvalue=0.761809144213205))]"
      ]
     },
     "execution_count": 69,
     "metadata": {},
     "output_type": "execute_result"
    }
   ],
   "source": [
    "pval_by_level_t2_in"
   ]
  },
  {
   "cell_type": "code",
   "execution_count": 70,
   "metadata": {},
   "outputs": [],
   "source": [
    "#find the number of datapoints by gender and level\n",
    "male_n_in = []\n",
    "female_n_in = []\n",
    "for i in range(0,5):\n",
    "    male_n_in.append(len(level_male_data_in[i]))\n",
    "    female_n_in.append(len(level_female_data_in[i]))\n",
    "n_by_level_in = list(zip(male_n_in,female_n_in))  \n",
    "n_by_level_in = dict(zip(level2,n_by_level_in))"
   ]
  },
  {
   "cell_type": "code",
   "execution_count": 112,
   "metadata": {},
   "outputs": [
    {
     "data": {
      "text/plain": [
       "[Empty DataFrame\n",
       " Columns: [ID, Gender, Gender2, Number of in-degree, Level]\n",
       " Index: [],\n",
       "       ID Gender  Gender2  Number of in-degree  Level\n",
       " 385  602   Male        1                 54.0    2.0\n",
       " 386  603   Male        1                 90.0    2.0\n",
       " 387  604   Male        1                 65.0    2.0\n",
       " 388  606   Male        1                 13.0    2.0\n",
       " 389  608   Male        1                 53.0    2.0\n",
       " 390  609   Male        1                 73.0    2.0\n",
       " 391  611   Male        1                  0.0    2.0,\n",
       "       ID Gender  Gender2  Number of in-degree  Level\n",
       " 10   187   Male        1                 56.0    3.0\n",
       " 21   198   Male        1                 68.0    3.0\n",
       " 28   205   Male        1                 12.0    3.0\n",
       " 30   207   Male        1                 33.0    3.0\n",
       " 31   208   Male        1                 18.0    3.0\n",
       " 35   212   Male        1                 28.0    3.0\n",
       " 36   213   Male        1                 70.0    3.0\n",
       " 40   217   Male        1                 28.0    3.0\n",
       " 73   250   Male        1                 38.0    3.0\n",
       " 76   253   Male        1                 27.0    3.0\n",
       " 79   256   Male        1                  4.0    3.0\n",
       " 82   259   Male        1                 47.0    3.0\n",
       " 86   263   Male        1                 46.0    3.0\n",
       " 87   264   Male        1                 13.0    3.0\n",
       " 93   270   Male        1                 28.0    3.0\n",
       " 98   275   Male        1                  4.0    3.0\n",
       " 99   276   Male        1                 42.0    3.0\n",
       " 104  281   Male        1                 75.0    3.0\n",
       " 106  283   Male        1                 31.0    3.0\n",
       " 111  288   Male        1                 38.0    3.0\n",
       " 113  290   Male        1                 18.0    3.0\n",
       " 114  291   Male        1                 23.0    3.0\n",
       " 118  295   Male        1                  5.0    3.0\n",
       " 119  296   Male        1                 31.0    3.0\n",
       " 120  297   Male        1                 10.0    3.0\n",
       " 126  303   Male        1                 49.0    3.0\n",
       " 128  305   Male        1                  6.0    3.0\n",
       " 129  306   Male        1                  0.0    3.0\n",
       " 132  309   Male        1                 26.0    3.0\n",
       " 179  356   Male        1                  6.0    3.0\n",
       " 196  373   Male        1                  5.0    3.0\n",
       " 198  375   Male        1                 31.0    3.0\n",
       " 201  378   Male        1                 66.0    3.0\n",
       " 202  379   Male        1                 31.0    3.0\n",
       " 275  452   Male        1                  5.0    3.0\n",
       " 309  486   Male        1                 51.0    3.0\n",
       " 312  489   Male        1                 47.0    3.0\n",
       " 317  494   Male        1                 36.0    3.0\n",
       " 319  496   Male        1                  5.0    3.0\n",
       " 325  502   Male        1                 31.0    3.0\n",
       " 334  511   Male        1                 35.0    3.0\n",
       " 383  600   Male        1                 19.0    3.0,\n",
       "       ID Gender  Gender2  Number of in-degree  Level\n",
       " 0    177   Male        1                  6.0    4.0\n",
       " 1    178   Male        1                  0.0    4.0\n",
       " 2    179   Male        1                 11.0    4.0\n",
       " 3    180   Male        1                  0.0    4.0\n",
       " 5    182   Male        1                 24.0    4.0\n",
       " ..   ...    ...      ...                  ...    ...\n",
       " 352  553   Male        1                  6.0    4.0\n",
       " 354  561   Male        1                  0.0    4.0\n",
       " 355  562   Male        1                  2.0    4.0\n",
       " 356  564   Male        1                  1.0    4.0\n",
       " 379  593   Male        1                  3.0    4.0\n",
       " \n",
       " [126 rows x 5 columns],\n",
       "       ID Gender  Gender2  Number of in-degree  Level\n",
       " 4    181   Male        1                  4.0    5.0\n",
       " 6    183   Male        1                  1.0    5.0\n",
       " 9    186   Male        1                  1.0    5.0\n",
       " 12   189   Male        1                  0.0    5.0\n",
       " 13   190   Male        1                  0.0    5.0\n",
       " ..   ...    ...      ...                  ...    ...\n",
       " 378  592   Male        1                  0.0    5.0\n",
       " 380  594   Male        1                  0.0    5.0\n",
       " 381  595   Male        1                  0.0    5.0\n",
       " 382  596   Male        1                  8.0    5.0\n",
       " 384  601   Male        1                  3.0    5.0\n",
       " \n",
       " [217 rows x 5 columns]]"
      ]
     },
     "execution_count": 112,
     "metadata": {},
     "output_type": "execute_result"
    }
   ],
   "source": [
    "level_male_data_in"
   ]
  },
  {
   "cell_type": "code",
   "execution_count": 71,
   "metadata": {},
   "outputs": [
    {
     "data": {
      "text/plain": [
       "{'Level 1:[male,female]': (0, 0),\n",
       " 'Level 2:[male,female]': (7, 1),\n",
       " 'Level 3:[male,female]': (42, 23),\n",
       " 'Level 4:[male,female]': (126, 123),\n",
       " 'Level 5:[male,female]': (217, 71)}"
      ]
     },
     "execution_count": 71,
     "metadata": {},
     "output_type": "execute_result"
    }
   ],
   "source": [
    "n_by_level_in"
   ]
  },
  {
   "cell_type": "code",
   "execution_count": 125,
   "metadata": {},
   "outputs": [],
   "source": [
    "#find the average number of out-degrees by gender and level\n",
    "male_mean_in_degree = []\n",
    "female_mean_in_degree = []\n",
    "for i in range(0,5):\n",
    "    male_mean_in_degree.append(level_male_data_in[i]['Number of in-degree'].mean())\n",
    "    female_mean_in_degree.append(level_female_data_in[i]['Number of in-degree'].mean())\n",
    "    \n",
    "mean_degree_level_in = list(zip(male_mean_in_degree,female_mean_in_degree))  \n",
    "mean_degree_level_in = dict(zip(level3,mean_degree_level_in))"
   ]
  },
  {
   "cell_type": "code",
   "execution_count": 126,
   "metadata": {},
   "outputs": [
    {
     "data": {
      "text/plain": [
       "{'Level:1': (nan, nan),\n",
       " 'Level:2': (49.714285714285715, 5.0),\n",
       " 'Level:3': (29.571428571428573, 23.695652173913043),\n",
       " 'Level:4': (7.619047619047619, 7.008130081300813),\n",
       " 'Level:5': (2.912442396313364, 3.0985915492957745)}"
      ]
     },
     "execution_count": 126,
     "metadata": {},
     "output_type": "execute_result"
    }
   ],
   "source": [
    "mean_degree_level_in"
   ]
  },
  {
   "cell_type": "code",
   "execution_count": null,
   "metadata": {},
   "outputs": [],
   "source": []
  }
 ],
 "metadata": {
  "kernelspec": {
   "display_name": "Python 3",
   "language": "python",
   "name": "python3"
  },
  "language_info": {
   "codemirror_mode": {
    "name": "ipython",
    "version": 3
   },
   "file_extension": ".py",
   "mimetype": "text/x-python",
   "name": "python",
   "nbconvert_exporter": "python",
   "pygments_lexer": "ipython3",
   "version": "3.8.5"
  }
 },
 "nbformat": 4,
 "nbformat_minor": 4
}
