{
 "cells": [
  {
   "cell_type": "markdown",
   "metadata": {},
   "source": [
    "# Social Network Analysis - Assortativity"
   ]
  },
  {
   "cell_type": "markdown",
   "metadata": {},
   "source": [
    "## 1. Project Goal"
   ]
  },
  {
   "cell_type": "markdown",
   "metadata": {},
   "source": [
    "In this project, a network dataset will be analyzed as to discover <b>gender</b>'s influence on how communications, information, and advice flow through an organization. "
   ]
  },
  {
   "cell_type": "code",
   "execution_count": 22,
   "metadata": {},
   "outputs": [],
   "source": [
    "import numpy as np\n",
    "import pandas as pd\n",
    "from matplotlib import pyplot as plt\n",
    "import seaborn as sns\n",
    "from scipy import stats\n",
    "import igraph as ig\n",
    "import networkx as nx\n",
    "from scipy.stats import ttest_ind\n",
    "from mlxtend.evaluate import permutation_test\n",
    "import seaborn as sns\n",
    "from IPython.display import SVG, display, HTML\n",
    "import base64\n",
    "_html_template='<img width=\"{}\" src=\"data:image/svg+xml;base64,{}\" >'\n",
    "import statsmodels.api as sm\n",
    "import itertools\n",
    "from heatmap import heatmap, corrplot\n",
    "\n",
    "def svg_to_fixed_width_html_image(svg, width=\"100%\"):\n",
    "    text = _html_template.format(width, base64.b64encode(svg))\n",
    "    return HTML(text)"
   ]
  },
  {
   "cell_type": "markdown",
   "metadata": {},
   "source": [
    "## 1. Descriptive Gender Analysis"
   ]
  },
  {
   "cell_type": "markdown",
   "metadata": {},
   "source": [
    "I will analyze the sample data to see if there's any meaningful patterns on in-degree and out-degree connectivity by'label' between men and women. The survey participants were given nine labels (reasons) of communication to choose: Energy, Trust, Career Development, Personal Support, Decision Making, Access, Innovation, Problem Solving, and Strategy. "
   ]
  },
  {
   "cell_type": "code",
   "execution_count": 3,
   "metadata": {},
   "outputs": [],
   "source": [
    "#Load data into dataframe\n",
    "nodes = pd.read_csv(r'/Users/PJMoon/Data_Science_Projects/SNA/Assortativity/Nodes with attributes.csv')\n",
    "link = pd.read_csv(r'/Users/PJMoon/Data_Science_Projects/SNA/Assortativity/Links - Intragroup.csv')\n",
    "nodes_all = pd.read_csv(r'/Users/PJMoon/Data_Science_Projects/SNA/Assortativity/Nodes with attributes.csv')\n",
    "#Select columns of interst from node data \n",
    "nodes = nodes[['ID','Gender']]\n",
    "\n",
    "#Out-degree statistics by Gender and Label\n",
    "link_source = link.rename(columns = {'Source': \"ID\"})\n",
    "out_degree1 = pd.merge(link_source,nodes,how='left',on = 'ID')\n",
    "by_label_out_degree = out_degree1.groupby(['Gender','Label']).ID.count().reset_index()\n",
    "\n",
    "\n",
    "\n",
    "#In-degree statistics by Gender and Label\n",
    "link_source2 = link.rename(columns = {\"Target\":\"ID\"})\n",
    "in_degree = pd.merge(link_source2,nodes,how='left',on = 'ID')\n",
    "by_label_in_degree = in_degree.groupby(['Gender','Label']).ID.count().reset_index()\n",
    "\n",
    "#Gender to gender in and out degree statistics \n",
    "in_degree.rename(columns = {'Gender': 'Gender_in','ID': 'Target2','Source':'Source2','Label':'Label2'},inplace=True)\n",
    "out_degree1.rename(columns = {'Gender': 'Gender_out','ID': 'Source'},inplace=True)\n",
    "combined = pd.concat([out_degree1,in_degree],axis=1)\n",
    "combined = combined[['Source','Target','Label','Gender_out','Gender_in']]\n",
    "gender_to_gender = combined.groupby(['Gender_out','Gender_in']).Source.count().reset_index()\n",
    "\n",
    "#Normalizing the number of degrees\n",
    "by_label_out_degree['Gender2'] = by_label_out_degree.Gender.map({'Female':0,'Male': 1})\n",
    "by_label_out_degree['NormID'] = by_label_out_degree.apply(lambda row: row['ID']/ 219 if row['Gender2'] == 0 else row['ID']/ 393,axis=1)\n",
    "by_label_in_degree['NormID'] = by_label_in_degree.apply(lambda row: row['ID']/219 if row['Gender']=='Female' else row['ID']/393, axis = 1)"
   ]
  },
  {
   "cell_type": "markdown",
   "metadata": {},
   "source": [
    "## a. Number of survey participants "
   ]
  },
  {
   "cell_type": "code",
   "execution_count": 11,
   "metadata": {},
   "outputs": [
    {
     "data": {
      "text/plain": [
       "array(['Energy', 'Trust', 'Career Development', 'Personal Support',\n",
       "       'Decision Making', 'Access', 'Innovation', 'Problem Solving',\n",
       "       'Strategy'], dtype=object)"
      ]
     },
     "execution_count": 11,
     "metadata": {},
     "output_type": "execute_result"
    }
   ],
   "source": [
    "link.Label.unique()"
   ]
  },
  {
   "cell_type": "code",
   "execution_count": 4,
   "metadata": {
    "scrolled": false
   },
   "outputs": [
    {
     "data": {
      "text/html": [
       "<div>\n",
       "<style scoped>\n",
       "    .dataframe tbody tr th:only-of-type {\n",
       "        vertical-align: middle;\n",
       "    }\n",
       "\n",
       "    .dataframe tbody tr th {\n",
       "        vertical-align: top;\n",
       "    }\n",
       "\n",
       "    .dataframe thead th {\n",
       "        text-align: right;\n",
       "    }\n",
       "</style>\n",
       "<table border=\"1\" class=\"dataframe\">\n",
       "  <thead>\n",
       "    <tr style=\"text-align: right;\">\n",
       "      <th></th>\n",
       "      <th>Gender</th>\n",
       "      <th>ID</th>\n",
       "    </tr>\n",
       "  </thead>\n",
       "  <tbody>\n",
       "    <tr>\n",
       "      <th>0</th>\n",
       "      <td>Female</td>\n",
       "      <td>219</td>\n",
       "    </tr>\n",
       "    <tr>\n",
       "      <th>1</th>\n",
       "      <td>Male</td>\n",
       "      <td>393</td>\n",
       "    </tr>\n",
       "  </tbody>\n",
       "</table>\n",
       "</div>"
      ],
      "text/plain": [
       "   Gender   ID\n",
       "0  Female  219\n",
       "1    Male  393"
      ]
     },
     "execution_count": 4,
     "metadata": {},
     "output_type": "execute_result"
    },
    {
     "data": {
      "image/png": "[encoded data removed]",
      "text/plain": [
       "<Figure size 360x360 with 1 Axes>"
      ]
     },
     "metadata": {},
     "output_type": "display_data"
    }
   ],
   "source": [
    "sns.set_theme(style='white')\n",
    "g = sns.catplot(data=nodes,kind='count',x='Gender',palette = sns.color_palette(['red','#2157A4']))\n",
    "nodes.groupby('Gender').ID.count().reset_index()"
   ]
  },
  {
   "cell_type": "markdown",
   "metadata": {},
   "source": [
    "### <font color='darkblue'> 612 people responded to the survey. (219 - female, 393 - male)"
   ]
  },
  {
   "cell_type": "markdown",
   "metadata": {},
   "source": [
    "## b. Number of out-degrees/person and in-degrees/person by gender "
   ]
  },
  {
   "cell_type": "code",
   "execution_count": 5,
   "metadata": {
    "scrolled": false
   },
   "outputs": [
    {
     "data": {
      "text/plain": [
       "Text(0.5, 1.0, 'Number of out-degrees/person (Normalized)')"
      ]
     },
     "execution_count": 5,
     "metadata": {},
     "output_type": "execute_result"
    },
    {
     "data": {
      "image/png": "[encoded data removed]",
      "text/plain": [
       "<Figure size 918.75x842.4 with 1 Axes>"
      ]
     },
     "metadata": {},
     "output_type": "display_data"
    }
   ],
   "source": [
    "o = sns.catplot(data= by_label_out_degree,kind='bar',x='Label',y='NormID',hue='Gender',height = 11.7,palette = sns.color_palette(['red','#2157A4']))\n",
    "o.set_xticklabels(rotation=45)\n",
    "o.set_xlabels(fontsize=15,fontweight='bold')\n",
    "o.set_ylabels(fontsize=15,fontweight='bold')\n",
    "plt.title('Number of out-degrees/person (Normalized)',fontsize = 35,fontweight = 'bold')"
   ]
  },
  {
   "cell_type": "markdown",
   "metadata": {},
   "source": [
    "### <font color='darkblue'> Across all of the labels (communication reasons), females have more out-degrees than males. From this data, I can construct a hypothesis that females more than men. Later, I will perform a hypothesis test to see if the hypothesis is statistically significant. "
   ]
  },
  {
   "cell_type": "code",
   "execution_count": 6,
   "metadata": {
    "scrolled": false
   },
   "outputs": [
    {
     "data": {
      "text/plain": [
       "Text(0.5, 1.0, 'Number of in-degrees/person (Normalized)')"
      ]
     },
     "execution_count": 6,
     "metadata": {},
     "output_type": "execute_result"
    },
    {
     "data": {
      "image/png": "[encoded data removed]",
      "text/plain": [
       "<Figure size 918.75x842.4 with 1 Axes>"
      ]
     },
     "metadata": {},
     "output_type": "display_data"
    }
   ],
   "source": [
    "i = sns.catplot(data=by_label_in_degree,kind='bar',x='Label', y='NormID',hue='Gender',height = 11.7,palette = sns.color_palette(['red','#2157A4']))\n",
    "i.set_xticklabels(rotation = 45)\n",
    "i.set_xlabels(fontsize=15,fontweight='bold')\n",
    "i.set_ylabels(fontsize=15,fontweight='bold')\n",
    "plt.title('Number of in-degrees/person (Normalized)',fontsize = 35,fontweight = 'bold')"
   ]
  },
  {
   "cell_type": "markdown",
   "metadata": {},
   "source": [
    "### <font color='darkblue'> Unlike the out-degree result above, males tend to have more in-degrees than women. However, for energy and personal support, females have more in-degrees. There's no dominant patterns in term of gender. "
   ]
  },
  {
   "cell_type": "code",
   "execution_count": 17,
   "metadata": {
    "scrolled": false
   },
   "outputs": [
    {
     "name": "stdout",
     "output_type": "stream",
     "text": [
      "Energy   Gender_out Gender_in  Source\n",
      "0     Female    Female     190\n",
      "1     Female      Male     131\n",
      "2       Male    Female     118\n",
      "3       Male      Male     327\n",
      "Trust   Gender_out Gender_in  Source\n",
      "0     Female    Female     137\n",
      "1     Female      Male     137\n",
      "2       Male    Female     100\n",
      "3       Male      Male     330\n",
      "Career Development   Gender_out Gender_in  Source\n",
      "0     Female    Female      81\n",
      "1     Female      Male      84\n",
      "2       Male    Female      54\n",
      "3       Male      Male     182\n",
      "Personal Support   Gender_out Gender_in  Source\n",
      "0     Female    Female     154\n",
      "1     Female      Male      80\n",
      "2       Male    Female      59\n",
      "3       Male      Male     201\n",
      "Decision Making   Gender_out Gender_in  Source\n",
      "0     Female    Female     114\n",
      "1     Female      Male     116\n",
      "2       Male    Female      85\n",
      "3       Male      Male     294\n",
      "Access   Gender_out Gender_in  Source\n",
      "0     Female    Female      34\n",
      "1     Female      Male      62\n",
      "2       Male    Female      28\n",
      "3       Male      Male     105\n",
      "Innovation   Gender_out Gender_in  Source\n",
      "0     Female    Female     105\n",
      "1     Female      Male     115\n",
      "2       Male    Female      93\n",
      "3       Male      Male     283\n",
      "Problem Solving   Gender_out Gender_in  Source\n",
      "0     Female    Female     142\n",
      "1     Female      Male     156\n",
      "2       Male    Female     105\n",
      "3       Male      Male     346\n",
      "Strategy   Gender_out Gender_in  Source\n",
      "0     Female    Female      53\n",
      "1     Female      Male     143\n",
      "2       Male    Female      64\n",
      "3       Male      Male     285\n"
     ]
    }
   ],
   "source": [
    "#Gender to gender statistics by label\n",
    "label = combined['Label'].unique()\n",
    "for i in range(0,len(label)):\n",
    "    sector = combined[combined['Label'] == label[i]]\n",
    "    sector_group = sector.groupby(['Gender_out','Gender_in']).Source.count().reset_index()\n",
    "    b= print('{0}'.format(label[i]),sector_group)"
   ]
  },
  {
   "cell_type": "code",
   "execution_count": 24,
   "metadata": {},
   "outputs": [
    {
     "data": {
      "text/html": [
       "<div>\n",
       "<style scoped>\n",
       "    .dataframe tbody tr th:only-of-type {\n",
       "        vertical-align: middle;\n",
       "    }\n",
       "\n",
       "    .dataframe tbody tr th {\n",
       "        vertical-align: top;\n",
       "    }\n",
       "\n",
       "    .dataframe thead th {\n",
       "        text-align: right;\n",
       "    }\n",
       "</style>\n",
       "<table border=\"1\" class=\"dataframe\">\n",
       "  <thead>\n",
       "    <tr style=\"text-align: right;\">\n",
       "      <th></th>\n",
       "      <th>Source</th>\n",
       "      <th>Target</th>\n",
       "      <th>Label</th>\n",
       "      <th>Gender_out</th>\n",
       "      <th>Gender_in</th>\n",
       "    </tr>\n",
       "  </thead>\n",
       "  <tbody>\n",
       "    <tr>\n",
       "      <th>0</th>\n",
       "      <td>427685</td>\n",
       "      <td>428855</td>\n",
       "      <td>Energy</td>\n",
       "      <td>Female</td>\n",
       "      <td>Female</td>\n",
       "    </tr>\n",
       "    <tr>\n",
       "      <th>5</th>\n",
       "      <td>428309</td>\n",
       "      <td>428686</td>\n",
       "      <td>Energy</td>\n",
       "      <td>Male</td>\n",
       "      <td>Male</td>\n",
       "    </tr>\n",
       "    <tr>\n",
       "      <th>16</th>\n",
       "      <td>428335</td>\n",
       "      <td>428660</td>\n",
       "      <td>Energy</td>\n",
       "      <td>Male</td>\n",
       "      <td>Male</td>\n",
       "    </tr>\n",
       "    <tr>\n",
       "      <th>31</th>\n",
       "      <td>428361</td>\n",
       "      <td>428647</td>\n",
       "      <td>Energy</td>\n",
       "      <td>Male</td>\n",
       "      <td>Male</td>\n",
       "    </tr>\n",
       "    <tr>\n",
       "      <th>38</th>\n",
       "      <td>428387</td>\n",
       "      <td>428322</td>\n",
       "      <td>Energy</td>\n",
       "      <td>Male</td>\n",
       "      <td>Male</td>\n",
       "    </tr>\n",
       "    <tr>\n",
       "      <th>...</th>\n",
       "      <td>...</td>\n",
       "      <td>...</td>\n",
       "      <td>...</td>\n",
       "      <td>...</td>\n",
       "      <td>...</td>\n",
       "    </tr>\n",
       "    <tr>\n",
       "      <th>5066</th>\n",
       "      <td>427490</td>\n",
       "      <td>426567</td>\n",
       "      <td>Energy</td>\n",
       "      <td>Female</td>\n",
       "      <td>Female</td>\n",
       "    </tr>\n",
       "    <tr>\n",
       "      <th>5068</th>\n",
       "      <td>427490</td>\n",
       "      <td>426697</td>\n",
       "      <td>Energy</td>\n",
       "      <td>Female</td>\n",
       "      <td>Female</td>\n",
       "    </tr>\n",
       "    <tr>\n",
       "      <th>5070</th>\n",
       "      <td>427633</td>\n",
       "      <td>427958</td>\n",
       "      <td>Energy</td>\n",
       "      <td>Male</td>\n",
       "      <td>Male</td>\n",
       "    </tr>\n",
       "    <tr>\n",
       "      <th>5079</th>\n",
       "      <td>427789</td>\n",
       "      <td>424916</td>\n",
       "      <td>Energy</td>\n",
       "      <td>Female</td>\n",
       "      <td>Female</td>\n",
       "    </tr>\n",
       "    <tr>\n",
       "      <th>5092</th>\n",
       "      <td>427932</td>\n",
       "      <td>427958</td>\n",
       "      <td>Energy</td>\n",
       "      <td>Male</td>\n",
       "      <td>Male</td>\n",
       "    </tr>\n",
       "  </tbody>\n",
       "</table>\n",
       "<p>766 rows × 5 columns</p>\n",
       "</div>"
      ],
      "text/plain": [
       "      Source  Target   Label Gender_out Gender_in\n",
       "0     427685  428855  Energy     Female    Female\n",
       "5     428309  428686  Energy       Male      Male\n",
       "16    428335  428660  Energy       Male      Male\n",
       "31    428361  428647  Energy       Male      Male\n",
       "38    428387  428322  Energy       Male      Male\n",
       "...      ...     ...     ...        ...       ...\n",
       "5066  427490  426567  Energy     Female    Female\n",
       "5068  427490  426697  Energy     Female    Female\n",
       "5070  427633  427958  Energy       Male      Male\n",
       "5079  427789  424916  Energy     Female    Female\n",
       "5092  427932  427958  Energy       Male      Male\n",
       "\n",
       "[766 rows x 5 columns]"
      ]
     },
     "execution_count": 24,
     "metadata": {},
     "output_type": "execute_result"
    }
   ],
   "source": [
    "sector"
   ]
  },
  {
   "cell_type": "code",
   "execution_count": 48,
   "metadata": {},
   "outputs": [
    {
     "data": {
      "text/plain": [
       "array(['Energy', 'Trust', 'Career Development', 'Personal Support',\n",
       "       'Decision Making', 'Access', 'Innovation', 'Problem Solving',\n",
       "       'Strategy'], dtype=object)"
      ]
     },
     "execution_count": 48,
     "metadata": {},
     "output_type": "execute_result"
    }
   ],
   "source": [
    "label"
   ]
  },
  {
   "cell_type": "code",
   "execution_count": 97,
   "metadata": {
    "scrolled": false
   },
   "outputs": [
    {
     "data": {
      "text/plain": [
       "\"'for i in range(0,len(label)):\\n    sector = combined[combined['Label'] == label[i]]\\n    sector_group = sector.groupby(['Gender_out','Gender_in']).Source.count().reset_index()\\n    sector_group = sector_group.pivot(index='Gender_out',columns = 'Gender_in',values = 'Source')\\n    sns.heatmap(data=sector_group)\""
      ]
     },
     "execution_count": 97,
     "metadata": {},
     "output_type": "execute_result"
    },
    {
     "data": {
      "image/png": "[encoded data removed]",
      "text/plain": [
       "<Figure size 1080x864 with 18 Axes>"
      ]
     },
     "metadata": {},
     "output_type": "display_data"
    }
   ],
   "source": [
    "#Gender to gender statistics by label\n",
    "label = combined['Label'].unique()\n",
    "plt.figure(figsize=(15,12))\n",
    "\n",
    "#Energy\n",
    "sector_e = combined[combined['Label'] == 'Energy']\n",
    "sector_group_e = sector_e.groupby(['Gender_out','Gender_in']).Source.count().reset_index()\n",
    "sector_group_e = sector_group_e.pivot(index='Gender_out',columns = 'Gender_in',values = 'Source')\n",
    "plt.subplot(3,3,1)\n",
    "sns.heatmap(data=sector_group_e)\n",
    "plt.title('Energy')\n",
    "\n",
    "#Trust\n",
    "sector_t = combined[combined['Label'] == 'Trust']\n",
    "sector_group_t = sector_t.groupby(['Gender_out','Gender_in']).Source.count().reset_index()\n",
    "sector_group_t = sector_group_t.pivot(index='Gender_out',columns = 'Gender_in',values = 'Source')\n",
    "plt.subplot(3,3,2)\n",
    "sns.heatmap(data=sector_group_t)\n",
    "plt.title('Trust')\n",
    "\n",
    "#Career Development\n",
    "sector_c = combined[combined['Label'] == 'Career Development']\n",
    "sector_group_c = sector_c.groupby(['Gender_out','Gender_in']).Source.count().reset_index()\n",
    "sector_group_c = sector_group_c.pivot(index='Gender_out',columns = 'Gender_in',values = 'Source')\n",
    "plt.subplot(3,3,3)\n",
    "sns.heatmap(data=sector_group_c)\n",
    "plt.title('Career Development')\n",
    "\n",
    "\n",
    "#Personal Support\n",
    "sector_p = combined[combined['Label'] == 'Personal Support']\n",
    "sector_group_p = sector_p.groupby(['Gender_out','Gender_in']).Source.count().reset_index()\n",
    "sector_group_p = sector_group_p.pivot(index='Gender_out',columns = 'Gender_in',values = 'Source')\n",
    "plt.subplot(3,3,4)\n",
    "sns.heatmap(data=sector_group_p)\n",
    "plt.title('Personal Support')\n",
    "\n",
    "#Decision Making\n",
    "sector_d = combined[combined['Label'] == 'Decision Making']\n",
    "sector_group_d = sector_d.groupby(['Gender_out','Gender_in']).Source.count().reset_index()\n",
    "sector_group_d = sector_group_d.pivot(index='Gender_out',columns = 'Gender_in',values = 'Source')\n",
    "plt.subplot(3,3,5)\n",
    "sns.heatmap(data=sector_group_d)\n",
    "plt.title('Decision Making')\n",
    "\n",
    "#Access\n",
    "sector_a = combined[combined['Label'] == 'Access']\n",
    "sector_group_a = sector_a.groupby(['Gender_out','Gender_in']).Source.count().reset_index()\n",
    "sector_group_a = sector_group_a.pivot(index='Gender_out',columns = 'Gender_in',values = 'Source')\n",
    "plt.subplot(3,3,6)\n",
    "sns.heatmap(data=sector_group_a)\n",
    "plt.title('Access')\n",
    "\n",
    "#Innovation\n",
    "sector_i = combined[combined['Label'] == 'Innovation']\n",
    "sector_group_i = sector_i.groupby(['Gender_out','Gender_in']).Source.count().reset_index()\n",
    "sector_group_i = sector_group_i.pivot(index='Gender_out',columns = 'Gender_in',values = 'Source')\n",
    "plt.subplot(3,3,7)\n",
    "sns.heatmap(data=sector_group_i)\n",
    "plt.title('Innovation')\n",
    "\n",
    "#Problem Solving\n",
    "sector_r = combined[combined['Label'] == 'Problem Solving']\n",
    "sector_group_r = sector_r.groupby(['Gender_out','Gender_in']).Source.count().reset_index()\n",
    "sector_group_r = sector_group_r.pivot(index='Gender_out',columns = 'Gender_in',values = 'Source')\n",
    "plt.subplot(3,3,8)\n",
    "sns.heatmap(data=sector_group_r)\n",
    "plt.title('Problem Solving')\n",
    "\n",
    "\n",
    "#Strategy\n",
    "sector_s = combined[combined['Label'] == 'Strategy']\n",
    "sector_group_s = sector_s.groupby(['Gender_out','Gender_in']).Source.count().reset_index()\n",
    "sector_group_s = sector_group_s.pivot(index='Gender_out',columns = 'Gender_in',values = 'Source')\n",
    "plt.subplot(3,3,9)\n",
    "sns.heatmap(data=sector_group_s)\n",
    "plt.title('Strategy')\n",
    "\n",
    "plt.subplots_adjust(hspace = .7)\n",
    "\n",
    "\n",
    "\n",
    "\n",
    "''''for i in range(0,len(label)):\n",
    "    sector = combined[combined['Label'] == label[i]]\n",
    "    sector_group = sector.groupby(['Gender_out','Gender_in']).Source.count().reset_index()\n",
    "    sector_group = sector_group.pivot(index='Gender_out',columns = 'Gender_in',values = 'Source')\n",
    "    sns.heatmap(data=sector_group)'''"
   ]
  },
  {
   "cell_type": "markdown",
   "metadata": {},
   "source": [
    "## 2. Gender Assortativity \n",
    "\n",
    "The assortativity coeffiicent was used to quantify the extent to which gender plays a role in networking. The assortativity coeffiicent gauges the correlation between chracteristics of connected nodes in a network just like the Pearson Correlation Coefficient does: A value always falls bewteen -1 and 1. A postitive assortativity coefficient indicates that nodes with similar characteristics tend to connect to each other. "
   ]
  },
  {
   "cell_type": "code",
   "execution_count": 108,
   "metadata": {},
   "outputs": [
    {
     "name": "stdout",
     "output_type": "stream",
     "text": [
      "The assortativity of the network is 0.26986616946343467\n"
     ]
    }
   ],
   "source": [
    "#Link data preprocessing\n",
    "a = [i for i in range(0,612)]\n",
    "nodes['ID2']= a\n",
    "nodes2 = nodes.rename(columns = {'ID':'Target','ID2':'ID_Target'})\n",
    "link2 = link[['Source','Target']]\n",
    "link2 = link2.rename(columns = {'Source' : 'ID'})\n",
    "link3 = pd.merge(link2,nodes,how='left')\n",
    "link4 = pd.merge(link3,nodes2,how='left',on='Target')\n",
    "link_final = link4[['ID2','ID_Target']]\n",
    "link_final = link_final.rename(columns = {'ID2':'Source','ID_Target':'Target'})\n",
    "link_final['link'] = list(zip(link_final['Source'],link_final['Target']))\n",
    "link_final = link_final['link']\n",
    "\n",
    "#Node data preprocessing\n",
    "nodes_network = nodes[['ID','Gender']]\n",
    "nodes_network2 = nodes[['ID','Gender']]\n",
    "nodes_network['Gender2'] = nodes_network['Gender'].map({'Male':1, 'Female':2})\n",
    "nodes_network2['Gender2'] = nodes_network2['Gender'].map({'Female':0,'Male':1})\n",
    "\n",
    "\n",
    "#Creating a network and compute the assortativity\n",
    "nodes_network['ID'] = [i for i in range(0,612)]\n",
    "nodes_network2['ID'] = [i for i in range(0,612)]\n",
    "g = ig.Graph()\n",
    "g.add_vertices([i for i in range(0,612)])\n",
    "g.add_edges(link_final)\n",
    "g.vs['Gender'] = nodes_network['Gender2']\n",
    "print('The assortativity of the network is {0}'.format(g.assortativity_nominal('Gender',directed=True)))"
   ]
  },
  {
   "cell_type": "code",
   "execution_count": 109,
   "metadata": {},
   "outputs": [],
   "source": [
    "link_linear = link4[['ID2','Gender_x']]"
   ]
  },
  {
   "cell_type": "code",
   "execution_count": 110,
   "metadata": {},
   "outputs": [
    {
     "name": "stderr",
     "output_type": "stream",
     "text": [
      "<ipython-input-110-75ee430471fd>:1: SettingWithCopyWarning: \n",
      "A value is trying to be set on a copy of a slice from a DataFrame.\n",
      "Try using .loc[row_indexer,col_indexer] = value instead\n",
      "\n",
      "See the caveats in the documentation: https://pandas.pydata.org/pandas-docs/stable/user_guide/indexing.html#returning-a-view-versus-a-copy\n",
      "  link_linear['Gender'] = link_linear['Gender_x'].map({'Female':0,'Male':1})\n"
     ]
    }
   ],
   "source": [
    "link_linear['Gender'] = link_linear['Gender_x'].map({'Female':0,'Male':1})"
   ]
  },
  {
   "cell_type": "code",
   "execution_count": 111,
   "metadata": {},
   "outputs": [],
   "source": [
    "link_linear = link_linear[['ID2','Gender']]"
   ]
  },
  {
   "cell_type": "code",
   "execution_count": 112,
   "metadata": {},
   "outputs": [
    {
     "data": {
      "text/html": [
       "<div>\n",
       "<style scoped>\n",
       "    .dataframe tbody tr th:only-of-type {\n",
       "        vertical-align: middle;\n",
       "    }\n",
       "\n",
       "    .dataframe tbody tr th {\n",
       "        vertical-align: top;\n",
       "    }\n",
       "\n",
       "    .dataframe thead th {\n",
       "        text-align: right;\n",
       "    }\n",
       "</style>\n",
       "<table border=\"1\" class=\"dataframe\">\n",
       "  <thead>\n",
       "    <tr style=\"text-align: right;\">\n",
       "      <th></th>\n",
       "      <th>ID2</th>\n",
       "      <th>Gender</th>\n",
       "    </tr>\n",
       "  </thead>\n",
       "  <tbody>\n",
       "    <tr>\n",
       "      <th>0</th>\n",
       "      <td>150</td>\n",
       "      <td>0</td>\n",
       "    </tr>\n",
       "    <tr>\n",
       "      <th>1</th>\n",
       "      <td>188</td>\n",
       "      <td>1</td>\n",
       "    </tr>\n",
       "    <tr>\n",
       "      <th>2</th>\n",
       "      <td>188</td>\n",
       "      <td>1</td>\n",
       "    </tr>\n",
       "    <tr>\n",
       "      <th>3</th>\n",
       "      <td>188</td>\n",
       "      <td>1</td>\n",
       "    </tr>\n",
       "    <tr>\n",
       "      <th>4</th>\n",
       "      <td>188</td>\n",
       "      <td>1</td>\n",
       "    </tr>\n",
       "    <tr>\n",
       "      <th>...</th>\n",
       "      <td>...</td>\n",
       "      <td>...</td>\n",
       "    </tr>\n",
       "    <tr>\n",
       "      <th>5088</th>\n",
       "      <td>494</td>\n",
       "      <td>1</td>\n",
       "    </tr>\n",
       "    <tr>\n",
       "      <th>5089</th>\n",
       "      <td>494</td>\n",
       "      <td>1</td>\n",
       "    </tr>\n",
       "    <tr>\n",
       "      <th>5090</th>\n",
       "      <td>494</td>\n",
       "      <td>1</td>\n",
       "    </tr>\n",
       "    <tr>\n",
       "      <th>5091</th>\n",
       "      <td>276</td>\n",
       "      <td>1</td>\n",
       "    </tr>\n",
       "    <tr>\n",
       "      <th>5092</th>\n",
       "      <td>276</td>\n",
       "      <td>1</td>\n",
       "    </tr>\n",
       "  </tbody>\n",
       "</table>\n",
       "<p>5093 rows × 2 columns</p>\n",
       "</div>"
      ],
      "text/plain": [
       "      ID2  Gender\n",
       "0     150       0\n",
       "1     188       1\n",
       "2     188       1\n",
       "3     188       1\n",
       "4     188       1\n",
       "...   ...     ...\n",
       "5088  494       1\n",
       "5089  494       1\n",
       "5090  494       1\n",
       "5091  276       1\n",
       "5092  276       1\n",
       "\n",
       "[5093 rows x 2 columns]"
      ]
     },
     "execution_count": 112,
     "metadata": {},
     "output_type": "execute_result"
    }
   ],
   "source": [
    "link_linear"
   ]
  },
  {
   "cell_type": "code",
   "execution_count": 113,
   "metadata": {},
   "outputs": [],
   "source": [
    "link_linear_group = link_linear.groupby(['ID2']).Gender.count().reset_index()"
   ]
  },
  {
   "cell_type": "code",
   "execution_count": 114,
   "metadata": {},
   "outputs": [
    {
     "data": {
      "text/html": [
       "<div>\n",
       "<style scoped>\n",
       "    .dataframe tbody tr th:only-of-type {\n",
       "        vertical-align: middle;\n",
       "    }\n",
       "\n",
       "    .dataframe tbody tr th {\n",
       "        vertical-align: top;\n",
       "    }\n",
       "\n",
       "    .dataframe thead th {\n",
       "        text-align: right;\n",
       "    }\n",
       "</style>\n",
       "<table border=\"1\" class=\"dataframe\">\n",
       "  <thead>\n",
       "    <tr style=\"text-align: right;\">\n",
       "      <th></th>\n",
       "      <th>ID2</th>\n",
       "      <th>Gender</th>\n",
       "    </tr>\n",
       "  </thead>\n",
       "  <tbody>\n",
       "    <tr>\n",
       "      <th>0</th>\n",
       "      <td>1</td>\n",
       "      <td>13</td>\n",
       "    </tr>\n",
       "    <tr>\n",
       "      <th>1</th>\n",
       "      <td>2</td>\n",
       "      <td>14</td>\n",
       "    </tr>\n",
       "    <tr>\n",
       "      <th>2</th>\n",
       "      <td>3</td>\n",
       "      <td>5</td>\n",
       "    </tr>\n",
       "    <tr>\n",
       "      <th>3</th>\n",
       "      <td>4</td>\n",
       "      <td>27</td>\n",
       "    </tr>\n",
       "    <tr>\n",
       "      <th>4</th>\n",
       "      <td>5</td>\n",
       "      <td>5</td>\n",
       "    </tr>\n",
       "    <tr>\n",
       "      <th>...</th>\n",
       "      <td>...</td>\n",
       "      <td>...</td>\n",
       "    </tr>\n",
       "    <tr>\n",
       "      <th>413</th>\n",
       "      <td>606</td>\n",
       "      <td>12</td>\n",
       "    </tr>\n",
       "    <tr>\n",
       "      <th>414</th>\n",
       "      <td>608</td>\n",
       "      <td>12</td>\n",
       "    </tr>\n",
       "    <tr>\n",
       "      <th>415</th>\n",
       "      <td>609</td>\n",
       "      <td>10</td>\n",
       "    </tr>\n",
       "    <tr>\n",
       "      <th>416</th>\n",
       "      <td>610</td>\n",
       "      <td>10</td>\n",
       "    </tr>\n",
       "    <tr>\n",
       "      <th>417</th>\n",
       "      <td>611</td>\n",
       "      <td>22</td>\n",
       "    </tr>\n",
       "  </tbody>\n",
       "</table>\n",
       "<p>418 rows × 2 columns</p>\n",
       "</div>"
      ],
      "text/plain": [
       "     ID2  Gender\n",
       "0      1      13\n",
       "1      2      14\n",
       "2      3       5\n",
       "3      4      27\n",
       "4      5       5\n",
       "..   ...     ...\n",
       "413  606      12\n",
       "414  608      12\n",
       "415  609      10\n",
       "416  610      10\n",
       "417  611      22\n",
       "\n",
       "[418 rows x 2 columns]"
      ]
     },
     "execution_count": 114,
     "metadata": {},
     "output_type": "execute_result"
    }
   ],
   "source": [
    "link_linear_group"
   ]
  },
  {
   "cell_type": "code",
   "execution_count": 115,
   "metadata": {},
   "outputs": [],
   "source": [
    "link_linear_group = link_linear_group.rename(columns = {'ID2':\"ID\"})"
   ]
  },
  {
   "cell_type": "code",
   "execution_count": 116,
   "metadata": {},
   "outputs": [
    {
     "data": {
      "text/html": [
       "<div>\n",
       "<style scoped>\n",
       "    .dataframe tbody tr th:only-of-type {\n",
       "        vertical-align: middle;\n",
       "    }\n",
       "\n",
       "    .dataframe tbody tr th {\n",
       "        vertical-align: top;\n",
       "    }\n",
       "\n",
       "    .dataframe thead th {\n",
       "        text-align: right;\n",
       "    }\n",
       "</style>\n",
       "<table border=\"1\" class=\"dataframe\">\n",
       "  <thead>\n",
       "    <tr style=\"text-align: right;\">\n",
       "      <th></th>\n",
       "      <th>ID</th>\n",
       "      <th>Gender</th>\n",
       "    </tr>\n",
       "  </thead>\n",
       "  <tbody>\n",
       "    <tr>\n",
       "      <th>0</th>\n",
       "      <td>1</td>\n",
       "      <td>13</td>\n",
       "    </tr>\n",
       "    <tr>\n",
       "      <th>1</th>\n",
       "      <td>2</td>\n",
       "      <td>14</td>\n",
       "    </tr>\n",
       "    <tr>\n",
       "      <th>2</th>\n",
       "      <td>3</td>\n",
       "      <td>5</td>\n",
       "    </tr>\n",
       "    <tr>\n",
       "      <th>3</th>\n",
       "      <td>4</td>\n",
       "      <td>27</td>\n",
       "    </tr>\n",
       "    <tr>\n",
       "      <th>4</th>\n",
       "      <td>5</td>\n",
       "      <td>5</td>\n",
       "    </tr>\n",
       "    <tr>\n",
       "      <th>...</th>\n",
       "      <td>...</td>\n",
       "      <td>...</td>\n",
       "    </tr>\n",
       "    <tr>\n",
       "      <th>413</th>\n",
       "      <td>606</td>\n",
       "      <td>12</td>\n",
       "    </tr>\n",
       "    <tr>\n",
       "      <th>414</th>\n",
       "      <td>608</td>\n",
       "      <td>12</td>\n",
       "    </tr>\n",
       "    <tr>\n",
       "      <th>415</th>\n",
       "      <td>609</td>\n",
       "      <td>10</td>\n",
       "    </tr>\n",
       "    <tr>\n",
       "      <th>416</th>\n",
       "      <td>610</td>\n",
       "      <td>10</td>\n",
       "    </tr>\n",
       "    <tr>\n",
       "      <th>417</th>\n",
       "      <td>611</td>\n",
       "      <td>22</td>\n",
       "    </tr>\n",
       "  </tbody>\n",
       "</table>\n",
       "<p>418 rows × 2 columns</p>\n",
       "</div>"
      ],
      "text/plain": [
       "      ID  Gender\n",
       "0      1      13\n",
       "1      2      14\n",
       "2      3       5\n",
       "3      4      27\n",
       "4      5       5\n",
       "..   ...     ...\n",
       "413  606      12\n",
       "414  608      12\n",
       "415  609      10\n",
       "416  610      10\n",
       "417  611      22\n",
       "\n",
       "[418 rows x 2 columns]"
      ]
     },
     "execution_count": 116,
     "metadata": {},
     "output_type": "execute_result"
    }
   ],
   "source": [
    "link_linear_group"
   ]
  },
  {
   "cell_type": "code",
   "execution_count": 117,
   "metadata": {},
   "outputs": [
    {
     "data": {
      "text/html": [
       "<div>\n",
       "<style scoped>\n",
       "    .dataframe tbody tr th:only-of-type {\n",
       "        vertical-align: middle;\n",
       "    }\n",
       "\n",
       "    .dataframe tbody tr th {\n",
       "        vertical-align: top;\n",
       "    }\n",
       "\n",
       "    .dataframe thead th {\n",
       "        text-align: right;\n",
       "    }\n",
       "</style>\n",
       "<table border=\"1\" class=\"dataframe\">\n",
       "  <thead>\n",
       "    <tr style=\"text-align: right;\">\n",
       "      <th></th>\n",
       "      <th>ID</th>\n",
       "      <th>Gender</th>\n",
       "      <th>Gender2</th>\n",
       "    </tr>\n",
       "  </thead>\n",
       "  <tbody>\n",
       "    <tr>\n",
       "      <th>0</th>\n",
       "      <td>0</td>\n",
       "      <td>Female</td>\n",
       "      <td>0</td>\n",
       "    </tr>\n",
       "    <tr>\n",
       "      <th>1</th>\n",
       "      <td>1</td>\n",
       "      <td>Female</td>\n",
       "      <td>0</td>\n",
       "    </tr>\n",
       "    <tr>\n",
       "      <th>2</th>\n",
       "      <td>2</td>\n",
       "      <td>Female</td>\n",
       "      <td>0</td>\n",
       "    </tr>\n",
       "    <tr>\n",
       "      <th>3</th>\n",
       "      <td>3</td>\n",
       "      <td>Female</td>\n",
       "      <td>0</td>\n",
       "    </tr>\n",
       "    <tr>\n",
       "      <th>4</th>\n",
       "      <td>4</td>\n",
       "      <td>Female</td>\n",
       "      <td>0</td>\n",
       "    </tr>\n",
       "    <tr>\n",
       "      <th>...</th>\n",
       "      <td>...</td>\n",
       "      <td>...</td>\n",
       "      <td>...</td>\n",
       "    </tr>\n",
       "    <tr>\n",
       "      <th>607</th>\n",
       "      <td>607</td>\n",
       "      <td>Female</td>\n",
       "      <td>0</td>\n",
       "    </tr>\n",
       "    <tr>\n",
       "      <th>608</th>\n",
       "      <td>608</td>\n",
       "      <td>Male</td>\n",
       "      <td>1</td>\n",
       "    </tr>\n",
       "    <tr>\n",
       "      <th>609</th>\n",
       "      <td>609</td>\n",
       "      <td>Male</td>\n",
       "      <td>1</td>\n",
       "    </tr>\n",
       "    <tr>\n",
       "      <th>610</th>\n",
       "      <td>610</td>\n",
       "      <td>Male</td>\n",
       "      <td>1</td>\n",
       "    </tr>\n",
       "    <tr>\n",
       "      <th>611</th>\n",
       "      <td>611</td>\n",
       "      <td>Male</td>\n",
       "      <td>1</td>\n",
       "    </tr>\n",
       "  </tbody>\n",
       "</table>\n",
       "<p>612 rows × 3 columns</p>\n",
       "</div>"
      ],
      "text/plain": [
       "      ID  Gender  Gender2\n",
       "0      0  Female        0\n",
       "1      1  Female        0\n",
       "2      2  Female        0\n",
       "3      3  Female        0\n",
       "4      4  Female        0\n",
       "..   ...     ...      ...\n",
       "607  607  Female        0\n",
       "608  608    Male        1\n",
       "609  609    Male        1\n",
       "610  610    Male        1\n",
       "611  611    Male        1\n",
       "\n",
       "[612 rows x 3 columns]"
      ]
     },
     "execution_count": 117,
     "metadata": {},
     "output_type": "execute_result"
    }
   ],
   "source": [
    "nodes_network2"
   ]
  },
  {
   "cell_type": "code",
   "execution_count": 118,
   "metadata": {},
   "outputs": [],
   "source": [
    "link_linear_group_gender = pd.merge(link_linear_group,nodes_network2,how='left',on = 'ID')"
   ]
  },
  {
   "cell_type": "code",
   "execution_count": 119,
   "metadata": {},
   "outputs": [
    {
     "data": {
      "text/html": [
       "<div>\n",
       "<style scoped>\n",
       "    .dataframe tbody tr th:only-of-type {\n",
       "        vertical-align: middle;\n",
       "    }\n",
       "\n",
       "    .dataframe tbody tr th {\n",
       "        vertical-align: top;\n",
       "    }\n",
       "\n",
       "    .dataframe thead th {\n",
       "        text-align: right;\n",
       "    }\n",
       "</style>\n",
       "<table border=\"1\" class=\"dataframe\">\n",
       "  <thead>\n",
       "    <tr style=\"text-align: right;\">\n",
       "      <th></th>\n",
       "      <th>ID</th>\n",
       "      <th>Gender_x</th>\n",
       "      <th>Gender_y</th>\n",
       "      <th>Gender2</th>\n",
       "    </tr>\n",
       "  </thead>\n",
       "  <tbody>\n",
       "    <tr>\n",
       "      <th>0</th>\n",
       "      <td>1</td>\n",
       "      <td>13</td>\n",
       "      <td>Female</td>\n",
       "      <td>0</td>\n",
       "    </tr>\n",
       "    <tr>\n",
       "      <th>1</th>\n",
       "      <td>2</td>\n",
       "      <td>14</td>\n",
       "      <td>Female</td>\n",
       "      <td>0</td>\n",
       "    </tr>\n",
       "    <tr>\n",
       "      <th>2</th>\n",
       "      <td>3</td>\n",
       "      <td>5</td>\n",
       "      <td>Female</td>\n",
       "      <td>0</td>\n",
       "    </tr>\n",
       "    <tr>\n",
       "      <th>3</th>\n",
       "      <td>4</td>\n",
       "      <td>27</td>\n",
       "      <td>Female</td>\n",
       "      <td>0</td>\n",
       "    </tr>\n",
       "    <tr>\n",
       "      <th>4</th>\n",
       "      <td>5</td>\n",
       "      <td>5</td>\n",
       "      <td>Female</td>\n",
       "      <td>0</td>\n",
       "    </tr>\n",
       "    <tr>\n",
       "      <th>...</th>\n",
       "      <td>...</td>\n",
       "      <td>...</td>\n",
       "      <td>...</td>\n",
       "      <td>...</td>\n",
       "    </tr>\n",
       "    <tr>\n",
       "      <th>413</th>\n",
       "      <td>606</td>\n",
       "      <td>12</td>\n",
       "      <td>Male</td>\n",
       "      <td>1</td>\n",
       "    </tr>\n",
       "    <tr>\n",
       "      <th>414</th>\n",
       "      <td>608</td>\n",
       "      <td>12</td>\n",
       "      <td>Male</td>\n",
       "      <td>1</td>\n",
       "    </tr>\n",
       "    <tr>\n",
       "      <th>415</th>\n",
       "      <td>609</td>\n",
       "      <td>10</td>\n",
       "      <td>Male</td>\n",
       "      <td>1</td>\n",
       "    </tr>\n",
       "    <tr>\n",
       "      <th>416</th>\n",
       "      <td>610</td>\n",
       "      <td>10</td>\n",
       "      <td>Male</td>\n",
       "      <td>1</td>\n",
       "    </tr>\n",
       "    <tr>\n",
       "      <th>417</th>\n",
       "      <td>611</td>\n",
       "      <td>22</td>\n",
       "      <td>Male</td>\n",
       "      <td>1</td>\n",
       "    </tr>\n",
       "  </tbody>\n",
       "</table>\n",
       "<p>418 rows × 4 columns</p>\n",
       "</div>"
      ],
      "text/plain": [
       "      ID  Gender_x Gender_y  Gender2\n",
       "0      1        13   Female        0\n",
       "1      2        14   Female        0\n",
       "2      3         5   Female        0\n",
       "3      4        27   Female        0\n",
       "4      5         5   Female        0\n",
       "..   ...       ...      ...      ...\n",
       "413  606        12     Male        1\n",
       "414  608        12     Male        1\n",
       "415  609        10     Male        1\n",
       "416  610        10     Male        1\n",
       "417  611        22     Male        1\n",
       "\n",
       "[418 rows x 4 columns]"
      ]
     },
     "execution_count": 119,
     "metadata": {},
     "output_type": "execute_result"
    }
   ],
   "source": [
    "link_linear_group_gender"
   ]
  },
  {
   "cell_type": "code",
   "execution_count": 120,
   "metadata": {},
   "outputs": [],
   "source": [
    "link_linear_group_gender = link_linear_group_gender[['Gender2','Gender_x']]"
   ]
  },
  {
   "cell_type": "code",
   "execution_count": 121,
   "metadata": {},
   "outputs": [
    {
     "data": {
      "text/html": [
       "<div>\n",
       "<style scoped>\n",
       "    .dataframe tbody tr th:only-of-type {\n",
       "        vertical-align: middle;\n",
       "    }\n",
       "\n",
       "    .dataframe tbody tr th {\n",
       "        vertical-align: top;\n",
       "    }\n",
       "\n",
       "    .dataframe thead th {\n",
       "        text-align: right;\n",
       "    }\n",
       "</style>\n",
       "<table border=\"1\" class=\"dataframe\">\n",
       "  <thead>\n",
       "    <tr style=\"text-align: right;\">\n",
       "      <th></th>\n",
       "      <th>Gender2</th>\n",
       "      <th>Gender_x</th>\n",
       "    </tr>\n",
       "  </thead>\n",
       "  <tbody>\n",
       "    <tr>\n",
       "      <th>0</th>\n",
       "      <td>0</td>\n",
       "      <td>13</td>\n",
       "    </tr>\n",
       "    <tr>\n",
       "      <th>1</th>\n",
       "      <td>0</td>\n",
       "      <td>14</td>\n",
       "    </tr>\n",
       "    <tr>\n",
       "      <th>2</th>\n",
       "      <td>0</td>\n",
       "      <td>5</td>\n",
       "    </tr>\n",
       "    <tr>\n",
       "      <th>3</th>\n",
       "      <td>0</td>\n",
       "      <td>27</td>\n",
       "    </tr>\n",
       "    <tr>\n",
       "      <th>4</th>\n",
       "      <td>0</td>\n",
       "      <td>5</td>\n",
       "    </tr>\n",
       "    <tr>\n",
       "      <th>...</th>\n",
       "      <td>...</td>\n",
       "      <td>...</td>\n",
       "    </tr>\n",
       "    <tr>\n",
       "      <th>413</th>\n",
       "      <td>1</td>\n",
       "      <td>12</td>\n",
       "    </tr>\n",
       "    <tr>\n",
       "      <th>414</th>\n",
       "      <td>1</td>\n",
       "      <td>12</td>\n",
       "    </tr>\n",
       "    <tr>\n",
       "      <th>415</th>\n",
       "      <td>1</td>\n",
       "      <td>10</td>\n",
       "    </tr>\n",
       "    <tr>\n",
       "      <th>416</th>\n",
       "      <td>1</td>\n",
       "      <td>10</td>\n",
       "    </tr>\n",
       "    <tr>\n",
       "      <th>417</th>\n",
       "      <td>1</td>\n",
       "      <td>22</td>\n",
       "    </tr>\n",
       "  </tbody>\n",
       "</table>\n",
       "<p>418 rows × 2 columns</p>\n",
       "</div>"
      ],
      "text/plain": [
       "     Gender2  Gender_x\n",
       "0          0        13\n",
       "1          0        14\n",
       "2          0         5\n",
       "3          0        27\n",
       "4          0         5\n",
       "..       ...       ...\n",
       "413        1        12\n",
       "414        1        12\n",
       "415        1        10\n",
       "416        1        10\n",
       "417        1        22\n",
       "\n",
       "[418 rows x 2 columns]"
      ]
     },
     "execution_count": 121,
     "metadata": {},
     "output_type": "execute_result"
    }
   ],
   "source": [
    "link_linear_group_gender"
   ]
  },
  {
   "cell_type": "code",
   "execution_count": 122,
   "metadata": {},
   "outputs": [],
   "source": [
    "link_linear_group_gender = link_linear_group_gender.rename(columns = {'Gender2':'Gender','Gender_x':'degrees'})"
   ]
  },
  {
   "cell_type": "code",
   "execution_count": 123,
   "metadata": {},
   "outputs": [
    {
     "data": {
      "text/html": [
       "<div>\n",
       "<style scoped>\n",
       "    .dataframe tbody tr th:only-of-type {\n",
       "        vertical-align: middle;\n",
       "    }\n",
       "\n",
       "    .dataframe tbody tr th {\n",
       "        vertical-align: top;\n",
       "    }\n",
       "\n",
       "    .dataframe thead th {\n",
       "        text-align: right;\n",
       "    }\n",
       "</style>\n",
       "<table border=\"1\" class=\"dataframe\">\n",
       "  <thead>\n",
       "    <tr style=\"text-align: right;\">\n",
       "      <th></th>\n",
       "      <th>Gender</th>\n",
       "      <th>degrees</th>\n",
       "    </tr>\n",
       "  </thead>\n",
       "  <tbody>\n",
       "    <tr>\n",
       "      <th>0</th>\n",
       "      <td>0</td>\n",
       "      <td>13</td>\n",
       "    </tr>\n",
       "    <tr>\n",
       "      <th>1</th>\n",
       "      <td>0</td>\n",
       "      <td>14</td>\n",
       "    </tr>\n",
       "    <tr>\n",
       "      <th>2</th>\n",
       "      <td>0</td>\n",
       "      <td>5</td>\n",
       "    </tr>\n",
       "    <tr>\n",
       "      <th>3</th>\n",
       "      <td>0</td>\n",
       "      <td>27</td>\n",
       "    </tr>\n",
       "    <tr>\n",
       "      <th>4</th>\n",
       "      <td>0</td>\n",
       "      <td>5</td>\n",
       "    </tr>\n",
       "    <tr>\n",
       "      <th>...</th>\n",
       "      <td>...</td>\n",
       "      <td>...</td>\n",
       "    </tr>\n",
       "    <tr>\n",
       "      <th>413</th>\n",
       "      <td>1</td>\n",
       "      <td>12</td>\n",
       "    </tr>\n",
       "    <tr>\n",
       "      <th>414</th>\n",
       "      <td>1</td>\n",
       "      <td>12</td>\n",
       "    </tr>\n",
       "    <tr>\n",
       "      <th>415</th>\n",
       "      <td>1</td>\n",
       "      <td>10</td>\n",
       "    </tr>\n",
       "    <tr>\n",
       "      <th>416</th>\n",
       "      <td>1</td>\n",
       "      <td>10</td>\n",
       "    </tr>\n",
       "    <tr>\n",
       "      <th>417</th>\n",
       "      <td>1</td>\n",
       "      <td>22</td>\n",
       "    </tr>\n",
       "  </tbody>\n",
       "</table>\n",
       "<p>418 rows × 2 columns</p>\n",
       "</div>"
      ],
      "text/plain": [
       "     Gender  degrees\n",
       "0         0       13\n",
       "1         0       14\n",
       "2         0        5\n",
       "3         0       27\n",
       "4         0        5\n",
       "..      ...      ...\n",
       "413       1       12\n",
       "414       1       12\n",
       "415       1       10\n",
       "416       1       10\n",
       "417       1       22\n",
       "\n",
       "[418 rows x 2 columns]"
      ]
     },
     "execution_count": 123,
     "metadata": {},
     "output_type": "execute_result"
    }
   ],
   "source": [
    "link_linear_group_gender"
   ]
  },
  {
   "cell_type": "code",
   "execution_count": 124,
   "metadata": {},
   "outputs": [],
   "source": [
    "X = link_linear_group_gender['Gender']\n",
    "y = link_linear_group_gender['degrees']\n",
    "X = sm.add_constant(X)\n",
    "model_gender = sm.OLS(y,X).fit()\n",
    "predictions =model_gender.predict(X)"
   ]
  },
  {
   "cell_type": "code",
   "execution_count": 125,
   "metadata": {},
   "outputs": [
    {
     "data": {
      "text/html": [
       "<table class=\"simpletable\">\n",
       "<caption>OLS Regression Results</caption>\n",
       "<tr>\n",
       "  <th>Dep. Variable:</th>         <td>degrees</td>     <th>  R-squared:         </th> <td>   0.001</td>\n",
       "</tr>\n",
       "<tr>\n",
       "  <th>Model:</th>                   <td>OLS</td>       <th>  Adj. R-squared:    </th> <td>  -0.002</td>\n",
       "</tr>\n",
       "<tr>\n",
       "  <th>Method:</th>             <td>Least Squares</td>  <th>  F-statistic:       </th> <td>  0.3279</td>\n",
       "</tr>\n",
       "<tr>\n",
       "  <th>Date:</th>             <td>Sun, 06 Jun 2021</td> <th>  Prob (F-statistic):</th>  <td> 0.567</td> \n",
       "</tr>\n",
       "<tr>\n",
       "  <th>Time:</th>                 <td>23:51:16</td>     <th>  Log-Likelihood:    </th> <td> -1481.8</td>\n",
       "</tr>\n",
       "<tr>\n",
       "  <th>No. Observations:</th>      <td>   418</td>      <th>  AIC:               </th> <td>   2968.</td>\n",
       "</tr>\n",
       "<tr>\n",
       "  <th>Df Residuals:</th>          <td>   416</td>      <th>  BIC:               </th> <td>   2976.</td>\n",
       "</tr>\n",
       "<tr>\n",
       "  <th>Df Model:</th>              <td>     1</td>      <th>                     </th>     <td> </td>   \n",
       "</tr>\n",
       "<tr>\n",
       "  <th>Covariance Type:</th>      <td>nonrobust</td>    <th>                     </th>     <td> </td>   \n",
       "</tr>\n",
       "</table>\n",
       "<table class=\"simpletable\">\n",
       "<tr>\n",
       "     <td></td>       <th>coef</th>     <th>std err</th>      <th>t</th>      <th>P>|t|</th>  <th>[0.025</th>    <th>0.975]</th>  \n",
       "</tr>\n",
       "<tr>\n",
       "  <th>const</th>  <td>   12.4785</td> <td>    0.658</td> <td>   18.961</td> <td> 0.000</td> <td>   11.185</td> <td>   13.772</td>\n",
       "</tr>\n",
       "<tr>\n",
       "  <th>Gender</th> <td>   -0.4824</td> <td>    0.843</td> <td>   -0.573</td> <td> 0.567</td> <td>   -2.139</td> <td>    1.174</td>\n",
       "</tr>\n",
       "</table>\n",
       "<table class=\"simpletable\">\n",
       "<tr>\n",
       "  <th>Omnibus:</th>       <td>177.442</td> <th>  Durbin-Watson:     </th> <td>   1.977</td> \n",
       "</tr>\n",
       "<tr>\n",
       "  <th>Prob(Omnibus):</th> <td> 0.000</td>  <th>  Jarque-Bera (JB):  </th> <td> 833.468</td> \n",
       "</tr>\n",
       "<tr>\n",
       "  <th>Skew:</th>          <td> 1.822</td>  <th>  Prob(JB):          </th> <td>1.03e-181</td>\n",
       "</tr>\n",
       "<tr>\n",
       "  <th>Kurtosis:</th>      <td> 8.881</td>  <th>  Cond. No.          </th> <td>    2.96</td> \n",
       "</tr>\n",
       "</table><br/><br/>Notes:<br/>[1] Standard Errors assume that the covariance matrix of the errors is correctly specified."
      ],
      "text/plain": [
       "<class 'statsmodels.iolib.summary.Summary'>\n",
       "\"\"\"\n",
       "                            OLS Regression Results                            \n",
       "==============================================================================\n",
       "Dep. Variable:                degrees   R-squared:                       0.001\n",
       "Model:                            OLS   Adj. R-squared:                 -0.002\n",
       "Method:                 Least Squares   F-statistic:                    0.3279\n",
       "Date:                Sun, 06 Jun 2021   Prob (F-statistic):              0.567\n",
       "Time:                        23:51:16   Log-Likelihood:                -1481.8\n",
       "No. Observations:                 418   AIC:                             2968.\n",
       "Df Residuals:                     416   BIC:                             2976.\n",
       "Df Model:                           1                                         \n",
       "Covariance Type:            nonrobust                                         \n",
       "==============================================================================\n",
       "                 coef    std err          t      P>|t|      [0.025      0.975]\n",
       "------------------------------------------------------------------------------\n",
       "const         12.4785      0.658     18.961      0.000      11.185      13.772\n",
       "Gender        -0.4824      0.843     -0.573      0.567      -2.139       1.174\n",
       "==============================================================================\n",
       "Omnibus:                      177.442   Durbin-Watson:                   1.977\n",
       "Prob(Omnibus):                  0.000   Jarque-Bera (JB):              833.468\n",
       "Skew:                           1.822   Prob(JB):                    1.03e-181\n",
       "Kurtosis:                       8.881   Cond. No.                         2.96\n",
       "==============================================================================\n",
       "\n",
       "Notes:\n",
       "[1] Standard Errors assume that the covariance matrix of the errors is correctly specified.\n",
       "\"\"\""
      ]
     },
     "execution_count": 125,
     "metadata": {},
     "output_type": "execute_result"
    }
   ],
   "source": [
    "model_gender.summary()"
   ]
  },
  {
   "cell_type": "code",
   "execution_count": null,
   "metadata": {},
   "outputs": [],
   "source": []
  },
  {
   "cell_type": "code",
   "execution_count": 126,
   "metadata": {},
   "outputs": [
    {
     "data": {
      "text/html": [
       "<div>\n",
       "<style scoped>\n",
       "    .dataframe tbody tr th:only-of-type {\n",
       "        vertical-align: middle;\n",
       "    }\n",
       "\n",
       "    .dataframe tbody tr th {\n",
       "        vertical-align: top;\n",
       "    }\n",
       "\n",
       "    .dataframe thead th {\n",
       "        text-align: right;\n",
       "    }\n",
       "</style>\n",
       "<table border=\"1\" class=\"dataframe\">\n",
       "  <thead>\n",
       "    <tr style=\"text-align: right;\">\n",
       "      <th></th>\n",
       "      <th>Gender</th>\n",
       "      <th>degrees</th>\n",
       "    </tr>\n",
       "  </thead>\n",
       "  <tbody>\n",
       "    <tr>\n",
       "      <th>0</th>\n",
       "      <td>0</td>\n",
       "      <td>13</td>\n",
       "    </tr>\n",
       "    <tr>\n",
       "      <th>1</th>\n",
       "      <td>0</td>\n",
       "      <td>14</td>\n",
       "    </tr>\n",
       "    <tr>\n",
       "      <th>2</th>\n",
       "      <td>0</td>\n",
       "      <td>5</td>\n",
       "    </tr>\n",
       "    <tr>\n",
       "      <th>3</th>\n",
       "      <td>0</td>\n",
       "      <td>27</td>\n",
       "    </tr>\n",
       "    <tr>\n",
       "      <th>4</th>\n",
       "      <td>0</td>\n",
       "      <td>5</td>\n",
       "    </tr>\n",
       "    <tr>\n",
       "      <th>...</th>\n",
       "      <td>...</td>\n",
       "      <td>...</td>\n",
       "    </tr>\n",
       "    <tr>\n",
       "      <th>413</th>\n",
       "      <td>1</td>\n",
       "      <td>12</td>\n",
       "    </tr>\n",
       "    <tr>\n",
       "      <th>414</th>\n",
       "      <td>1</td>\n",
       "      <td>12</td>\n",
       "    </tr>\n",
       "    <tr>\n",
       "      <th>415</th>\n",
       "      <td>1</td>\n",
       "      <td>10</td>\n",
       "    </tr>\n",
       "    <tr>\n",
       "      <th>416</th>\n",
       "      <td>1</td>\n",
       "      <td>10</td>\n",
       "    </tr>\n",
       "    <tr>\n",
       "      <th>417</th>\n",
       "      <td>1</td>\n",
       "      <td>22</td>\n",
       "    </tr>\n",
       "  </tbody>\n",
       "</table>\n",
       "<p>418 rows × 2 columns</p>\n",
       "</div>"
      ],
      "text/plain": [
       "     Gender  degrees\n",
       "0         0       13\n",
       "1         0       14\n",
       "2         0        5\n",
       "3         0       27\n",
       "4         0        5\n",
       "..      ...      ...\n",
       "413       1       12\n",
       "414       1       12\n",
       "415       1       10\n",
       "416       1       10\n",
       "417       1       22\n",
       "\n",
       "[418 rows x 2 columns]"
      ]
     },
     "execution_count": 126,
     "metadata": {},
     "output_type": "execute_result"
    }
   ],
   "source": [
    "link_linear_group_gender"
   ]
  },
  {
   "cell_type": "code",
   "execution_count": 127,
   "metadata": {},
   "outputs": [
    {
     "data": {
      "text/html": [
       "<div>\n",
       "<style scoped>\n",
       "    .dataframe tbody tr th:only-of-type {\n",
       "        vertical-align: middle;\n",
       "    }\n",
       "\n",
       "    .dataframe tbody tr th {\n",
       "        vertical-align: top;\n",
       "    }\n",
       "\n",
       "    .dataframe thead th {\n",
       "        text-align: right;\n",
       "    }\n",
       "</style>\n",
       "<table border=\"1\" class=\"dataframe\">\n",
       "  <thead>\n",
       "    <tr style=\"text-align: right;\">\n",
       "      <th></th>\n",
       "      <th>ID</th>\n",
       "      <th>Target</th>\n",
       "      <th>Gender_x</th>\n",
       "      <th>ID2</th>\n",
       "      <th>Gender_y</th>\n",
       "      <th>ID_Target</th>\n",
       "    </tr>\n",
       "  </thead>\n",
       "  <tbody>\n",
       "    <tr>\n",
       "      <th>0</th>\n",
       "      <td>427685</td>\n",
       "      <td>428855</td>\n",
       "      <td>Female</td>\n",
       "      <td>150</td>\n",
       "      <td>Female</td>\n",
       "      <td>8</td>\n",
       "    </tr>\n",
       "    <tr>\n",
       "      <th>1</th>\n",
       "      <td>428309</td>\n",
       "      <td>428686</td>\n",
       "      <td>Male</td>\n",
       "      <td>188</td>\n",
       "      <td>Male</td>\n",
       "      <td>524</td>\n",
       "    </tr>\n",
       "    <tr>\n",
       "      <th>2</th>\n",
       "      <td>428309</td>\n",
       "      <td>428686</td>\n",
       "      <td>Male</td>\n",
       "      <td>188</td>\n",
       "      <td>Male</td>\n",
       "      <td>524</td>\n",
       "    </tr>\n",
       "    <tr>\n",
       "      <th>3</th>\n",
       "      <td>428309</td>\n",
       "      <td>428686</td>\n",
       "      <td>Male</td>\n",
       "      <td>188</td>\n",
       "      <td>Male</td>\n",
       "      <td>524</td>\n",
       "    </tr>\n",
       "    <tr>\n",
       "      <th>4</th>\n",
       "      <td>428309</td>\n",
       "      <td>428686</td>\n",
       "      <td>Male</td>\n",
       "      <td>188</td>\n",
       "      <td>Male</td>\n",
       "      <td>524</td>\n",
       "    </tr>\n",
       "    <tr>\n",
       "      <th>...</th>\n",
       "      <td>...</td>\n",
       "      <td>...</td>\n",
       "      <td>...</td>\n",
       "      <td>...</td>\n",
       "      <td>...</td>\n",
       "      <td>...</td>\n",
       "    </tr>\n",
       "    <tr>\n",
       "      <th>5088</th>\n",
       "      <td>427919</td>\n",
       "      <td>428049</td>\n",
       "      <td>Male</td>\n",
       "      <td>494</td>\n",
       "      <td>Male</td>\n",
       "      <td>600</td>\n",
       "    </tr>\n",
       "    <tr>\n",
       "      <th>5089</th>\n",
       "      <td>427919</td>\n",
       "      <td>428049</td>\n",
       "      <td>Male</td>\n",
       "      <td>494</td>\n",
       "      <td>Male</td>\n",
       "      <td>600</td>\n",
       "    </tr>\n",
       "    <tr>\n",
       "      <th>5090</th>\n",
       "      <td>427919</td>\n",
       "      <td>428049</td>\n",
       "      <td>Male</td>\n",
       "      <td>494</td>\n",
       "      <td>Male</td>\n",
       "      <td>600</td>\n",
       "    </tr>\n",
       "    <tr>\n",
       "      <th>5091</th>\n",
       "      <td>427932</td>\n",
       "      <td>427958</td>\n",
       "      <td>Male</td>\n",
       "      <td>276</td>\n",
       "      <td>Male</td>\n",
       "      <td>511</td>\n",
       "    </tr>\n",
       "    <tr>\n",
       "      <th>5092</th>\n",
       "      <td>427932</td>\n",
       "      <td>427958</td>\n",
       "      <td>Male</td>\n",
       "      <td>276</td>\n",
       "      <td>Male</td>\n",
       "      <td>511</td>\n",
       "    </tr>\n",
       "  </tbody>\n",
       "</table>\n",
       "<p>5093 rows × 6 columns</p>\n",
       "</div>"
      ],
      "text/plain": [
       "          ID  Target Gender_x  ID2 Gender_y  ID_Target\n",
       "0     427685  428855   Female  150   Female          8\n",
       "1     428309  428686     Male  188     Male        524\n",
       "2     428309  428686     Male  188     Male        524\n",
       "3     428309  428686     Male  188     Male        524\n",
       "4     428309  428686     Male  188     Male        524\n",
       "...      ...     ...      ...  ...      ...        ...\n",
       "5088  427919  428049     Male  494     Male        600\n",
       "5089  427919  428049     Male  494     Male        600\n",
       "5090  427919  428049     Male  494     Male        600\n",
       "5091  427932  427958     Male  276     Male        511\n",
       "5092  427932  427958     Male  276     Male        511\n",
       "\n",
       "[5093 rows x 6 columns]"
      ]
     },
     "execution_count": 127,
     "metadata": {},
     "output_type": "execute_result"
    }
   ],
   "source": [
    "link4"
   ]
  },
  {
   "cell_type": "markdown",
   "metadata": {},
   "source": [
    "<b>Conclusion:</b><br>\n",
    "   The assortativity coefficient of the network is 0.2698, which indicates that there are more edges between same genders compared to a random network. The strength of assortativity is 'weak'. "
   ]
  },
  {
   "cell_type": "markdown",
   "metadata": {},
   "source": [
    "## 3. Gender Assortativity by Label\n",
    "The assortativity coefficients were calculated based on 'label'. "
   ]
  },
  {
   "cell_type": "code",
   "execution_count": 128,
   "metadata": {},
   "outputs": [],
   "source": [
    "#Link data preprocessing\n",
    "link_label = link[['Source','Target','Label']]\n",
    "link_label = link_label.rename(columns = {'Source' : 'ID'})\n",
    "link_label2=pd.merge(link_label,nodes,how='left')\n",
    "link_label3 = pd.merge(link_label2,nodes2,how='left', on='Target')\n",
    "link_label_final = link_label3[['ID2','ID_Target','Label']]\n",
    "link_label_final = link_label_final.rename(columns = {'ID2': 'Source','ID_Target':'Target'})\n",
    "link_label_final['link'] = list(zip(link_label_final['Source'],link_label_final['Target']))\n",
    "link_label_final2 = link_label_final[['link','Label']]\n",
    "\n",
    "#create link data with label\n",
    "labels = link_label_final2['Label'].unique()\n",
    "link_data_by_label = []\n",
    "for label in labels:\n",
    "    new_label = link_label_final2[link_label_final2['Label'] == label]\n",
    "    link_data_by_label.append(new_label)\n",
    "    \n",
    "    \n",
    "#create a network and compute the assortativity by label    \n",
    "node_final = [i for i in range(0,612)]\n",
    "assortativity=[]\n",
    "for datum in link_data_by_label:\n",
    "    g = ig.Graph()\n",
    "    g.add_vertices(node_final)\n",
    "    g.add_edges(datum['link'])\n",
    "    g.vs['Gender'] = nodes_network['Gender2']\n",
    "    temp = g.assortativity_nominal('Gender',directed = True)\n",
    "    assortativity.append(temp)\n",
    "    \n",
    "assortativity_label = {key: value for key, value in zip(labels,assortativity)}\n",
    "assortativity_label2 = pd.DataFrame(data=list(zip(labels,assortativity)),columns =['Label','Assortativity'])"
   ]
  },
  {
   "cell_type": "code",
   "execution_count": 129,
   "metadata": {
    "scrolled": false
   },
   "outputs": [
    {
     "data": {
      "text/html": [
       "<div>\n",
       "<style scoped>\n",
       "    .dataframe tbody tr th:only-of-type {\n",
       "        vertical-align: middle;\n",
       "    }\n",
       "\n",
       "    .dataframe tbody tr th {\n",
       "        vertical-align: top;\n",
       "    }\n",
       "\n",
       "    .dataframe thead th {\n",
       "        text-align: right;\n",
       "    }\n",
       "</style>\n",
       "<table border=\"1\" class=\"dataframe\">\n",
       "  <thead>\n",
       "    <tr style=\"text-align: right;\">\n",
       "      <th></th>\n",
       "      <th>Label</th>\n",
       "      <th>Assortativity</th>\n",
       "    </tr>\n",
       "  </thead>\n",
       "  <tbody>\n",
       "    <tr>\n",
       "      <th>0</th>\n",
       "      <td>Energy</td>\n",
       "      <td>0.328386</td>\n",
       "    </tr>\n",
       "    <tr>\n",
       "      <th>1</th>\n",
       "      <td>Trust</td>\n",
       "      <td>0.271989</td>\n",
       "    </tr>\n",
       "    <tr>\n",
       "      <th>2</th>\n",
       "      <td>Career Development</td>\n",
       "      <td>0.265100</td>\n",
       "    </tr>\n",
       "    <tr>\n",
       "      <th>3</th>\n",
       "      <td>Personal Support</td>\n",
       "      <td>0.432106</td>\n",
       "    </tr>\n",
       "    <tr>\n",
       "      <th>4</th>\n",
       "      <td>Decision Making</td>\n",
       "      <td>0.276716</td>\n",
       "    </tr>\n",
       "    <tr>\n",
       "      <th>5</th>\n",
       "      <td>Access</td>\n",
       "      <td>0.130380</td>\n",
       "    </tr>\n",
       "    <tr>\n",
       "      <th>6</th>\n",
       "      <td>Innovation</td>\n",
       "      <td>0.233658</td>\n",
       "    </tr>\n",
       "    <tr>\n",
       "      <th>7</th>\n",
       "      <td>Problem Solving</td>\n",
       "      <td>0.247229</td>\n",
       "    </tr>\n",
       "    <tr>\n",
       "      <th>8</th>\n",
       "      <td>Strategy</td>\n",
       "      <td>0.072249</td>\n",
       "    </tr>\n",
       "  </tbody>\n",
       "</table>\n",
       "</div>"
      ],
      "text/plain": [
       "                Label  Assortativity\n",
       "0              Energy       0.328386\n",
       "1               Trust       0.271989\n",
       "2  Career Development       0.265100\n",
       "3    Personal Support       0.432106\n",
       "4     Decision Making       0.276716\n",
       "5              Access       0.130380\n",
       "6          Innovation       0.233658\n",
       "7     Problem Solving       0.247229\n",
       "8            Strategy       0.072249"
      ]
     },
     "execution_count": 129,
     "metadata": {},
     "output_type": "execute_result"
    }
   ],
   "source": [
    "#print assortativity by label\n",
    "assortativity_label2"
   ]
  },
  {
   "cell_type": "markdown",
   "metadata": {},
   "source": [
    "<b>Conclusion:</b><br>\n",
    "Assortativity is high for 'Personal Support', 'Energy'and 'Decision Making'. People tend to talk to their own gender for 'Personal Support', 'Energy'and 'Decision Making'."
   ]
  },
  {
   "cell_type": "markdown",
   "metadata": {},
   "source": [
    "## 4. The difference in the number of out-degrees between men and women \n",
    "\n",
    "In this chapter, we examined the difference in the number of out-degrees between men and women from the sample and tested if the difference is statistically significance by running permutation tests. "
   ]
  },
  {
   "cell_type": "code",
   "execution_count": 130,
   "metadata": {},
   "outputs": [],
   "source": [
    "#preprocessing the data \n",
    "out_label = link_label_final[['Source','Label']]\n",
    "out_label = out_label.rename(columns = {'Source':'ID'})\n",
    "out_label_gender = pd.merge(out_label,nodes_network,how = 'left',on = 'ID')\n",
    "out_label_male = out_label_gender[out_label_gender['Gender'] == 'Male']\n",
    "out_label_female = out_label_gender[out_label_gender['Gender'] == 'Female']\n",
    "number_degree_male = out_label_male.groupby(['ID']).Gender.count().reset_index()\n",
    "number_degree_male = number_degree_male.rename(columns = {'Gender': 'Number of out-degree'})\n",
    "number_degree_female = out_label_female.groupby(['ID']).Gender.count().reset_index()\n",
    "number_degree_female = number_degree_female.rename(columns = {'Gender':'Number of out-degree'})\n",
    "number_degree_male2 = number_degree_male['Number of out-degree']\n",
    "number_degree_female2 = number_degree_female['Number of out-degree']"
   ]
  },
  {
   "cell_type": "code",
   "execution_count": 131,
   "metadata": {},
   "outputs": [],
   "source": [
    "#split the data into men and women in terms of # of out-degress \n",
    "nodes_network_male = nodes_network[nodes_network['Gender']=='Male']\n",
    "nodes_network_male21 = pd.merge(nodes_network_male,number_degree_male,how='left',on = 'ID')\n",
    "nodes_network_male2=nodes_network_male21.fillna(0)\n",
    "nodes_network_female = nodes_network[nodes_network['Gender']=='Female']\n",
    "nodes_network_female21 = pd.merge(nodes_network_female,number_degree_female,how='left',on = 'ID')\n",
    "nodes_network_female2=nodes_network_female21.fillna(0)\n",
    "nodes_network_male2 = nodes_network_male2['Number of out-degree']\n",
    "nodes_network_female2 = nodes_network_female2['Number of out-degree']\n",
    "average_male_out = np.mean(nodes_network_male2)\n",
    "average_female_out = np.mean(nodes_network_female2)\n",
    "outdegree_diff = pd.DataFrame(np.array([[average_male_out,average_female_out]]),columns = ['Male','Female'],index=['# of out-degrees'])\n"
   ]
  },
  {
   "cell_type": "code",
   "execution_count": 132,
   "metadata": {},
   "outputs": [
    {
     "data": {
      "text/html": [
       "<div>\n",
       "<style scoped>\n",
       "    .dataframe tbody tr th:only-of-type {\n",
       "        vertical-align: middle;\n",
       "    }\n",
       "\n",
       "    .dataframe tbody tr th {\n",
       "        vertical-align: top;\n",
       "    }\n",
       "\n",
       "    .dataframe thead th {\n",
       "        text-align: right;\n",
       "    }\n",
       "</style>\n",
       "<table border=\"1\" class=\"dataframe\">\n",
       "  <thead>\n",
       "    <tr style=\"text-align: right;\">\n",
       "      <th></th>\n",
       "      <th>Male</th>\n",
       "      <th>Female</th>\n",
       "    </tr>\n",
       "  </thead>\n",
       "  <tbody>\n",
       "    <tr>\n",
       "      <th># of out-degrees</th>\n",
       "      <td>7.783715</td>\n",
       "      <td>9.287671</td>\n",
       "    </tr>\n",
       "  </tbody>\n",
       "</table>\n",
       "</div>"
      ],
      "text/plain": [
       "                      Male    Female\n",
       "# of out-degrees  7.783715  9.287671"
      ]
     },
     "execution_count": 132,
     "metadata": {},
     "output_type": "execute_result"
    }
   ],
   "source": [
    "outdegree_diff"
   ]
  },
  {
   "cell_type": "code",
   "execution_count": 136,
   "metadata": {},
   "outputs": [
    {
     "data": {
      "text/plain": [
       "Text(0.5, 1.0, 'Number of Out-degree by Gender')"
      ]
     },
     "execution_count": 136,
     "metadata": {},
     "output_type": "execute_result"
    },
    {
     "data": {
      "image/png": "[encoded data removed]",
      "text/plain": [
       "<Figure size 1080x720 with 1 Axes>"
      ]
     },
     "metadata": {},
     "output_type": "display_data"
    }
   ],
   "source": [
    "f,ax = plt.subplots(figsize = (15,10))\n",
    "sns.histplot(nodes_network_male2,element='step',color='#2157A4')\n",
    "sns.histplot(nodes_network_female2,element = 'step',color='red')\n",
    "\n",
    "ax.set_title('Number of Out-degree by Gender',fontweight = 'bold',fontsize=30)"
   ]
  },
  {
   "cell_type": "markdown",
   "metadata": {},
   "source": [
    "## Permutation test on the average out-degree between male and female groups "
   ]
  },
  {
   "cell_type": "code",
   "execution_count": 137,
   "metadata": {},
   "outputs": [],
   "source": [
    "tstat,pval_ttest_out2 = ttest_ind(nodes_network_male2,nodes_network_female2)\n",
    "p_val_permu_out2 = permutation_test(nodes_network_male2,nodes_network_female2,method='approximate',num_rounds = 10000,seed=0)"
   ]
  },
  {
   "cell_type": "code",
   "execution_count": 138,
   "metadata": {},
   "outputs": [
    {
     "data": {
      "text/plain": [
       "0.04646645411248457"
      ]
     },
     "execution_count": 138,
     "metadata": {},
     "output_type": "execute_result"
    }
   ],
   "source": [
    "pval_ttest_out2"
   ]
  },
  {
   "cell_type": "code",
   "execution_count": 139,
   "metadata": {},
   "outputs": [
    {
     "data": {
      "text/plain": [
       "0.0471952804719528"
      ]
     },
     "execution_count": 139,
     "metadata": {},
     "output_type": "execute_result"
    }
   ],
   "source": [
    "p_val_permu_out2"
   ]
  },
  {
   "cell_type": "markdown",
   "metadata": {},
   "source": [
    "<b>Conclusion:</b><br>\n",
    "A p-value of .047 indicates that we would see the observed sample result only 4.7% of the time under the assumption that there's no difference in the average out-degrees between men and women. Thus we reject the null hypothesis indicating that there's a statistically significant different in the number of out-degrees betweeen men and women based on 0.05 threshold. "
   ]
  },
  {
   "cell_type": "markdown",
   "metadata": {},
   "source": [
    "## 4. The difference in the number of in-degrees between men and women \n",
    "\n",
    "The difference in the number of in-degrees between men and women was calculated. "
   ]
  },
  {
   "cell_type": "code",
   "execution_count": 140,
   "metadata": {},
   "outputs": [],
   "source": [
    "in_label = link_label_final[['Target','Label']]\n",
    "in_label =in_label.rename(columns ={'Target':'ID'})\n",
    "in_label_gender = pd.merge(in_label,nodes_network,how='left',on='ID')\n",
    "in_label_male = in_label_gender[in_label_gender['Gender'] =='Male']\n",
    "in_label_female = in_label_gender[in_label_gender['Gender'] =='Female']\n",
    "number_in_male = in_label_male.groupby(['ID']).Gender.count().reset_index()\n",
    "number_in_female = in_label_female.groupby(['ID']).Gender.count().reset_index()\n",
    "number_in_male = number_in_male.rename(columns = {'Gender': 'Number of in-degree'})\n",
    "number_in_female = number_in_female.rename(columns = {'Gender': 'Number of in-degree'})\n",
    "nodes_network_male_in = nodes_network[nodes_network['Gender']=='Male']\n",
    "nodes_network_male2_in = pd.merge(nodes_network_male_in,number_in_male,how='left',on = 'ID')\n",
    "nodes_network_male3_in = nodes_network_male2_in.fillna(0)\n",
    "nodes_network_female_in = nodes_network[nodes_network['Gender']=='Female']\n",
    "nodes_network_female2_in = pd.merge(nodes_network_female_in,number_in_female,how='left',on = 'ID')\n",
    "nodes_network_female3_in=nodes_network_female2_in.fillna(0)\n",
    "nodes_network_male3_in = nodes_network_male3_in['Number of in-degree']\n",
    "nodes_network_female3_in = nodes_network_female3_in['Number of in-degree']\n",
    "average_male_in = np.mean(nodes_network_male3_in)\n",
    "average_female_in = np.mean(nodes_network_female3_in)\n",
    "indegree_diff = pd.DataFrame(np.array([[average_male_in,average_female_in]]),columns = ['Male','Female'],index=['# of in-degrees'])\n"
   ]
  },
  {
   "cell_type": "code",
   "execution_count": 141,
   "metadata": {},
   "outputs": [
    {
     "data": {
      "text/html": [
       "<div>\n",
       "<style scoped>\n",
       "    .dataframe tbody tr th:only-of-type {\n",
       "        vertical-align: middle;\n",
       "    }\n",
       "\n",
       "    .dataframe tbody tr th {\n",
       "        vertical-align: top;\n",
       "    }\n",
       "\n",
       "    .dataframe thead th {\n",
       "        text-align: right;\n",
       "    }\n",
       "</style>\n",
       "<table border=\"1\" class=\"dataframe\">\n",
       "  <thead>\n",
       "    <tr style=\"text-align: right;\">\n",
       "      <th></th>\n",
       "      <th>Male</th>\n",
       "      <th>Female</th>\n",
       "    </tr>\n",
       "  </thead>\n",
       "  <tbody>\n",
       "    <tr>\n",
       "      <th># of in-degrees</th>\n",
       "      <td>8.592875</td>\n",
       "      <td>7.835616</td>\n",
       "    </tr>\n",
       "  </tbody>\n",
       "</table>\n",
       "</div>"
      ],
      "text/plain": [
       "                     Male    Female\n",
       "# of in-degrees  8.592875  7.835616"
      ]
     },
     "execution_count": 141,
     "metadata": {},
     "output_type": "execute_result"
    }
   ],
   "source": [
    "indegree_diff"
   ]
  },
  {
   "cell_type": "code",
   "execution_count": 144,
   "metadata": {},
   "outputs": [
    {
     "data": {
      "text/plain": [
       "Text(0.5, 1.0, 'Number of In-degree by Gender')"
      ]
     },
     "execution_count": 144,
     "metadata": {},
     "output_type": "execute_result"
    },
    {
     "data": {
      "image/png": "[encoded data removed]",
      "text/plain": [
       "<Figure size 1080x720 with 1 Axes>"
      ]
     },
     "metadata": {},
     "output_type": "display_data"
    }
   ],
   "source": [
    "f,ax = plt.subplots(figsize = (15,10))\n",
    "sns.histplot(nodes_network_male3_in,element='step',color='#2157A4')\n",
    "sns.histplot(nodes_network_female3_in,element = 'step',color='red')\n",
    "\n",
    "ax.set_title('Number of In-degree by Gender',fontweight = 'bold',fontsize=30)"
   ]
  },
  {
   "cell_type": "markdown",
   "metadata": {},
   "source": [
    "## Permutation test on the average In-degree between male and female group"
   ]
  },
  {
   "cell_type": "code",
   "execution_count": 145,
   "metadata": {},
   "outputs": [],
   "source": [
    "tstat,pval_ttest_in2 = ttest_ind(nodes_network_male3_in,nodes_network_female3_in)\n",
    "p_val_permu_in2 = permutation_test(nodes_network_male3_in,nodes_network_female3_in,method='approximate',num_rounds = 10000,seed=0)"
   ]
  },
  {
   "cell_type": "code",
   "execution_count": 146,
   "metadata": {},
   "outputs": [
    {
     "data": {
      "text/plain": [
       "0.5712703414065738"
      ]
     },
     "execution_count": 146,
     "metadata": {},
     "output_type": "execute_result"
    }
   ],
   "source": [
    "pval_ttest_in2"
   ]
  },
  {
   "cell_type": "code",
   "execution_count": 147,
   "metadata": {},
   "outputs": [
    {
     "data": {
      "text/plain": [
       "0.5823417658234177"
      ]
     },
     "execution_count": 147,
     "metadata": {},
     "output_type": "execute_result"
    }
   ],
   "source": [
    "p_val_permu_in2"
   ]
  },
  {
   "cell_type": "markdown",
   "metadata": {},
   "source": [
    "<b>Conclusion:</b><br>\n",
    "The p-value for the number of in-degrees is 0.58, which is greater than 0.05. We failed to reject the null hypothesis; in our smaple women have a higher connections, but this result is not statistically significant. "
   ]
  },
  {
   "cell_type": "markdown",
   "metadata": {},
   "source": [
    "## Number of in-degree by Gender (without outliers)\n",
    "\n",
    "We visually detected a couple of outliers from the histograms aboves. Since these outliers tend to be more seniors, they migth have been responsible for having more connections. Assuming that this interpretation is true, we thought that eliminating outliers might help reduce noise.  "
   ]
  },
  {
   "cell_type": "code",
   "execution_count": 148,
   "metadata": {},
   "outputs": [],
   "source": [
    "number_in_male_outlier = number_in_male[number_in_male['ID'] !=610]\n",
    "number_in_female_outlier = number_in_female[number_in_female['ID'] != 607]\n",
    "nodes_network_male_in = nodes_network[nodes_network['Gender']=='Male']\n",
    "nodes_network_male_in_outlier = nodes_network_male_in[nodes_network_male_in['ID']!=610]\n",
    "nodes_network_male2_in_outlier = pd.merge(nodes_network_male_in_outlier,number_in_male_outlier,how='left',on = 'ID')\n",
    "nodes_network_male3_in_outlier = nodes_network_male2_in_outlier.fillna(0)\n",
    "nodes_network_female_in = nodes_network[nodes_network['Gender']=='Female']\n",
    "nodes_network_female_in_outlier = nodes_network_female_in[nodes_network_female_in['ID'] != 607]\n",
    "nodes_network_female2_in_outlier = pd.merge(nodes_network_female_in_outlier,number_in_female_outlier,how='left',on = 'ID')\n",
    "nodes_network_female3_in_outlier=nodes_network_female2_in_outlier.fillna(0)\n",
    "nodes_network_male3_in_o = nodes_network_male3_in_outlier['Number of in-degree']\n",
    "nodes_network_female3_in_o = nodes_network_female3_in_outlier['Number of in-degree']\n"
   ]
  },
  {
   "cell_type": "code",
   "execution_count": 150,
   "metadata": {},
   "outputs": [
    {
     "data": {
      "text/plain": [
       "Text(0.5, 1.0, 'Number of In-degree by Gender')"
      ]
     },
     "execution_count": 150,
     "metadata": {},
     "output_type": "execute_result"
    },
    {
     "data": {
      "image/png": "[encoded data removed]",
      "text/plain": [
       "<Figure size 1080x720 with 1 Axes>"
      ]
     },
     "metadata": {},
     "output_type": "display_data"
    }
   ],
   "source": [
    "f,ax = plt.subplots(figsize = (15,10))\n",
    "sns.histplot(nodes_network_male3_in_o,element='step',color='#2157A4')\n",
    "sns.histplot(nodes_network_female3_in_o,element = 'step',color='red')\n",
    "\n",
    "ax.set_title('Number of In-degree by Gender',fontweight = 'bold',fontsize=30)"
   ]
  },
  {
   "cell_type": "code",
   "execution_count": 342,
   "metadata": {},
   "outputs": [],
   "source": [
    "tstat,pval_ttest_in2 = ttest_ind(nodes_network_male3_in_o,nodes_network_female3_in_o)\n",
    "p_val_permu_in2 = permutation_test(nodes_network_male3_in_o,nodes_network_female3_in_o,method='approximate',num_rounds = 10000,seed=0)"
   ]
  },
  {
   "cell_type": "code",
   "execution_count": 343,
   "metadata": {},
   "outputs": [
    {
     "data": {
      "text/plain": [
       "0.5833244325643967"
      ]
     },
     "execution_count": 343,
     "metadata": {},
     "output_type": "execute_result"
    }
   ],
   "source": [
    "pval_ttest_in2"
   ]
  },
  {
   "cell_type": "code",
   "execution_count": 344,
   "metadata": {},
   "outputs": [
    {
     "data": {
      "text/plain": [
       "0.5807419258074192"
      ]
     },
     "execution_count": 344,
     "metadata": {},
     "output_type": "execute_result"
    }
   ],
   "source": [
    "p_val_permu_in2"
   ]
  },
  {
   "cell_type": "markdown",
   "metadata": {},
   "source": [
    "<b>Conclusion:</b><br>\n",
    "Even without top 3 outliers from both men and women groups, the p-value of .58 tells us that there's no statistical significant differences in the number of in-dgrees between them. "
   ]
  },
  {
   "cell_type": "code",
   "execution_count": 345,
   "metadata": {},
   "outputs": [
    {
     "name": "stdout",
     "output_type": "stream",
     "text": [
      "average number of in-degrees for male without an outlier: 8.11734693877551\n"
     ]
    }
   ],
   "source": [
    "print('average number of in-degrees for male without an outlier: {0}'.format(nodes_network_male3_in_o.mean()))"
   ]
  },
  {
   "cell_type": "code",
   "execution_count": 346,
   "metadata": {},
   "outputs": [
    {
     "name": "stdout",
     "output_type": "stream",
     "text": [
      "average number of in-degrees for female without an outlier: 7.486238532110092\n"
     ]
    }
   ],
   "source": [
    "print('average number of in-degrees for female without an outlier: {0}'.format(nodes_network_female3_in_o.mean()))"
   ]
  },
  {
   "cell_type": "markdown",
   "metadata": {},
   "source": [
    "## Number of Out-degrees by 'Gender' and 'LabeL'\n",
    "raw data: out_label_gender  -> out_label_male , out_label_female"
   ]
  },
  {
   "cell_type": "code",
   "execution_count": 347,
   "metadata": {
    "scrolled": true
   },
   "outputs": [
    {
     "name": "stdout",
     "output_type": "stream",
     "text": [
      "p-values for difference in averge out-degree by label\n"
     ]
    },
    {
     "data": {
      "text/plain": [
       "[('Energy', 0.11018898110188981),\n",
       " ('Trust', 0.616938306169383),\n",
       " ('Career Development', 0.31786821317868214),\n",
       " ('Personal Support', 0.0034996500349965005),\n",
       " ('Decision Making', 0.9222077792220778),\n",
       " ('Access', 0.51994800519948),\n",
       " ('Innovation', 0.7030296970302969),\n",
       " ('Problem Solving', 0.7081291870812919),\n",
       " ('Strategy', 0.37066293370662934)]"
      ]
     },
     "execution_count": 347,
     "metadata": {},
     "output_type": "execute_result"
    }
   ],
   "source": [
    "#number of out-degrees by gender and label\n",
    "number_degree_male_label = out_label_male.groupby(['ID','Label']).Gender.count().reset_index()\n",
    "number_degree_female_label = out_label_female.groupby(['ID','Label']).Gender.count().reset_index()\n",
    "\n",
    "#group the above data by label \n",
    "out_data_label_male = []\n",
    "for label in labels:\n",
    "    new_label = number_degree_male_label[number_degree_male_label['Label'] == label]\n",
    "    out_data_label_male.append(new_label)\n",
    "    \n",
    "out_data_label_female = []\n",
    "for label in labels:\n",
    "    new_label = number_degree_female_label[number_degree_female_label['Label'] == label]\n",
    "    out_data_label_female.append(new_label)\n",
    "\n",
    "    \n",
    "#permutation test to see if there's significant difference in the average number of out-degrees by gender and label\n",
    "p_val_permu_out_label = []\n",
    "for i in range(9):\n",
    "    p_val_permu_out_label.append(permutation_test(out_data_label_male[i].Gender,out_data_label_female[i].Gender,method='approximate',num_rounds = 10000,seed=0))\n",
    "\n",
    "#create a list: (label,p-value)\n",
    "p_val_by_label = [(label,pval) for label, pval in list(zip(labels,p_val_permu_out_label))]\n",
    "\n",
    "print('p-values for difference in averge out-degree by label')\n",
    "p_val_by_label"
   ]
  },
  {
   "cell_type": "markdown",
   "metadata": {},
   "source": [
    "\n",
    "For only personal support, there's a statistical significance in # of outdegree difference between men and women"
   ]
  },
  {
   "cell_type": "code",
   "execution_count": 348,
   "metadata": {
    "scrolled": false
   },
   "outputs": [
    {
     "name": "stdout",
     "output_type": "stream",
     "text": [
      "average # of out-degrees for men and women by label \n"
     ]
    },
    {
     "data": {
      "text/plain": [
       "[('Energy', (2.109004739336493, 2.450381679389313)),\n",
       " ('Trust', (1.9907407407407407, 2.0757575757575757)),\n",
       " ('Career Development', (1.4047619047619047, 1.5137614678899083)),\n",
       " ('Personal Support', (1.6049382716049383, 2.0172413793103448)),\n",
       " ('Decision Making', (1.730593607305936, 1.7164179104477613)),\n",
       " ('Access', (1.75, 1.9591836734693877)),\n",
       " ('Innovation', (2.1123595505617976, 2.018348623853211)),\n",
       " ('Problem Solving', (2.0688073394495414, 2.143884892086331)),\n",
       " ('Strategy', (1.6778846153846154, 1.5555555555555556))]"
      ]
     },
     "execution_count": 348,
     "metadata": {},
     "output_type": "execute_result"
    }
   ],
   "source": [
    "#average number of out-degrees by gender and label\n",
    "mean_by_label_male = []\n",
    "mean_by_label_female = []\n",
    "for i in range(9):\n",
    "    mean_by_label_male.append(out_data_label_male[i].Gender.mean())\n",
    "    mean_by_label_female.append(out_data_label_female[i].Gender.mean())\n",
    "mean_by_label = list(zip(mean_by_label_male,mean_by_label_female))\n",
    "\n",
    "#create a list: [label,mean(men,women)]\n",
    "mean_by_label = [(label,mean) for label,mean in zip(labels,mean_by_label)]\n",
    "\n",
    "#print the list\n",
    "print('average # of out-degrees for men and women by label ')\n",
    "mean_by_label"
   ]
  },
  {
   "cell_type": "markdown",
   "metadata": {},
   "source": [
    "As can be seen, other areas have simliar average connections betweeen men and women except 'Personal Support'"
   ]
  },
  {
   "cell_type": "markdown",
   "metadata": {},
   "source": [
    "## Gender Assortativity by Division"
   ]
  },
  {
   "cell_type": "code",
   "execution_count": 349,
   "metadata": {},
   "outputs": [],
   "source": [
    "nodes_all2 = pd.read_csv(r'/Users/PJMoon/Data_Science_Projects/SNA/Assortativity/Nodes with attributes_V2.csv')"
   ]
  },
  {
   "cell_type": "code",
   "execution_count": 350,
   "metadata": {},
   "outputs": [
    {
     "name": "stdout",
     "output_type": "stream",
     "text": [
      "<class 'pandas.core.frame.DataFrame'>\n",
      "RangeIndex: 771 entries, 0 to 770\n",
      "Data columns (total 28 columns):\n",
      " #   Column              Non-Null Count  Dtype  \n",
      "---  ------              --------------  -----  \n",
      " 0   ID                  612 non-null    float64\n",
      " 1   Full Name           612 non-null    object \n",
      " 2   Invited             612 non-null    object \n",
      " 3   Responded           612 non-null    object \n",
      " 4   Organization        612 non-null    object \n",
      " 5   Division            612 non-null    object \n",
      " 6   Function/Deparment  612 non-null    object \n",
      " 7   Title               612 non-null    object \n",
      " 8   Level               612 non-null    float64\n",
      " 9   Location            611 non-null    object \n",
      " 10  Tenure              536 non-null    float64\n",
      " 11  Manager             612 non-null    object \n",
      " 12  Team                377 non-null    object \n",
      " 13  Gender              612 non-null    object \n",
      " 14  Unnamed: 14         0 non-null      float64\n",
      " 15  Unnamed: 15         0 non-null      float64\n",
      " 16  Unnamed: 16         0 non-null      float64\n",
      " 17  Unnamed: 17         0 non-null      float64\n",
      " 18  Unnamed: 18         0 non-null      float64\n",
      " 19  Unnamed: 19         0 non-null      float64\n",
      " 20  Unnamed: 20         0 non-null      float64\n",
      " 21  Unnamed: 21         0 non-null      float64\n",
      " 22  Unnamed: 22         0 non-null      float64\n",
      " 23  Unnamed: 23         0 non-null      float64\n",
      " 24  Unnamed: 24         0 non-null      float64\n",
      " 25  Unnamed: 25         0 non-null      float64\n",
      " 26  Unnamed: 26         0 non-null      float64\n",
      " 27  Unnamed: 27         0 non-null      float64\n",
      "dtypes: float64(17), object(11)\n",
      "memory usage: 168.8+ KB\n"
     ]
    }
   ],
   "source": [
    "nodes_all2.info()"
   ]
  },
  {
   "cell_type": "code",
   "execution_count": 351,
   "metadata": {},
   "outputs": [
    {
     "data": {
      "text/plain": [
       "Index(['ID', 'Full Name', 'Invited', 'Responded', 'Organization', 'Division',\n",
       "       'Function/Deparment', 'Title', 'Level', 'Location', 'Tenure', 'Manager',\n",
       "       'Team', 'Gender', 'Unnamed: 14', 'Unnamed: 15', 'Unnamed: 16',\n",
       "       'Unnamed: 17', 'Unnamed: 18', 'Unnamed: 19', 'Unnamed: 20',\n",
       "       'Unnamed: 21', 'Unnamed: 22', 'Unnamed: 23', 'Unnamed: 24',\n",
       "       'Unnamed: 25', 'Unnamed: 26', 'Unnamed: 27'],\n",
       "      dtype='object')"
      ]
     },
     "execution_count": 351,
     "metadata": {},
     "output_type": "execute_result"
    }
   ],
   "source": [
    "nodes_all2.columns"
   ]
  },
  {
   "cell_type": "code",
   "execution_count": 352,
   "metadata": {},
   "outputs": [
    {
     "data": {
      "text/plain": [
       "US - Work From Home                438\n",
       "US - NY - Rochester - 313           69\n",
       "Canada - Work From Home             41\n",
       "US - NJ - Raritan                   33\n",
       "US - NY - Rochester - CNP - 100     19\n",
       "Canada - Markham                    11\n",
       "Name: Location, dtype: int64"
      ]
     },
     "execution_count": 352,
     "metadata": {},
     "output_type": "execute_result"
    }
   ],
   "source": [
    "nodes_all2.Location.value_counts()"
   ]
  },
  {
   "cell_type": "code",
   "execution_count": 353,
   "metadata": {},
   "outputs": [
    {
     "data": {
      "text/html": [
       "<div>\n",
       "<style scoped>\n",
       "    .dataframe tbody tr th:only-of-type {\n",
       "        vertical-align: middle;\n",
       "    }\n",
       "\n",
       "    .dataframe tbody tr th {\n",
       "        vertical-align: top;\n",
       "    }\n",
       "\n",
       "    .dataframe thead th {\n",
       "        text-align: right;\n",
       "    }\n",
       "</style>\n",
       "<table border=\"1\" class=\"dataframe\">\n",
       "  <thead>\n",
       "    <tr style=\"text-align: right;\">\n",
       "      <th></th>\n",
       "      <th>ID</th>\n",
       "      <th>Full Name</th>\n",
       "      <th>Invited</th>\n",
       "      <th>Responded</th>\n",
       "      <th>Organization</th>\n",
       "      <th>Division</th>\n",
       "      <th>Function/Deparment</th>\n",
       "      <th>Title</th>\n",
       "      <th>Level</th>\n",
       "      <th>Location</th>\n",
       "      <th>...</th>\n",
       "      <th>Unnamed: 18</th>\n",
       "      <th>Unnamed: 19</th>\n",
       "      <th>Unnamed: 20</th>\n",
       "      <th>Unnamed: 21</th>\n",
       "      <th>Unnamed: 22</th>\n",
       "      <th>Unnamed: 23</th>\n",
       "      <th>Unnamed: 24</th>\n",
       "      <th>Unnamed: 25</th>\n",
       "      <th>Unnamed: 26</th>\n",
       "      <th>Unnamed: 27</th>\n",
       "    </tr>\n",
       "  </thead>\n",
       "  <tbody>\n",
       "    <tr>\n",
       "      <th>0</th>\n",
       "      <td>428634.0</td>\n",
       "      <td>Agnes Friesen</td>\n",
       "      <td>YES</td>\n",
       "      <td>NO</td>\n",
       "      <td>Ortho</td>\n",
       "      <td>Andrew Corkum</td>\n",
       "      <td>Selling - Commercial</td>\n",
       "      <td>Ortho Care Laboratory Specialist</td>\n",
       "      <td>4.0</td>\n",
       "      <td>Canada - Work From Home</td>\n",
       "      <td>...</td>\n",
       "      <td>NaN</td>\n",
       "      <td>NaN</td>\n",
       "      <td>NaN</td>\n",
       "      <td>NaN</td>\n",
       "      <td>NaN</td>\n",
       "      <td>NaN</td>\n",
       "      <td>NaN</td>\n",
       "      <td>NaN</td>\n",
       "      <td>NaN</td>\n",
       "      <td>NaN</td>\n",
       "    </tr>\n",
       "    <tr>\n",
       "      <th>1</th>\n",
       "      <td>428764.0</td>\n",
       "      <td>Barbara Schonewille</td>\n",
       "      <td>YES</td>\n",
       "      <td>YES</td>\n",
       "      <td>Ortho</td>\n",
       "      <td>Andrew Corkum</td>\n",
       "      <td>Selling - Commercial</td>\n",
       "      <td>Account Manager - Alberta Canada Territory</td>\n",
       "      <td>3.0</td>\n",
       "      <td>Canada - Work From Home</td>\n",
       "      <td>...</td>\n",
       "      <td>NaN</td>\n",
       "      <td>NaN</td>\n",
       "      <td>NaN</td>\n",
       "      <td>NaN</td>\n",
       "      <td>NaN</td>\n",
       "      <td>NaN</td>\n",
       "      <td>NaN</td>\n",
       "      <td>NaN</td>\n",
       "      <td>NaN</td>\n",
       "      <td>NaN</td>\n",
       "    </tr>\n",
       "    <tr>\n",
       "      <th>2</th>\n",
       "      <td>428881.0</td>\n",
       "      <td>Carli-Ann Garnett</td>\n",
       "      <td>YES</td>\n",
       "      <td>YES</td>\n",
       "      <td>Ortho</td>\n",
       "      <td>Andrew Corkum</td>\n",
       "      <td>Marketing - Commercial</td>\n",
       "      <td>Manager, IH Marketing and Commercial Excellence</td>\n",
       "      <td>3.0</td>\n",
       "      <td>Canada - Work From Home</td>\n",
       "      <td>...</td>\n",
       "      <td>NaN</td>\n",
       "      <td>NaN</td>\n",
       "      <td>NaN</td>\n",
       "      <td>NaN</td>\n",
       "      <td>NaN</td>\n",
       "      <td>NaN</td>\n",
       "      <td>NaN</td>\n",
       "      <td>NaN</td>\n",
       "      <td>NaN</td>\n",
       "      <td>NaN</td>\n",
       "    </tr>\n",
       "    <tr>\n",
       "      <th>3</th>\n",
       "      <td>428738.0</td>\n",
       "      <td>Cheryl Dosen</td>\n",
       "      <td>YES</td>\n",
       "      <td>YES</td>\n",
       "      <td>Ortho</td>\n",
       "      <td>Andrew Corkum</td>\n",
       "      <td>Selling - Commercial</td>\n",
       "      <td>Account Manager - West</td>\n",
       "      <td>4.0</td>\n",
       "      <td>Canada - Work From Home</td>\n",
       "      <td>...</td>\n",
       "      <td>NaN</td>\n",
       "      <td>NaN</td>\n",
       "      <td>NaN</td>\n",
       "      <td>NaN</td>\n",
       "      <td>NaN</td>\n",
       "      <td>NaN</td>\n",
       "      <td>NaN</td>\n",
       "      <td>NaN</td>\n",
       "      <td>NaN</td>\n",
       "      <td>NaN</td>\n",
       "    </tr>\n",
       "    <tr>\n",
       "      <th>4</th>\n",
       "      <td>428803.0</td>\n",
       "      <td>Helene Goulet</td>\n",
       "      <td>YES</td>\n",
       "      <td>YES</td>\n",
       "      <td>Ortho</td>\n",
       "      <td>Andrew Corkum</td>\n",
       "      <td>Selling - Commercial</td>\n",
       "      <td>National Automation Specialist</td>\n",
       "      <td>3.0</td>\n",
       "      <td>Canada - Work From Home</td>\n",
       "      <td>...</td>\n",
       "      <td>NaN</td>\n",
       "      <td>NaN</td>\n",
       "      <td>NaN</td>\n",
       "      <td>NaN</td>\n",
       "      <td>NaN</td>\n",
       "      <td>NaN</td>\n",
       "      <td>NaN</td>\n",
       "      <td>NaN</td>\n",
       "      <td>NaN</td>\n",
       "      <td>NaN</td>\n",
       "    </tr>\n",
       "    <tr>\n",
       "      <th>...</th>\n",
       "      <td>...</td>\n",
       "      <td>...</td>\n",
       "      <td>...</td>\n",
       "      <td>...</td>\n",
       "      <td>...</td>\n",
       "      <td>...</td>\n",
       "      <td>...</td>\n",
       "      <td>...</td>\n",
       "      <td>...</td>\n",
       "      <td>...</td>\n",
       "      <td>...</td>\n",
       "      <td>...</td>\n",
       "      <td>...</td>\n",
       "      <td>...</td>\n",
       "      <td>...</td>\n",
       "      <td>...</td>\n",
       "      <td>...</td>\n",
       "      <td>...</td>\n",
       "      <td>...</td>\n",
       "      <td>...</td>\n",
       "      <td>...</td>\n",
       "    </tr>\n",
       "    <tr>\n",
       "      <th>766</th>\n",
       "      <td>NaN</td>\n",
       "      <td>NaN</td>\n",
       "      <td>NaN</td>\n",
       "      <td>NaN</td>\n",
       "      <td>NaN</td>\n",
       "      <td>NaN</td>\n",
       "      <td>NaN</td>\n",
       "      <td>NaN</td>\n",
       "      <td>NaN</td>\n",
       "      <td>NaN</td>\n",
       "      <td>...</td>\n",
       "      <td>NaN</td>\n",
       "      <td>NaN</td>\n",
       "      <td>NaN</td>\n",
       "      <td>NaN</td>\n",
       "      <td>NaN</td>\n",
       "      <td>NaN</td>\n",
       "      <td>NaN</td>\n",
       "      <td>NaN</td>\n",
       "      <td>NaN</td>\n",
       "      <td>NaN</td>\n",
       "    </tr>\n",
       "    <tr>\n",
       "      <th>767</th>\n",
       "      <td>NaN</td>\n",
       "      <td>NaN</td>\n",
       "      <td>NaN</td>\n",
       "      <td>NaN</td>\n",
       "      <td>NaN</td>\n",
       "      <td>NaN</td>\n",
       "      <td>NaN</td>\n",
       "      <td>NaN</td>\n",
       "      <td>NaN</td>\n",
       "      <td>NaN</td>\n",
       "      <td>...</td>\n",
       "      <td>NaN</td>\n",
       "      <td>NaN</td>\n",
       "      <td>NaN</td>\n",
       "      <td>NaN</td>\n",
       "      <td>NaN</td>\n",
       "      <td>NaN</td>\n",
       "      <td>NaN</td>\n",
       "      <td>NaN</td>\n",
       "      <td>NaN</td>\n",
       "      <td>NaN</td>\n",
       "    </tr>\n",
       "    <tr>\n",
       "      <th>768</th>\n",
       "      <td>NaN</td>\n",
       "      <td>NaN</td>\n",
       "      <td>NaN</td>\n",
       "      <td>NaN</td>\n",
       "      <td>NaN</td>\n",
       "      <td>NaN</td>\n",
       "      <td>NaN</td>\n",
       "      <td>NaN</td>\n",
       "      <td>NaN</td>\n",
       "      <td>NaN</td>\n",
       "      <td>...</td>\n",
       "      <td>NaN</td>\n",
       "      <td>NaN</td>\n",
       "      <td>NaN</td>\n",
       "      <td>NaN</td>\n",
       "      <td>NaN</td>\n",
       "      <td>NaN</td>\n",
       "      <td>NaN</td>\n",
       "      <td>NaN</td>\n",
       "      <td>NaN</td>\n",
       "      <td>NaN</td>\n",
       "    </tr>\n",
       "    <tr>\n",
       "      <th>769</th>\n",
       "      <td>NaN</td>\n",
       "      <td>NaN</td>\n",
       "      <td>NaN</td>\n",
       "      <td>NaN</td>\n",
       "      <td>NaN</td>\n",
       "      <td>NaN</td>\n",
       "      <td>NaN</td>\n",
       "      <td>NaN</td>\n",
       "      <td>NaN</td>\n",
       "      <td>NaN</td>\n",
       "      <td>...</td>\n",
       "      <td>NaN</td>\n",
       "      <td>NaN</td>\n",
       "      <td>NaN</td>\n",
       "      <td>NaN</td>\n",
       "      <td>NaN</td>\n",
       "      <td>NaN</td>\n",
       "      <td>NaN</td>\n",
       "      <td>NaN</td>\n",
       "      <td>NaN</td>\n",
       "      <td>NaN</td>\n",
       "    </tr>\n",
       "    <tr>\n",
       "      <th>770</th>\n",
       "      <td>NaN</td>\n",
       "      <td>NaN</td>\n",
       "      <td>NaN</td>\n",
       "      <td>NaN</td>\n",
       "      <td>NaN</td>\n",
       "      <td>NaN</td>\n",
       "      <td>NaN</td>\n",
       "      <td>NaN</td>\n",
       "      <td>NaN</td>\n",
       "      <td>NaN</td>\n",
       "      <td>...</td>\n",
       "      <td>NaN</td>\n",
       "      <td>NaN</td>\n",
       "      <td>NaN</td>\n",
       "      <td>NaN</td>\n",
       "      <td>NaN</td>\n",
       "      <td>NaN</td>\n",
       "      <td>NaN</td>\n",
       "      <td>NaN</td>\n",
       "      <td>NaN</td>\n",
       "      <td>NaN</td>\n",
       "    </tr>\n",
       "  </tbody>\n",
       "</table>\n",
       "<p>771 rows × 28 columns</p>\n",
       "</div>"
      ],
      "text/plain": [
       "           ID            Full Name Invited Responded Organization  \\\n",
       "0    428634.0        Agnes Friesen     YES        NO        Ortho   \n",
       "1    428764.0  Barbara Schonewille     YES       YES        Ortho   \n",
       "2    428881.0    Carli-Ann Garnett     YES       YES        Ortho   \n",
       "3    428738.0         Cheryl Dosen     YES       YES        Ortho   \n",
       "4    428803.0        Helene Goulet     YES       YES        Ortho   \n",
       "..        ...                  ...     ...       ...          ...   \n",
       "766       NaN                  NaN     NaN       NaN          NaN   \n",
       "767       NaN                  NaN     NaN       NaN          NaN   \n",
       "768       NaN                  NaN     NaN       NaN          NaN   \n",
       "769       NaN                  NaN     NaN       NaN          NaN   \n",
       "770       NaN                  NaN     NaN       NaN          NaN   \n",
       "\n",
       "          Division      Function/Deparment  \\\n",
       "0    Andrew Corkum    Selling - Commercial   \n",
       "1    Andrew Corkum    Selling - Commercial   \n",
       "2    Andrew Corkum  Marketing - Commercial   \n",
       "3    Andrew Corkum    Selling - Commercial   \n",
       "4    Andrew Corkum    Selling - Commercial   \n",
       "..             ...                     ...   \n",
       "766            NaN                     NaN   \n",
       "767            NaN                     NaN   \n",
       "768            NaN                     NaN   \n",
       "769            NaN                     NaN   \n",
       "770            NaN                     NaN   \n",
       "\n",
       "                                               Title  Level  \\\n",
       "0                   Ortho Care Laboratory Specialist    4.0   \n",
       "1         Account Manager - Alberta Canada Territory    3.0   \n",
       "2    Manager, IH Marketing and Commercial Excellence    3.0   \n",
       "3                             Account Manager - West    4.0   \n",
       "4                     National Automation Specialist    3.0   \n",
       "..                                               ...    ...   \n",
       "766                                              NaN    NaN   \n",
       "767                                              NaN    NaN   \n",
       "768                                              NaN    NaN   \n",
       "769                                              NaN    NaN   \n",
       "770                                              NaN    NaN   \n",
       "\n",
       "                    Location  ...  Unnamed: 18 Unnamed: 19 Unnamed: 20  \\\n",
       "0    Canada - Work From Home  ...          NaN         NaN         NaN   \n",
       "1    Canada - Work From Home  ...          NaN         NaN         NaN   \n",
       "2    Canada - Work From Home  ...          NaN         NaN         NaN   \n",
       "3    Canada - Work From Home  ...          NaN         NaN         NaN   \n",
       "4    Canada - Work From Home  ...          NaN         NaN         NaN   \n",
       "..                       ...  ...          ...         ...         ...   \n",
       "766                      NaN  ...          NaN         NaN         NaN   \n",
       "767                      NaN  ...          NaN         NaN         NaN   \n",
       "768                      NaN  ...          NaN         NaN         NaN   \n",
       "769                      NaN  ...          NaN         NaN         NaN   \n",
       "770                      NaN  ...          NaN         NaN         NaN   \n",
       "\n",
       "    Unnamed: 21  Unnamed: 22  Unnamed: 23  Unnamed: 24  Unnamed: 25  \\\n",
       "0           NaN          NaN          NaN          NaN          NaN   \n",
       "1           NaN          NaN          NaN          NaN          NaN   \n",
       "2           NaN          NaN          NaN          NaN          NaN   \n",
       "3           NaN          NaN          NaN          NaN          NaN   \n",
       "4           NaN          NaN          NaN          NaN          NaN   \n",
       "..          ...          ...          ...          ...          ...   \n",
       "766         NaN          NaN          NaN          NaN          NaN   \n",
       "767         NaN          NaN          NaN          NaN          NaN   \n",
       "768         NaN          NaN          NaN          NaN          NaN   \n",
       "769         NaN          NaN          NaN          NaN          NaN   \n",
       "770         NaN          NaN          NaN          NaN          NaN   \n",
       "\n",
       "     Unnamed: 26  Unnamed: 27  \n",
       "0            NaN          NaN  \n",
       "1            NaN          NaN  \n",
       "2            NaN          NaN  \n",
       "3            NaN          NaN  \n",
       "4            NaN          NaN  \n",
       "..           ...          ...  \n",
       "766          NaN          NaN  \n",
       "767          NaN          NaN  \n",
       "768          NaN          NaN  \n",
       "769          NaN          NaN  \n",
       "770          NaN          NaN  \n",
       "\n",
       "[771 rows x 28 columns]"
      ]
     },
     "execution_count": 353,
     "metadata": {},
     "output_type": "execute_result"
    }
   ],
   "source": [
    "nodes_all2"
   ]
  },
  {
   "cell_type": "code",
   "execution_count": 354,
   "metadata": {},
   "outputs": [
    {
     "data": {
      "text/html": [
       "<div>\n",
       "<style scoped>\n",
       "    .dataframe tbody tr th:only-of-type {\n",
       "        vertical-align: middle;\n",
       "    }\n",
       "\n",
       "    .dataframe tbody tr th {\n",
       "        vertical-align: top;\n",
       "    }\n",
       "\n",
       "    .dataframe thead th {\n",
       "        text-align: right;\n",
       "    }\n",
       "</style>\n",
       "<table border=\"1\" class=\"dataframe\">\n",
       "  <thead>\n",
       "    <tr style=\"text-align: right;\">\n",
       "      <th></th>\n",
       "      <th>ID</th>\n",
       "      <th>Full Name</th>\n",
       "      <th>Invited</th>\n",
       "      <th>Responded</th>\n",
       "      <th>Organization</th>\n",
       "      <th>Division</th>\n",
       "      <th>Function/Deparment</th>\n",
       "      <th>Title</th>\n",
       "      <th>Level</th>\n",
       "      <th>Location</th>\n",
       "      <th>...</th>\n",
       "      <th>Unnamed: 18</th>\n",
       "      <th>Unnamed: 19</th>\n",
       "      <th>Unnamed: 20</th>\n",
       "      <th>Unnamed: 21</th>\n",
       "      <th>Unnamed: 22</th>\n",
       "      <th>Unnamed: 23</th>\n",
       "      <th>Unnamed: 24</th>\n",
       "      <th>Unnamed: 25</th>\n",
       "      <th>Unnamed: 26</th>\n",
       "      <th>Unnamed: 27</th>\n",
       "    </tr>\n",
       "  </thead>\n",
       "  <tbody>\n",
       "    <tr>\n",
       "      <th>610</th>\n",
       "      <td>442219.0</td>\n",
       "      <td>Michael Iskra</td>\n",
       "      <td>YES</td>\n",
       "      <td>YES</td>\n",
       "      <td>Ortho</td>\n",
       "      <td>Michael Iskra</td>\n",
       "      <td>0</td>\n",
       "      <td>0</td>\n",
       "      <td>1.0</td>\n",
       "      <td>NaN</td>\n",
       "      <td>...</td>\n",
       "      <td>NaN</td>\n",
       "      <td>NaN</td>\n",
       "      <td>NaN</td>\n",
       "      <td>NaN</td>\n",
       "      <td>NaN</td>\n",
       "      <td>NaN</td>\n",
       "      <td>NaN</td>\n",
       "      <td>NaN</td>\n",
       "      <td>NaN</td>\n",
       "      <td>NaN</td>\n",
       "    </tr>\n",
       "  </tbody>\n",
       "</table>\n",
       "<p>1 rows × 28 columns</p>\n",
       "</div>"
      ],
      "text/plain": [
       "           ID      Full Name Invited Responded Organization       Division  \\\n",
       "610  442219.0  Michael Iskra     YES       YES        Ortho  Michael Iskra   \n",
       "\n",
       "    Function/Deparment Title  Level Location  ...  Unnamed: 18 Unnamed: 19  \\\n",
       "610                  0     0    1.0      NaN  ...          NaN         NaN   \n",
       "\n",
       "    Unnamed: 20 Unnamed: 21  Unnamed: 22  Unnamed: 23  Unnamed: 24  \\\n",
       "610         NaN         NaN          NaN          NaN          NaN   \n",
       "\n",
       "     Unnamed: 25  Unnamed: 26  Unnamed: 27  \n",
       "610          NaN          NaN          NaN  \n",
       "\n",
       "[1 rows x 28 columns]"
      ]
     },
     "execution_count": 354,
     "metadata": {},
     "output_type": "execute_result"
    }
   ],
   "source": [
    "nodes_all2[nodes_all2['Full Name'] == 'Michael Iskra']"
   ]
  },
  {
   "cell_type": "code",
   "execution_count": 355,
   "metadata": {
    "scrolled": true
   },
   "outputs": [
    {
     "data": {
      "text/plain": [
       "Index(['ID', 'Full Name', 'Invited', 'Responded', 'Organization', 'Division',\n",
       "       'Function/Deparment', 'Title', 'Level', 'Location', 'Tenure', 'Manager',\n",
       "       'Team', 'Gender', 'Unnamed: 14', 'Unnamed: 15', 'Unnamed: 16',\n",
       "       'Unnamed: 17', 'Unnamed: 18', 'Unnamed: 19', 'Unnamed: 20',\n",
       "       'Unnamed: 21', 'Unnamed: 22', 'Unnamed: 23', 'Unnamed: 24',\n",
       "       'Unnamed: 25', 'Unnamed: 26', 'Unnamed: 27'],\n",
       "      dtype='object')"
      ]
     },
     "execution_count": 355,
     "metadata": {},
     "output_type": "execute_result"
    }
   ],
   "source": [
    "nodes_all2.columns"
   ]
  },
  {
   "cell_type": "code",
   "execution_count": 356,
   "metadata": {
    "scrolled": true
   },
   "outputs": [
    {
     "name": "stderr",
     "output_type": "stream",
     "text": [
      "<ipython-input-356-aceb3dc02e28>:5: SettingWithCopyWarning: \n",
      "A value is trying to be set on a copy of a slice from a DataFrame\n",
      "\n",
      "See the caveats in the documentation: https://pandas.pydata.org/pandas-docs/stable/user_guide/indexing.html#returning-a-view-versus-a-copy\n",
      "  nodes_div.dropna(subset=['ID','Gender','Division'],inplace = True)\n",
      "<ipython-input-356-aceb3dc02e28>:8: SettingWithCopyWarning: \n",
      "A value is trying to be set on a copy of a slice from a DataFrame.\n",
      "Try using .loc[row_indexer,col_indexer] = value instead\n",
      "\n",
      "See the caveats in the documentation: https://pandas.pydata.org/pandas-docs/stable/user_guide/indexing.html#returning-a-view-versus-a-copy\n",
      "  nodes_div['ID2']= a\n"
     ]
    }
   ],
   "source": [
    "#select columns of interst from node data \n",
    "nodes_div = nodes_all2[['ID','Gender','Division']]\n",
    "\n",
    "#drop rows with N/A\n",
    "nodes_div.dropna(subset=['ID','Gender','Division'],inplace = True)\n",
    "\n",
    "#add a ID2 column with a series:(0,612)\n",
    "nodes_div['ID2']= a\n",
    "nodes_div_temp = nodes_div\n",
    "\n",
    "#rearrange the order of columns\n",
    "nodes_div_temp = nodes_div_temp[['ID2','Gender','Division']]\n",
    "\n",
    "\n",
    "#encode the gender variable\n",
    "nodes_div_temp['Gender2'] = nodes_div_temp['Gender'].map({'Male':1,'Female':2})\n",
    "\n",
    "#create a division name list\n",
    "divisions = nodes_div.Division.unique()\n",
    "nodes_division = []\n",
    "for division in divisions:\n",
    "    nodes_division.append(nodes_div_temp[nodes_div_temp['Division'] == division])\n",
    "    \n",
    "\n",
    "#create a division size list\n",
    "division_size = []\n",
    "for i in range(len(divisions)):\n",
    "    division_size.append(len(nodes_division[i]))\n",
    "\n",
    "\n",
    "#combine division names and division size into a list\n",
    "division_size = [(divisions,size) for divisions,size in list(zip(divisions,division_size))]"
   ]
  },
  {
   "cell_type": "code",
   "execution_count": 357,
   "metadata": {},
   "outputs": [],
   "source": [
    "#Link data preprocessing\n",
    "nodes_div2 = nodes_div.rename(columns = {'ID':'Target','ID2':'ID_Target'})\n",
    "link_div = link[['Source','Target']]\n",
    "link_div = link_div.rename(columns = {'Source' : 'ID'})\n",
    "link_div2 = pd.merge(link_div,nodes_div,how='left')\n",
    "link_div3 = pd.merge(link_div2,nodes_div2,how='left',on='Target')\n",
    "link_div4 = link_div3[['ID2','ID_Target','Division_x']]\n",
    "link_final_div = link_div4.rename(columns = {'ID2':'Source','ID_Target':'Target','Division_x':'Division_source'})\n",
    "link_final_div['link'] = list(zip(link_final_div['Source'],link_final_div['Target']))\n",
    "link_final_div = link_final_div[['link','Division_source']]\n",
    "\n",
    "link_by_div = []\n",
    "for division in divisions:\n",
    "    link_by_div.append(link_final_div[link_final_div['Division_source'] == division])"
   ]
  },
  {
   "cell_type": "code",
   "execution_count": 358,
   "metadata": {},
   "outputs": [],
   "source": [
    "total_div = []\n",
    "male_female_div = []\n",
    "male_male_div = []\n",
    "female_male_div = []\n",
    "female_female_div = []\n",
    "for i in range(len(divisions)):\n",
    "    total_div.append(len(link_div3[link_div3['Division_x']==divisions[i]]))\n",
    "    male_female_div.append(len(link_div3[(link_div3['Division_x'] == divisions[i]) & (link_div3['Gender_x'] == 'Male') &(link_div3['Gender_y'] =='Female')]))\n",
    "    male_male_div.append(len(link_div3[(link_div3['Division_x'] == divisions[i]) & (link_div3['Gender_x'] == 'Male') &(link_div3['Gender_y'] =='Male')]))\n",
    "    female_female_div.append(len(link_div3[(link_div3['Division_x'] == divisions[i]) & (link_div3['Gender_x'] == 'Female') &(link_div3['Gender_y'] =='Female')]))\n",
    "    female_male_div.append(len(link_div3[(link_div3['Division_x'] == divisions[i]) & (link_div3['Gender_x'] == 'Female') &(link_div3['Gender_y'] =='Male')]))\n",
    "\n",
    "link_distribution_division = pd.DataFrame(list(zip(total_div,male_male_div,male_female_div,female_female_div,female_male_div)),columns = ['total links','male to male','male to female','female to female','female to male'],\n",
    "                                         index = [division for division in divisions ])\n",
    "    "
   ]
  },
  {
   "cell_type": "code",
   "execution_count": 359,
   "metadata": {},
   "outputs": [
    {
     "data": {
      "text/plain": [
       "[(327, 109, 49, 117, 52),\n",
       " (826, 242, 61, 255, 268),\n",
       " (607, 145, 154, 176, 132),\n",
       " (205, 88, 21, 26, 70),\n",
       " (509, 232, 82, 78, 117),\n",
       " (522, 151, 108, 165, 98),\n",
       " (1351, 1129, 75, 25, 122),\n",
       " (637, 180, 135, 167, 155),\n",
       " (109, 77, 21, 1, 10)]"
      ]
     },
     "execution_count": 359,
     "metadata": {},
     "output_type": "execute_result"
    }
   ],
   "source": [
    "list(zip(total_div,male_male_div,male_female_div,female_female_div,female_male_div))"
   ]
  },
  {
   "cell_type": "code",
   "execution_count": 360,
   "metadata": {},
   "outputs": [],
   "source": [
    "#Creating a network and compute the assortativity\n",
    "assort_by_div = []\n",
    "for i in range(len(divisions)):\n",
    "    g1 = ig.Graph()\n",
    "    g1.add_vertices([i for i in range(0,612)])\n",
    "    g1.add_edges(link_by_div[i]['link'])\n",
    "    g1.vs['Gender'] = nodes_network['Gender2']\n",
    "    assort_by_div.append(g1.assortativity_nominal('Gender',directed=True))\n",
    "\n",
    "assort_div = [(division,assortativity) for division,assortativity in zip(divisions,assort_by_div)]"
   ]
  },
  {
   "cell_type": "code",
   "execution_count": 361,
   "metadata": {},
   "outputs": [
    {
     "data": {
      "text/plain": [
       "[0.3818930426238713,\n",
       " 0.20319246100685065,\n",
       " 0.055196360153256706,\n",
       " 0.022812393598910505,\n",
       " 0.13928579015571557,\n",
       " 0.21015983076742273,\n",
       " 0.12218475061223537,\n",
       " 0.08910256410256412,\n",
       " -0.1069615069615072]"
      ]
     },
     "execution_count": 361,
     "metadata": {},
     "output_type": "execute_result"
    }
   ],
   "source": [
    "assort_by_div"
   ]
  },
  {
   "cell_type": "code",
   "execution_count": 362,
   "metadata": {
    "scrolled": true
   },
   "outputs": [
    {
     "data": {
      "text/plain": [
       "[('Andrew Corkum', 0.3818930426238713),\n",
       " ('Bob Bolger', 0.20319246100685065),\n",
       " ('Dennis Bassett', 0.055196360153256706),\n",
       " ('Glen Tinevez', 0.022812393598910505),\n",
       " ('John Meckles', 0.13928579015571557),\n",
       " ('Kristy Hanson', 0.21015983076742273),\n",
       " ('Patrick Rigby', 0.12218475061223537),\n",
       " ('Timothy Adams', 0.08910256410256412),\n",
       " ('Michael Iskra', -0.1069615069615072)]"
      ]
     },
     "execution_count": 362,
     "metadata": {},
     "output_type": "execute_result"
    }
   ],
   "source": [
    "assort_div"
   ]
  },
  {
   "cell_type": "code",
   "execution_count": 363,
   "metadata": {},
   "outputs": [],
   "source": [
    "link_distribution_division['Assortativity'] = assort_by_div"
   ]
  },
  {
   "cell_type": "markdown",
   "metadata": {},
   "source": [
    "## Difference in Average # of out-degrees by Level"
   ]
  },
  {
   "cell_type": "code",
   "execution_count": 365,
   "metadata": {},
   "outputs": [
    {
     "data": {
      "text/html": [
       "<div>\n",
       "<style scoped>\n",
       "    .dataframe tbody tr th:only-of-type {\n",
       "        vertical-align: middle;\n",
       "    }\n",
       "\n",
       "    .dataframe tbody tr th {\n",
       "        vertical-align: top;\n",
       "    }\n",
       "\n",
       "    .dataframe thead th {\n",
       "        text-align: right;\n",
       "    }\n",
       "</style>\n",
       "<table border=\"1\" class=\"dataframe\">\n",
       "  <thead>\n",
       "    <tr style=\"text-align: right;\">\n",
       "      <th></th>\n",
       "      <th>Source</th>\n",
       "      <th>Gender</th>\n",
       "      <th>Level</th>\n",
       "      <th>Gender2</th>\n",
       "    </tr>\n",
       "  </thead>\n",
       "  <tbody>\n",
       "    <tr>\n",
       "      <th>0</th>\n",
       "      <td>0</td>\n",
       "      <td>Female</td>\n",
       "      <td>4.0</td>\n",
       "      <td>2</td>\n",
       "    </tr>\n",
       "    <tr>\n",
       "      <th>1</th>\n",
       "      <td>1</td>\n",
       "      <td>Female</td>\n",
       "      <td>3.0</td>\n",
       "      <td>2</td>\n",
       "    </tr>\n",
       "    <tr>\n",
       "      <th>2</th>\n",
       "      <td>2</td>\n",
       "      <td>Female</td>\n",
       "      <td>3.0</td>\n",
       "      <td>2</td>\n",
       "    </tr>\n",
       "    <tr>\n",
       "      <th>3</th>\n",
       "      <td>3</td>\n",
       "      <td>Female</td>\n",
       "      <td>4.0</td>\n",
       "      <td>2</td>\n",
       "    </tr>\n",
       "    <tr>\n",
       "      <th>4</th>\n",
       "      <td>4</td>\n",
       "      <td>Female</td>\n",
       "      <td>3.0</td>\n",
       "      <td>2</td>\n",
       "    </tr>\n",
       "    <tr>\n",
       "      <th>...</th>\n",
       "      <td>...</td>\n",
       "      <td>...</td>\n",
       "      <td>...</td>\n",
       "      <td>...</td>\n",
       "    </tr>\n",
       "    <tr>\n",
       "      <th>607</th>\n",
       "      <td>607</td>\n",
       "      <td>Female</td>\n",
       "      <td>2.0</td>\n",
       "      <td>2</td>\n",
       "    </tr>\n",
       "    <tr>\n",
       "      <th>608</th>\n",
       "      <td>608</td>\n",
       "      <td>Male</td>\n",
       "      <td>2.0</td>\n",
       "      <td>1</td>\n",
       "    </tr>\n",
       "    <tr>\n",
       "      <th>609</th>\n",
       "      <td>609</td>\n",
       "      <td>Male</td>\n",
       "      <td>2.0</td>\n",
       "      <td>1</td>\n",
       "    </tr>\n",
       "    <tr>\n",
       "      <th>610</th>\n",
       "      <td>610</td>\n",
       "      <td>Male</td>\n",
       "      <td>1.0</td>\n",
       "      <td>1</td>\n",
       "    </tr>\n",
       "    <tr>\n",
       "      <th>611</th>\n",
       "      <td>611</td>\n",
       "      <td>Male</td>\n",
       "      <td>2.0</td>\n",
       "      <td>1</td>\n",
       "    </tr>\n",
       "  </tbody>\n",
       "</table>\n",
       "<p>612 rows × 4 columns</p>\n",
       "</div>"
      ],
      "text/plain": [
       "     Source  Gender  Level  Gender2\n",
       "0         0  Female    4.0        2\n",
       "1         1  Female    3.0        2\n",
       "2         2  Female    3.0        2\n",
       "3         3  Female    4.0        2\n",
       "4         4  Female    3.0        2\n",
       "..      ...     ...    ...      ...\n",
       "607     607  Female    2.0        2\n",
       "608     608    Male    2.0        1\n",
       "609     609    Male    2.0        1\n",
       "610     610    Male    1.0        1\n",
       "611     611    Male    2.0        1\n",
       "\n",
       "[612 rows x 4 columns]"
      ]
     },
     "execution_count": 365,
     "metadata": {},
     "output_type": "execute_result"
    }
   ],
   "source": [
    "nodes_level_temp"
   ]
  },
  {
   "cell_type": "code",
   "execution_count": 366,
   "metadata": {
    "scrolled": true
   },
   "outputs": [
    {
     "name": "stderr",
     "output_type": "stream",
     "text": [
      "<ipython-input-366-b6f260a1b386>:5: SettingWithCopyWarning: \n",
      "A value is trying to be set on a copy of a slice from a DataFrame\n",
      "\n",
      "See the caveats in the documentation: https://pandas.pydata.org/pandas-docs/stable/user_guide/indexing.html#returning-a-view-versus-a-copy\n",
      "  nodes_level.dropna(subset=['ID','Gender','Level'],inplace = True)\n",
      "<ipython-input-366-b6f260a1b386>:8: SettingWithCopyWarning: \n",
      "A value is trying to be set on a copy of a slice from a DataFrame.\n",
      "Try using .loc[row_indexer,col_indexer] = value instead\n",
      "\n",
      "See the caveats in the documentation: https://pandas.pydata.org/pandas-docs/stable/user_guide/indexing.html#returning-a-view-versus-a-copy\n",
      "  nodes_level['ID2']= a\n"
     ]
    }
   ],
   "source": [
    "#select columns of interst from node data \n",
    "nodes_level = nodes_all2[['ID','Gender','Level']]\n",
    "\n",
    "#drop rows with N/A\n",
    "nodes_level.dropna(subset=['ID','Gender','Level'],inplace = True)\n",
    "\n",
    "#add a ID2 column with a series:(0,612)\n",
    "nodes_level['ID2']= a\n",
    "nodes_level_temp = nodes_level\n",
    "\n",
    "\n",
    "#rearrange the order of columns\n",
    "nodes_level_temp = nodes_level_temp[['ID2','Gender','Level']]\n",
    "\n",
    "\n",
    "#encode the gender variable\n",
    "nodes_level_temp['Gender2'] = nodes_level_temp['Gender'].map({'Male':1,'Female':2})\n",
    "nodes_level_temp_male = nodes_level_temp[nodes_level_temp['Gender'] =='Male'].rename(columns = {'ID2':'ID'})\n",
    "nodes_level_temp_female = nodes_level_temp[nodes_level_temp['Gender'] =='Female'].rename(columns = {'ID2': 'ID'})\n",
    "\n",
    "\n",
    "nodes_level_temp = nodes_level_temp.rename(columns={'ID2':'Source'})\n",
    "nodes_level_temp2 = nodes_level_temp.rename(columns={'Source': 'Target'})\n",
    "\n",
    "nodes_level2 = nodes_level.rename(columns = {'ID':'Target','ID2':'ID_Target'})\n",
    "\n"
   ]
  },
  {
   "cell_type": "code",
   "execution_count": 367,
   "metadata": {},
   "outputs": [
    {
     "data": {
      "text/html": [
       "<div>\n",
       "<style scoped>\n",
       "    .dataframe tbody tr th:only-of-type {\n",
       "        vertical-align: middle;\n",
       "    }\n",
       "\n",
       "    .dataframe tbody tr th {\n",
       "        vertical-align: top;\n",
       "    }\n",
       "\n",
       "    .dataframe thead th {\n",
       "        text-align: right;\n",
       "    }\n",
       "</style>\n",
       "<table border=\"1\" class=\"dataframe\">\n",
       "  <thead>\n",
       "    <tr style=\"text-align: right;\">\n",
       "      <th></th>\n",
       "      <th>Source</th>\n",
       "      <th>Gender</th>\n",
       "      <th>Level</th>\n",
       "      <th>Gender2</th>\n",
       "    </tr>\n",
       "  </thead>\n",
       "  <tbody>\n",
       "    <tr>\n",
       "      <th>0</th>\n",
       "      <td>0</td>\n",
       "      <td>Female</td>\n",
       "      <td>4.0</td>\n",
       "      <td>2</td>\n",
       "    </tr>\n",
       "    <tr>\n",
       "      <th>1</th>\n",
       "      <td>1</td>\n",
       "      <td>Female</td>\n",
       "      <td>3.0</td>\n",
       "      <td>2</td>\n",
       "    </tr>\n",
       "    <tr>\n",
       "      <th>2</th>\n",
       "      <td>2</td>\n",
       "      <td>Female</td>\n",
       "      <td>3.0</td>\n",
       "      <td>2</td>\n",
       "    </tr>\n",
       "    <tr>\n",
       "      <th>3</th>\n",
       "      <td>3</td>\n",
       "      <td>Female</td>\n",
       "      <td>4.0</td>\n",
       "      <td>2</td>\n",
       "    </tr>\n",
       "    <tr>\n",
       "      <th>4</th>\n",
       "      <td>4</td>\n",
       "      <td>Female</td>\n",
       "      <td>3.0</td>\n",
       "      <td>2</td>\n",
       "    </tr>\n",
       "    <tr>\n",
       "      <th>...</th>\n",
       "      <td>...</td>\n",
       "      <td>...</td>\n",
       "      <td>...</td>\n",
       "      <td>...</td>\n",
       "    </tr>\n",
       "    <tr>\n",
       "      <th>607</th>\n",
       "      <td>607</td>\n",
       "      <td>Female</td>\n",
       "      <td>2.0</td>\n",
       "      <td>2</td>\n",
       "    </tr>\n",
       "    <tr>\n",
       "      <th>608</th>\n",
       "      <td>608</td>\n",
       "      <td>Male</td>\n",
       "      <td>2.0</td>\n",
       "      <td>1</td>\n",
       "    </tr>\n",
       "    <tr>\n",
       "      <th>609</th>\n",
       "      <td>609</td>\n",
       "      <td>Male</td>\n",
       "      <td>2.0</td>\n",
       "      <td>1</td>\n",
       "    </tr>\n",
       "    <tr>\n",
       "      <th>610</th>\n",
       "      <td>610</td>\n",
       "      <td>Male</td>\n",
       "      <td>1.0</td>\n",
       "      <td>1</td>\n",
       "    </tr>\n",
       "    <tr>\n",
       "      <th>611</th>\n",
       "      <td>611</td>\n",
       "      <td>Male</td>\n",
       "      <td>2.0</td>\n",
       "      <td>1</td>\n",
       "    </tr>\n",
       "  </tbody>\n",
       "</table>\n",
       "<p>612 rows × 4 columns</p>\n",
       "</div>"
      ],
      "text/plain": [
       "     Source  Gender  Level  Gender2\n",
       "0         0  Female    4.0        2\n",
       "1         1  Female    3.0        2\n",
       "2         2  Female    3.0        2\n",
       "3         3  Female    4.0        2\n",
       "4         4  Female    3.0        2\n",
       "..      ...     ...    ...      ...\n",
       "607     607  Female    2.0        2\n",
       "608     608    Male    2.0        1\n",
       "609     609    Male    2.0        1\n",
       "610     610    Male    1.0        1\n",
       "611     611    Male    2.0        1\n",
       "\n",
       "[612 rows x 4 columns]"
      ]
     },
     "execution_count": 367,
     "metadata": {},
     "output_type": "execute_result"
    }
   ],
   "source": [
    "nodes_level_temp"
   ]
  },
  {
   "cell_type": "code",
   "execution_count": 368,
   "metadata": {},
   "outputs": [],
   "source": [
    "link_level_linear_male = link_level_male[['Number of out-degree','Level']]"
   ]
  },
  {
   "cell_type": "code",
   "execution_count": 369,
   "metadata": {},
   "outputs": [],
   "source": [
    "link_level_linear_gender = link_level_male[['Number of out-degree','Level','Gender2']]"
   ]
  },
  {
   "cell_type": "code",
   "execution_count": 370,
   "metadata": {
    "scrolled": true
   },
   "outputs": [],
   "source": [
    "link_level_linear_female = link_level_female[['Number of out-degree','Level']]"
   ]
  },
  {
   "cell_type": "code",
   "execution_count": 371,
   "metadata": {},
   "outputs": [],
   "source": [
    "link_level_linear_gender2 = link_level_female[['Number of out-degree','Level','Gender2']]"
   ]
  },
  {
   "cell_type": "code",
   "execution_count": 372,
   "metadata": {},
   "outputs": [],
   "source": [
    "frames = [link_level_linear_male,link_level_linear_female]"
   ]
  },
  {
   "cell_type": "code",
   "execution_count": 373,
   "metadata": {},
   "outputs": [],
   "source": [
    "frames2 = [link_level_linear_gender,link_level_linear_gender2]"
   ]
  },
  {
   "cell_type": "code",
   "execution_count": 374,
   "metadata": {},
   "outputs": [],
   "source": [
    "link_level_linear = pd.concat(frames)"
   ]
  },
  {
   "cell_type": "code",
   "execution_count": 375,
   "metadata": {},
   "outputs": [],
   "source": [
    "link_level_linear_gender = pd.concat(frames2)"
   ]
  },
  {
   "cell_type": "code",
   "execution_count": 376,
   "metadata": {},
   "outputs": [
    {
     "data": {
      "text/html": [
       "<div>\n",
       "<style scoped>\n",
       "    .dataframe tbody tr th:only-of-type {\n",
       "        vertical-align: middle;\n",
       "    }\n",
       "\n",
       "    .dataframe tbody tr th {\n",
       "        vertical-align: top;\n",
       "    }\n",
       "\n",
       "    .dataframe thead th {\n",
       "        text-align: right;\n",
       "    }\n",
       "</style>\n",
       "<table border=\"1\" class=\"dataframe\">\n",
       "  <thead>\n",
       "    <tr style=\"text-align: right;\">\n",
       "      <th></th>\n",
       "      <th>Number of out-degree</th>\n",
       "      <th>Level</th>\n",
       "      <th>Gender2</th>\n",
       "    </tr>\n",
       "  </thead>\n",
       "  <tbody>\n",
       "    <tr>\n",
       "      <th>0</th>\n",
       "      <td>0.0</td>\n",
       "      <td>4.0</td>\n",
       "      <td>1</td>\n",
       "    </tr>\n",
       "    <tr>\n",
       "      <th>1</th>\n",
       "      <td>7.0</td>\n",
       "      <td>4.0</td>\n",
       "      <td>1</td>\n",
       "    </tr>\n",
       "    <tr>\n",
       "      <th>2</th>\n",
       "      <td>5.0</td>\n",
       "      <td>4.0</td>\n",
       "      <td>1</td>\n",
       "    </tr>\n",
       "    <tr>\n",
       "      <th>3</th>\n",
       "      <td>8.0</td>\n",
       "      <td>4.0</td>\n",
       "      <td>1</td>\n",
       "    </tr>\n",
       "    <tr>\n",
       "      <th>4</th>\n",
       "      <td>0.0</td>\n",
       "      <td>5.0</td>\n",
       "      <td>1</td>\n",
       "    </tr>\n",
       "    <tr>\n",
       "      <th>...</th>\n",
       "      <td>...</td>\n",
       "      <td>...</td>\n",
       "      <td>...</td>\n",
       "    </tr>\n",
       "    <tr>\n",
       "      <th>214</th>\n",
       "      <td>4.0</td>\n",
       "      <td>4.0</td>\n",
       "      <td>2</td>\n",
       "    </tr>\n",
       "    <tr>\n",
       "      <th>215</th>\n",
       "      <td>0.0</td>\n",
       "      <td>4.0</td>\n",
       "      <td>2</td>\n",
       "    </tr>\n",
       "    <tr>\n",
       "      <th>216</th>\n",
       "      <td>18.0</td>\n",
       "      <td>4.0</td>\n",
       "      <td>2</td>\n",
       "    </tr>\n",
       "    <tr>\n",
       "      <th>217</th>\n",
       "      <td>11.0</td>\n",
       "      <td>2.0</td>\n",
       "      <td>2</td>\n",
       "    </tr>\n",
       "    <tr>\n",
       "      <th>218</th>\n",
       "      <td>0.0</td>\n",
       "      <td>2.0</td>\n",
       "      <td>2</td>\n",
       "    </tr>\n",
       "  </tbody>\n",
       "</table>\n",
       "<p>612 rows × 3 columns</p>\n",
       "</div>"
      ],
      "text/plain": [
       "     Number of out-degree  Level  Gender2\n",
       "0                     0.0    4.0        1\n",
       "1                     7.0    4.0        1\n",
       "2                     5.0    4.0        1\n",
       "3                     8.0    4.0        1\n",
       "4                     0.0    5.0        1\n",
       "..                    ...    ...      ...\n",
       "214                   4.0    4.0        2\n",
       "215                   0.0    4.0        2\n",
       "216                  18.0    4.0        2\n",
       "217                  11.0    2.0        2\n",
       "218                   0.0    2.0        2\n",
       "\n",
       "[612 rows x 3 columns]"
      ]
     },
     "execution_count": 376,
     "metadata": {},
     "output_type": "execute_result"
    }
   ],
   "source": [
    "link_level_linear_gender"
   ]
  },
  {
   "cell_type": "code",
   "execution_count": 377,
   "metadata": {},
   "outputs": [],
   "source": [
    "X2 = link_level_linear_gender[['Level','Gender2']]\n",
    "y2 = link_level_linear_gender['Number of out-degree']\n",
    "X2 = sm.add_constant(X2)\n",
    "model_level_gender = sm.OLS(y2,X2).fit()\n",
    "predictions_level =model_level_gender.predict(X2)"
   ]
  },
  {
   "cell_type": "code",
   "execution_count": 378,
   "metadata": {},
   "outputs": [],
   "source": [
    "link_level_linear_group = link_level_linear.groupby(['Level'])['Number of out-degree'].sum().reset_index()"
   ]
  },
  {
   "cell_type": "code",
   "execution_count": 379,
   "metadata": {},
   "outputs": [
    {
     "data": {
      "text/html": [
       "<div>\n",
       "<style scoped>\n",
       "    .dataframe tbody tr th:only-of-type {\n",
       "        vertical-align: middle;\n",
       "    }\n",
       "\n",
       "    .dataframe tbody tr th {\n",
       "        vertical-align: top;\n",
       "    }\n",
       "\n",
       "    .dataframe thead th {\n",
       "        text-align: right;\n",
       "    }\n",
       "</style>\n",
       "<table border=\"1\" class=\"dataframe\">\n",
       "  <thead>\n",
       "    <tr style=\"text-align: right;\">\n",
       "      <th></th>\n",
       "      <th>Level</th>\n",
       "      <th>Number of out-degree</th>\n",
       "    </tr>\n",
       "  </thead>\n",
       "  <tbody>\n",
       "    <tr>\n",
       "      <th>0</th>\n",
       "      <td>1.0</td>\n",
       "      <td>10.0</td>\n",
       "    </tr>\n",
       "    <tr>\n",
       "      <th>1</th>\n",
       "      <td>2.0</td>\n",
       "      <td>99.0</td>\n",
       "    </tr>\n",
       "    <tr>\n",
       "      <th>2</th>\n",
       "      <td>3.0</td>\n",
       "      <td>751.0</td>\n",
       "    </tr>\n",
       "    <tr>\n",
       "      <th>3</th>\n",
       "      <td>4.0</td>\n",
       "      <td>2374.0</td>\n",
       "    </tr>\n",
       "    <tr>\n",
       "      <th>4</th>\n",
       "      <td>5.0</td>\n",
       "      <td>1859.0</td>\n",
       "    </tr>\n",
       "  </tbody>\n",
       "</table>\n",
       "</div>"
      ],
      "text/plain": [
       "   Level  Number of out-degree\n",
       "0    1.0                  10.0\n",
       "1    2.0                  99.0\n",
       "2    3.0                 751.0\n",
       "3    4.0                2374.0\n",
       "4    5.0                1859.0"
      ]
     },
     "execution_count": 379,
     "metadata": {},
     "output_type": "execute_result"
    }
   ],
   "source": [
    "link_level_linear_group"
   ]
  },
  {
   "cell_type": "code",
   "execution_count": 380,
   "metadata": {},
   "outputs": [],
   "source": [
    "X1 = link_level_linear['Level'] \n",
    "y1 = link_level_linear['Number of out-degree']\n",
    "X1 = sm.add_constant(X1)\n",
    "model_level = sm.OLS(y1,X1).fit()\n",
    "predictions_level =model_level.predict(X)"
   ]
  },
  {
   "cell_type": "code",
   "execution_count": 381,
   "metadata": {},
   "outputs": [
    {
     "data": {
      "text/html": [
       "<table class=\"simpletable\">\n",
       "<caption>OLS Regression Results</caption>\n",
       "<tr>\n",
       "  <th>Dep. Variable:</th>    <td>Number of out-degree</td> <th>  R-squared:         </th> <td>   0.039</td>\n",
       "</tr>\n",
       "<tr>\n",
       "  <th>Model:</th>                     <td>OLS</td>         <th>  Adj. R-squared:    </th> <td>   0.038</td>\n",
       "</tr>\n",
       "<tr>\n",
       "  <th>Method:</th>               <td>Least Squares</td>    <th>  F-statistic:       </th> <td>   25.07</td>\n",
       "</tr>\n",
       "<tr>\n",
       "  <th>Date:</th>               <td>Mon, 10 May 2021</td>   <th>  Prob (F-statistic):</th> <td>7.26e-07</td>\n",
       "</tr>\n",
       "<tr>\n",
       "  <th>Time:</th>                   <td>12:15:29</td>       <th>  Log-Likelihood:    </th> <td> -2197.6</td>\n",
       "</tr>\n",
       "<tr>\n",
       "  <th>No. Observations:</th>        <td>   612</td>        <th>  AIC:               </th> <td>   4399.</td>\n",
       "</tr>\n",
       "<tr>\n",
       "  <th>Df Residuals:</th>            <td>   610</td>        <th>  BIC:               </th> <td>   4408.</td>\n",
       "</tr>\n",
       "<tr>\n",
       "  <th>Df Model:</th>                <td>     1</td>        <th>                     </th>     <td> </td>   \n",
       "</tr>\n",
       "<tr>\n",
       "  <th>Covariance Type:</th>        <td>nonrobust</td>      <th>                     </th>     <td> </td>   \n",
       "</tr>\n",
       "</table>\n",
       "<table class=\"simpletable\">\n",
       "<tr>\n",
       "    <td></td>       <th>coef</th>     <th>std err</th>      <th>t</th>      <th>P>|t|</th>  <th>[0.025</th>    <th>0.975]</th>  \n",
       "</tr>\n",
       "<tr>\n",
       "  <th>const</th> <td>   18.7904</td> <td>    2.121</td> <td>    8.860</td> <td> 0.000</td> <td>   14.625</td> <td>   22.955</td>\n",
       "</tr>\n",
       "<tr>\n",
       "  <th>Level</th> <td>   -2.4176</td> <td>    0.483</td> <td>   -5.007</td> <td> 0.000</td> <td>   -3.366</td> <td>   -1.469</td>\n",
       "</tr>\n",
       "</table>\n",
       "<table class=\"simpletable\">\n",
       "<tr>\n",
       "  <th>Omnibus:</th>       <td>226.140</td> <th>  Durbin-Watson:     </th> <td>   1.939</td> \n",
       "</tr>\n",
       "<tr>\n",
       "  <th>Prob(Omnibus):</th> <td> 0.000</td>  <th>  Jarque-Bera (JB):  </th> <td> 920.084</td> \n",
       "</tr>\n",
       "<tr>\n",
       "  <th>Skew:</th>          <td> 1.670</td>  <th>  Prob(JB):          </th> <td>1.61e-200</td>\n",
       "</tr>\n",
       "<tr>\n",
       "  <th>Kurtosis:</th>      <td> 7.993</td>  <th>  Cond. No.          </th> <td>    27.5</td> \n",
       "</tr>\n",
       "</table><br/><br/>Notes:<br/>[1] Standard Errors assume that the covariance matrix of the errors is correctly specified."
      ],
      "text/plain": [
       "<class 'statsmodels.iolib.summary.Summary'>\n",
       "\"\"\"\n",
       "                             OLS Regression Results                             \n",
       "================================================================================\n",
       "Dep. Variable:     Number of out-degree   R-squared:                       0.039\n",
       "Model:                              OLS   Adj. R-squared:                  0.038\n",
       "Method:                   Least Squares   F-statistic:                     25.07\n",
       "Date:                  Mon, 10 May 2021   Prob (F-statistic):           7.26e-07\n",
       "Time:                          12:15:29   Log-Likelihood:                -2197.6\n",
       "No. Observations:                   612   AIC:                             4399.\n",
       "Df Residuals:                       610   BIC:                             4408.\n",
       "Df Model:                             1                                         \n",
       "Covariance Type:              nonrobust                                         \n",
       "==============================================================================\n",
       "                 coef    std err          t      P>|t|      [0.025      0.975]\n",
       "------------------------------------------------------------------------------\n",
       "const         18.7904      2.121      8.860      0.000      14.625      22.955\n",
       "Level         -2.4176      0.483     -5.007      0.000      -3.366      -1.469\n",
       "==============================================================================\n",
       "Omnibus:                      226.140   Durbin-Watson:                   1.939\n",
       "Prob(Omnibus):                  0.000   Jarque-Bera (JB):              920.084\n",
       "Skew:                           1.670   Prob(JB):                    1.61e-200\n",
       "Kurtosis:                       7.993   Cond. No.                         27.5\n",
       "==============================================================================\n",
       "\n",
       "Notes:\n",
       "[1] Standard Errors assume that the covariance matrix of the errors is correctly specified.\n",
       "\"\"\""
      ]
     },
     "execution_count": 381,
     "metadata": {},
     "output_type": "execute_result"
    }
   ],
   "source": [
    "model_level.summary()"
   ]
  },
  {
   "cell_type": "code",
   "execution_count": 382,
   "metadata": {},
   "outputs": [
    {
     "name": "stderr",
     "output_type": "stream",
     "text": [
      "/Users/PJMoon/opt/anaconda3/lib/python3.8/site-packages/numpy/core/fromnumeric.py:3372: RuntimeWarning: Mean of empty slice.\n",
      "  return _methods._mean(a, axis=axis, dtype=dtype,\n",
      "/Users/PJMoon/opt/anaconda3/lib/python3.8/site-packages/numpy/core/_methods.py:170: RuntimeWarning: invalid value encountered in double_scalars\n",
      "  ret = ret.dtype.type(ret / rcount)\n"
     ]
    }
   ],
   "source": [
    "#link data preprocessing - male\n",
    "link_level_male = pd.merge(nodes_network_male21,nodes_level_temp_male,how='left')\n",
    "link_level_male = link_level_male.fillna(0)\n",
    "\n",
    "#link data preprocessing - female\n",
    "link_level_female = pd.merge(nodes_network_female21,nodes_level_temp_female,how='left')\n",
    "link_level_female = link_level_female.fillna(0)\n",
    "\n",
    "\n",
    "#break gender data in different levels\n",
    "level_male_data = []\n",
    "for i in range(1,6):\n",
    "    level_male_data.append(link_level_male[link_level_male['Level'] == i])\n",
    "    \n",
    "level_female_data = []\n",
    "for i in range(1,6):\n",
    "    level_female_data.append(link_level_female[link_level_female['Level'] == i])\n",
    "    \n",
    "pval_by_level = []\n",
    "pval_by_level_t = []\n",
    "for i in range(0,5):\n",
    "     pval_by_level.append(permutation_test(level_male_data[i]['Number of out-degree'],level_female_data[i]['Number of out-degree'],method='approximate',num_rounds = 10000,seed=0))\n",
    "     t_stat, pvalue = ttest_ind(level_male_data[i]['Number of out-degree'],level_female_data[i]['Number of out-degree'])\n",
    "     pval_by_level_t.append(pvalue)\n",
    "    \n",
    "\n",
    "level = ['Level:{0}'.format(v) for v in list(range(1,6)) ]  \n",
    "level2 = ['Level {0}:[male,female]'.format(v) for v in list(range(1,6))]\n",
    "level3 = ['Level:{0}'.format(v) for v in list(range(1,6))]\n",
    "\n",
    "pval_by_level2 = [(level,pval) for level,pval in zip(level,pval_by_level)]\n",
    "pval_by_level_t2 = [(level,pval) for level,pval in zip(level,pval_by_level_t)]        \n",
    "        \n",
    "pval_by_level_table = pd.DataFrame(list(zip(level,pval_by_level_t)),columns = ['Level','P-value'])\n",
    "    "
   ]
  },
  {
   "cell_type": "code",
   "execution_count": 383,
   "metadata": {},
   "outputs": [
    {
     "data": {
      "text/html": [
       "<div>\n",
       "<style scoped>\n",
       "    .dataframe tbody tr th:only-of-type {\n",
       "        vertical-align: middle;\n",
       "    }\n",
       "\n",
       "    .dataframe tbody tr th {\n",
       "        vertical-align: top;\n",
       "    }\n",
       "\n",
       "    .dataframe thead th {\n",
       "        text-align: right;\n",
       "    }\n",
       "</style>\n",
       "<table border=\"1\" class=\"dataframe\">\n",
       "  <thead>\n",
       "    <tr style=\"text-align: right;\">\n",
       "      <th></th>\n",
       "      <th>Level</th>\n",
       "      <th>P-value</th>\n",
       "    </tr>\n",
       "  </thead>\n",
       "  <tbody>\n",
       "    <tr>\n",
       "      <th>0</th>\n",
       "      <td>Level:1</td>\n",
       "      <td>NaN</td>\n",
       "    </tr>\n",
       "    <tr>\n",
       "      <th>1</th>\n",
       "      <td>Level:2</td>\n",
       "      <td>0.131013</td>\n",
       "    </tr>\n",
       "    <tr>\n",
       "      <th>2</th>\n",
       "      <td>Level:3</td>\n",
       "      <td>0.604524</td>\n",
       "    </tr>\n",
       "    <tr>\n",
       "      <th>3</th>\n",
       "      <td>Level:4</td>\n",
       "      <td>0.318692</td>\n",
       "    </tr>\n",
       "    <tr>\n",
       "      <th>4</th>\n",
       "      <td>Level:5</td>\n",
       "      <td>0.002616</td>\n",
       "    </tr>\n",
       "  </tbody>\n",
       "</table>\n",
       "</div>"
      ],
      "text/plain": [
       "     Level   P-value\n",
       "0  Level:1       NaN\n",
       "1  Level:2  0.131013\n",
       "2  Level:3  0.604524\n",
       "3  Level:4  0.318692\n",
       "4  Level:5  0.002616"
      ]
     },
     "execution_count": 383,
     "metadata": {},
     "output_type": "execute_result"
    }
   ],
   "source": [
    "pval_by_level_table"
   ]
  },
  {
   "cell_type": "code",
   "execution_count": 384,
   "metadata": {},
   "outputs": [
    {
     "data": {
      "text/plain": [
       "[('Level:1', nan),\n",
       " ('Level:2', 0.13101252402855024),\n",
       " ('Level:3', 0.6045241112974844),\n",
       " ('Level:4', 0.31869237839015446),\n",
       " ('Level:5', 0.002615686787267152)]"
      ]
     },
     "execution_count": 384,
     "metadata": {},
     "output_type": "execute_result"
    }
   ],
   "source": [
    "pval_by_level_t2"
   ]
  },
  {
   "cell_type": "code",
   "execution_count": 385,
   "metadata": {},
   "outputs": [],
   "source": [
    "#find the number of data by gender and level\n",
    "male_n = []\n",
    "female_n = []\n",
    "for i in range(0,5):\n",
    "    male_n.append(len(level_male_data[i]))\n",
    "    female_n.append(len(level_female_data[i]))\n",
    "n_by_level = list(zip(male_n,female_n))  \n",
    "n_by_level = dict(zip(level2,n_by_level))"
   ]
  },
  {
   "cell_type": "code",
   "execution_count": 386,
   "metadata": {},
   "outputs": [
    {
     "data": {
      "text/plain": [
       "{'Level 1:[male,female]': (1, 0),\n",
       " 'Level 2:[male,female]': (7, 2),\n",
       " 'Level 3:[male,female]': (42, 23),\n",
       " 'Level 4:[male,female]': (126, 123),\n",
       " 'Level 5:[male,female]': (217, 71)}"
      ]
     },
     "execution_count": 386,
     "metadata": {},
     "output_type": "execute_result"
    }
   ],
   "source": [
    "n_by_level"
   ]
  },
  {
   "cell_type": "code",
   "execution_count": 387,
   "metadata": {},
   "outputs": [],
   "source": [
    "#find the average number of out-degrees by gender and level\n",
    "male_mean_degree = []\n",
    "female_mean_degree = []\n",
    "for i in range(0,5):\n",
    "    male_mean_degree.append(level_male_data[i]['Number of out-degree'].mean())\n",
    "    female_mean_degree.append(level_female_data[i]['Number of out-degree'].mean())\n",
    "    \n",
    "mean_degree_level = list(zip(male_mean_degree,female_mean_degree))  \n",
    "mean_degree_level = dict(zip(level3,mean_degree_level))\n",
    "\n",
    "mean_degree_level_table = pd.DataFrame(list(zip(level3,male_mean_degree,female_mean_degree)),columns=['Level','Male','Female'])"
   ]
  },
  {
   "cell_type": "code",
   "execution_count": 388,
   "metadata": {},
   "outputs": [
    {
     "data": {
      "text/html": [
       "<div>\n",
       "<style scoped>\n",
       "    .dataframe tbody tr th:only-of-type {\n",
       "        vertical-align: middle;\n",
       "    }\n",
       "\n",
       "    .dataframe tbody tr th {\n",
       "        vertical-align: top;\n",
       "    }\n",
       "\n",
       "    .dataframe thead th {\n",
       "        text-align: right;\n",
       "    }\n",
       "</style>\n",
       "<table border=\"1\" class=\"dataframe\">\n",
       "  <thead>\n",
       "    <tr style=\"text-align: right;\">\n",
       "      <th></th>\n",
       "      <th>Level</th>\n",
       "      <th>Male</th>\n",
       "      <th>Female</th>\n",
       "    </tr>\n",
       "  </thead>\n",
       "  <tbody>\n",
       "    <tr>\n",
       "      <th>0</th>\n",
       "      <td>Level:1</td>\n",
       "      <td>10.000000</td>\n",
       "      <td>NaN</td>\n",
       "    </tr>\n",
       "    <tr>\n",
       "      <th>1</th>\n",
       "      <td>Level:2</td>\n",
       "      <td>12.571429</td>\n",
       "      <td>5.500000</td>\n",
       "    </tr>\n",
       "    <tr>\n",
       "      <th>2</th>\n",
       "      <td>Level:3</td>\n",
       "      <td>11.119048</td>\n",
       "      <td>12.347826</td>\n",
       "    </tr>\n",
       "    <tr>\n",
       "      <th>3</th>\n",
       "      <td>Level:4</td>\n",
       "      <td>10.119048</td>\n",
       "      <td>8.934959</td>\n",
       "    </tr>\n",
       "    <tr>\n",
       "      <th>4</th>\n",
       "      <td>Level:5</td>\n",
       "      <td>5.617512</td>\n",
       "      <td>9.014085</td>\n",
       "    </tr>\n",
       "  </tbody>\n",
       "</table>\n",
       "</div>"
      ],
      "text/plain": [
       "     Level       Male     Female\n",
       "0  Level:1  10.000000        NaN\n",
       "1  Level:2  12.571429   5.500000\n",
       "2  Level:3  11.119048  12.347826\n",
       "3  Level:4  10.119048   8.934959\n",
       "4  Level:5   5.617512   9.014085"
      ]
     },
     "execution_count": 388,
     "metadata": {},
     "output_type": "execute_result"
    }
   ],
   "source": [
    "mean_degree_level_table"
   ]
  },
  {
   "cell_type": "markdown",
   "metadata": {},
   "source": [
    "## Difference in Average # of In-degrees by Level"
   ]
  },
  {
   "cell_type": "code",
   "execution_count": 389,
   "metadata": {},
   "outputs": [
    {
     "name": "stderr",
     "output_type": "stream",
     "text": [
      "/Users/PJMoon/opt/anaconda3/lib/python3.8/site-packages/numpy/core/fromnumeric.py:3372: RuntimeWarning: Mean of empty slice.\n",
      "  return _methods._mean(a, axis=axis, dtype=dtype,\n",
      "/Users/PJMoon/opt/anaconda3/lib/python3.8/site-packages/numpy/core/_methods.py:170: RuntimeWarning: invalid value encountered in double_scalars\n",
      "  ret = ret.dtype.type(ret / rcount)\n"
     ]
    }
   ],
   "source": [
    "#link data preprocessing - male\n",
    "link_level_male_in = pd.merge(nodes_network_male2_in,nodes_level_temp_male,how='left')\n",
    "link_level_male_in = link_level_male_in.fillna(0)\n",
    "\n",
    "#link data preprocessing - female\n",
    "link_level_female_in = pd.merge(nodes_network_female2_in,nodes_level_temp_female,how='left')\n",
    "link_level_female_in = link_level_female_in.fillna(0)\n",
    "\n",
    "\n",
    "#split gender data in five different levels\n",
    "level_male_data_in = []\n",
    "for i in range(1,6):\n",
    "    level_male_data_in.append(link_level_male_in[link_level_male_in['Level'] == i])\n",
    "    \n",
    "level_female_data_in = []\n",
    "for i in range(1,6):\n",
    "    level_female_data_in.append(link_level_female_in[link_level_female_in['Level'] == i])\n",
    "    \n",
    "pval_by_level_in = []\n",
    "pval_by_level_t_in = []\n",
    "for i in range(0,5):\n",
    "    pval_by_level_in.append(permutation_test(level_male_data_in[i]['Number of in-degree'],level_female_data_in[i]['Number of in-degree'],method='approximate',num_rounds = 10000,seed=0))\n",
    "    tstat2,pval2 = ttest_ind(level_male_data_in[i]['Number of in-degree'],level_female_data_in[i]['Number of in-degree'])\n",
    "    pval_by_level_t_in.append(pval2)\n",
    "\n",
    "\n",
    "level = ['Level:{0}'.format(v) for v in list(range(1,6)) ]  \n",
    "level2 = ['Level {0}:[male,female]'.format(v) for v in list(range(1,6))]\n",
    "level3 = ['Level:{0}'.format(v) for v in list(range(1,6))]\n",
    "\n",
    "pval_by_level2_in = [(level,pval) for level,pval in zip(level,pval_by_level_in)]\n",
    "pval_by_level_t2_in = [(level,pval) for level,pval in zip(level,pval_by_level_t_in)]        \n",
    "\n",
    "pval_by_level_t2_table = pd.DataFrame(list(zip(level,pval_by_level_t_in)),columns = ['Level','P-value'])\n",
    "    "
   ]
  },
  {
   "cell_type": "code",
   "execution_count": 390,
   "metadata": {},
   "outputs": [
    {
     "data": {
      "text/html": [
       "<div>\n",
       "<style scoped>\n",
       "    .dataframe tbody tr th:only-of-type {\n",
       "        vertical-align: middle;\n",
       "    }\n",
       "\n",
       "    .dataframe tbody tr th {\n",
       "        vertical-align: top;\n",
       "    }\n",
       "\n",
       "    .dataframe thead th {\n",
       "        text-align: right;\n",
       "    }\n",
       "</style>\n",
       "<table border=\"1\" class=\"dataframe\">\n",
       "  <thead>\n",
       "    <tr style=\"text-align: right;\">\n",
       "      <th></th>\n",
       "      <th>Level</th>\n",
       "      <th>P-value</th>\n",
       "    </tr>\n",
       "  </thead>\n",
       "  <tbody>\n",
       "    <tr>\n",
       "      <th>0</th>\n",
       "      <td>Level:1</td>\n",
       "      <td>NaN</td>\n",
       "    </tr>\n",
       "    <tr>\n",
       "      <th>1</th>\n",
       "      <td>Level:2</td>\n",
       "      <td>0.863937</td>\n",
       "    </tr>\n",
       "    <tr>\n",
       "      <th>2</th>\n",
       "      <td>Level:3</td>\n",
       "      <td>0.302548</td>\n",
       "    </tr>\n",
       "    <tr>\n",
       "      <th>3</th>\n",
       "      <td>Level:4</td>\n",
       "      <td>0.638346</td>\n",
       "    </tr>\n",
       "    <tr>\n",
       "      <th>4</th>\n",
       "      <td>Level:5</td>\n",
       "      <td>0.761809</td>\n",
       "    </tr>\n",
       "  </tbody>\n",
       "</table>\n",
       "</div>"
      ],
      "text/plain": [
       "     Level   P-value\n",
       "0  Level:1       NaN\n",
       "1  Level:2  0.863937\n",
       "2  Level:3  0.302548\n",
       "3  Level:4  0.638346\n",
       "4  Level:5  0.761809"
      ]
     },
     "execution_count": 390,
     "metadata": {},
     "output_type": "execute_result"
    }
   ],
   "source": [
    "pval_by_level_t2_table"
   ]
  },
  {
   "cell_type": "code",
   "execution_count": 391,
   "metadata": {},
   "outputs": [
    {
     "data": {
      "text/plain": [
       "[('Level:1', nan),\n",
       " ('Level:2', 0.8639365731351777),\n",
       " ('Level:3', 0.3025483504916912),\n",
       " ('Level:4', 0.638346003573503),\n",
       " ('Level:5', 0.761809144213205)]"
      ]
     },
     "execution_count": 391,
     "metadata": {},
     "output_type": "execute_result"
    }
   ],
   "source": [
    "pval_by_level_t2_in"
   ]
  },
  {
   "cell_type": "code",
   "execution_count": 392,
   "metadata": {},
   "outputs": [],
   "source": [
    "#find the number of datapoints by gender and level\n",
    "male_n_in = []\n",
    "female_n_in = []\n",
    "for i in range(0,5):\n",
    "    male_n_in.append(len(level_male_data_in[i]))\n",
    "    female_n_in.append(len(level_female_data_in[i]))\n",
    "n_by_level_in = list(zip(male_n_in,female_n_in))  \n",
    "n_by_level_in = dict(zip(level2,n_by_level_in))"
   ]
  },
  {
   "cell_type": "code",
   "execution_count": 393,
   "metadata": {
    "scrolled": true
   },
   "outputs": [
    {
     "data": {
      "text/plain": [
       "{'Level 1:[male,female]': (1, 0),\n",
       " 'Level 2:[male,female]': (7, 2),\n",
       " 'Level 3:[male,female]': (42, 23),\n",
       " 'Level 4:[male,female]': (126, 123),\n",
       " 'Level 5:[male,female]': (217, 71)}"
      ]
     },
     "execution_count": 393,
     "metadata": {},
     "output_type": "execute_result"
    }
   ],
   "source": [
    "n_by_level_in"
   ]
  },
  {
   "cell_type": "code",
   "execution_count": 394,
   "metadata": {},
   "outputs": [],
   "source": [
    "#find the average number of out-degrees by gender and level\n",
    "male_mean_in_degree = []\n",
    "female_mean_in_degree = []\n",
    "for i in range(0,5):\n",
    "    male_mean_in_degree.append(level_male_data_in[i]['Number of in-degree'].mean())\n",
    "    female_mean_in_degree.append(level_female_data_in[i]['Number of in-degree'].mean())\n",
    "    \n",
    "mean_degree_level_in = list(zip(male_mean_in_degree,female_mean_in_degree))  \n",
    "mean_degree_level_in = dict(zip(level3,mean_degree_level_in))\n",
    "\n",
    "mean_degree_level_in_table = pd.DataFrame(list(zip(level3,male_mean_in_degree,female_mean_in_degree)),columns=['Level','Male','Female'])"
   ]
  },
  {
   "cell_type": "code",
   "execution_count": 395,
   "metadata": {},
   "outputs": [
    {
     "data": {
      "text/html": [
       "<div>\n",
       "<style scoped>\n",
       "    .dataframe tbody tr th:only-of-type {\n",
       "        vertical-align: middle;\n",
       "    }\n",
       "\n",
       "    .dataframe tbody tr th {\n",
       "        vertical-align: top;\n",
       "    }\n",
       "\n",
       "    .dataframe thead th {\n",
       "        text-align: right;\n",
       "    }\n",
       "</style>\n",
       "<table border=\"1\" class=\"dataframe\">\n",
       "  <thead>\n",
       "    <tr style=\"text-align: right;\">\n",
       "      <th></th>\n",
       "      <th>Level</th>\n",
       "      <th>Male</th>\n",
       "      <th>Female</th>\n",
       "    </tr>\n",
       "  </thead>\n",
       "  <tbody>\n",
       "    <tr>\n",
       "      <th>0</th>\n",
       "      <td>Level:1</td>\n",
       "      <td>195.000000</td>\n",
       "      <td>NaN</td>\n",
       "    </tr>\n",
       "    <tr>\n",
       "      <th>1</th>\n",
       "      <td>Level:2</td>\n",
       "      <td>49.714286</td>\n",
       "      <td>44.500000</td>\n",
       "    </tr>\n",
       "    <tr>\n",
       "      <th>2</th>\n",
       "      <td>Level:3</td>\n",
       "      <td>29.571429</td>\n",
       "      <td>23.695652</td>\n",
       "    </tr>\n",
       "    <tr>\n",
       "      <th>3</th>\n",
       "      <td>Level:4</td>\n",
       "      <td>7.619048</td>\n",
       "      <td>7.008130</td>\n",
       "    </tr>\n",
       "    <tr>\n",
       "      <th>4</th>\n",
       "      <td>Level:5</td>\n",
       "      <td>2.912442</td>\n",
       "      <td>3.098592</td>\n",
       "    </tr>\n",
       "  </tbody>\n",
       "</table>\n",
       "</div>"
      ],
      "text/plain": [
       "     Level        Male     Female\n",
       "0  Level:1  195.000000        NaN\n",
       "1  Level:2   49.714286  44.500000\n",
       "2  Level:3   29.571429  23.695652\n",
       "3  Level:4    7.619048   7.008130\n",
       "4  Level:5    2.912442   3.098592"
      ]
     },
     "execution_count": 395,
     "metadata": {},
     "output_type": "execute_result"
    }
   ],
   "source": [
    "mean_degree_level_in_table"
   ]
  },
  {
   "cell_type": "markdown",
   "metadata": {},
   "source": [
    "## Gender Assortativity by Level"
   ]
  },
  {
   "cell_type": "markdown",
   "metadata": {},
   "source": [
    "I would like to compute gender assortativity by level. My hypothesis is that level 5 has the highest gender assortativity because they do not have a pressure to be connected. "
   ]
  },
  {
   "cell_type": "code",
   "execution_count": 396,
   "metadata": {},
   "outputs": [
    {
     "ename": "NameError",
     "evalue": "name 'nodes_level_temp_target' is not defined",
     "output_type": "error",
     "traceback": [
      "\u001b[0;31m---------------------------------------------------------------------------\u001b[0m",
      "\u001b[0;31mNameError\u001b[0m                                 Traceback (most recent call last)",
      "\u001b[0;32m<ipython-input-396-25fb27b7cb32>\u001b[0m in \u001b[0;36m<module>\u001b[0;34m\u001b[0m\n\u001b[0;32m----> 1\u001b[0;31m \u001b[0mnodes_level_temp_target\u001b[0m\u001b[0;34m\u001b[0m\u001b[0;34m\u001b[0m\u001b[0m\n\u001b[0m",
      "\u001b[0;31mNameError\u001b[0m: name 'nodes_level_temp_target' is not defined"
     ]
    }
   ],
   "source": [
    "nodes_level_temp_target"
   ]
  },
  {
   "cell_type": "code",
   "execution_count": 398,
   "metadata": {
    "scrolled": true
   },
   "outputs": [
    {
     "ename": "NameError",
     "evalue": "name 'link_level_assort' is not defined",
     "output_type": "error",
     "traceback": [
      "\u001b[0;31m---------------------------------------------------------------------------\u001b[0m",
      "\u001b[0;31mNameError\u001b[0m                                 Traceback (most recent call last)",
      "\u001b[0;32m<ipython-input-398-f82786566ebf>\u001b[0m in \u001b[0;36m<module>\u001b[0;34m\u001b[0m\n\u001b[0;32m----> 1\u001b[0;31m \u001b[0mlink_level_assort_full\u001b[0m \u001b[0;34m=\u001b[0m \u001b[0mpd\u001b[0m\u001b[0;34m.\u001b[0m\u001b[0mmerge\u001b[0m\u001b[0;34m(\u001b[0m\u001b[0mlink_level_assort\u001b[0m\u001b[0;34m,\u001b[0m\u001b[0mnodes_level_temp_target\u001b[0m\u001b[0;34m,\u001b[0m\u001b[0mhow\u001b[0m\u001b[0;34m=\u001b[0m\u001b[0;34m'left'\u001b[0m\u001b[0;34m,\u001b[0m\u001b[0mon\u001b[0m\u001b[0;34m=\u001b[0m\u001b[0;34m'Target'\u001b[0m\u001b[0;34m)\u001b[0m\u001b[0;34m\u001b[0m\u001b[0;34m\u001b[0m\u001b[0m\n\u001b[0m",
      "\u001b[0;31mNameError\u001b[0m: name 'link_level_assort' is not defined"
     ]
    }
   ],
   "source": [
    "link_level_assort_full = pd.merge(link_level_assort,nodes_level_temp_target,how='left',on='Target')"
   ]
  },
  {
   "cell_type": "code",
   "execution_count": 399,
   "metadata": {},
   "outputs": [
    {
     "ename": "NameError",
     "evalue": "name 'link_level_assort_full' is not defined",
     "output_type": "error",
     "traceback": [
      "\u001b[0;31m---------------------------------------------------------------------------\u001b[0m",
      "\u001b[0;31mNameError\u001b[0m                                 Traceback (most recent call last)",
      "\u001b[0;32m<ipython-input-399-be12c7e12ad1>\u001b[0m in \u001b[0;36m<module>\u001b[0;34m\u001b[0m\n\u001b[0;32m----> 1\u001b[0;31m \u001b[0mlevel5\u001b[0m \u001b[0;34m=\u001b[0m \u001b[0mlink_level_assort_full\u001b[0m\u001b[0;34m[\u001b[0m\u001b[0mlink_level_assort_full\u001b[0m\u001b[0;34m[\u001b[0m\u001b[0;34m'Level_x'\u001b[0m\u001b[0;34m]\u001b[0m \u001b[0;34m==\u001b[0m \u001b[0;36m5\u001b[0m\u001b[0;34m]\u001b[0m\u001b[0;34m\u001b[0m\u001b[0;34m\u001b[0m\u001b[0m\n\u001b[0m",
      "\u001b[0;31mNameError\u001b[0m: name 'link_level_assort_full' is not defined"
     ]
    }
   ],
   "source": [
    "level5 = link_level_assort_full[link_level_assort_full['Level_x'] == 5]"
   ]
  },
  {
   "cell_type": "code",
   "execution_count": null,
   "metadata": {},
   "outputs": [],
   "source": [
    "level5"
   ]
  },
  {
   "cell_type": "code",
   "execution_count": null,
   "metadata": {},
   "outputs": [],
   "source": [
    "level5.Level_y.value_counts()"
   ]
  },
  {
   "cell_type": "code",
   "execution_count": null,
   "metadata": {},
   "outputs": [],
   "source": [
    "link_level = link_label_final[['Source','Target','link']]\n",
    "link_level_assort = pd.merge(link_level,nodes_level_temp,how='left',on='Source')\n",
    "nodes_level_temp_target = nodes_level_temp.rename(columns ={'Source':'Target'})\n",
    "link_level_assort2=link_level_assort[['link','Level']]\n",
    "\n",
    "link_level_assort_full = pd.merge(link_level_assort,nodes_level_temp_target,how='left',on='Target')\n",
    "#create link data with level\n",
    "levels = nodes_level_temp['Level'].unique()\n",
    "levels.sort()\n",
    "link_data_by_level = []\n",
    "for level in levels:\n",
    "    new_level = link_level_assort2[link_level_assort2['Level'] == level]\n",
    "    link_data_by_level.append(new_level)\n",
    "    \n",
    "    \n",
    "#create a network and compute the assortativity by label    \n",
    "node_final_assort = [i for i in range(0,612)]\n",
    "assortativity_level=[]\n",
    "for datum in link_data_by_level:\n",
    "    g = ig.Graph()\n",
    "    g.add_vertices(node_final)\n",
    "    g.add_edges(datum['link'])\n",
    "    g.vs['Gender'] = nodes_network['Gender2']\n",
    "    temp = g.assortativity_nominal('Gender',directed = True)\n",
    "    assortativity_level.append(temp)\n",
    "    \n",
    "assortativity_level2 = {key: value for key, value in zip(levels,assortativity_level)}\n",
    "assortativity_level3 = pd.DataFrame(list(zip(levels,assortativity_level)), columns = ['Level','Assortativity'])"
   ]
  },
  {
   "cell_type": "code",
   "execution_count": 397,
   "metadata": {},
   "outputs": [
    {
     "ename": "NameError",
     "evalue": "name 'assortativity_level3' is not defined",
     "output_type": "error",
     "traceback": [
      "\u001b[0;31m---------------------------------------------------------------------------\u001b[0m",
      "\u001b[0;31mNameError\u001b[0m                                 Traceback (most recent call last)",
      "\u001b[0;32m<ipython-input-397-5debea3cbcfa>\u001b[0m in \u001b[0;36m<module>\u001b[0;34m\u001b[0m\n\u001b[0;32m----> 1\u001b[0;31m \u001b[0massortativity_level3\u001b[0m\u001b[0;34m\u001b[0m\u001b[0;34m\u001b[0m\u001b[0m\n\u001b[0m",
      "\u001b[0;31mNameError\u001b[0m: name 'assortativity_level3' is not defined"
     ]
    }
   ],
   "source": [
    "assortativity_level3"
   ]
  },
  {
   "cell_type": "code",
   "execution_count": 684,
   "metadata": {},
   "outputs": [],
   "source": [
    "values = [[42785,428855,'Energy','Female'],\n",
    "    [43432,428686,'Trust','Male'],\n",
    "    [43432,428686,'Career','Male'],\n",
    "    [43432,428686,'Personal','Male'],\n",
    "    [43432,428634,'Trust','Female']\n",
    "    ]\n",
    "df = pd.DataFrame(values, columns =['ID','Target','Label','Gender'])\n",
    "new_df = df.groupby(['Gender','Label']).ID.count().reset_index()\n",
    "new_df['Gender2'] = new_df.Gender.map({'Female':0,'Male':1})\n",
    "new_df['NormID'] = new_df.apply(lambda row: row['ID']/219 if row['Gender2'] == 0 else row['ID']/393, axis = 1)"
   ]
  },
  {
   "cell_type": "code",
   "execution_count": 685,
   "metadata": {},
   "outputs": [
    {
     "data": {
      "text/html": [
       "<div>\n",
       "<style scoped>\n",
       "    .dataframe tbody tr th:only-of-type {\n",
       "        vertical-align: middle;\n",
       "    }\n",
       "\n",
       "    .dataframe tbody tr th {\n",
       "        vertical-align: top;\n",
       "    }\n",
       "\n",
       "    .dataframe thead th {\n",
       "        text-align: right;\n",
       "    }\n",
       "</style>\n",
       "<table border=\"1\" class=\"dataframe\">\n",
       "  <thead>\n",
       "    <tr style=\"text-align: right;\">\n",
       "      <th></th>\n",
       "      <th>Gender</th>\n",
       "      <th>Label</th>\n",
       "      <th>ID</th>\n",
       "      <th>Gender2</th>\n",
       "      <th>NormID</th>\n",
       "    </tr>\n",
       "  </thead>\n",
       "  <tbody>\n",
       "    <tr>\n",
       "      <th>0</th>\n",
       "      <td>Female</td>\n",
       "      <td>Energy</td>\n",
       "      <td>1</td>\n",
       "      <td>0</td>\n",
       "      <td>0.004566</td>\n",
       "    </tr>\n",
       "    <tr>\n",
       "      <th>1</th>\n",
       "      <td>Female</td>\n",
       "      <td>Trust</td>\n",
       "      <td>1</td>\n",
       "      <td>0</td>\n",
       "      <td>0.004566</td>\n",
       "    </tr>\n",
       "    <tr>\n",
       "      <th>2</th>\n",
       "      <td>Male</td>\n",
       "      <td>Career</td>\n",
       "      <td>1</td>\n",
       "      <td>1</td>\n",
       "      <td>0.002545</td>\n",
       "    </tr>\n",
       "    <tr>\n",
       "      <th>3</th>\n",
       "      <td>Male</td>\n",
       "      <td>Personal</td>\n",
       "      <td>1</td>\n",
       "      <td>1</td>\n",
       "      <td>0.002545</td>\n",
       "    </tr>\n",
       "    <tr>\n",
       "      <th>4</th>\n",
       "      <td>Male</td>\n",
       "      <td>Trust</td>\n",
       "      <td>1</td>\n",
       "      <td>1</td>\n",
       "      <td>0.002545</td>\n",
       "    </tr>\n",
       "  </tbody>\n",
       "</table>\n",
       "</div>"
      ],
      "text/plain": [
       "   Gender     Label  ID  Gender2    NormID\n",
       "0  Female    Energy   1        0  0.004566\n",
       "1  Female     Trust   1        0  0.004566\n",
       "2    Male    Career   1        1  0.002545\n",
       "3    Male  Personal   1        1  0.002545\n",
       "4    Male     Trust   1        1  0.002545"
      ]
     },
     "execution_count": 685,
     "metadata": {},
     "output_type": "execute_result"
    }
   ],
   "source": [
    "new_df"
   ]
  },
  {
   "cell_type": "code",
   "execution_count": null,
   "metadata": {},
   "outputs": [],
   "source": []
  },
  {
   "cell_type": "code",
   "execution_count": null,
   "metadata": {},
   "outputs": [],
   "source": []
  }
 ],
 "metadata": {
  "kernelspec": {
   "display_name": "Python 3",
   "language": "python",
   "name": "python3"
  },
  "language_info": {
   "codemirror_mode": {
    "name": "ipython",
    "version": 3
   },
   "file_extension": ".py",
   "mimetype": "text/x-python",
   "name": "python",
   "nbconvert_exporter": "python",
   "pygments_lexer": "ipython3",
   "version": "3.8.5"
  }
 },
 "nbformat": 4,
 "nbformat_minor": 4
}
